{
 "cells": [
  {
   "cell_type": "code",
   "execution_count": null,
   "metadata": {},
   "outputs": [],
   "source": []
  },
  {
   "attachments": {},
   "cell_type": "markdown",
   "metadata": {},
   "source": [
    "# Filmes e Séries: Netflix"
   ]
  },
  {
   "attachments": {},
   "cell_type": "markdown",
   "metadata": {},
   "source": [
    "## Parte 1: Coleta e Análise Primária dos Dados"
   ]
  },
  {
   "cell_type": "code",
   "execution_count": 1,
   "metadata": {},
   "outputs": [],
   "source": [
    "# Importando as bibliotecas que serão utilizadas para a realização dos trabalhos:\n",
    "import pandas as pd\n",
    "import numpy as np\n",
    "import matplotlib\n",
    "import matplotlib.pyplot as plt\n",
    "import seaborn as sns\n",
    "import re\n",
    "\n",
    "# Definindo algumas configurações iniciais em relação a estilização e dimensões de gráficos \n",
    "# para plotagem posterior:\n",
    "sns.set(rc={'figure.figsize':(11.7, 8.27)})\n",
    "sns.set(style='darkgrid')"
   ]
  },
  {
   "cell_type": "code",
   "execution_count": 4,
   "metadata": {},
   "outputs": [],
   "source": [
    "# Criando o DataFrame:\n",
    "df_movies = pd.read_csv('data/netflix_movies.csv')"
   ]
  },
  {
   "cell_type": "code",
   "execution_count": 5,
   "metadata": {},
   "outputs": [
    {
     "data": {
      "text/html": [
       "<div>\n",
       "<style scoped>\n",
       "    .dataframe tbody tr th:only-of-type {\n",
       "        vertical-align: middle;\n",
       "    }\n",
       "\n",
       "    .dataframe tbody tr th {\n",
       "        vertical-align: top;\n",
       "    }\n",
       "\n",
       "    .dataframe thead th {\n",
       "        text-align: right;\n",
       "    }\n",
       "</style>\n",
       "<table border=\"1\" class=\"dataframe\">\n",
       "  <thead>\n",
       "    <tr style=\"text-align: right;\">\n",
       "      <th></th>\n",
       "      <th>title</th>\n",
       "      <th>year</th>\n",
       "      <th>certificate</th>\n",
       "      <th>duration</th>\n",
       "      <th>genre</th>\n",
       "      <th>rating</th>\n",
       "      <th>description</th>\n",
       "      <th>stars</th>\n",
       "      <th>votes</th>\n",
       "    </tr>\n",
       "  </thead>\n",
       "  <tbody>\n",
       "    <tr>\n",
       "      <th>0</th>\n",
       "      <td>Cobra Kai</td>\n",
       "      <td>(2018– )</td>\n",
       "      <td>TV-14</td>\n",
       "      <td>30 min</td>\n",
       "      <td>Action, Comedy, Drama</td>\n",
       "      <td>8.5</td>\n",
       "      <td>Decades after their 1984 All Valley Karate Tou...</td>\n",
       "      <td>['Ralph Macchio, ', 'William Zabka, ', 'Courtn...</td>\n",
       "      <td>177,031</td>\n",
       "    </tr>\n",
       "    <tr>\n",
       "      <th>1</th>\n",
       "      <td>The Crown</td>\n",
       "      <td>(2016– )</td>\n",
       "      <td>TV-MA</td>\n",
       "      <td>58 min</td>\n",
       "      <td>Biography, Drama, History</td>\n",
       "      <td>8.7</td>\n",
       "      <td>Follows the political rivalries and romance of...</td>\n",
       "      <td>['Claire Foy, ', 'Olivia Colman, ', 'Imelda St...</td>\n",
       "      <td>199,885</td>\n",
       "    </tr>\n",
       "    <tr>\n",
       "      <th>2</th>\n",
       "      <td>Better Call Saul</td>\n",
       "      <td>(2015–2022)</td>\n",
       "      <td>TV-MA</td>\n",
       "      <td>46 min</td>\n",
       "      <td>Crime, Drama</td>\n",
       "      <td>8.9</td>\n",
       "      <td>The trials and tribulations of criminal lawyer...</td>\n",
       "      <td>['Bob Odenkirk, ', 'Rhea Seehorn, ', 'Jonathan...</td>\n",
       "      <td>501,384</td>\n",
       "    </tr>\n",
       "    <tr>\n",
       "      <th>3</th>\n",
       "      <td>Devil in Ohio</td>\n",
       "      <td>(2022)</td>\n",
       "      <td>TV-MA</td>\n",
       "      <td>356 min</td>\n",
       "      <td>Drama, Horror, Mystery</td>\n",
       "      <td>5.9</td>\n",
       "      <td>When a psychiatrist shelters a mysterious cult...</td>\n",
       "      <td>['Emily Deschanel, ', 'Sam Jaeger, ', 'Gerardo...</td>\n",
       "      <td>9,773</td>\n",
       "    </tr>\n",
       "    <tr>\n",
       "      <th>4</th>\n",
       "      <td>Cyberpunk: Edgerunners</td>\n",
       "      <td>(2022– )</td>\n",
       "      <td>TV-MA</td>\n",
       "      <td>24 min</td>\n",
       "      <td>Animation, Action, Adventure</td>\n",
       "      <td>8.6</td>\n",
       "      <td>A Street Kid trying to survive in a technology...</td>\n",
       "      <td>['Zach Aguilar, ', 'Kenichiro Ohashi, ', 'Emi ...</td>\n",
       "      <td>15,413</td>\n",
       "    </tr>\n",
       "  </tbody>\n",
       "</table>\n",
       "</div>"
      ],
      "text/plain": [
       "                    title         year certificate duration  \\\n",
       "0               Cobra Kai     (2018– )       TV-14   30 min   \n",
       "1               The Crown     (2016– )       TV-MA   58 min   \n",
       "2        Better Call Saul  (2015–2022)       TV-MA   46 min   \n",
       "3           Devil in Ohio       (2022)       TV-MA  356 min   \n",
       "4  Cyberpunk: Edgerunners     (2022– )       TV-MA   24 min   \n",
       "\n",
       "                          genre  rating  \\\n",
       "0         Action, Comedy, Drama     8.5   \n",
       "1     Biography, Drama, History     8.7   \n",
       "2                  Crime, Drama     8.9   \n",
       "3        Drama, Horror, Mystery     5.9   \n",
       "4  Animation, Action, Adventure     8.6   \n",
       "\n",
       "                                         description  \\\n",
       "0  Decades after their 1984 All Valley Karate Tou...   \n",
       "1  Follows the political rivalries and romance of...   \n",
       "2  The trials and tribulations of criminal lawyer...   \n",
       "3  When a psychiatrist shelters a mysterious cult...   \n",
       "4  A Street Kid trying to survive in a technology...   \n",
       "\n",
       "                                               stars    votes  \n",
       "0  ['Ralph Macchio, ', 'William Zabka, ', 'Courtn...  177,031  \n",
       "1  ['Claire Foy, ', 'Olivia Colman, ', 'Imelda St...  199,885  \n",
       "2  ['Bob Odenkirk, ', 'Rhea Seehorn, ', 'Jonathan...  501,384  \n",
       "3  ['Emily Deschanel, ', 'Sam Jaeger, ', 'Gerardo...    9,773  \n",
       "4  ['Zach Aguilar, ', 'Kenichiro Ohashi, ', 'Emi ...   15,413  "
      ]
     },
     "execution_count": 5,
     "metadata": {},
     "output_type": "execute_result"
    }
   ],
   "source": [
    "# Visualizando os primeiros 5 registros do DataFrame\n",
    "df_movies.head()"
   ]
  },
  {
   "cell_type": "code",
   "execution_count": 8,
   "metadata": {},
   "outputs": [
    {
     "data": {
      "text/html": [
       "<div>\n",
       "<style scoped>\n",
       "    .dataframe tbody tr th:only-of-type {\n",
       "        vertical-align: middle;\n",
       "    }\n",
       "\n",
       "    .dataframe tbody tr th {\n",
       "        vertical-align: top;\n",
       "    }\n",
       "\n",
       "    .dataframe thead th {\n",
       "        text-align: right;\n",
       "    }\n",
       "</style>\n",
       "<table border=\"1\" class=\"dataframe\">\n",
       "  <thead>\n",
       "    <tr style=\"text-align: right;\">\n",
       "      <th></th>\n",
       "      <th>title</th>\n",
       "      <th>year</th>\n",
       "      <th>certificate</th>\n",
       "      <th>duration</th>\n",
       "      <th>genre</th>\n",
       "      <th>rating</th>\n",
       "      <th>description</th>\n",
       "      <th>stars</th>\n",
       "      <th>votes</th>\n",
       "    </tr>\n",
       "  </thead>\n",
       "  <tbody>\n",
       "    <tr>\n",
       "      <th>9254</th>\n",
       "      <td>Cannon Busters</td>\n",
       "      <td>(2019– )</td>\n",
       "      <td>TV-MA</td>\n",
       "      <td>NaN</td>\n",
       "      <td>Animation, Fantasy</td>\n",
       "      <td>6.7</td>\n",
       "      <td>Add a Plot</td>\n",
       "      <td>['Kenny Blank, ', 'Greg Chun, ', 'Trevor Deval...</td>\n",
       "      <td>41</td>\n",
       "    </tr>\n",
       "    <tr>\n",
       "      <th>5383</th>\n",
       "      <td>Video Games: The Movie</td>\n",
       "      <td>(2014)</td>\n",
       "      <td>Not Rated</td>\n",
       "      <td>101 min</td>\n",
       "      <td>Documentary, Animation, History</td>\n",
       "      <td>6.1</td>\n",
       "      <td>Learn how video games are made, marketed, and ...</td>\n",
       "      <td>['Jeremy Snead', '| ', '    Stars:', 'Sean Ast...</td>\n",
       "      <td>5,510</td>\n",
       "    </tr>\n",
       "    <tr>\n",
       "      <th>7740</th>\n",
       "      <td>20 Jobs You Never Knew Existed</td>\n",
       "      <td>(2021 Video)</td>\n",
       "      <td>NaN</td>\n",
       "      <td>14 min</td>\n",
       "      <td>Documentary, Short</td>\n",
       "      <td>NaN</td>\n",
       "      <td>From people who harvest giant blocks of marble...</td>\n",
       "      <td>['Abby Tang, ', 'Chiako Yamamoto, ', 'Matt Sla...</td>\n",
       "      <td>NaN</td>\n",
       "    </tr>\n",
       "    <tr>\n",
       "      <th>5271</th>\n",
       "      <td>The Miracle of Teddy Bear</td>\n",
       "      <td>(2022– )</td>\n",
       "      <td>NaN</td>\n",
       "      <td>NaN</td>\n",
       "      <td>Romance</td>\n",
       "      <td>8.4</td>\n",
       "      <td>Taohu is a giant white teddy bear and has been...</td>\n",
       "      <td>['Job Thuchapon, ', 'Sarin Inpitar Ronnakiat']</td>\n",
       "      <td>155</td>\n",
       "    </tr>\n",
       "    <tr>\n",
       "      <th>4167</th>\n",
       "      <td>Gamers!</td>\n",
       "      <td>(2017– )</td>\n",
       "      <td>TV-14</td>\n",
       "      <td>24 min</td>\n",
       "      <td>Animation, Comedy, Romance</td>\n",
       "      <td>6.7</td>\n",
       "      <td>This is a story that revolves around certain s...</td>\n",
       "      <td>['Megumi Han, ', 'Brandon McInnis, ', 'Hisako ...</td>\n",
       "      <td>1,455</td>\n",
       "    </tr>\n",
       "  </tbody>\n",
       "</table>\n",
       "</div>"
      ],
      "text/plain": [
       "                               title          year certificate duration  \\\n",
       "9254                  Cannon Busters      (2019– )       TV-MA      NaN   \n",
       "5383          Video Games: The Movie        (2014)   Not Rated  101 min   \n",
       "7740  20 Jobs You Never Knew Existed  (2021 Video)         NaN   14 min   \n",
       "5271       The Miracle of Teddy Bear      (2022– )         NaN      NaN   \n",
       "4167                         Gamers!      (2017– )       TV-14   24 min   \n",
       "\n",
       "                                genre  rating  \\\n",
       "9254               Animation, Fantasy     6.7   \n",
       "5383  Documentary, Animation, History     6.1   \n",
       "7740               Documentary, Short     NaN   \n",
       "5271                          Romance     8.4   \n",
       "4167       Animation, Comedy, Romance     6.7   \n",
       "\n",
       "                                            description  \\\n",
       "9254                                         Add a Plot   \n",
       "5383  Learn how video games are made, marketed, and ...   \n",
       "7740  From people who harvest giant blocks of marble...   \n",
       "5271  Taohu is a giant white teddy bear and has been...   \n",
       "4167  This is a story that revolves around certain s...   \n",
       "\n",
       "                                                  stars  votes  \n",
       "9254  ['Kenny Blank, ', 'Greg Chun, ', 'Trevor Deval...     41  \n",
       "5383  ['Jeremy Snead', '| ', '    Stars:', 'Sean Ast...  5,510  \n",
       "7740  ['Abby Tang, ', 'Chiako Yamamoto, ', 'Matt Sla...    NaN  \n",
       "5271     ['Job Thuchapon, ', 'Sarin Inpitar Ronnakiat']    155  \n",
       "4167  ['Megumi Han, ', 'Brandon McInnis, ', 'Hisako ...  1,455  "
      ]
     },
     "execution_count": 8,
     "metadata": {},
     "output_type": "execute_result"
    }
   ],
   "source": [
    "# Visualizando um sample aleatório do DataFrame:\n",
    "df_movies.sample(5)"
   ]
  },
  {
   "cell_type": "code",
   "execution_count": 9,
   "metadata": {},
   "outputs": [
    {
     "data": {
      "text/plain": [
       "(9957, 9)"
      ]
     },
     "execution_count": 9,
     "metadata": {},
     "output_type": "execute_result"
    }
   ],
   "source": [
    "# Determinando as dimensões do DataFrame:\n",
    "df_movies.shape"
   ]
  },
  {
   "attachments": {},
   "cell_type": "markdown",
   "metadata": {},
   "source": [
    "Com essa informação, sabemos que nosso DataFrame é composto por **9957 linhas** e **9 colunas**."
   ]
  },
  {
   "cell_type": "code",
   "execution_count": 12,
   "metadata": {},
   "outputs": [
    {
     "name": "stdout",
     "output_type": "stream",
     "text": [
      "<class 'pandas.core.frame.DataFrame'>\n",
      "RangeIndex: 9957 entries, 0 to 9956\n",
      "Data columns (total 9 columns):\n",
      " #   Column       Non-Null Count  Dtype  \n",
      "---  ------       --------------  -----  \n",
      " 0   title        9957 non-null   object \n",
      " 1   year         9430 non-null   object \n",
      " 2   certificate  6504 non-null   object \n",
      " 3   duration     7921 non-null   object \n",
      " 4   genre        9884 non-null   object \n",
      " 5   rating       8784 non-null   float64\n",
      " 6   description  9957 non-null   object \n",
      " 7   stars        9957 non-null   object \n",
      " 8   votes        8784 non-null   object \n",
      "dtypes: float64(1), object(8)\n",
      "memory usage: 700.2+ KB\n"
     ]
    }
   ],
   "source": [
    "# Coletando mais informações acerca do DataFrame utilizando o comando .info():\n",
    "df_movies.info()"
   ]
  },
  {
   "attachments": {},
   "cell_type": "markdown",
   "metadata": {},
   "source": [
    "Utilizando o comando .info(), podemos estrair algumas informações iniciais importantes sobre os dados:\n",
    "\n",
    "- Apenas as colunas **`title`**, **`description`** e **`stars`** possuem registros completos sem valores nulos;\n",
    "\n",
    "- Das 9 colunas, 8 estão no formato *object* (string), sendo que algumas delas como as colunas `year` e `votes` por exemplo poderiam e deveriam estar em valores numéricos.\n",
    "\n",
    "A seguir, iremos realizar uma checagem mais focada nos dados faltantes do DataFrame:"
   ]
  },
  {
   "cell_type": "code",
   "execution_count": 13,
   "metadata": {},
   "outputs": [
    {
     "data": {
      "text/plain": [
       "certificate    34.6791\n",
       "duration       20.4479\n",
       "rating         11.7807\n",
       "votes          11.7807\n",
       "year            5.2928\n",
       "genre           0.7332\n",
       "title           0.0000\n",
       "description     0.0000\n",
       "stars           0.0000\n",
       "dtype: float64"
      ]
     },
     "execution_count": 13,
     "metadata": {},
     "output_type": "execute_result"
    }
   ],
   "source": [
    "# Checando porcentagem de dados faltantes no DataFrame:\n",
    "(((df_movies.isnull().sum() / df_movies.shape[0]) * 100).sort_values(ascending=False)).round(4)"
   ]
  },
  {
   "attachments": {},
   "cell_type": "markdown",
   "metadata": {},
   "source": [
    "Dos registros presentes nas 9 colunas do DataFrame, as colunas:\n",
    "\n",
    "- **`certificate`** possui 34.68% de valores nulos;\n",
    "\n",
    "- **`duration`** possui 20.45% de valores nulos;\n",
    "\n",
    "- **`rating`** e **`votes`** possuem 11.78% de valores nulos;\n",
    "\n",
    "- **`year`** possui 5.29% de valores nulos;\n",
    "\n",
    "- **`genre`** possui 0.73% de valores nulos."
   ]
  },
  {
   "attachments": {},
   "cell_type": "markdown",
   "metadata": {},
   "source": [
    "### Dicionário de Variáveis"
   ]
  },
  {
   "attachments": {},
   "cell_type": "markdown",
   "metadata": {},
   "source": [
    "Para termos uma compreensão ainda maior acerca dos nossos dados, realizaremos uma descrição de cada uma das colunas presentes no DataFrame, entrando em detalhes onde for necessário:\n",
    "\n",
    "- **`title`** - Título da obra (séries, filmes, etc);\n",
    "\n",
    "- **`year`** - Tupla que contém duas datas: (ano_de_lançamento - ano de encerramento), tendo uma diferença entre obras \"únicas\" como filmes e obras \"contínuas\" como Séries:\n",
    "    \n",
    "    - *Séries*: (ano_estreia_primeiro_ep - ano_estreia_útlimo_ep) ou apenas (ano_estreia_primeiro_ep - );\n",
    "    \n",
    "    - *Filmes*: (ano_lançamento)\n",
    "\n",
    "- **`certificate`** - Certificado de classificação, em formatos distintos para cada tipo de mídia e baseados em diferentes métricas de avaliação de conteúdo (essa é a coluna mais complexa do DataFrame, onde as definições a seguir foram baseadas em pesquisas realizadas acerca de cada tipo de certificado):\n",
    "\n",
    "    - *Programas Televisivos: TV Parental Guidelines*\n",
    "\n",
    "        - **TV-14**: Não recomendado para menores de 14 anos;\n",
    "        \n",
    "        - **TV-MA**: Audiência madura - Não recomendado para menores de 17 anos;\n",
    "        \n",
    "        - **TV-PG**: Conteúdos recomendados para serem consumidos com orientação parental;\n",
    "\n",
    "        - **TV-Y7-FV**: Não recomendado para menores de 7 anos, contém violência fantasiosa;\n",
    "\n",
    "        - **TV-G**: Recomendado para todos os públicos;\n",
    "\n",
    "        - **TV-Y7**: Não recomendado para menores de 7 anos;\n",
    "\n",
    "        - **TV-Y**: Conteúdo infantil.\n",
    "\n",
    "    - *Filmes: Motion Picture Association film rating system*\n",
    "\n",
    "        - **NC-17**: Ninguém com 17 anos ou menos admitido;\n",
    "\n",
    "        - **R**: Menores de 17 anos requerem acompanhamento dos pais ou responsáveis adultos;\n",
    "\n",
    "        - **PG-13**: Alguns materiais podem ser impróprios para crianças menores de 13 anos;\n",
    "\n",
    "        - **PG**: Parte do material pode não ser adequado para crianças;\n",
    "\n",
    "        - **G**: Todas as idades admitidas.\n",
    "\n",
    "    - *Entertainment Software Rating Board*\n",
    "\n",
    "        - **M (Mature)**: Não recomendado para menores de 17 anos;\n",
    "\n",
    "        - **E10+**: Recomendado para públicos a partir de 10 anos.\n",
    "\n",
    "    - *Outros formatos de avaliação presentes*\n",
    "\n",
    "        - **Not Rated/Unrated**: Sem classificação. Significa que a mídia específica não foi classificada por meio de um processo de classificação. Isso geralmente implica que um trabalho nunca foi autoclassificado ou submetido a um órgão de classificação por diversos motivos como, por exemplo, devido a natureza do trabalho (como um evento esportivo) ou por motivos orçamentários;\n",
    "\n",
    "        - **Approved/Passed**: Sob o [Código Hays](https://www.megacurioso.com.br/artes-cultura/123329-codigo-hays-as-regras-que-censuravam-filmes-na-era-de-ouro-de-hollywood.htm), os filmes eram simplesmente aprovados ou reprovados com base no fato de serem considerados \"morais\" ou \"imorais\". Esse tipo de avaliação é específico para o recorte histórico durante a década de 1930.\n",
    "\n",
    "        - **12**: Não recomendado para menores de 12 anos;\n",
    "\n",
    "        - **MA-17**: Não recomendado para menores de 17 anos.\n",
    "\n",
    "- **`duration`** - Duração do filme ou duração dos episódios de Séries (em minutos);\n",
    "\n",
    "- **`genre`** - Gênero(s) da obra;\n",
    "\n",
    "- **`rating`** - Nota de avaliação [IMDb](https://www.imdb.com/);\n",
    "\n",
    "- **`description`** - Sinópse da obra;\n",
    "\n",
    "- **`stars`** - Atores de destaque;\n",
    "\n",
    "- **`votes`** - Quantidade de votos no IMDb.\n",
    "\n"
   ]
  }
 ],
 "metadata": {
  "kernelspec": {
   "display_name": "base",
   "language": "python",
   "name": "python3"
  },
  "language_info": {
   "codemirror_mode": {
    "name": "ipython",
    "version": 3
   },
   "file_extension": ".py",
   "mimetype": "text/x-python",
   "name": "python",
   "nbconvert_exporter": "python",
   "pygments_lexer": "ipython3",
   "version": "3.9.12"
  },
  "orig_nbformat": 4,
  "vscode": {
   "interpreter": {
    "hash": "594af92f1fbe2151803567768ef02c6f133f2dd09ab238e968f9d14c9ef1bc27"
   }
  }
 },
 "nbformat": 4,
 "nbformat_minor": 2
}

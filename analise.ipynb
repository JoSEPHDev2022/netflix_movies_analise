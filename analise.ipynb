{
 "cells": [
  {
   "attachments": {},
   "cell_type": "markdown",
   "metadata": {},
   "source": [
    "# <font color='gold'>**_Análise Exploratória: Catálogo Netflix_**</font> 🎥"
   ]
  },
  {
   "attachments": {},
   "cell_type": "markdown",
   "metadata": {},
   "source": [
    "# <font color='gold'>**_Objetivos da Análise_**</font> 🎯"
   ]
  },
  {
   "attachments": {},
   "cell_type": "markdown",
   "metadata": {},
   "source": [
    "Nesse projeto, realizaremos uma Análise Exploratória de Dados (EDA) em um [dataset](https://www.kaggle.com/datasets/narayan63/netflix-popular-movies-dataset) que contém dados relacionados ao catálogo de programas da Netflix, onde buscaremos compreender esses dados e realizar análises pertinentes a eles (essas análises serão delimitadas após a fase de limpeza e tratamento dos dados). Mais especificamente, nesse projeto iremos:\n",
    "\n",
    "- 🎲 Coletar e compreender os dados (shape, data types, nulls, outliers, etc.);\n",
    "\n",
    "- 🧹 Limapar e tratar os dados da maneira mais apropriada para as análises;\n",
    "\n",
    "- 📈 Realizar análises com recursos visuais como gráficos e plots, gerando insights mais profundos sobre os dados disponíveis."
   ]
  },
  {
   "attachments": {},
   "cell_type": "markdown",
   "metadata": {},
   "source": [
    "# <font color='gold'>**_Importando Pacotes, Coletando e Compreendendo Dados_**</font> 🧰🎲"
   ]
  },
  {
   "cell_type": "code",
   "execution_count": 129,
   "metadata": {},
   "outputs": [
    {
     "name": "stdout",
     "output_type": "stream",
     "text": [
      "Pacotes prontos! Versões Utilizadas:\n",
      "Pandas      --> 1.4.2\n",
      "Numpy       --> 1.21.5\n",
      "Matplotlib  --> 3.6.2\n",
      "Seaborn     --> 0.11.2\n"
     ]
    }
   ],
   "source": [
    "# Importando as bibliotecas que serão utilizadas para a realização das análises:\n",
    "import pandas as pd\n",
    "import numpy as np\n",
    "import matplotlib\n",
    "import matplotlib.pyplot as plt\n",
    "import seaborn as sns\n",
    "import re\n",
    "import warnings\n",
    "\n",
    "# Definindo algumas configurações iniciais:\n",
    "sns.set(context='notebook', style='darkgrid')\n",
    "pd.set_option('display.max_columns', 50)\n",
    "pd.set_option('display.max_rows', 50)\n",
    "warnings.filterwarnings('ignore')\n",
    "\n",
    "print('Pacotes prontos! Versões Utilizadas:')\n",
    "print(f'Pandas      --> {pd.__version__}')\n",
    "print(f'Numpy       --> {np.__version__}')\n",
    "print(f'Matplotlib  --> {matplotlib.__version__}')\n",
    "print(f'Seaborn     --> {sns.__version__}')"
   ]
  },
  {
   "cell_type": "code",
   "execution_count": 130,
   "metadata": {},
   "outputs": [],
   "source": [
    "# Criando o DataFrame:\n",
    "data = pd.read_csv('data/netflix_movies.csv', sep=',')"
   ]
  },
  {
   "cell_type": "code",
   "execution_count": 131,
   "metadata": {},
   "outputs": [
    {
     "data": {
      "text/html": [
       "<div>\n",
       "<style scoped>\n",
       "    .dataframe tbody tr th:only-of-type {\n",
       "        vertical-align: middle;\n",
       "    }\n",
       "\n",
       "    .dataframe tbody tr th {\n",
       "        vertical-align: top;\n",
       "    }\n",
       "\n",
       "    .dataframe thead th {\n",
       "        text-align: right;\n",
       "    }\n",
       "</style>\n",
       "<table border=\"1\" class=\"dataframe\">\n",
       "  <thead>\n",
       "    <tr style=\"text-align: right;\">\n",
       "      <th></th>\n",
       "      <th>title</th>\n",
       "      <th>year</th>\n",
       "      <th>certificate</th>\n",
       "      <th>duration</th>\n",
       "      <th>genre</th>\n",
       "      <th>rating</th>\n",
       "      <th>description</th>\n",
       "      <th>stars</th>\n",
       "      <th>votes</th>\n",
       "    </tr>\n",
       "  </thead>\n",
       "  <tbody>\n",
       "    <tr>\n",
       "      <th>0</th>\n",
       "      <td>Cobra Kai</td>\n",
       "      <td>(2018– )</td>\n",
       "      <td>TV-14</td>\n",
       "      <td>30 min</td>\n",
       "      <td>Action, Comedy, Drama</td>\n",
       "      <td>8.5</td>\n",
       "      <td>Decades after their 1984 All Valley Karate Tou...</td>\n",
       "      <td>['Ralph Macchio, ', 'William Zabka, ', 'Courtn...</td>\n",
       "      <td>177,031</td>\n",
       "    </tr>\n",
       "    <tr>\n",
       "      <th>1</th>\n",
       "      <td>The Crown</td>\n",
       "      <td>(2016– )</td>\n",
       "      <td>TV-MA</td>\n",
       "      <td>58 min</td>\n",
       "      <td>Biography, Drama, History</td>\n",
       "      <td>8.7</td>\n",
       "      <td>Follows the political rivalries and romance of...</td>\n",
       "      <td>['Claire Foy, ', 'Olivia Colman, ', 'Imelda St...</td>\n",
       "      <td>199,885</td>\n",
       "    </tr>\n",
       "    <tr>\n",
       "      <th>2</th>\n",
       "      <td>Better Call Saul</td>\n",
       "      <td>(2015–2022)</td>\n",
       "      <td>TV-MA</td>\n",
       "      <td>46 min</td>\n",
       "      <td>Crime, Drama</td>\n",
       "      <td>8.9</td>\n",
       "      <td>The trials and tribulations of criminal lawyer...</td>\n",
       "      <td>['Bob Odenkirk, ', 'Rhea Seehorn, ', 'Jonathan...</td>\n",
       "      <td>501,384</td>\n",
       "    </tr>\n",
       "    <tr>\n",
       "      <th>3</th>\n",
       "      <td>Devil in Ohio</td>\n",
       "      <td>(2022)</td>\n",
       "      <td>TV-MA</td>\n",
       "      <td>356 min</td>\n",
       "      <td>Drama, Horror, Mystery</td>\n",
       "      <td>5.9</td>\n",
       "      <td>When a psychiatrist shelters a mysterious cult...</td>\n",
       "      <td>['Emily Deschanel, ', 'Sam Jaeger, ', 'Gerardo...</td>\n",
       "      <td>9,773</td>\n",
       "    </tr>\n",
       "    <tr>\n",
       "      <th>4</th>\n",
       "      <td>Cyberpunk: Edgerunners</td>\n",
       "      <td>(2022– )</td>\n",
       "      <td>TV-MA</td>\n",
       "      <td>24 min</td>\n",
       "      <td>Animation, Action, Adventure</td>\n",
       "      <td>8.6</td>\n",
       "      <td>A Street Kid trying to survive in a technology...</td>\n",
       "      <td>['Zach Aguilar, ', 'Kenichiro Ohashi, ', 'Emi ...</td>\n",
       "      <td>15,413</td>\n",
       "    </tr>\n",
       "  </tbody>\n",
       "</table>\n",
       "</div>"
      ],
      "text/plain": [
       "                    title         year certificate duration  \\\n",
       "0               Cobra Kai     (2018– )       TV-14   30 min   \n",
       "1               The Crown     (2016– )       TV-MA   58 min   \n",
       "2        Better Call Saul  (2015–2022)       TV-MA   46 min   \n",
       "3           Devil in Ohio       (2022)       TV-MA  356 min   \n",
       "4  Cyberpunk: Edgerunners     (2022– )       TV-MA   24 min   \n",
       "\n",
       "                          genre  rating  \\\n",
       "0         Action, Comedy, Drama     8.5   \n",
       "1     Biography, Drama, History     8.7   \n",
       "2                  Crime, Drama     8.9   \n",
       "3        Drama, Horror, Mystery     5.9   \n",
       "4  Animation, Action, Adventure     8.6   \n",
       "\n",
       "                                         description  \\\n",
       "0  Decades after their 1984 All Valley Karate Tou...   \n",
       "1  Follows the political rivalries and romance of...   \n",
       "2  The trials and tribulations of criminal lawyer...   \n",
       "3  When a psychiatrist shelters a mysterious cult...   \n",
       "4  A Street Kid trying to survive in a technology...   \n",
       "\n",
       "                                               stars    votes  \n",
       "0  ['Ralph Macchio, ', 'William Zabka, ', 'Courtn...  177,031  \n",
       "1  ['Claire Foy, ', 'Olivia Colman, ', 'Imelda St...  199,885  \n",
       "2  ['Bob Odenkirk, ', 'Rhea Seehorn, ', 'Jonathan...  501,384  \n",
       "3  ['Emily Deschanel, ', 'Sam Jaeger, ', 'Gerardo...    9,773  \n",
       "4  ['Zach Aguilar, ', 'Kenichiro Ohashi, ', 'Emi ...   15,413  "
      ]
     },
     "execution_count": 131,
     "metadata": {},
     "output_type": "execute_result"
    }
   ],
   "source": [
    "# Visualizando os primeiros 5 registros do DataFrame\n",
    "data.head()"
   ]
  },
  {
   "cell_type": "code",
   "execution_count": 132,
   "metadata": {},
   "outputs": [
    {
     "data": {
      "text/html": [
       "<div>\n",
       "<style scoped>\n",
       "    .dataframe tbody tr th:only-of-type {\n",
       "        vertical-align: middle;\n",
       "    }\n",
       "\n",
       "    .dataframe tbody tr th {\n",
       "        vertical-align: top;\n",
       "    }\n",
       "\n",
       "    .dataframe thead th {\n",
       "        text-align: right;\n",
       "    }\n",
       "</style>\n",
       "<table border=\"1\" class=\"dataframe\">\n",
       "  <thead>\n",
       "    <tr style=\"text-align: right;\">\n",
       "      <th></th>\n",
       "      <th>title</th>\n",
       "      <th>year</th>\n",
       "      <th>certificate</th>\n",
       "      <th>duration</th>\n",
       "      <th>genre</th>\n",
       "      <th>rating</th>\n",
       "      <th>description</th>\n",
       "      <th>stars</th>\n",
       "      <th>votes</th>\n",
       "    </tr>\n",
       "  </thead>\n",
       "  <tbody>\n",
       "    <tr>\n",
       "      <th>3786</th>\n",
       "      <td>Juuni Taisen</td>\n",
       "      <td>(2017)</td>\n",
       "      <td>NaN</td>\n",
       "      <td>24 min</td>\n",
       "      <td>Animation, Action, Fantasy</td>\n",
       "      <td>6.6</td>\n",
       "      <td>The 12th Twelve Tournament that gets held ever...</td>\n",
       "      <td>['Ian Sinclair, ', 'Mark Stoddard, ', 'Caitlin...</td>\n",
       "      <td>827</td>\n",
       "    </tr>\n",
       "    <tr>\n",
       "      <th>1714</th>\n",
       "      <td>Step Up 3D</td>\n",
       "      <td>(2010)</td>\n",
       "      <td>PG-13</td>\n",
       "      <td>107 min</td>\n",
       "      <td>Drama, Music, Romance</td>\n",
       "      <td>6.1</td>\n",
       "      <td>A tight-knit group of New York City street dan...</td>\n",
       "      <td>['Jon M. Chu', '| ', '    Stars:', 'Sharni Vin...</td>\n",
       "      <td>58,322</td>\n",
       "    </tr>\n",
       "    <tr>\n",
       "      <th>9610</th>\n",
       "      <td>The Boondocks</td>\n",
       "      <td>(2005–2014)</td>\n",
       "      <td>TV-MA</td>\n",
       "      <td>21 min</td>\n",
       "      <td>Animation, Action, Comedy</td>\n",
       "      <td>8.7</td>\n",
       "      <td>Granddad takes the kids to the movies but has ...</td>\n",
       "      <td>['Seung Eun Kim', '| ', '    Stars:', 'Regina ...</td>\n",
       "      <td>387</td>\n",
       "    </tr>\n",
       "    <tr>\n",
       "      <th>6118</th>\n",
       "      <td>Sky Tour: The Movie</td>\n",
       "      <td>(2020)</td>\n",
       "      <td>NaN</td>\n",
       "      <td>94 min</td>\n",
       "      <td>Documentary, Music</td>\n",
       "      <td>5.7</td>\n",
       "      <td>From the preparations to the performances, thi...</td>\n",
       "      <td>['Son Tung Mtp', '| ', '    Star:', 'Son Tung ...</td>\n",
       "      <td>1,042</td>\n",
       "    </tr>\n",
       "    <tr>\n",
       "      <th>7406</th>\n",
       "      <td>True: Wuzzle Wegg Day</td>\n",
       "      <td>(2020 TV Special)</td>\n",
       "      <td>NaN</td>\n",
       "      <td>23 min</td>\n",
       "      <td>Animation</td>\n",
       "      <td>8.0</td>\n",
       "      <td>Add a Plot</td>\n",
       "      <td>[]</td>\n",
       "      <td>12</td>\n",
       "    </tr>\n",
       "  </tbody>\n",
       "</table>\n",
       "</div>"
      ],
      "text/plain": [
       "                      title               year certificate duration  \\\n",
       "3786           Juuni Taisen             (2017)         NaN   24 min   \n",
       "1714             Step Up 3D             (2010)       PG-13  107 min   \n",
       "9610          The Boondocks        (2005–2014)       TV-MA   21 min   \n",
       "6118    Sky Tour: The Movie             (2020)         NaN   94 min   \n",
       "7406  True: Wuzzle Wegg Day  (2020 TV Special)         NaN   23 min   \n",
       "\n",
       "                           genre  rating  \\\n",
       "3786  Animation, Action, Fantasy     6.6   \n",
       "1714       Drama, Music, Romance     6.1   \n",
       "9610   Animation, Action, Comedy     8.7   \n",
       "6118          Documentary, Music     5.7   \n",
       "7406                   Animation     8.0   \n",
       "\n",
       "                                            description  \\\n",
       "3786  The 12th Twelve Tournament that gets held ever...   \n",
       "1714  A tight-knit group of New York City street dan...   \n",
       "9610  Granddad takes the kids to the movies but has ...   \n",
       "6118  From the preparations to the performances, thi...   \n",
       "7406                                         Add a Plot   \n",
       "\n",
       "                                                  stars   votes  \n",
       "3786  ['Ian Sinclair, ', 'Mark Stoddard, ', 'Caitlin...     827  \n",
       "1714  ['Jon M. Chu', '| ', '    Stars:', 'Sharni Vin...  58,322  \n",
       "9610  ['Seung Eun Kim', '| ', '    Stars:', 'Regina ...     387  \n",
       "6118  ['Son Tung Mtp', '| ', '    Star:', 'Son Tung ...   1,042  \n",
       "7406                                                 []      12  "
      ]
     },
     "execution_count": 132,
     "metadata": {},
     "output_type": "execute_result"
    }
   ],
   "source": [
    "# Visualizando um sample aleatório do DataFrame:\n",
    "data.sample(5)"
   ]
  },
  {
   "cell_type": "code",
   "execution_count": 133,
   "metadata": {},
   "outputs": [
    {
     "data": {
      "text/plain": [
       "(9957, 9)"
      ]
     },
     "execution_count": 133,
     "metadata": {},
     "output_type": "execute_result"
    }
   ],
   "source": [
    "# Determinando as dimensões do DataFrame:\n",
    "data.shape"
   ]
  },
  {
   "attachments": {},
   "cell_type": "markdown",
   "metadata": {},
   "source": [
    "Com essa informação, sabemos que nosso DataFrame é composto por **9957 registros** em **9 variáveis** diferentes."
   ]
  },
  {
   "cell_type": "code",
   "execution_count": 134,
   "metadata": {},
   "outputs": [
    {
     "name": "stdout",
     "output_type": "stream",
     "text": [
      "<class 'pandas.core.frame.DataFrame'>\n",
      "RangeIndex: 9957 entries, 0 to 9956\n",
      "Data columns (total 9 columns):\n",
      " #   Column       Non-Null Count  Dtype  \n",
      "---  ------       --------------  -----  \n",
      " 0   title        9957 non-null   object \n",
      " 1   year         9430 non-null   object \n",
      " 2   certificate  6504 non-null   object \n",
      " 3   duration     7921 non-null   object \n",
      " 4   genre        9884 non-null   object \n",
      " 5   rating       8784 non-null   float64\n",
      " 6   description  9957 non-null   object \n",
      " 7   stars        9957 non-null   object \n",
      " 8   votes        8784 non-null   object \n",
      "dtypes: float64(1), object(8)\n",
      "memory usage: 700.2+ KB\n"
     ]
    }
   ],
   "source": [
    "# Coletando mais informações acerca do DataFrame utilizando o comando .info():\n",
    "data.info()"
   ]
  },
  {
   "attachments": {},
   "cell_type": "markdown",
   "metadata": {},
   "source": [
    "Utilizando o comando .info(), podemos estrair algumas informações iniciais importantes sobre os dados:\n",
    "\n",
    "- Apenas as colunas **`title`**, **`description`** e **`stars`** possuem registros completos sem valores nulos;\n",
    "\n",
    "- Das 9 colunas, 8 estão no formato *object* (string), sendo que algumas delas como as colunas `year` e `votes` por exemplo poderiam e deveriam estar em valores numéricos.\n",
    "\n",
    "A seguir, iremos realizar uma checagem mais focada nos dados faltantes do DataFrame:"
   ]
  },
  {
   "cell_type": "code",
   "execution_count": 135,
   "metadata": {},
   "outputs": [
    {
     "data": {
      "text/plain": [
       "title             0\n",
       "year            527\n",
       "certificate    3453\n",
       "duration       2036\n",
       "genre            73\n",
       "rating         1173\n",
       "description       0\n",
       "stars             0\n",
       "votes          1173\n",
       "dtype: int64"
      ]
     },
     "execution_count": 135,
     "metadata": {},
     "output_type": "execute_result"
    }
   ],
   "source": [
    "# Checando quantidade de valores nulos no Dataset:\n",
    "data.isnull().sum()"
   ]
  },
  {
   "attachments": {},
   "cell_type": "markdown",
   "metadata": {},
   "source": [
    "Podemos notar que temos muitos dados faltantes no Dataset. Para compreendermos de uma maneira mais facil a dimensão desses valores nulos comaparados ao Dataset como um todo, iremos analisar em porcentagem a quantidade de nulos:"
   ]
  },
  {
   "cell_type": "code",
   "execution_count": 136,
   "metadata": {},
   "outputs": [
    {
     "data": {
      "text/plain": [
       "certificate    34.68\n",
       "duration       20.45\n",
       "rating         11.78\n",
       "votes          11.78\n",
       "year            5.29\n",
       "genre           0.73\n",
       "title           0.00\n",
       "description     0.00\n",
       "stars           0.00\n",
       "dtype: float64"
      ]
     },
     "execution_count": 136,
     "metadata": {},
     "output_type": "execute_result"
    }
   ],
   "source": [
    "# Checando porcentagem de dados faltantes no DataFrame:\n",
    "nulls_percentage = (\n",
    "    ((data.isnull().sum()/data.shape[0]) * 100\n",
    "    ).sort_values(ascending=False)\n",
    "    ).round(2)\n",
    "\n",
    "nulls_percentage"
   ]
  },
  {
   "attachments": {},
   "cell_type": "markdown",
   "metadata": {},
   "source": [
    "Dos registros presentes nas 9 colunas do DataFrame, as colunas:\n",
    "\n",
    "- **`certificate`** possui 34.68% de valores nulos;\n",
    "\n",
    "- **`duration`** possui 20.45% de valores nulos;\n",
    "\n",
    "- **`rating`** e **`votes`** possuem 11.78% de valores nulos;\n",
    "\n",
    "- **`year`** possui 5.29% de valores nulos;\n",
    "\n",
    "- **`genre`** possui 0.73% de valores nulos."
   ]
  },
  {
   "attachments": {},
   "cell_type": "markdown",
   "metadata": {},
   "source": [
    "## **Dicionário de Variáveis** 📖"
   ]
  },
  {
   "attachments": {},
   "cell_type": "markdown",
   "metadata": {},
   "source": [
    "Para termos uma compreensão ainda maior acerca dos nossos dados, realizaremos uma descrição de cada uma das colunas presentes no DataFrame, entrando em detalhes onde for necessário.\n",
    "\n",
    "As informações acerca do conteúdo de cada variável foi retirada primeiramente da página do Kaggle onde se encontra o Dataset, onde após compreensão dos conteúdos, foi realizada uma pesquisa mais aprofundada acerca de cada variável e seus conteúdos para entender ainda melhor os conteúdos ali presentes.\n",
    "\n",
    "**`title`**\n",
    "\n",
    "- Título da obra (séries, filmes, etc);\n",
    "\n",
    "**`year`** \n",
    "\n",
    "- Tupla que contém duas datas: (ano_de_lançamento - ano de encerramento), tendo uma diferença entre obras \"únicas\" como filmes e obras \"contínuas\" como Séries:\n",
    "    \n",
    "    - *Séries*: (ano_estreia_primeiro_ep - ano_estreia_útlimo_ep) ou apenas (ano_estreia_primeiro_ep - );\n",
    "    \n",
    "    - *Filmes*: (ano_lançamento)\n",
    "\n",
    "**`certificate`** \n",
    "\n",
    "- Certificado de classificação, em formatos distintos para cada tipo de mídia e baseados em diferentes métricas de avaliação de conteúdo (essa é a coluna mais complexa do Dataset, onde as definições a seguir foram baseadas em pesquisas realizadas acerca de cada tipo de certificado):\n",
    "\n",
    "    - *Programas Televisivos: TV Parental Guidelines*\n",
    "\n",
    "        - **TV-14**: Não recomendado para menores de 14 anos;\n",
    "        \n",
    "        - **TV-MA**: Audiência madura - Não recomendado para menores de 17 anos;\n",
    "        \n",
    "        - **TV-PG**: Conteúdos recomendados para serem consumidos com orientação parental;\n",
    "\n",
    "        - **TV-Y7-FV**: Não recomendado para menores de 7 anos, contém violência fantasiosa;\n",
    "\n",
    "        - **TV-G**: Recomendado para todos os públicos;\n",
    "\n",
    "        - **TV-Y7**: Não recomendado para menores de 7 anos;\n",
    "\n",
    "        - **TV-Y**: Conteúdo infantil.\n",
    "\n",
    "    - *Filmes: Motion Picture Association film rating system*\n",
    "\n",
    "        - **NC-17**: Ninguém com 17 anos ou menos admitido;\n",
    "\n",
    "        - **R**: Menores de 17 anos requerem acompanhamento dos pais ou responsáveis adultos;\n",
    "\n",
    "        - **PG-13**: Alguns materiais podem ser impróprios para crianças menores de 13 anos;\n",
    "\n",
    "        - **PG**: Parte do material pode não ser adequado para crianças;\n",
    "\n",
    "        - **G**: Todas as idades admitidas.\n",
    "\n",
    "    - *Entertainment Software Rating Board*\n",
    "\n",
    "        - **M (Mature)**: Não recomendado para menores de 17 anos;\n",
    "\n",
    "        - **E10+**: Recomendado para públicos a partir de 10 anos.\n",
    "\n",
    "    - *Outros formatos de avaliação presentes*\n",
    "\n",
    "        - **Not Rated/Unrated**: Sem classificação. Significa que a mídia específica não foi classificada por meio de um processo de classificação. Isso geralmente implica que um trabalho nunca foi autoclassificado ou submetido a um órgão de classificação por diversos motivos como, por exemplo, devido a natureza do trabalho (como um evento esportivo) ou por motivos orçamentários;\n",
    "\n",
    "        - **Approved/Passed**: Sob o [Código Hays](https://www.megacurioso.com.br/artes-cultura/123329-codigo-hays-as-regras-que-censuravam-filmes-na-era-de-ouro-de-hollywood.htm), os filmes eram simplesmente aprovados ou reprovados com base no fato de serem considerados \"morais\" ou \"imorais\". Esse tipo de avaliação é específico para o recorte histórico durante a década de 1930.\n",
    "\n",
    "        - **12**: Não recomendado para menores de 12 anos;\n",
    "\n",
    "        - **MA-17**: Não recomendado para menores de 17 anos.\n",
    "\n",
    "**`duration`** \n",
    "\n",
    "- Duração do filme ou duração dos episódios de Séries (em minutos);\n",
    "\n",
    "**`genre`** \n",
    "\n",
    "- Gênero(s) da obra;\n",
    "\n",
    "**`rating`** \n",
    "\n",
    "- Nota de avaliação [IMDb](https://www.imdb.com/);\n",
    "\n",
    "**`description`** \n",
    "\n",
    "- Sinópse da obra;\n",
    "\n",
    "**`stars`** \n",
    "\n",
    "- Atores de destaque;\n",
    "\n",
    "**`votes`** \n",
    "\n",
    "- Quantidade de votos no IMDb."
   ]
  },
  {
   "attachments": {},
   "cell_type": "markdown",
   "metadata": {},
   "source": [
    "# <font color='gold'>**_Limpeza e Tratamento dos Dados_**</font> 📂"
   ]
  },
  {
   "attachments": {},
   "cell_type": "markdown",
   "metadata": {},
   "source": [
    "Para que se possa ter resultados precisos na análise, é necessário a limpeza e tratamento de dados no DataFrame. Para iniciarmos esse processo, vamos checar novamente os data types das colunas:"
   ]
  },
  {
   "cell_type": "code",
   "execution_count": 137,
   "metadata": {},
   "outputs": [
    {
     "data": {
      "text/plain": [
       "title           object\n",
       "year            object\n",
       "certificate     object\n",
       "duration        object\n",
       "genre           object\n",
       "rating         float64\n",
       "description     object\n",
       "stars           object\n",
       "votes           object\n",
       "dtype: object"
      ]
     },
     "execution_count": 137,
     "metadata": {},
     "output_type": "execute_result"
    }
   ],
   "source": [
    "# Checando os data types:\n",
    "data.dtypes"
   ]
  },
  {
   "cell_type": "code",
   "execution_count": 138,
   "metadata": {},
   "outputs": [
    {
     "data": {
      "text/html": [
       "<div>\n",
       "<style scoped>\n",
       "    .dataframe tbody tr th:only-of-type {\n",
       "        vertical-align: middle;\n",
       "    }\n",
       "\n",
       "    .dataframe tbody tr th {\n",
       "        vertical-align: top;\n",
       "    }\n",
       "\n",
       "    .dataframe thead th {\n",
       "        text-align: right;\n",
       "    }\n",
       "</style>\n",
       "<table border=\"1\" class=\"dataframe\">\n",
       "  <thead>\n",
       "    <tr style=\"text-align: right;\">\n",
       "      <th></th>\n",
       "      <th>title</th>\n",
       "      <th>year</th>\n",
       "      <th>certificate</th>\n",
       "      <th>duration</th>\n",
       "      <th>genre</th>\n",
       "      <th>rating</th>\n",
       "      <th>description</th>\n",
       "      <th>stars</th>\n",
       "      <th>votes</th>\n",
       "    </tr>\n",
       "  </thead>\n",
       "  <tbody>\n",
       "    <tr>\n",
       "      <th>0</th>\n",
       "      <td>Cobra Kai</td>\n",
       "      <td>(2018– )</td>\n",
       "      <td>TV-14</td>\n",
       "      <td>30 min</td>\n",
       "      <td>Action, Comedy, Drama</td>\n",
       "      <td>8.5</td>\n",
       "      <td>Decades after their 1984 All Valley Karate Tou...</td>\n",
       "      <td>['Ralph Macchio, ', 'William Zabka, ', 'Courtn...</td>\n",
       "      <td>177,031</td>\n",
       "    </tr>\n",
       "  </tbody>\n",
       "</table>\n",
       "</div>"
      ],
      "text/plain": [
       "       title      year certificate duration                  genre  rating  \\\n",
       "0  Cobra Kai  (2018– )       TV-14   30 min  Action, Comedy, Drama     8.5   \n",
       "\n",
       "                                         description  \\\n",
       "0  Decades after their 1984 All Valley Karate Tou...   \n",
       "\n",
       "                                               stars    votes  \n",
       "0  ['Ralph Macchio, ', 'William Zabka, ', 'Courtn...  177,031  "
      ]
     },
     "execution_count": 138,
     "metadata": {},
     "output_type": "execute_result"
    }
   ],
   "source": [
    "# Puxando apenas uma linha do DataFrame para visualizarmos melhor os dados:\n",
    "data.head(1)"
   ]
  },
  {
   "attachments": {},
   "cell_type": "markdown",
   "metadata": {},
   "source": [
    "Algumas conclusões preliminares podem ser feitas sobre certas colunas:\n",
    "\n",
    "- **`year`**: O formato dessa coluna é menos que ideal para as análises, sendo assim, algumas mudanças serão realizadas nela. Primeiramente dividi-la em duas colunas diferentes, cada uma contendo o ano de lançamento e o ano de encerramento respectivamente. Já que filmes somente possuem o primeiro valor (lançamento), iremos utilizar 0 como placeholder na segunda coluna (ano de encerramento);\n",
    "\n",
    "- **`duration`**: Para facilitar as análises, será adaptada para em seu título informar a métrica de tempo usada (minutos) e apenas numeração nos dados em si;\n",
    "\n",
    "- **`votes`**: Trasformar o data type para tipo int32;\n",
    "\n",
    "- **`description`**: Dropar essa variável pois não será relevante para as análises."
   ]
  },
  {
   "attachments": {},
   "cell_type": "markdown",
   "metadata": {},
   "source": [
    "Antes de iniciarmos as modificações descritas acima, vamos criar uma cópia de manipulação dos dados:"
   ]
  },
  {
   "cell_type": "code",
   "execution_count": 139,
   "metadata": {},
   "outputs": [],
   "source": [
    "# Criação de uma cópia do Dataset onde será realizada a limpeza e tratativa dos dados:\n",
    "data_clean = data.copy()"
   ]
  },
  {
   "attachments": {},
   "cell_type": "markdown",
   "metadata": {},
   "source": [
    "Como primeira modificação básica, vamos excluir a coluna `description`:"
   ]
  },
  {
   "cell_type": "code",
   "execution_count": 140,
   "metadata": {},
   "outputs": [],
   "source": [
    "data_clean = data_clean.drop('description', axis=1)"
   ]
  },
  {
   "attachments": {},
   "cell_type": "markdown",
   "metadata": {},
   "source": [
    "## **Tratando Variável: year**"
   ]
  },
  {
   "attachments": {},
   "cell_type": "markdown",
   "metadata": {},
   "source": [
    "Para podermos criar duas colunas a partir da coluna year, onde cada uma irá conter o ano de lançamento e ano de encerramento respectivamente, iremos utilizar o método regex para auxiliar nessa operação, onde necessitamos apenas dos valores numéricos que representam os anos:"
   ]
  },
  {
   "cell_type": "code",
   "execution_count": 141,
   "metadata": {},
   "outputs": [],
   "source": [
    "def remove_special_chars_from_year(data: pd.DataFrame) -> pd.DataFrame:\n",
    "    '''Retorna a coluna Year sem caracteres especiais e indesejáveis utilizando\n",
    "    REGEX.\n",
    "    '''\n",
    "    chars_to_remove = r'[^0-9]+'\n",
    "\n",
    "    data['year'] = data['year'].apply(\n",
    "        lambda clean_year:\n",
    "            re.sub(chars_to_remove, '', str(clean_year))\n",
    "        )\n",
    "\n",
    "    return data"
   ]
  },
  {
   "cell_type": "code",
   "execution_count": 142,
   "metadata": {},
   "outputs": [
    {
     "data": {
      "text/plain": [
       "921     2013\n",
       "6135    2015\n",
       "2557    2020\n",
       "6099    2019\n",
       "7742        \n",
       "Name: year, dtype: object"
      ]
     },
     "execution_count": 142,
     "metadata": {},
     "output_type": "execute_result"
    }
   ],
   "source": [
    "# Aplicando função para limpeza da coluna:\n",
    "data_clean = remove_special_chars_from_year(data_clean)\n",
    "\n",
    "# Checando novo formato:\n",
    "data_clean['year'].sample(5)"
   ]
  },
  {
   "attachments": {},
   "cell_type": "markdown",
   "metadata": {},
   "source": [
    "Com apenas valores numéricos presentes na tabela `year`, podemos definir uma nova função para criar as duas novas colunas constando os anos de lançamento e encerramento:"
   ]
  },
  {
   "cell_type": "code",
   "execution_count": 143,
   "metadata": {},
   "outputs": [],
   "source": [
    "def separate_start_finish_years(data: pd.DataFrame) -> pd.DataFrame:\n",
    "    '''Retorna duas novas colunas baseadas na coluna year.\n",
    "     As novas colunas retornadas são:\n",
    "\n",
    "        \"release_year\" - consta o primeiro ano da coluna year\n",
    "\n",
    "        \"ending_year\" - consta o último ano da coluna year\n",
    "    \n",
    "    Caso os valores não estejam presentes para atribuição das colunas,\n",
    "    será retornado o valor 0 para o registro.\n",
    "    '''\n",
    "    data['release_year'] = data['year'].apply(\n",
    "        lambda start_year:\n",
    "            str(start_year)[:4] if len(str(start_year)) == 8 else\n",
    "            0\n",
    "        )\n",
    "\n",
    "    data['ending_year'] = data['year'].apply(\n",
    "        lambda end_year:\n",
    "            str(end_year)[-4:] if len(str(end_year)) == 8 else\n",
    "            0\n",
    "        )\n",
    "\n",
    "    return data\n"
   ]
  },
  {
   "cell_type": "code",
   "execution_count": 144,
   "metadata": {},
   "outputs": [
    {
     "data": {
      "text/html": [
       "<div>\n",
       "<style scoped>\n",
       "    .dataframe tbody tr th:only-of-type {\n",
       "        vertical-align: middle;\n",
       "    }\n",
       "\n",
       "    .dataframe tbody tr th {\n",
       "        vertical-align: top;\n",
       "    }\n",
       "\n",
       "    .dataframe thead th {\n",
       "        text-align: right;\n",
       "    }\n",
       "</style>\n",
       "<table border=\"1\" class=\"dataframe\">\n",
       "  <thead>\n",
       "    <tr style=\"text-align: right;\">\n",
       "      <th></th>\n",
       "      <th>title</th>\n",
       "      <th>year</th>\n",
       "      <th>certificate</th>\n",
       "      <th>duration</th>\n",
       "      <th>genre</th>\n",
       "      <th>rating</th>\n",
       "      <th>stars</th>\n",
       "      <th>votes</th>\n",
       "      <th>release_year</th>\n",
       "      <th>ending_year</th>\n",
       "    </tr>\n",
       "  </thead>\n",
       "  <tbody>\n",
       "    <tr>\n",
       "      <th>0</th>\n",
       "      <td>Cobra Kai</td>\n",
       "      <td>2018</td>\n",
       "      <td>TV-14</td>\n",
       "      <td>30 min</td>\n",
       "      <td>Action, Comedy, Drama</td>\n",
       "      <td>8.5</td>\n",
       "      <td>['Ralph Macchio, ', 'William Zabka, ', 'Courtn...</td>\n",
       "      <td>177,031</td>\n",
       "      <td>0</td>\n",
       "      <td>0</td>\n",
       "    </tr>\n",
       "    <tr>\n",
       "      <th>1</th>\n",
       "      <td>The Crown</td>\n",
       "      <td>2016</td>\n",
       "      <td>TV-MA</td>\n",
       "      <td>58 min</td>\n",
       "      <td>Biography, Drama, History</td>\n",
       "      <td>8.7</td>\n",
       "      <td>['Claire Foy, ', 'Olivia Colman, ', 'Imelda St...</td>\n",
       "      <td>199,885</td>\n",
       "      <td>0</td>\n",
       "      <td>0</td>\n",
       "    </tr>\n",
       "    <tr>\n",
       "      <th>2</th>\n",
       "      <td>Better Call Saul</td>\n",
       "      <td>20152022</td>\n",
       "      <td>TV-MA</td>\n",
       "      <td>46 min</td>\n",
       "      <td>Crime, Drama</td>\n",
       "      <td>8.9</td>\n",
       "      <td>['Bob Odenkirk, ', 'Rhea Seehorn, ', 'Jonathan...</td>\n",
       "      <td>501,384</td>\n",
       "      <td>2015</td>\n",
       "      <td>2022</td>\n",
       "    </tr>\n",
       "    <tr>\n",
       "      <th>3</th>\n",
       "      <td>Devil in Ohio</td>\n",
       "      <td>2022</td>\n",
       "      <td>TV-MA</td>\n",
       "      <td>356 min</td>\n",
       "      <td>Drama, Horror, Mystery</td>\n",
       "      <td>5.9</td>\n",
       "      <td>['Emily Deschanel, ', 'Sam Jaeger, ', 'Gerardo...</td>\n",
       "      <td>9,773</td>\n",
       "      <td>0</td>\n",
       "      <td>0</td>\n",
       "    </tr>\n",
       "    <tr>\n",
       "      <th>4</th>\n",
       "      <td>Cyberpunk: Edgerunners</td>\n",
       "      <td>2022</td>\n",
       "      <td>TV-MA</td>\n",
       "      <td>24 min</td>\n",
       "      <td>Animation, Action, Adventure</td>\n",
       "      <td>8.6</td>\n",
       "      <td>['Zach Aguilar, ', 'Kenichiro Ohashi, ', 'Emi ...</td>\n",
       "      <td>15,413</td>\n",
       "      <td>0</td>\n",
       "      <td>0</td>\n",
       "    </tr>\n",
       "  </tbody>\n",
       "</table>\n",
       "</div>"
      ],
      "text/plain": [
       "                    title      year certificate duration  \\\n",
       "0               Cobra Kai      2018       TV-14   30 min   \n",
       "1               The Crown      2016       TV-MA   58 min   \n",
       "2        Better Call Saul  20152022       TV-MA   46 min   \n",
       "3           Devil in Ohio      2022       TV-MA  356 min   \n",
       "4  Cyberpunk: Edgerunners      2022       TV-MA   24 min   \n",
       "\n",
       "                          genre  rating  \\\n",
       "0         Action, Comedy, Drama     8.5   \n",
       "1     Biography, Drama, History     8.7   \n",
       "2                  Crime, Drama     8.9   \n",
       "3        Drama, Horror, Mystery     5.9   \n",
       "4  Animation, Action, Adventure     8.6   \n",
       "\n",
       "                                               stars    votes release_year  \\\n",
       "0  ['Ralph Macchio, ', 'William Zabka, ', 'Courtn...  177,031            0   \n",
       "1  ['Claire Foy, ', 'Olivia Colman, ', 'Imelda St...  199,885            0   \n",
       "2  ['Bob Odenkirk, ', 'Rhea Seehorn, ', 'Jonathan...  501,384         2015   \n",
       "3  ['Emily Deschanel, ', 'Sam Jaeger, ', 'Gerardo...    9,773            0   \n",
       "4  ['Zach Aguilar, ', 'Kenichiro Ohashi, ', 'Emi ...   15,413            0   \n",
       "\n",
       "  ending_year  \n",
       "0           0  \n",
       "1           0  \n",
       "2        2022  \n",
       "3           0  \n",
       "4           0  "
      ]
     },
     "execution_count": 144,
     "metadata": {},
     "output_type": "execute_result"
    }
   ],
   "source": [
    "# Aplicando função para criação das novas colunas:\n",
    "data_clean = separate_start_finish_years(data_clean)\n",
    "\n",
    "# Checando resultados:\n",
    "data_clean.head()"
   ]
  },
  {
   "attachments": {},
   "cell_type": "markdown",
   "metadata": {},
   "source": [
    "Com as novas colunas delimitando os anos inciais e finais da obra, vamos remover a coluna `year` dos dados:"
   ]
  },
  {
   "cell_type": "code",
   "execution_count": 145,
   "metadata": {},
   "outputs": [
    {
     "data": {
      "text/html": [
       "<div>\n",
       "<style scoped>\n",
       "    .dataframe tbody tr th:only-of-type {\n",
       "        vertical-align: middle;\n",
       "    }\n",
       "\n",
       "    .dataframe tbody tr th {\n",
       "        vertical-align: top;\n",
       "    }\n",
       "\n",
       "    .dataframe thead th {\n",
       "        text-align: right;\n",
       "    }\n",
       "</style>\n",
       "<table border=\"1\" class=\"dataframe\">\n",
       "  <thead>\n",
       "    <tr style=\"text-align: right;\">\n",
       "      <th></th>\n",
       "      <th>title</th>\n",
       "      <th>certificate</th>\n",
       "      <th>duration</th>\n",
       "      <th>genre</th>\n",
       "      <th>rating</th>\n",
       "      <th>stars</th>\n",
       "      <th>votes</th>\n",
       "      <th>release_year</th>\n",
       "      <th>ending_year</th>\n",
       "    </tr>\n",
       "  </thead>\n",
       "  <tbody>\n",
       "    <tr>\n",
       "      <th>5445</th>\n",
       "      <td>Bayonet</td>\n",
       "      <td>TV-MA</td>\n",
       "      <td>101 min</td>\n",
       "      <td>Drama, Sport</td>\n",
       "      <td>5.6</td>\n",
       "      <td>['Kyzza Terrazas', '| ', '    Stars:', 'Rodrig...</td>\n",
       "      <td>570</td>\n",
       "      <td>0</td>\n",
       "      <td>0</td>\n",
       "    </tr>\n",
       "    <tr>\n",
       "      <th>9084</th>\n",
       "      <td>Queer Eye</td>\n",
       "      <td>TV-14</td>\n",
       "      <td>NaN</td>\n",
       "      <td>Reality-TV</td>\n",
       "      <td>8.5</td>\n",
       "      <td>['Hisham Abed', '| ', '    Stars:', 'Bobby Ber...</td>\n",
       "      <td>268</td>\n",
       "      <td>0</td>\n",
       "      <td>0</td>\n",
       "    </tr>\n",
       "    <tr>\n",
       "      <th>9545</th>\n",
       "      <td>Barbarians</td>\n",
       "      <td>TV-MA</td>\n",
       "      <td>49 min</td>\n",
       "      <td>Action, Adventure, Drama</td>\n",
       "      <td>8.0</td>\n",
       "      <td>['Steve Saint Leger', '| ', '    Stars:', 'Lau...</td>\n",
       "      <td>1,082</td>\n",
       "      <td>0</td>\n",
       "      <td>0</td>\n",
       "    </tr>\n",
       "    <tr>\n",
       "      <th>1522</th>\n",
       "      <td>6 Days</td>\n",
       "      <td>R</td>\n",
       "      <td>94 min</td>\n",
       "      <td>Action, Drama, History</td>\n",
       "      <td>6.2</td>\n",
       "      <td>['Toa Fraser', '| ', '    Stars:', 'Jamie Bell...</td>\n",
       "      <td>22,128</td>\n",
       "      <td>0</td>\n",
       "      <td>0</td>\n",
       "    </tr>\n",
       "    <tr>\n",
       "      <th>8288</th>\n",
       "      <td>Top Gear</td>\n",
       "      <td>TV-PG</td>\n",
       "      <td>NaN</td>\n",
       "      <td>Adventure, Comedy, Reality-TV</td>\n",
       "      <td>7.7</td>\n",
       "      <td>['Jeremy Clarkson, ', 'Richard Hammond, ', 'Ja...</td>\n",
       "      <td>238</td>\n",
       "      <td>0</td>\n",
       "      <td>0</td>\n",
       "    </tr>\n",
       "  </tbody>\n",
       "</table>\n",
       "</div>"
      ],
      "text/plain": [
       "           title certificate duration                          genre  rating  \\\n",
       "5445     Bayonet       TV-MA  101 min                   Drama, Sport     5.6   \n",
       "9084   Queer Eye       TV-14      NaN                     Reality-TV     8.5   \n",
       "9545  Barbarians       TV-MA   49 min       Action, Adventure, Drama     8.0   \n",
       "1522      6 Days           R   94 min         Action, Drama, History     6.2   \n",
       "8288    Top Gear       TV-PG      NaN  Adventure, Comedy, Reality-TV     7.7   \n",
       "\n",
       "                                                  stars   votes release_year  \\\n",
       "5445  ['Kyzza Terrazas', '| ', '    Stars:', 'Rodrig...     570            0   \n",
       "9084  ['Hisham Abed', '| ', '    Stars:', 'Bobby Ber...     268            0   \n",
       "9545  ['Steve Saint Leger', '| ', '    Stars:', 'Lau...   1,082            0   \n",
       "1522  ['Toa Fraser', '| ', '    Stars:', 'Jamie Bell...  22,128            0   \n",
       "8288  ['Jeremy Clarkson, ', 'Richard Hammond, ', 'Ja...     238            0   \n",
       "\n",
       "     ending_year  \n",
       "5445           0  \n",
       "9084           0  \n",
       "9545           0  \n",
       "1522           0  \n",
       "8288           0  "
      ]
     },
     "execution_count": 145,
     "metadata": {},
     "output_type": "execute_result"
    }
   ],
   "source": [
    "# Removendo coluna year:\n",
    "data_clean = data_clean.drop('year', axis=1)\n",
    "\n",
    "# Checando dados:\n",
    "data_clean.sample(5)"
   ]
  },
  {
   "attachments": {},
   "cell_type": "markdown",
   "metadata": {},
   "source": [
    "Com nossas duas novas colunas de anos, basta transforma-las para o tipo int16:"
   ]
  },
  {
   "cell_type": "code",
   "execution_count": 146,
   "metadata": {},
   "outputs": [
    {
     "data": {
      "text/plain": [
       "title            object\n",
       "certificate      object\n",
       "duration         object\n",
       "genre            object\n",
       "rating          float64\n",
       "stars            object\n",
       "votes            object\n",
       "release_year      int16\n",
       "ending_year       int16\n",
       "dtype: object"
      ]
     },
     "execution_count": 146,
     "metadata": {},
     "output_type": "execute_result"
    }
   ],
   "source": [
    "# Transformando dados:\n",
    "data_clean = data_clean.astype({\n",
    "    'release_year': 'int16',\n",
    "    'ending_year': 'int16'\n",
    "    })\n",
    "\n",
    "# Checando novos dtypes:\n",
    "data_clean.dtypes"
   ]
  },
  {
   "attachments": {},
   "cell_type": "markdown",
   "metadata": {},
   "source": [
    "## **Tratando Variável: duration**"
   ]
  },
  {
   "attachments": {},
   "cell_type": "markdown",
   "metadata": {},
   "source": [
    "Como analisado previamente, a coluna `duration` pode ter sua métrica de tempo (minutos) destacada no header e os dados apenas em valores numéricos. Sendo assim, primeiramente se faz necessário remover as letras \"min\" da coluna:"
   ]
  },
  {
   "cell_type": "code",
   "execution_count": 147,
   "metadata": {},
   "outputs": [],
   "source": [
    "def set_clean_duration_column(data: pd.DataFrame) -> pd.DataFrame:\n",
    "    '''Realiza a tratativa da coluna duration.\n",
    "    \n",
    "    itera sobre os registros da variável e remove qualquer letra e\n",
    "    altera o data type da coluna para int32.\n",
    "    '''\n",
    "    data['duration_min'] = data['duration'].apply(\n",
    "        lambda durations:\n",
    "            0 if str(durations) == 'nan' else\n",
    "            str(durations)[:-4]\n",
    "        )\n",
    "\n",
    "    data['duration_min'] = data['duration_min'].astype('int32')\n",
    "    \n",
    "    return data"
   ]
  },
  {
   "cell_type": "code",
   "execution_count": 148,
   "metadata": {},
   "outputs": [
    {
     "data": {
      "text/html": [
       "<div>\n",
       "<style scoped>\n",
       "    .dataframe tbody tr th:only-of-type {\n",
       "        vertical-align: middle;\n",
       "    }\n",
       "\n",
       "    .dataframe tbody tr th {\n",
       "        vertical-align: top;\n",
       "    }\n",
       "\n",
       "    .dataframe thead th {\n",
       "        text-align: right;\n",
       "    }\n",
       "</style>\n",
       "<table border=\"1\" class=\"dataframe\">\n",
       "  <thead>\n",
       "    <tr style=\"text-align: right;\">\n",
       "      <th></th>\n",
       "      <th>title</th>\n",
       "      <th>certificate</th>\n",
       "      <th>duration</th>\n",
       "      <th>genre</th>\n",
       "      <th>rating</th>\n",
       "      <th>stars</th>\n",
       "      <th>votes</th>\n",
       "      <th>release_year</th>\n",
       "      <th>ending_year</th>\n",
       "      <th>duration_min</th>\n",
       "    </tr>\n",
       "  </thead>\n",
       "  <tbody>\n",
       "    <tr>\n",
       "      <th>0</th>\n",
       "      <td>Cobra Kai</td>\n",
       "      <td>TV-14</td>\n",
       "      <td>30 min</td>\n",
       "      <td>Action, Comedy, Drama</td>\n",
       "      <td>8.5</td>\n",
       "      <td>['Ralph Macchio, ', 'William Zabka, ', 'Courtn...</td>\n",
       "      <td>177,031</td>\n",
       "      <td>0</td>\n",
       "      <td>0</td>\n",
       "      <td>30</td>\n",
       "    </tr>\n",
       "    <tr>\n",
       "      <th>1</th>\n",
       "      <td>The Crown</td>\n",
       "      <td>TV-MA</td>\n",
       "      <td>58 min</td>\n",
       "      <td>Biography, Drama, History</td>\n",
       "      <td>8.7</td>\n",
       "      <td>['Claire Foy, ', 'Olivia Colman, ', 'Imelda St...</td>\n",
       "      <td>199,885</td>\n",
       "      <td>0</td>\n",
       "      <td>0</td>\n",
       "      <td>58</td>\n",
       "    </tr>\n",
       "    <tr>\n",
       "      <th>2</th>\n",
       "      <td>Better Call Saul</td>\n",
       "      <td>TV-MA</td>\n",
       "      <td>46 min</td>\n",
       "      <td>Crime, Drama</td>\n",
       "      <td>8.9</td>\n",
       "      <td>['Bob Odenkirk, ', 'Rhea Seehorn, ', 'Jonathan...</td>\n",
       "      <td>501,384</td>\n",
       "      <td>2015</td>\n",
       "      <td>2022</td>\n",
       "      <td>46</td>\n",
       "    </tr>\n",
       "    <tr>\n",
       "      <th>3</th>\n",
       "      <td>Devil in Ohio</td>\n",
       "      <td>TV-MA</td>\n",
       "      <td>356 min</td>\n",
       "      <td>Drama, Horror, Mystery</td>\n",
       "      <td>5.9</td>\n",
       "      <td>['Emily Deschanel, ', 'Sam Jaeger, ', 'Gerardo...</td>\n",
       "      <td>9,773</td>\n",
       "      <td>0</td>\n",
       "      <td>0</td>\n",
       "      <td>356</td>\n",
       "    </tr>\n",
       "    <tr>\n",
       "      <th>4</th>\n",
       "      <td>Cyberpunk: Edgerunners</td>\n",
       "      <td>TV-MA</td>\n",
       "      <td>24 min</td>\n",
       "      <td>Animation, Action, Adventure</td>\n",
       "      <td>8.6</td>\n",
       "      <td>['Zach Aguilar, ', 'Kenichiro Ohashi, ', 'Emi ...</td>\n",
       "      <td>15,413</td>\n",
       "      <td>0</td>\n",
       "      <td>0</td>\n",
       "      <td>24</td>\n",
       "    </tr>\n",
       "  </tbody>\n",
       "</table>\n",
       "</div>"
      ],
      "text/plain": [
       "                    title certificate duration                         genre  \\\n",
       "0               Cobra Kai       TV-14   30 min         Action, Comedy, Drama   \n",
       "1               The Crown       TV-MA   58 min     Biography, Drama, History   \n",
       "2        Better Call Saul       TV-MA   46 min                  Crime, Drama   \n",
       "3           Devil in Ohio       TV-MA  356 min        Drama, Horror, Mystery   \n",
       "4  Cyberpunk: Edgerunners       TV-MA   24 min  Animation, Action, Adventure   \n",
       "\n",
       "   rating                                              stars    votes  \\\n",
       "0     8.5  ['Ralph Macchio, ', 'William Zabka, ', 'Courtn...  177,031   \n",
       "1     8.7  ['Claire Foy, ', 'Olivia Colman, ', 'Imelda St...  199,885   \n",
       "2     8.9  ['Bob Odenkirk, ', 'Rhea Seehorn, ', 'Jonathan...  501,384   \n",
       "3     5.9  ['Emily Deschanel, ', 'Sam Jaeger, ', 'Gerardo...    9,773   \n",
       "4     8.6  ['Zach Aguilar, ', 'Kenichiro Ohashi, ', 'Emi ...   15,413   \n",
       "\n",
       "   release_year  ending_year  duration_min  \n",
       "0             0            0            30  \n",
       "1             0            0            58  \n",
       "2          2015         2022            46  \n",
       "3             0            0           356  \n",
       "4             0            0            24  "
      ]
     },
     "execution_count": 148,
     "metadata": {},
     "output_type": "execute_result"
    }
   ],
   "source": [
    "# Aplicando função para tratativa da coluna:\n",
    "data_clean = set_clean_duration_column(data_clean)\n",
    "\n",
    "# Checando resultados:\n",
    "data_clean.head(5)"
   ]
  },
  {
   "attachments": {},
   "cell_type": "markdown",
   "metadata": {},
   "source": [
    "Agora, basta remover a coluna original `duration`:"
   ]
  },
  {
   "cell_type": "code",
   "execution_count": 149,
   "metadata": {},
   "outputs": [
    {
     "data": {
      "text/html": [
       "<div>\n",
       "<style scoped>\n",
       "    .dataframe tbody tr th:only-of-type {\n",
       "        vertical-align: middle;\n",
       "    }\n",
       "\n",
       "    .dataframe tbody tr th {\n",
       "        vertical-align: top;\n",
       "    }\n",
       "\n",
       "    .dataframe thead th {\n",
       "        text-align: right;\n",
       "    }\n",
       "</style>\n",
       "<table border=\"1\" class=\"dataframe\">\n",
       "  <thead>\n",
       "    <tr style=\"text-align: right;\">\n",
       "      <th></th>\n",
       "      <th>title</th>\n",
       "      <th>certificate</th>\n",
       "      <th>genre</th>\n",
       "      <th>rating</th>\n",
       "      <th>stars</th>\n",
       "      <th>votes</th>\n",
       "      <th>release_year</th>\n",
       "      <th>ending_year</th>\n",
       "      <th>duration_min</th>\n",
       "    </tr>\n",
       "  </thead>\n",
       "  <tbody>\n",
       "    <tr>\n",
       "      <th>7850</th>\n",
       "      <td>Beat and Motion</td>\n",
       "      <td>NaN</td>\n",
       "      <td>Animation</td>\n",
       "      <td>NaN</td>\n",
       "      <td>[]</td>\n",
       "      <td>NaN</td>\n",
       "      <td>0</td>\n",
       "      <td>0</td>\n",
       "      <td>0</td>\n",
       "    </tr>\n",
       "    <tr>\n",
       "      <th>8640</th>\n",
       "      <td>Drug Squad: Costa del Sol</td>\n",
       "      <td>NaN</td>\n",
       "      <td>Action, Drama, Romance</td>\n",
       "      <td>7.2</td>\n",
       "      <td>['Fernando Bassi, ', 'Alberto Ruiz Rojo', '| '...</td>\n",
       "      <td>17</td>\n",
       "      <td>0</td>\n",
       "      <td>0</td>\n",
       "      <td>0</td>\n",
       "    </tr>\n",
       "    <tr>\n",
       "      <th>9416</th>\n",
       "      <td>Vagabond</td>\n",
       "      <td>NaN</td>\n",
       "      <td>Action, Mystery, Thriller</td>\n",
       "      <td>8.5</td>\n",
       "      <td>['Yu In-sik', '| ', '    Stars:', 'Lee Seung-g...</td>\n",
       "      <td>232</td>\n",
       "      <td>0</td>\n",
       "      <td>0</td>\n",
       "      <td>0</td>\n",
       "    </tr>\n",
       "    <tr>\n",
       "      <th>3762</th>\n",
       "      <td>Annaatthe</td>\n",
       "      <td>NaN</td>\n",
       "      <td>Action, Comedy, Drama</td>\n",
       "      <td>4.0</td>\n",
       "      <td>['Siva', '| ', '    Stars:', 'Rajinikanth, ', ...</td>\n",
       "      <td>9,826</td>\n",
       "      <td>0</td>\n",
       "      <td>0</td>\n",
       "      <td>163</td>\n",
       "    </tr>\n",
       "    <tr>\n",
       "      <th>335</th>\n",
       "      <td>Workin' Moms</td>\n",
       "      <td>TV-MA</td>\n",
       "      <td>Comedy, Drama</td>\n",
       "      <td>7.8</td>\n",
       "      <td>['Catherine Reitman, ', 'Dani Kind, ', 'Philip...</td>\n",
       "      <td>17,710</td>\n",
       "      <td>2017</td>\n",
       "      <td>2023</td>\n",
       "      <td>30</td>\n",
       "    </tr>\n",
       "  </tbody>\n",
       "</table>\n",
       "</div>"
      ],
      "text/plain": [
       "                          title certificate                      genre  \\\n",
       "7850            Beat and Motion         NaN                  Animation   \n",
       "8640  Drug Squad: Costa del Sol         NaN     Action, Drama, Romance   \n",
       "9416                   Vagabond         NaN  Action, Mystery, Thriller   \n",
       "3762                  Annaatthe         NaN      Action, Comedy, Drama   \n",
       "335                Workin' Moms       TV-MA              Comedy, Drama   \n",
       "\n",
       "      rating                                              stars   votes  \\\n",
       "7850     NaN                                                 []     NaN   \n",
       "8640     7.2  ['Fernando Bassi, ', 'Alberto Ruiz Rojo', '| '...      17   \n",
       "9416     8.5  ['Yu In-sik', '| ', '    Stars:', 'Lee Seung-g...     232   \n",
       "3762     4.0  ['Siva', '| ', '    Stars:', 'Rajinikanth, ', ...   9,826   \n",
       "335      7.8  ['Catherine Reitman, ', 'Dani Kind, ', 'Philip...  17,710   \n",
       "\n",
       "      release_year  ending_year  duration_min  \n",
       "7850             0            0             0  \n",
       "8640             0            0             0  \n",
       "9416             0            0             0  \n",
       "3762             0            0           163  \n",
       "335           2017         2023            30  "
      ]
     },
     "execution_count": 149,
     "metadata": {},
     "output_type": "execute_result"
    }
   ],
   "source": [
    "# Removendo coluna duration:\n",
    "data_clean = data_clean.drop('duration', axis=1)\n",
    "\n",
    "# Checando dados:\n",
    "data_clean.sample(5)"
   ]
  },
  {
   "cell_type": "code",
   "execution_count": 150,
   "metadata": {},
   "outputs": [
    {
     "data": {
      "text/plain": [
       "title            object\n",
       "certificate      object\n",
       "genre            object\n",
       "rating          float64\n",
       "stars            object\n",
       "votes            object\n",
       "release_year      int16\n",
       "ending_year       int16\n",
       "duration_min      int32\n",
       "dtype: object"
      ]
     },
     "execution_count": 150,
     "metadata": {},
     "output_type": "execute_result"
    }
   ],
   "source": [
    "# Checando novos data types:\n",
    "data_clean.dtypes"
   ]
  },
  {
   "attachments": {},
   "cell_type": "markdown",
   "metadata": {},
   "source": [
    "## **Tratando Variável: votes**"
   ]
  },
  {
   "attachments": {},
   "cell_type": "markdown",
   "metadata": {},
   "source": [
    "A coluna `votes` será tratada da seguinte maneira: Substituindo valores nulos por 0, retirando vírgulas dos dados e os transformando em int32."
   ]
  },
  {
   "cell_type": "code",
   "execution_count": 151,
   "metadata": {},
   "outputs": [],
   "source": [
    "def set_clean_votes_column(data: pd.DataFrame) -> pd.DataFrame:\n",
    "    '''Realiza a tratativa da coluna votes.\n",
    "    \n",
    "    Itera sobre os registros da variável substituíndo valores nulos por 0, \n",
    "    remove vírgulas dos registros e altera o data type para int32.\n",
    "    '''\n",
    "    data['votes'] = data['votes'].apply(\n",
    "        lambda votes: \n",
    "            0 if str(votes) == 'nan' else\n",
    "            votes\n",
    "        )\n",
    "\n",
    "    data['votes'] = data['votes'].apply(\n",
    "        lambda new_values:\n",
    "            str(new_values).replace(',', '')\n",
    "        )\n",
    "\n",
    "    data['votes'] = data['votes'].astype('int32')\n",
    "\n",
    "    return data"
   ]
  },
  {
   "cell_type": "code",
   "execution_count": 152,
   "metadata": {},
   "outputs": [
    {
     "data": {
      "text/html": [
       "<div>\n",
       "<style scoped>\n",
       "    .dataframe tbody tr th:only-of-type {\n",
       "        vertical-align: middle;\n",
       "    }\n",
       "\n",
       "    .dataframe tbody tr th {\n",
       "        vertical-align: top;\n",
       "    }\n",
       "\n",
       "    .dataframe thead th {\n",
       "        text-align: right;\n",
       "    }\n",
       "</style>\n",
       "<table border=\"1\" class=\"dataframe\">\n",
       "  <thead>\n",
       "    <tr style=\"text-align: right;\">\n",
       "      <th></th>\n",
       "      <th>title</th>\n",
       "      <th>certificate</th>\n",
       "      <th>genre</th>\n",
       "      <th>rating</th>\n",
       "      <th>stars</th>\n",
       "      <th>votes</th>\n",
       "      <th>release_year</th>\n",
       "      <th>ending_year</th>\n",
       "      <th>duration_min</th>\n",
       "    </tr>\n",
       "  </thead>\n",
       "  <tbody>\n",
       "    <tr>\n",
       "      <th>0</th>\n",
       "      <td>Cobra Kai</td>\n",
       "      <td>TV-14</td>\n",
       "      <td>Action, Comedy, Drama</td>\n",
       "      <td>8.5</td>\n",
       "      <td>['Ralph Macchio, ', 'William Zabka, ', 'Courtn...</td>\n",
       "      <td>177031</td>\n",
       "      <td>0</td>\n",
       "      <td>0</td>\n",
       "      <td>30</td>\n",
       "    </tr>\n",
       "    <tr>\n",
       "      <th>1</th>\n",
       "      <td>The Crown</td>\n",
       "      <td>TV-MA</td>\n",
       "      <td>Biography, Drama, History</td>\n",
       "      <td>8.7</td>\n",
       "      <td>['Claire Foy, ', 'Olivia Colman, ', 'Imelda St...</td>\n",
       "      <td>199885</td>\n",
       "      <td>0</td>\n",
       "      <td>0</td>\n",
       "      <td>58</td>\n",
       "    </tr>\n",
       "    <tr>\n",
       "      <th>2</th>\n",
       "      <td>Better Call Saul</td>\n",
       "      <td>TV-MA</td>\n",
       "      <td>Crime, Drama</td>\n",
       "      <td>8.9</td>\n",
       "      <td>['Bob Odenkirk, ', 'Rhea Seehorn, ', 'Jonathan...</td>\n",
       "      <td>501384</td>\n",
       "      <td>2015</td>\n",
       "      <td>2022</td>\n",
       "      <td>46</td>\n",
       "    </tr>\n",
       "    <tr>\n",
       "      <th>3</th>\n",
       "      <td>Devil in Ohio</td>\n",
       "      <td>TV-MA</td>\n",
       "      <td>Drama, Horror, Mystery</td>\n",
       "      <td>5.9</td>\n",
       "      <td>['Emily Deschanel, ', 'Sam Jaeger, ', 'Gerardo...</td>\n",
       "      <td>9773</td>\n",
       "      <td>0</td>\n",
       "      <td>0</td>\n",
       "      <td>356</td>\n",
       "    </tr>\n",
       "    <tr>\n",
       "      <th>4</th>\n",
       "      <td>Cyberpunk: Edgerunners</td>\n",
       "      <td>TV-MA</td>\n",
       "      <td>Animation, Action, Adventure</td>\n",
       "      <td>8.6</td>\n",
       "      <td>['Zach Aguilar, ', 'Kenichiro Ohashi, ', 'Emi ...</td>\n",
       "      <td>15413</td>\n",
       "      <td>0</td>\n",
       "      <td>0</td>\n",
       "      <td>24</td>\n",
       "    </tr>\n",
       "  </tbody>\n",
       "</table>\n",
       "</div>"
      ],
      "text/plain": [
       "                    title certificate                         genre  rating  \\\n",
       "0               Cobra Kai       TV-14         Action, Comedy, Drama     8.5   \n",
       "1               The Crown       TV-MA     Biography, Drama, History     8.7   \n",
       "2        Better Call Saul       TV-MA                  Crime, Drama     8.9   \n",
       "3           Devil in Ohio       TV-MA        Drama, Horror, Mystery     5.9   \n",
       "4  Cyberpunk: Edgerunners       TV-MA  Animation, Action, Adventure     8.6   \n",
       "\n",
       "                                               stars   votes  release_year  \\\n",
       "0  ['Ralph Macchio, ', 'William Zabka, ', 'Courtn...  177031             0   \n",
       "1  ['Claire Foy, ', 'Olivia Colman, ', 'Imelda St...  199885             0   \n",
       "2  ['Bob Odenkirk, ', 'Rhea Seehorn, ', 'Jonathan...  501384          2015   \n",
       "3  ['Emily Deschanel, ', 'Sam Jaeger, ', 'Gerardo...    9773             0   \n",
       "4  ['Zach Aguilar, ', 'Kenichiro Ohashi, ', 'Emi ...   15413             0   \n",
       "\n",
       "   ending_year  duration_min  \n",
       "0            0            30  \n",
       "1            0            58  \n",
       "2         2022            46  \n",
       "3            0           356  \n",
       "4            0            24  "
      ]
     },
     "execution_count": 152,
     "metadata": {},
     "output_type": "execute_result"
    }
   ],
   "source": [
    "# Aplicando função para tratativa da coluna:\n",
    "data_clean = set_clean_votes_column(data_clean)\n",
    "\n",
    "# Checando resultados:\n",
    "data_clean.head(5)"
   ]
  },
  {
   "cell_type": "code",
   "execution_count": 153,
   "metadata": {},
   "outputs": [
    {
     "data": {
      "text/plain": [
       "title            object\n",
       "certificate      object\n",
       "genre            object\n",
       "rating          float64\n",
       "stars            object\n",
       "votes             int32\n",
       "release_year      int16\n",
       "ending_year       int16\n",
       "duration_min      int32\n",
       "dtype: object"
      ]
     },
     "execution_count": 153,
     "metadata": {},
     "output_type": "execute_result"
    }
   ],
   "source": [
    "# Checando novos data types:\n",
    "data_clean.dtypes"
   ]
  },
  {
   "attachments": {},
   "cell_type": "markdown",
   "metadata": {},
   "source": [
    "## **Tratando Variáveis: Stars, Certificate, Rating e Genre**"
   ]
  },
  {
   "attachments": {},
   "cell_type": "markdown",
   "metadata": {},
   "source": [
    "Como essas colunas necessitam apenas de correções básicas, elas estão agrupadas numa única sessão."
   ]
  },
  {
   "attachments": {},
   "cell_type": "markdown",
   "metadata": {},
   "source": [
    "- Coluna Stars:"
   ]
  },
  {
   "cell_type": "code",
   "execution_count": 154,
   "metadata": {},
   "outputs": [],
   "source": [
    "def clean_stars_column(data: pd.DataFrame) -> pd.DataFrame:\n",
    "    '''Retorna a coluna \"stars\" tratada.\n",
    "    \n",
    "    Substitui valores nulos pela string = [Not Informed].\n",
    "    '''\n",
    "    data['stars'] = data['stars'].apply(\n",
    "        lambda stars:\n",
    "        '[Not Informed]' if str(stars) == '[]' else\n",
    "        stars\n",
    "    )\n",
    "\n",
    "    return data"
   ]
  },
  {
   "cell_type": "code",
   "execution_count": 155,
   "metadata": {},
   "outputs": [],
   "source": [
    "# Aplicando correções na coluna:\n",
    "data_clean = clean_stars_column(data_clean)"
   ]
  },
  {
   "attachments": {},
   "cell_type": "markdown",
   "metadata": {},
   "source": [
    "- Coluna Certificate:"
   ]
  },
  {
   "cell_type": "code",
   "execution_count": 156,
   "metadata": {},
   "outputs": [],
   "source": [
    "def clean_certificate_column(data: pd.DataFrame) -> pd.DataFrame:\n",
    "    '''Retorna a coluna \"certificate\" tratada.\n",
    "    \n",
    "    Substitui valores nulos pela string = [Not Informed].\n",
    "    '''\n",
    "    data['certificate'] = data['certificate'].apply(\n",
    "        lambda certificate:\n",
    "            '[Not Informed]' if str(certificate) == 'nan' else\n",
    "            certificate\n",
    "        )\n",
    "\n",
    "    return data"
   ]
  },
  {
   "cell_type": "code",
   "execution_count": 157,
   "metadata": {},
   "outputs": [],
   "source": [
    "# Aplicando correções na coluna:\n",
    "data_clean = clean_certificate_column(data_clean)"
   ]
  },
  {
   "attachments": {},
   "cell_type": "markdown",
   "metadata": {},
   "source": [
    "- Coluna Rating"
   ]
  },
  {
   "cell_type": "code",
   "execution_count": 158,
   "metadata": {},
   "outputs": [],
   "source": [
    "def clean_rating_column(data: pd.DataFrame) -> pd.DataFrame:\n",
    "    '''Retorna a coluna \"rating\" tratada.\n",
    "    \n",
    "    Substitui valores nulos por 0.\n",
    "    '''\n",
    "    data['rating'] = data['rating'].apply(\n",
    "        lambda rating:\n",
    "            0 if str(rating) == 'nan' else\n",
    "            rating\n",
    "        )\n",
    "\n",
    "    return data"
   ]
  },
  {
   "cell_type": "code",
   "execution_count": 159,
   "metadata": {},
   "outputs": [],
   "source": [
    "# Aplicando correções na coluna:\n",
    "data_clean = clean_rating_column(data_clean)"
   ]
  },
  {
   "attachments": {},
   "cell_type": "markdown",
   "metadata": {},
   "source": [
    "- Coluna genre"
   ]
  },
  {
   "cell_type": "code",
   "execution_count": 160,
   "metadata": {},
   "outputs": [],
   "source": [
    "def clean_genre_column(data: pd.DataFrame) -> pd.DataFrame:\n",
    "    '''Retorna a coluna \"genre\" tratada.\n",
    "    \n",
    "    Substitui valores nulos pela string = [Not Informed].\n",
    "    '''\n",
    "    data['genre'] = data['genre'].apply(\n",
    "        lambda genre:\n",
    "            '[Not Informed]' if str(genre) == 'nan' else\n",
    "            genre\n",
    "        )\n",
    "    \n",
    "    return data"
   ]
  },
  {
   "cell_type": "code",
   "execution_count": 161,
   "metadata": {},
   "outputs": [],
   "source": [
    "# Aplicando correções na coluna:\n",
    "data_clean = clean_genre_column(data_clean)"
   ]
  },
  {
   "attachments": {},
   "cell_type": "markdown",
   "metadata": {},
   "source": [
    "Para termos uma melhor visualização dos dados, vamos reorganizar as colunas do Dataset:"
   ]
  },
  {
   "cell_type": "code",
   "execution_count": 162,
   "metadata": {},
   "outputs": [
    {
     "data": {
      "text/html": [
       "<div>\n",
       "<style scoped>\n",
       "    .dataframe tbody tr th:only-of-type {\n",
       "        vertical-align: middle;\n",
       "    }\n",
       "\n",
       "    .dataframe tbody tr th {\n",
       "        vertical-align: top;\n",
       "    }\n",
       "\n",
       "    .dataframe thead th {\n",
       "        text-align: right;\n",
       "    }\n",
       "</style>\n",
       "<table border=\"1\" class=\"dataframe\">\n",
       "  <thead>\n",
       "    <tr style=\"text-align: right;\">\n",
       "      <th></th>\n",
       "      <th>title</th>\n",
       "      <th>release_year</th>\n",
       "      <th>ending_year</th>\n",
       "      <th>certificate</th>\n",
       "      <th>duration_min</th>\n",
       "      <th>genre</th>\n",
       "      <th>rating</th>\n",
       "      <th>stars</th>\n",
       "      <th>votes</th>\n",
       "    </tr>\n",
       "  </thead>\n",
       "  <tbody>\n",
       "    <tr>\n",
       "      <th>0</th>\n",
       "      <td>Cobra Kai</td>\n",
       "      <td>0</td>\n",
       "      <td>0</td>\n",
       "      <td>TV-14</td>\n",
       "      <td>30</td>\n",
       "      <td>Action, Comedy, Drama</td>\n",
       "      <td>8.5</td>\n",
       "      <td>['Ralph Macchio, ', 'William Zabka, ', 'Courtn...</td>\n",
       "      <td>177031</td>\n",
       "    </tr>\n",
       "    <tr>\n",
       "      <th>1</th>\n",
       "      <td>The Crown</td>\n",
       "      <td>0</td>\n",
       "      <td>0</td>\n",
       "      <td>TV-MA</td>\n",
       "      <td>58</td>\n",
       "      <td>Biography, Drama, History</td>\n",
       "      <td>8.7</td>\n",
       "      <td>['Claire Foy, ', 'Olivia Colman, ', 'Imelda St...</td>\n",
       "      <td>199885</td>\n",
       "    </tr>\n",
       "    <tr>\n",
       "      <th>2</th>\n",
       "      <td>Better Call Saul</td>\n",
       "      <td>2015</td>\n",
       "      <td>2022</td>\n",
       "      <td>TV-MA</td>\n",
       "      <td>46</td>\n",
       "      <td>Crime, Drama</td>\n",
       "      <td>8.9</td>\n",
       "      <td>['Bob Odenkirk, ', 'Rhea Seehorn, ', 'Jonathan...</td>\n",
       "      <td>501384</td>\n",
       "    </tr>\n",
       "    <tr>\n",
       "      <th>3</th>\n",
       "      <td>Devil in Ohio</td>\n",
       "      <td>0</td>\n",
       "      <td>0</td>\n",
       "      <td>TV-MA</td>\n",
       "      <td>356</td>\n",
       "      <td>Drama, Horror, Mystery</td>\n",
       "      <td>5.9</td>\n",
       "      <td>['Emily Deschanel, ', 'Sam Jaeger, ', 'Gerardo...</td>\n",
       "      <td>9773</td>\n",
       "    </tr>\n",
       "    <tr>\n",
       "      <th>4</th>\n",
       "      <td>Cyberpunk: Edgerunners</td>\n",
       "      <td>0</td>\n",
       "      <td>0</td>\n",
       "      <td>TV-MA</td>\n",
       "      <td>24</td>\n",
       "      <td>Animation, Action, Adventure</td>\n",
       "      <td>8.6</td>\n",
       "      <td>['Zach Aguilar, ', 'Kenichiro Ohashi, ', 'Emi ...</td>\n",
       "      <td>15413</td>\n",
       "    </tr>\n",
       "  </tbody>\n",
       "</table>\n",
       "</div>"
      ],
      "text/plain": [
       "                    title  release_year  ending_year certificate  \\\n",
       "0               Cobra Kai             0            0       TV-14   \n",
       "1               The Crown             0            0       TV-MA   \n",
       "2        Better Call Saul          2015         2022       TV-MA   \n",
       "3           Devil in Ohio             0            0       TV-MA   \n",
       "4  Cyberpunk: Edgerunners             0            0       TV-MA   \n",
       "\n",
       "   duration_min                         genre  rating  \\\n",
       "0            30         Action, Comedy, Drama     8.5   \n",
       "1            58     Biography, Drama, History     8.7   \n",
       "2            46                  Crime, Drama     8.9   \n",
       "3           356        Drama, Horror, Mystery     5.9   \n",
       "4            24  Animation, Action, Adventure     8.6   \n",
       "\n",
       "                                               stars   votes  \n",
       "0  ['Ralph Macchio, ', 'William Zabka, ', 'Courtn...  177031  \n",
       "1  ['Claire Foy, ', 'Olivia Colman, ', 'Imelda St...  199885  \n",
       "2  ['Bob Odenkirk, ', 'Rhea Seehorn, ', 'Jonathan...  501384  \n",
       "3  ['Emily Deschanel, ', 'Sam Jaeger, ', 'Gerardo...    9773  \n",
       "4  ['Zach Aguilar, ', 'Kenichiro Ohashi, ', 'Emi ...   15413  "
      ]
     },
     "execution_count": 162,
     "metadata": {},
     "output_type": "execute_result"
    }
   ],
   "source": [
    "# Reorganizando o dataframe para uma visualização melhor\n",
    "data_clean = data_clean.loc[:, \n",
    "                            ['title', 'release_year', 'ending_year', 'certificate', \n",
    "                            'duration_min', 'genre', 'rating', 'stars', 'votes']\n",
    "                            ]\n",
    "\n",
    "# Checando nova visualização                     \n",
    "data_clean.head()"
   ]
  },
  {
   "attachments": {},
   "cell_type": "markdown",
   "metadata": {},
   "source": [
    "Antes de partirmos para as análises das distribuições dos dados temos que considerar o objetivo dessa análise, o de analisar os projetos que possuem votos e no IMDB e uma nota de avaliação de 0 a 10. Sendo assim, registros que possuem ambos esses campos nulos serão irrelevantes para nossa análise, justamente por não conterem as informações centrais necessárias para esse projeto.\n",
    "\n",
    "Assim, vamos checar quantos registros temos sem nenhuma dessas métricas:"
   ]
  },
  {
   "cell_type": "code",
   "execution_count": 163,
   "metadata": {},
   "outputs": [
    {
     "data": {
      "text/html": [
       "<div>\n",
       "<style scoped>\n",
       "    .dataframe tbody tr th:only-of-type {\n",
       "        vertical-align: middle;\n",
       "    }\n",
       "\n",
       "    .dataframe tbody tr th {\n",
       "        vertical-align: top;\n",
       "    }\n",
       "\n",
       "    .dataframe thead th {\n",
       "        text-align: right;\n",
       "    }\n",
       "</style>\n",
       "<table border=\"1\" class=\"dataframe\">\n",
       "  <thead>\n",
       "    <tr style=\"text-align: right;\">\n",
       "      <th></th>\n",
       "      <th>title</th>\n",
       "      <th>release_year</th>\n",
       "      <th>ending_year</th>\n",
       "      <th>certificate</th>\n",
       "      <th>duration_min</th>\n",
       "      <th>genre</th>\n",
       "      <th>rating</th>\n",
       "      <th>stars</th>\n",
       "      <th>votes</th>\n",
       "    </tr>\n",
       "  </thead>\n",
       "  <tbody>\n",
       "    <tr>\n",
       "      <th>55</th>\n",
       "      <td>Guillermo del Toro's Pinocchio</td>\n",
       "      <td>0</td>\n",
       "      <td>0</td>\n",
       "      <td>[Not Informed]</td>\n",
       "      <td>114</td>\n",
       "      <td>Animation, Drama, Family</td>\n",
       "      <td>0.0</td>\n",
       "      <td>['Guillermo del Toro, ', 'Mark Gustafson', '| ...</td>\n",
       "      <td>0</td>\n",
       "    </tr>\n",
       "    <tr>\n",
       "      <th>65</th>\n",
       "      <td>The School for Good and Evil</td>\n",
       "      <td>0</td>\n",
       "      <td>0</td>\n",
       "      <td>PG-13</td>\n",
       "      <td>147</td>\n",
       "      <td>Action, Drama, Fantasy</td>\n",
       "      <td>0.0</td>\n",
       "      <td>['Paul Feig', '| ', '    Stars:', 'Cate Blanch...</td>\n",
       "      <td>0</td>\n",
       "    </tr>\n",
       "    <tr>\n",
       "      <th>67</th>\n",
       "      <td>Wednesday</td>\n",
       "      <td>0</td>\n",
       "      <td>0</td>\n",
       "      <td>[Not Informed]</td>\n",
       "      <td>0</td>\n",
       "      <td>Comedy, Family, Fantasy</td>\n",
       "      <td>0.0</td>\n",
       "      <td>['Jenna Ortega, ', 'Christina Ricci, ', 'Cathe...</td>\n",
       "      <td>0</td>\n",
       "    </tr>\n",
       "    <tr>\n",
       "      <th>80</th>\n",
       "      <td>Mr. Harrigan's Phone</td>\n",
       "      <td>0</td>\n",
       "      <td>0</td>\n",
       "      <td>PG-13</td>\n",
       "      <td>104</td>\n",
       "      <td>Horror</td>\n",
       "      <td>0.0</td>\n",
       "      <td>['John Lee Hancock', '| ', '    Stars:', 'Kirb...</td>\n",
       "      <td>0</td>\n",
       "    </tr>\n",
       "    <tr>\n",
       "      <th>209</th>\n",
       "      <td>Luckiest Girl Alive</td>\n",
       "      <td>0</td>\n",
       "      <td>0</td>\n",
       "      <td>R</td>\n",
       "      <td>115</td>\n",
       "      <td>Drama, Mystery, Thriller</td>\n",
       "      <td>0.0</td>\n",
       "      <td>['Mike Barker', '| ', '    Stars:', 'Chiara Au...</td>\n",
       "      <td>0</td>\n",
       "    </tr>\n",
       "    <tr>\n",
       "      <th>...</th>\n",
       "      <td>...</td>\n",
       "      <td>...</td>\n",
       "      <td>...</td>\n",
       "      <td>...</td>\n",
       "      <td>...</td>\n",
       "      <td>...</td>\n",
       "      <td>...</td>\n",
       "      <td>...</td>\n",
       "      <td>...</td>\n",
       "    </tr>\n",
       "    <tr>\n",
       "      <th>9752</th>\n",
       "      <td>Hey Duggee</td>\n",
       "      <td>0</td>\n",
       "      <td>0</td>\n",
       "      <td>TV-Y</td>\n",
       "      <td>8</td>\n",
       "      <td>Animation, Comedy, Family</td>\n",
       "      <td>0.0</td>\n",
       "      <td>['Adam Longworth']</td>\n",
       "      <td>0</td>\n",
       "    </tr>\n",
       "    <tr>\n",
       "      <th>9802</th>\n",
       "      <td>Hey Duggee</td>\n",
       "      <td>0</td>\n",
       "      <td>0</td>\n",
       "      <td>TV-Y</td>\n",
       "      <td>8</td>\n",
       "      <td>Animation, Comedy, Family</td>\n",
       "      <td>0.0</td>\n",
       "      <td>['Adam Longworth, ', 'Lily-Summer Williams']</td>\n",
       "      <td>0</td>\n",
       "    </tr>\n",
       "    <tr>\n",
       "      <th>9813</th>\n",
       "      <td>Oni: Thunder God's Tale</td>\n",
       "      <td>0</td>\n",
       "      <td>0</td>\n",
       "      <td>TV-Y7</td>\n",
       "      <td>0</td>\n",
       "      <td>Animation, Action, Adventure</td>\n",
       "      <td>0.0</td>\n",
       "      <td>[\"Daisuke 'Dice' Tsutsumi\", '| ', '    Stars:'...</td>\n",
       "      <td>0</td>\n",
       "    </tr>\n",
       "    <tr>\n",
       "      <th>9842</th>\n",
       "      <td>Hollywood Insider</td>\n",
       "      <td>0</td>\n",
       "      <td>0</td>\n",
       "      <td>[Not Informed]</td>\n",
       "      <td>0</td>\n",
       "      <td>Talk-Show</td>\n",
       "      <td>0.0</td>\n",
       "      <td>['Bobby Cannavale, ', 'Robert De Niro, ', 'Al ...</td>\n",
       "      <td>0</td>\n",
       "    </tr>\n",
       "    <tr>\n",
       "      <th>9843</th>\n",
       "      <td>Hollywood Insider</td>\n",
       "      <td>0</td>\n",
       "      <td>0</td>\n",
       "      <td>[Not Informed]</td>\n",
       "      <td>0</td>\n",
       "      <td>Talk-Show</td>\n",
       "      <td>0.0</td>\n",
       "      <td>['Pritan Ambroase', '| ', '    Stars:', 'Rober...</td>\n",
       "      <td>0</td>\n",
       "    </tr>\n",
       "  </tbody>\n",
       "</table>\n",
       "<p>1173 rows × 9 columns</p>\n",
       "</div>"
      ],
      "text/plain": [
       "                               title  release_year  ending_year  \\\n",
       "55    Guillermo del Toro's Pinocchio             0            0   \n",
       "65      The School for Good and Evil             0            0   \n",
       "67                         Wednesday             0            0   \n",
       "80              Mr. Harrigan's Phone             0            0   \n",
       "209              Luckiest Girl Alive             0            0   \n",
       "...                              ...           ...          ...   \n",
       "9752                      Hey Duggee             0            0   \n",
       "9802                      Hey Duggee             0            0   \n",
       "9813         Oni: Thunder God's Tale             0            0   \n",
       "9842               Hollywood Insider             0            0   \n",
       "9843               Hollywood Insider             0            0   \n",
       "\n",
       "         certificate  duration_min                         genre  rating  \\\n",
       "55    [Not Informed]           114      Animation, Drama, Family     0.0   \n",
       "65             PG-13           147        Action, Drama, Fantasy     0.0   \n",
       "67    [Not Informed]             0       Comedy, Family, Fantasy     0.0   \n",
       "80             PG-13           104                        Horror     0.0   \n",
       "209                R           115      Drama, Mystery, Thriller     0.0   \n",
       "...              ...           ...                           ...     ...   \n",
       "9752            TV-Y             8     Animation, Comedy, Family     0.0   \n",
       "9802            TV-Y             8     Animation, Comedy, Family     0.0   \n",
       "9813           TV-Y7             0  Animation, Action, Adventure     0.0   \n",
       "9842  [Not Informed]             0                     Talk-Show     0.0   \n",
       "9843  [Not Informed]             0                     Talk-Show     0.0   \n",
       "\n",
       "                                                  stars  votes  \n",
       "55    ['Guillermo del Toro, ', 'Mark Gustafson', '| ...      0  \n",
       "65    ['Paul Feig', '| ', '    Stars:', 'Cate Blanch...      0  \n",
       "67    ['Jenna Ortega, ', 'Christina Ricci, ', 'Cathe...      0  \n",
       "80    ['John Lee Hancock', '| ', '    Stars:', 'Kirb...      0  \n",
       "209   ['Mike Barker', '| ', '    Stars:', 'Chiara Au...      0  \n",
       "...                                                 ...    ...  \n",
       "9752                                 ['Adam Longworth']      0  \n",
       "9802       ['Adam Longworth, ', 'Lily-Summer Williams']      0  \n",
       "9813  [\"Daisuke 'Dice' Tsutsumi\", '| ', '    Stars:'...      0  \n",
       "9842  ['Bobby Cannavale, ', 'Robert De Niro, ', 'Al ...      0  \n",
       "9843  ['Pritan Ambroase', '| ', '    Stars:', 'Rober...      0  \n",
       "\n",
       "[1173 rows x 9 columns]"
      ]
     },
     "execution_count": 163,
     "metadata": {},
     "output_type": "execute_result"
    }
   ],
   "source": [
    "# Checando registros em avaliações nem votos:\n",
    "redundant_data = data_clean.query('rating == 0 & votes == 0')\n",
    "\n",
    "redundant_data"
   ]
  },
  {
   "attachments": {},
   "cell_type": "markdown",
   "metadata": {},
   "source": [
    "Vemos que são no total 1173 registros que não possuem os dados necessários para a avaliação, sendo assim iremos retirá-los do conjunto de dados:"
   ]
  },
  {
   "cell_type": "code",
   "execution_count": 164,
   "metadata": {},
   "outputs": [],
   "source": [
    "# Removendo dados redundantes para análise:\n",
    "data_clean = data_clean.drop(redundant_data.index)"
   ]
  },
  {
   "cell_type": "code",
   "execution_count": 165,
   "metadata": {},
   "outputs": [
    {
     "data": {
      "text/plain": [
       "(8784, 9)"
      ]
     },
     "execution_count": 165,
     "metadata": {},
     "output_type": "execute_result"
    }
   ],
   "source": [
    "# Checando novo shape:\n",
    "data_clean.shape"
   ]
  },
  {
   "attachments": {},
   "cell_type": "markdown",
   "metadata": {},
   "source": [
    "Com os dados redundates removidos, vamos dropar os registros duplicados no dataset:"
   ]
  },
  {
   "cell_type": "code",
   "execution_count": 170,
   "metadata": {},
   "outputs": [],
   "source": [
    "# Dropando duplicatas:\n",
    "data_clean = data_clean.drop_duplicates()"
   ]
  },
  {
   "cell_type": "code",
   "execution_count": 171,
   "metadata": {},
   "outputs": [
    {
     "data": {
      "text/plain": [
       "(8771, 9)"
      ]
     },
     "execution_count": 171,
     "metadata": {},
     "output_type": "execute_result"
    }
   ],
   "source": [
    "# Shape final dos dados:\n",
    "data_clean.shape"
   ]
  },
  {
   "attachments": {},
   "cell_type": "markdown",
   "metadata": {},
   "source": [
    "# <font color='gold'>**_Histogramas, Outliers e Análises Iniciais_**</font> 📊"
   ]
  },
  {
   "attachments": {},
   "cell_type": "markdown",
   "metadata": {},
   "source": [
    "Com os dados limpos e organizados, podemos partir para a próxima etapa da análise, que consiste em checar por outliers e compreender melhor a distribuição dos dados ao longo do DataFrame utilizando Histogramas e Boxplots.\n",
    "\n",
    "Para a criação desses plots, iremos definir funções para realizar esse processo de maneira mais automatizada ao longo do projeto.\n"
   ]
  },
  {
   "attachments": {},
   "cell_type": "markdown",
   "metadata": {},
   "source": [
    "- Função para plotar Boxplots:"
   ]
  },
  {
   "cell_type": "code",
   "execution_count": 264,
   "metadata": {},
   "outputs": [],
   "source": [
    "def create_boxplot(data: pd.DataFrame, column: pd.Series, plot_title: str) -> sns.boxplot:\n",
    "    '''Retorna um Boxplot detalhado sobre os dados fornecidos.\n",
    "    \n",
    "    PARÂMETROS\n",
    "        - data: Um DataFrame do Pandas contendo os dados;\n",
    "        - column: Uma Series do Pandas contendo os dados desejados para plotagem;\n",
    "        - plot_title: O título desejado para o plot.\n",
    "    '''\n",
    "    fig, ax1 = plt.subplots(figsize=(18, 5))\n",
    "\n",
    "    ax2 = sns.boxplot(data=data, x=column,\n",
    "                      flierprops={\"marker\": \"x\"}, \n",
    "                      medianprops={\"color\": \"red\"}, \n",
    "                      color='#004d80', linewidth=2)\n",
    "\n",
    "    ax2.set_title(plot_title,\n",
    "                  loc='center',\n",
    "                  fontdict={'size': 16, \n",
    "                            'weight': 'bold', \n",
    "                            'family': 'serif'})"
   ]
  },
  {
   "attachments": {},
   "cell_type": "markdown",
   "metadata": {},
   "source": [
    "- Função para plotar Histogramas:"
   ]
  },
  {
   "cell_type": "code",
   "execution_count": 383,
   "metadata": {},
   "outputs": [],
   "source": [
    "def create_histogram(data: pd.DataFrame, column: pd.Series, bin_width: float, plot_title: str) -> sns.histplot:\n",
    "    '''Retorna um Histograma detalhado sobre os dados fornecidos.\n",
    "    \n",
    "    PARÂMETROS\n",
    "        - data: Um DataFrame do Pandas contendo os dados;\n",
    "        - column: Uma Series do Pandas contendo os dados desejados para plotagem;\n",
    "        - bin_width: Número float para a dimensão das barras do histograma;\n",
    "        - plot_title: O título desejado para o plot.\n",
    "    '''\n",
    "    fig, ax1 = plt.subplots(figsize=(18, 10))\n",
    "\n",
    "    ax2 = sns.histplot(data=data, x=column, kde=True, \n",
    "                       label='Intensidade de Registros', \n",
    "                       binwidth=bin_width, edgecolor='black',\n",
    "                       line_kws={'linestyle':'dashdot'},\n",
    "                       color='navy')\n",
    "\n",
    "    ax2.set_title(plot_title, fontdict={'size': 18, \n",
    "                                    'weight': 'bold', \n",
    "                                    'family': 'serif'})\n",
    "\n",
    "    ax2.set_ylabel('Qtde. Registros', fontsize=13)\n",
    "\n",
    "    ax2.set_xlabel('')\n",
    "\n",
    "    ax2.legend(loc='upper left', fontsize=12, \n",
    "               fancybox=True, shadow=True)"
   ]
  },
  {
   "attachments": {},
   "cell_type": "markdown",
   "metadata": {},
   "source": [
    "## **Descrição Estatística dos Dados**"
   ]
  },
  {
   "cell_type": "code",
   "execution_count": 172,
   "metadata": {},
   "outputs": [
    {
     "data": {
      "text/html": [
       "<div>\n",
       "<style scoped>\n",
       "    .dataframe tbody tr th:only-of-type {\n",
       "        vertical-align: middle;\n",
       "    }\n",
       "\n",
       "    .dataframe tbody tr th {\n",
       "        vertical-align: top;\n",
       "    }\n",
       "\n",
       "    .dataframe thead th {\n",
       "        text-align: right;\n",
       "    }\n",
       "</style>\n",
       "<table border=\"1\" class=\"dataframe\">\n",
       "  <thead>\n",
       "    <tr style=\"text-align: right;\">\n",
       "      <th></th>\n",
       "      <th>release_year</th>\n",
       "      <th>ending_year</th>\n",
       "      <th>duration_min</th>\n",
       "      <th>rating</th>\n",
       "      <th>votes</th>\n",
       "    </tr>\n",
       "  </thead>\n",
       "  <tbody>\n",
       "    <tr>\n",
       "      <th>count</th>\n",
       "      <td>8771.000000</td>\n",
       "      <td>8771.000000</td>\n",
       "      <td>8771.000000</td>\n",
       "      <td>8771.000000</td>\n",
       "      <td>8.771000e+03</td>\n",
       "    </tr>\n",
       "    <tr>\n",
       "      <th>mean</th>\n",
       "      <td>353.799339</td>\n",
       "      <td>354.458215</td>\n",
       "      <td>65.305552</td>\n",
       "      <td>6.762604</td>\n",
       "      <td>1.955206e+04</td>\n",
       "    </tr>\n",
       "    <tr>\n",
       "      <th>std</th>\n",
       "      <td>766.394514</td>\n",
       "      <td>767.820155</td>\n",
       "      <td>53.159298</td>\n",
       "      <td>1.214488</td>\n",
       "      <td>8.764011e+04</td>\n",
       "    </tr>\n",
       "    <tr>\n",
       "      <th>min</th>\n",
       "      <td>0.000000</td>\n",
       "      <td>0.000000</td>\n",
       "      <td>0.000000</td>\n",
       "      <td>1.700000</td>\n",
       "      <td>5.000000e+00</td>\n",
       "    </tr>\n",
       "    <tr>\n",
       "      <th>25%</th>\n",
       "      <td>0.000000</td>\n",
       "      <td>0.000000</td>\n",
       "      <td>27.000000</td>\n",
       "      <td>6.100000</td>\n",
       "      <td>2.870000e+02</td>\n",
       "    </tr>\n",
       "    <tr>\n",
       "      <th>50%</th>\n",
       "      <td>0.000000</td>\n",
       "      <td>0.000000</td>\n",
       "      <td>60.000000</td>\n",
       "      <td>6.900000</td>\n",
       "      <td>1.191000e+03</td>\n",
       "    </tr>\n",
       "    <tr>\n",
       "      <th>75%</th>\n",
       "      <td>0.000000</td>\n",
       "      <td>0.000000</td>\n",
       "      <td>95.000000</td>\n",
       "      <td>7.600000</td>\n",
       "      <td>5.432500e+03</td>\n",
       "    </tr>\n",
       "    <tr>\n",
       "      <th>max</th>\n",
       "      <td>2021.000000</td>\n",
       "      <td>2023.000000</td>\n",
       "      <td>990.000000</td>\n",
       "      <td>9.900000</td>\n",
       "      <td>1.844075e+06</td>\n",
       "    </tr>\n",
       "  </tbody>\n",
       "</table>\n",
       "</div>"
      ],
      "text/plain": [
       "       release_year  ending_year  duration_min       rating         votes\n",
       "count   8771.000000  8771.000000   8771.000000  8771.000000  8.771000e+03\n",
       "mean     353.799339   354.458215     65.305552     6.762604  1.955206e+04\n",
       "std      766.394514   767.820155     53.159298     1.214488  8.764011e+04\n",
       "min        0.000000     0.000000      0.000000     1.700000  5.000000e+00\n",
       "25%        0.000000     0.000000     27.000000     6.100000  2.870000e+02\n",
       "50%        0.000000     0.000000     60.000000     6.900000  1.191000e+03\n",
       "75%        0.000000     0.000000     95.000000     7.600000  5.432500e+03\n",
       "max     2021.000000  2023.000000    990.000000     9.900000  1.844075e+06"
      ]
     },
     "execution_count": 172,
     "metadata": {},
     "output_type": "execute_result"
    }
   ],
   "source": [
    "# Utilizando describe() para checar os dados:\n",
    "data_clean.describe()"
   ]
  },
  {
   "attachments": {},
   "cell_type": "markdown",
   "metadata": {},
   "source": [
    "Com essa tabela, temos algumas informações importantes:\n",
    "\n",
    "- Coluna **`duration`**:\n",
    "\n",
    "    - 75% dos dados constam duração máxima de 95 minutos, porém o valor máximo presente é de 990. Isso indica claramente valores outliers. Uma possibilidade de explicação, é a de que algumas séries podem ter sido lançadas no banco de dados em um único registro, onde a minutagem total representa a soma de todos os seus episódios, onde outras séries foram inseridas episódio por episódio no banco de dados.\n",
    "\n",
    "- Coluna **`votes`**:\n",
    "\n",
    "    - Como a quantidade de votos é muito grande, as análises por meios de gráficos provavelmente terão que ser realizadas utilizando escala logarítimica para melhor visualização."
   ]
  },
  {
   "attachments": {},
   "cell_type": "markdown",
   "metadata": {},
   "source": [
    "Também vamos checar as colunas categóricas com o método describe:"
   ]
  },
  {
   "cell_type": "code",
   "execution_count": 175,
   "metadata": {},
   "outputs": [
    {
     "data": {
      "text/html": [
       "<div>\n",
       "<style scoped>\n",
       "    .dataframe tbody tr th:only-of-type {\n",
       "        vertical-align: middle;\n",
       "    }\n",
       "\n",
       "    .dataframe tbody tr th {\n",
       "        vertical-align: top;\n",
       "    }\n",
       "\n",
       "    .dataframe thead th {\n",
       "        text-align: right;\n",
       "    }\n",
       "</style>\n",
       "<table border=\"1\" class=\"dataframe\">\n",
       "  <thead>\n",
       "    <tr style=\"text-align: right;\">\n",
       "      <th></th>\n",
       "      <th>title</th>\n",
       "      <th>certificate</th>\n",
       "      <th>genre</th>\n",
       "      <th>stars</th>\n",
       "    </tr>\n",
       "  </thead>\n",
       "  <tbody>\n",
       "    <tr>\n",
       "      <th>count</th>\n",
       "      <td>8771</td>\n",
       "      <td>8771</td>\n",
       "      <td>8771</td>\n",
       "      <td>8771</td>\n",
       "    </tr>\n",
       "    <tr>\n",
       "      <th>unique</th>\n",
       "      <td>6878</td>\n",
       "      <td>20</td>\n",
       "      <td>547</td>\n",
       "      <td>7846</td>\n",
       "    </tr>\n",
       "    <tr>\n",
       "      <th>top</th>\n",
       "      <td>Top Gear</td>\n",
       "      <td>TV-MA</td>\n",
       "      <td>Comedy</td>\n",
       "      <td>[Not Informed]</td>\n",
       "    </tr>\n",
       "    <tr>\n",
       "      <th>freq</th>\n",
       "      <td>91</td>\n",
       "      <td>2488</td>\n",
       "      <td>771</td>\n",
       "      <td>101</td>\n",
       "    </tr>\n",
       "  </tbody>\n",
       "</table>\n",
       "</div>"
      ],
      "text/plain": [
       "           title certificate   genre           stars\n",
       "count       8771        8771    8771            8771\n",
       "unique      6878          20     547            7846\n",
       "top     Top Gear       TV-MA  Comedy  [Not Informed]\n",
       "freq          91        2488     771             101"
      ]
     },
     "execution_count": 175,
     "metadata": {},
     "output_type": "execute_result"
    }
   ],
   "source": [
    "# Utilizando describe() para checar os dados categóricos:\n",
    "data_clean.describe(exclude='number')"
   ]
  },
  {
   "attachments": {},
   "cell_type": "markdown",
   "metadata": {},
   "source": [
    "Com isso, podemos retirar as seguintes informações:\n",
    "\n",
    "- `title`: O título mais presente no Dataset é Top Gear;\n",
    "\n",
    "- `certificate`: A certificação mais presente nos dados é TV-MA, indicando que a maioria dos programas no catálogo Netflix que possuem votos e avaliações no IMDB, são programas voltados a uma audiência adulta;\n",
    "\n",
    "- `genre`: O gênero mais presente nos dados é Comédia;\n",
    "\n",
    "- `stars`: A maioria dos programas não apresentou uma lista com as principais celebridades na atuação."
   ]
  },
  {
   "attachments": {},
   "cell_type": "markdown",
   "metadata": {},
   "source": [
    "Para podermos explorar melhor essas características dos dados, vamos plotar histogramas e boxplots para cada coluna numérica:"
   ]
  },
  {
   "attachments": {},
   "cell_type": "markdown",
   "metadata": {},
   "source": [
    "### **Histograma e Boxplot: release_year**"
   ]
  },
  {
   "cell_type": "code",
   "execution_count": 257,
   "metadata": {},
   "outputs": [],
   "source": [
    "# Selecionando dados existentes, ou seja, aqueles diferentes de 0 para compor a análise:\n",
    "release_year_data = data_clean.query('release_year != 0')[['release_year']]"
   ]
  },
  {
   "cell_type": "code",
   "execution_count": 384,
   "metadata": {},
   "outputs": [
    {
     "data": {
      "image/png": "[encoded data removed]",
      "text/plain": [
       "<Figure size 1296x720 with 1 Axes>"
      ]
     },
     "metadata": {
      "needs_background": "light"
     },
     "output_type": "display_data"
    }
   ],
   "source": [
    "# Histograma\n",
    "create_histogram(release_year_data, \n",
    "                 release_year_data['release_year'],\n",
    "                 1.0,\n",
    "                 'Distribuição de Anos de Lançamento de Projetos no Catálogo Netflix')"
   ]
  },
  {
   "attachments": {},
   "cell_type": "markdown",
   "metadata": {},
   "source": [
    "Os dados tendem a direita de maneira expressiva, onde a quantidade de projetos produzidos a partir de 2000 tem um pico por volta de 2005, onde tem outra queda por volta de 2010 e cresce vertiginosamente após esse período. Ou seja, a maior parte dos projetos no catálogo Netflix foram lançados por volta de 2015 a 2020. \n",
    "\n",
    "Para outra visão da distribuição desses dados, vamos criar um boxplot:"
   ]
  },
  {
   "cell_type": "code",
   "execution_count": 272,
   "metadata": {},
   "outputs": [
    {
     "data": {
      "image/png": "[encoded data removed]",
      "text/plain": [
       "<Figure size 1296x360 with 1 Axes>"
      ]
     },
     "metadata": {
      "needs_background": "light"
     },
     "output_type": "display_data"
    }
   ],
   "source": [
    "# Boxplot:\n",
    "create_boxplot(release_year_data, release_year_data['release_year'], \n",
    "              'Distribuição de Anos de Lançamento de Projetos no Catálogo Netflix')"
   ]
  },
  {
   "attachments": {},
   "cell_type": "markdown",
   "metadata": {},
   "source": [
    "Com o Boxplot, temos uma visão mais precisa acerca da distribuição desses dados, onde:\n",
    "\n",
    "- A linha mediana apresenta uma clara tendência a direita (limite superior) do boxplot, fator que já havia sido pontuado pelo Histograma;\n",
    "\n",
    "- 50% dos dados (distâncias entre o primeiro e terceiro quantil representados pela caixa azul) estão entre o ano de 2010 e 2020;\n",
    "\n",
    "- Como range inferior limítrofe, temos por volta de 2001 como marco, onde abaixo disso temos diversos valores discrepantes que vão até antes de 1970.\n",
    "\n",
    "Isso exemplifica a variedade do catálogo de projetos presentes na Netflix, onde a maioria das obras foram criadas por entre 2011 e 2020 porém também se fazem presentes projetos tão antigos como 1970 e antes."
   ]
  },
  {
   "attachments": {},
   "cell_type": "markdown",
   "metadata": {},
   "source": [
    "### **Histograma e Boxplot: ending_year**"
   ]
  },
  {
   "cell_type": "code",
   "execution_count": 308,
   "metadata": {},
   "outputs": [],
   "source": [
    "# Selecionando dados diferentes de 0:\n",
    "ending_year_data = data_clean.query('ending_year != 0')[['ending_year']]"
   ]
  },
  {
   "cell_type": "code",
   "execution_count": 385,
   "metadata": {},
   "outputs": [
    {
     "data": {
      "image/png": "[encoded data removed]",
      "text/plain": [
       "<Figure size 1296x720 with 1 Axes>"
      ]
     },
     "metadata": {
      "needs_background": "light"
     },
     "output_type": "display_data"
    }
   ],
   "source": [
    "# Histograma:\n",
    "create_histogram(ending_year_data, \n",
    "                 ending_year_data['ending_year'], \n",
    "                 1.0,\n",
    "                 'Distribuição de Anos de Encerramento de Projetos no Catálogo Netflix')"
   ]
  },
  {
   "cell_type": "code",
   "execution_count": 310,
   "metadata": {},
   "outputs": [
    {
     "data": {
      "image/png": "[encoded data removed]",
      "text/plain": [
       "<Figure size 1296x360 with 1 Axes>"
      ]
     },
     "metadata": {
      "needs_background": "light"
     },
     "output_type": "display_data"
    }
   ],
   "source": [
    "# Boxplot:\n",
    "create_boxplot(ending_year_data, \n",
    "               ending_year_data['ending_year'], \n",
    "               'Distribuição de Anos de Encerramento de Projetos no Catálogo Netflix')"
   ]
  },
  {
   "attachments": {},
   "cell_type": "markdown",
   "metadata": {},
   "source": [
    "Como apontam o Histograma e o Boxplot, curiosamente o ano de encerramento mais comum é o mesmo ano de lançamento mais comum, 2020. Isso pode indicar algumas coisas:\n",
    "\n",
    "- Lançamentos de mini-séries que se iniciam e terminam no mesmo ano;\n",
    "\n",
    "- É válido considerar a [pandemia de Covid-19 e seus impactos na indústria do cinema](https://www.vet.k-state.edu/about/news-events-publications/OneHealth/Vol14-Iss1/film-industry.html#:~:text=As%20a%20result%20of%20the,produced%20in%202021%20or%202022.), onde muitas produções de filmes e séries foram canceladas/encerradas abruptamente ou postergadas para anos seguintes durante 2020, o que pode compor uma explicação para tantos encerramentos em 2020. "
   ]
  },
  {
   "attachments": {},
   "cell_type": "markdown",
   "metadata": {},
   "source": [
    "Vamos checar alguns desses registros que constam data de encerramento maiores que 2022:"
   ]
  },
  {
   "cell_type": "code",
   "execution_count": 313,
   "metadata": {},
   "outputs": [
    {
     "data": {
      "text/html": [
       "<div>\n",
       "<style scoped>\n",
       "    .dataframe tbody tr th:only-of-type {\n",
       "        vertical-align: middle;\n",
       "    }\n",
       "\n",
       "    .dataframe tbody tr th {\n",
       "        vertical-align: top;\n",
       "    }\n",
       "\n",
       "    .dataframe thead th {\n",
       "        text-align: right;\n",
       "    }\n",
       "</style>\n",
       "<table border=\"1\" class=\"dataframe\">\n",
       "  <thead>\n",
       "    <tr style=\"text-align: right;\">\n",
       "      <th></th>\n",
       "      <th>title</th>\n",
       "      <th>release_year</th>\n",
       "      <th>ending_year</th>\n",
       "      <th>certificate</th>\n",
       "      <th>duration_min</th>\n",
       "      <th>genre</th>\n",
       "      <th>rating</th>\n",
       "      <th>stars</th>\n",
       "      <th>votes</th>\n",
       "    </tr>\n",
       "  </thead>\n",
       "  <tbody>\n",
       "    <tr>\n",
       "      <th>39</th>\n",
       "      <td>The Umbrella Academy</td>\n",
       "      <td>2019</td>\n",
       "      <td>2023</td>\n",
       "      <td>TV-14</td>\n",
       "      <td>60</td>\n",
       "      <td>Action, Adventure, Comedy</td>\n",
       "      <td>7.9</td>\n",
       "      <td>['Elliot Page, ', 'Tom Hopper, ', 'David Casta...</td>\n",
       "      <td>243344</td>\n",
       "    </tr>\n",
       "    <tr>\n",
       "      <th>49</th>\n",
       "      <td>Never Have I Ever</td>\n",
       "      <td>2020</td>\n",
       "      <td>2023</td>\n",
       "      <td>TV-14</td>\n",
       "      <td>30</td>\n",
       "      <td>Comedy, Drama</td>\n",
       "      <td>7.9</td>\n",
       "      <td>['Maitreyi Ramakrishnan, ', 'Poorna Jagannatha...</td>\n",
       "      <td>56216</td>\n",
       "    </tr>\n",
       "    <tr>\n",
       "      <th>50</th>\n",
       "      <td>Attack on Titan</td>\n",
       "      <td>2013</td>\n",
       "      <td>2023</td>\n",
       "      <td>TV-MA</td>\n",
       "      <td>24</td>\n",
       "      <td>Animation, Action, Adventure</td>\n",
       "      <td>9.0</td>\n",
       "      <td>['Josh Grelle, ', 'Yûki Kaji, ', 'Yui Ishikawa...</td>\n",
       "      <td>363297</td>\n",
       "    </tr>\n",
       "    <tr>\n",
       "      <th>87</th>\n",
       "      <td>The Flash</td>\n",
       "      <td>2014</td>\n",
       "      <td>2023</td>\n",
       "      <td>TV-PG</td>\n",
       "      <td>43</td>\n",
       "      <td>Action, Adventure, Drama</td>\n",
       "      <td>7.6</td>\n",
       "      <td>['Grant Gustin, ', 'Candice Patton, ', 'Daniel...</td>\n",
       "      <td>344187</td>\n",
       "    </tr>\n",
       "    <tr>\n",
       "      <th>258</th>\n",
       "      <td>Snowpiercer</td>\n",
       "      <td>2020</td>\n",
       "      <td>2023</td>\n",
       "      <td>TV-MA</td>\n",
       "      <td>60</td>\n",
       "      <td>Action, Drama, Sci-Fi</td>\n",
       "      <td>6.9</td>\n",
       "      <td>['Daveed Diggs, ', 'Mickey Sumner, ', 'Alison ...</td>\n",
       "      <td>54342</td>\n",
       "    </tr>\n",
       "    <tr>\n",
       "      <th>335</th>\n",
       "      <td>Workin' Moms</td>\n",
       "      <td>2017</td>\n",
       "      <td>2023</td>\n",
       "      <td>TV-MA</td>\n",
       "      <td>30</td>\n",
       "      <td>Comedy, Drama</td>\n",
       "      <td>7.8</td>\n",
       "      <td>['Catherine Reitman, ', 'Dani Kind, ', 'Philip...</td>\n",
       "      <td>17710</td>\n",
       "    </tr>\n",
       "    <tr>\n",
       "      <th>8300</th>\n",
       "      <td>The Umbrella Academy</td>\n",
       "      <td>2019</td>\n",
       "      <td>2023</td>\n",
       "      <td>TV-14</td>\n",
       "      <td>47</td>\n",
       "      <td>Action, Adventure, Comedy</td>\n",
       "      <td>8.2</td>\n",
       "      <td>['Sylvain White', '| ', '    Stars:', 'Elliot ...</td>\n",
       "      <td>4357</td>\n",
       "    </tr>\n",
       "    <tr>\n",
       "      <th>8323</th>\n",
       "      <td>The Umbrella Academy</td>\n",
       "      <td>2019</td>\n",
       "      <td>2023</td>\n",
       "      <td>TV-14</td>\n",
       "      <td>48</td>\n",
       "      <td>Action, Adventure, Comedy</td>\n",
       "      <td>8.0</td>\n",
       "      <td>['Stephen Surjik', '| ', '    Stars:', 'Elliot...</td>\n",
       "      <td>3879</td>\n",
       "    </tr>\n",
       "    <tr>\n",
       "      <th>8360</th>\n",
       "      <td>Never Have I Ever</td>\n",
       "      <td>2020</td>\n",
       "      <td>2023</td>\n",
       "      <td>TV-14</td>\n",
       "      <td>28</td>\n",
       "      <td>Comedy, Drama</td>\n",
       "      <td>7.4</td>\n",
       "      <td>['Tristram Shapeero', '| ', '    Stars:', 'Mai...</td>\n",
       "      <td>1168</td>\n",
       "    </tr>\n",
       "    <tr>\n",
       "      <th>8361</th>\n",
       "      <td>Never Have I Ever</td>\n",
       "      <td>2020</td>\n",
       "      <td>2023</td>\n",
       "      <td>TV-14</td>\n",
       "      <td>29</td>\n",
       "      <td>Comedy, Drama</td>\n",
       "      <td>7.5</td>\n",
       "      <td>['Tristram Shapeero', '| ', '    Stars:', 'Mai...</td>\n",
       "      <td>1037</td>\n",
       "    </tr>\n",
       "  </tbody>\n",
       "</table>\n",
       "</div>"
      ],
      "text/plain": [
       "                     title  release_year  ending_year certificate  \\\n",
       "39    The Umbrella Academy          2019         2023       TV-14   \n",
       "49       Never Have I Ever          2020         2023       TV-14   \n",
       "50         Attack on Titan          2013         2023       TV-MA   \n",
       "87               The Flash          2014         2023       TV-PG   \n",
       "258            Snowpiercer          2020         2023       TV-MA   \n",
       "335           Workin' Moms          2017         2023       TV-MA   \n",
       "8300  The Umbrella Academy          2019         2023       TV-14   \n",
       "8323  The Umbrella Academy          2019         2023       TV-14   \n",
       "8360     Never Have I Ever          2020         2023       TV-14   \n",
       "8361     Never Have I Ever          2020         2023       TV-14   \n",
       "\n",
       "      duration_min                         genre  rating  \\\n",
       "39              60     Action, Adventure, Comedy     7.9   \n",
       "49              30                 Comedy, Drama     7.9   \n",
       "50              24  Animation, Action, Adventure     9.0   \n",
       "87              43      Action, Adventure, Drama     7.6   \n",
       "258             60         Action, Drama, Sci-Fi     6.9   \n",
       "335             30                 Comedy, Drama     7.8   \n",
       "8300            47     Action, Adventure, Comedy     8.2   \n",
       "8323            48     Action, Adventure, Comedy     8.0   \n",
       "8360            28                 Comedy, Drama     7.4   \n",
       "8361            29                 Comedy, Drama     7.5   \n",
       "\n",
       "                                                  stars   votes  \n",
       "39    ['Elliot Page, ', 'Tom Hopper, ', 'David Casta...  243344  \n",
       "49    ['Maitreyi Ramakrishnan, ', 'Poorna Jagannatha...   56216  \n",
       "50    ['Josh Grelle, ', 'Yûki Kaji, ', 'Yui Ishikawa...  363297  \n",
       "87    ['Grant Gustin, ', 'Candice Patton, ', 'Daniel...  344187  \n",
       "258   ['Daveed Diggs, ', 'Mickey Sumner, ', 'Alison ...   54342  \n",
       "335   ['Catherine Reitman, ', 'Dani Kind, ', 'Philip...   17710  \n",
       "8300  ['Sylvain White', '| ', '    Stars:', 'Elliot ...    4357  \n",
       "8323  ['Stephen Surjik', '| ', '    Stars:', 'Elliot...    3879  \n",
       "8360  ['Tristram Shapeero', '| ', '    Stars:', 'Mai...    1168  \n",
       "8361  ['Tristram Shapeero', '| ', '    Stars:', 'Mai...    1037  "
      ]
     },
     "execution_count": 313,
     "metadata": {},
     "output_type": "execute_result"
    }
   ],
   "source": [
    "# checando  entradas acima de 2022:\n",
    "data_clean.query('ending_year > 2022').head(10)"
   ]
  },
  {
   "attachments": {},
   "cell_type": "markdown",
   "metadata": {},
   "source": [
    "- São programas já estabelecidos que possuem um ano previsto para finalização (a série **_The Umbrella Academy_** como exemplificado acima com 3 episódios aparecendo na sample), nesse caso iremos deixá-los na análise justamente por possuirem dados relevantes (minutagem, rating e votos)."
   ]
  },
  {
   "attachments": {},
   "cell_type": "markdown",
   "metadata": {},
   "source": [
    "### **Histograma e Boxplot: duration_min**"
   ]
  },
  {
   "cell_type": "code",
   "execution_count": 316,
   "metadata": {},
   "outputs": [
    {
     "data": {
      "text/html": [
       "<div>\n",
       "<style scoped>\n",
       "    .dataframe tbody tr th:only-of-type {\n",
       "        vertical-align: middle;\n",
       "    }\n",
       "\n",
       "    .dataframe tbody tr th {\n",
       "        vertical-align: top;\n",
       "    }\n",
       "\n",
       "    .dataframe thead th {\n",
       "        text-align: right;\n",
       "    }\n",
       "</style>\n",
       "<table border=\"1\" class=\"dataframe\">\n",
       "  <thead>\n",
       "    <tr style=\"text-align: right;\">\n",
       "      <th></th>\n",
       "      <th>duration_min</th>\n",
       "    </tr>\n",
       "  </thead>\n",
       "  <tbody>\n",
       "    <tr>\n",
       "      <th>0</th>\n",
       "      <td>30</td>\n",
       "    </tr>\n",
       "    <tr>\n",
       "      <th>1</th>\n",
       "      <td>58</td>\n",
       "    </tr>\n",
       "    <tr>\n",
       "      <th>2</th>\n",
       "      <td>46</td>\n",
       "    </tr>\n",
       "    <tr>\n",
       "      <th>3</th>\n",
       "      <td>356</td>\n",
       "    </tr>\n",
       "    <tr>\n",
       "      <th>4</th>\n",
       "      <td>24</td>\n",
       "    </tr>\n",
       "    <tr>\n",
       "      <th>...</th>\n",
       "      <td>...</td>\n",
       "    </tr>\n",
       "    <tr>\n",
       "      <th>9952</th>\n",
       "      <td>45</td>\n",
       "    </tr>\n",
       "    <tr>\n",
       "      <th>9953</th>\n",
       "      <td>44</td>\n",
       "    </tr>\n",
       "    <tr>\n",
       "      <th>9954</th>\n",
       "      <td>58</td>\n",
       "    </tr>\n",
       "    <tr>\n",
       "      <th>9955</th>\n",
       "      <td>44</td>\n",
       "    </tr>\n",
       "    <tr>\n",
       "      <th>9956</th>\n",
       "      <td>356</td>\n",
       "    </tr>\n",
       "  </tbody>\n",
       "</table>\n",
       "<p>7676 rows × 1 columns</p>\n",
       "</div>"
      ],
      "text/plain": [
       "      duration_min\n",
       "0               30\n",
       "1               58\n",
       "2               46\n",
       "3              356\n",
       "4               24\n",
       "...            ...\n",
       "9952            45\n",
       "9953            44\n",
       "9954            58\n",
       "9955            44\n",
       "9956           356\n",
       "\n",
       "[7676 rows x 1 columns]"
      ]
     },
     "execution_count": 316,
     "metadata": {},
     "output_type": "execute_result"
    }
   ],
   "source": [
    "# Selecionando dados diferentes de 0:\n",
    "duration_data = data_clean.query('duration_min != 0')[['duration_min']]"
   ]
  },
  {
   "cell_type": "code",
   "execution_count": 386,
   "metadata": {},
   "outputs": [
    {
     "data": {
      "image/png": "[encoded data removed]",
      "text/plain": [
       "<Figure size 1296x720 with 1 Axes>"
      ]
     },
     "metadata": {
      "needs_background": "light"
     },
     "output_type": "display_data"
    }
   ],
   "source": [
    "# Histograma:\n",
    "create_histogram(duration_data, \n",
    "                 duration_data['duration_min'],\n",
    "                 1.0, \n",
    "                 'Distribuição de Minutagens no Catálogo Netflix')"
   ]
  },
  {
   "attachments": {},
   "cell_type": "markdown",
   "metadata": {},
   "source": [
    "Somente com o histograma é aparente a distribuição não adequada da coluna de minutagem, onde a grande maioria dos dados estão abaixo de por volta 150 a 200 minutos porém o eixo X vai até 1000.\n",
    "\n",
    "Com o boxplot, iremos visualizar quantos desses registros estão acima de 200 minutos:"
   ]
  },
  {
   "cell_type": "code",
   "execution_count": 319,
   "metadata": {},
   "outputs": [
    {
     "data": {
      "image/png": "[encoded data removed]",
      "text/plain": [
       "<Figure size 1296x360 with 1 Axes>"
      ]
     },
     "metadata": {
      "needs_background": "light"
     },
     "output_type": "display_data"
    }
   ],
   "source": [
    "create_boxplot(duration_data, \n",
    "               duration_data['duration_min'], \n",
    "               'Distribuição de Minutagens no Catálogo Netflix')"
   ]
  },
  {
   "attachments": {},
   "cell_type": "markdown",
   "metadata": {},
   "source": [
    "É aparente que temos outliers nessa coluna, porém, para termos uma compreensão melhor do que são esses registros com minutagens tão extensas, vamos puxar um sample do DataFrame para visualização:"
   ]
  },
  {
   "cell_type": "code",
   "execution_count": 370,
   "metadata": {},
   "outputs": [
    {
     "data": {
      "text/html": [
       "<div>\n",
       "<style scoped>\n",
       "    .dataframe tbody tr th:only-of-type {\n",
       "        vertical-align: middle;\n",
       "    }\n",
       "\n",
       "    .dataframe tbody tr th {\n",
       "        vertical-align: top;\n",
       "    }\n",
       "\n",
       "    .dataframe thead th {\n",
       "        text-align: right;\n",
       "    }\n",
       "</style>\n",
       "<table border=\"1\" class=\"dataframe\">\n",
       "  <thead>\n",
       "    <tr style=\"text-align: right;\">\n",
       "      <th></th>\n",
       "      <th>title</th>\n",
       "      <th>release_year</th>\n",
       "      <th>ending_year</th>\n",
       "      <th>certificate</th>\n",
       "      <th>duration_min</th>\n",
       "      <th>genre</th>\n",
       "      <th>rating</th>\n",
       "      <th>stars</th>\n",
       "      <th>votes</th>\n",
       "    </tr>\n",
       "  </thead>\n",
       "  <tbody>\n",
       "    <tr>\n",
       "      <th>3</th>\n",
       "      <td>Devil in Ohio</td>\n",
       "      <td>0</td>\n",
       "      <td>0</td>\n",
       "      <td>TV-MA</td>\n",
       "      <td>356</td>\n",
       "      <td>Drama, Horror, Mystery</td>\n",
       "      <td>5.9</td>\n",
       "      <td>['Emily Deschanel, ', 'Sam Jaeger, ', 'Gerardo...</td>\n",
       "      <td>9773</td>\n",
       "    </tr>\n",
       "    <tr>\n",
       "      <th>30</th>\n",
       "      <td>Echoes</td>\n",
       "      <td>0</td>\n",
       "      <td>0</td>\n",
       "      <td>TV-MA</td>\n",
       "      <td>326</td>\n",
       "      <td>Drama, Mystery, Thriller</td>\n",
       "      <td>5.9</td>\n",
       "      <td>['Michelle Monaghan, ', 'Matt Bomer, ', 'Karen...</td>\n",
       "      <td>9380</td>\n",
       "    </tr>\n",
       "    <tr>\n",
       "      <th>57</th>\n",
       "      <td>The Lord of the Rings: The Return of the King</td>\n",
       "      <td>0</td>\n",
       "      <td>0</td>\n",
       "      <td>PG-13</td>\n",
       "      <td>201</td>\n",
       "      <td>Action, Adventure, Drama</td>\n",
       "      <td>9.0</td>\n",
       "      <td>['Peter Jackson', '| ', '    Stars:', 'Elijah ...</td>\n",
       "      <td>1819157</td>\n",
       "    </tr>\n",
       "    <tr>\n",
       "      <th>89</th>\n",
       "      <td>Dahmer - Monster: The Jeffrey Dahmer Story</td>\n",
       "      <td>0</td>\n",
       "      <td>0</td>\n",
       "      <td>TV-MA</td>\n",
       "      <td>534</td>\n",
       "      <td>Biography, Crime, Drama</td>\n",
       "      <td>8.5</td>\n",
       "      <td>['Evan Peters, ', 'Richard Jenkins, ', 'Molly ...</td>\n",
       "      <td>5580</td>\n",
       "    </tr>\n",
       "    <tr>\n",
       "      <th>143</th>\n",
       "      <td>The Haunting of Hill House</td>\n",
       "      <td>0</td>\n",
       "      <td>0</td>\n",
       "      <td>TV-MA</td>\n",
       "      <td>572</td>\n",
       "      <td>Drama, Horror, Mystery</td>\n",
       "      <td>8.6</td>\n",
       "      <td>['Michiel Huisman, ', 'Carla Gugino, ', 'Henry...</td>\n",
       "      <td>237198</td>\n",
       "    </tr>\n",
       "    <tr>\n",
       "      <th>155</th>\n",
       "      <td>Midnight Mass</td>\n",
       "      <td>0</td>\n",
       "      <td>0</td>\n",
       "      <td>TV-MA</td>\n",
       "      <td>450</td>\n",
       "      <td>Drama, Fantasy, Horror</td>\n",
       "      <td>7.7</td>\n",
       "      <td>['Kate Siegel, ', 'Zach Gilford, ', 'Kristin L...</td>\n",
       "      <td>110997</td>\n",
       "    </tr>\n",
       "    <tr>\n",
       "      <th>212</th>\n",
       "      <td>Anatomy of a Scandal</td>\n",
       "      <td>0</td>\n",
       "      <td>0</td>\n",
       "      <td>TV-MA</td>\n",
       "      <td>268</td>\n",
       "      <td>Drama, Thriller</td>\n",
       "      <td>7.0</td>\n",
       "      <td>['Sienna Miller, ', 'Rupert Friend, ', 'Michel...</td>\n",
       "      <td>27590</td>\n",
       "    </tr>\n",
       "    <tr>\n",
       "      <th>227</th>\n",
       "      <td>Maid</td>\n",
       "      <td>0</td>\n",
       "      <td>0</td>\n",
       "      <td>TV-MA</td>\n",
       "      <td>545</td>\n",
       "      <td>Drama</td>\n",
       "      <td>8.4</td>\n",
       "      <td>['Margaret Qualley, ', 'Nick Robinson, ', 'Ryl...</td>\n",
       "      <td>81102</td>\n",
       "    </tr>\n",
       "    <tr>\n",
       "      <th>250</th>\n",
       "      <td>Dracula</td>\n",
       "      <td>0</td>\n",
       "      <td>0</td>\n",
       "      <td>TV-14</td>\n",
       "      <td>270</td>\n",
       "      <td>Action, Drama, Fantasy</td>\n",
       "      <td>6.8</td>\n",
       "      <td>['Claes Bang, ', 'Dolly Wells, ', 'Morfydd Cla...</td>\n",
       "      <td>47794</td>\n",
       "    </tr>\n",
       "    <tr>\n",
       "      <th>262</th>\n",
       "      <td>The Haunting of Bly Manor</td>\n",
       "      <td>0</td>\n",
       "      <td>0</td>\n",
       "      <td>TV-MA</td>\n",
       "      <td>494</td>\n",
       "      <td>Drama, Horror, Mystery</td>\n",
       "      <td>7.3</td>\n",
       "      <td>['Victoria Pedretti, ', 'Oliver Jackson-Cohen,...</td>\n",
       "      <td>101853</td>\n",
       "    </tr>\n",
       "  </tbody>\n",
       "</table>\n",
       "</div>"
      ],
      "text/plain": [
       "                                             title  release_year  ending_year  \\\n",
       "3                                    Devil in Ohio             0            0   \n",
       "30                                          Echoes             0            0   \n",
       "57   The Lord of the Rings: The Return of the King             0            0   \n",
       "89      Dahmer - Monster: The Jeffrey Dahmer Story             0            0   \n",
       "143                     The Haunting of Hill House             0            0   \n",
       "155                                  Midnight Mass             0            0   \n",
       "212                           Anatomy of a Scandal             0            0   \n",
       "227                                           Maid             0            0   \n",
       "250                                        Dracula             0            0   \n",
       "262                      The Haunting of Bly Manor             0            0   \n",
       "\n",
       "    certificate  duration_min                     genre  rating  \\\n",
       "3         TV-MA           356    Drama, Horror, Mystery     5.9   \n",
       "30        TV-MA           326  Drama, Mystery, Thriller     5.9   \n",
       "57        PG-13           201  Action, Adventure, Drama     9.0   \n",
       "89        TV-MA           534   Biography, Crime, Drama     8.5   \n",
       "143       TV-MA           572    Drama, Horror, Mystery     8.6   \n",
       "155       TV-MA           450    Drama, Fantasy, Horror     7.7   \n",
       "212       TV-MA           268           Drama, Thriller     7.0   \n",
       "227       TV-MA           545                     Drama     8.4   \n",
       "250       TV-14           270    Action, Drama, Fantasy     6.8   \n",
       "262       TV-MA           494    Drama, Horror, Mystery     7.3   \n",
       "\n",
       "                                                 stars    votes  \n",
       "3    ['Emily Deschanel, ', 'Sam Jaeger, ', 'Gerardo...     9773  \n",
       "30   ['Michelle Monaghan, ', 'Matt Bomer, ', 'Karen...     9380  \n",
       "57   ['Peter Jackson', '| ', '    Stars:', 'Elijah ...  1819157  \n",
       "89   ['Evan Peters, ', 'Richard Jenkins, ', 'Molly ...     5580  \n",
       "143  ['Michiel Huisman, ', 'Carla Gugino, ', 'Henry...   237198  \n",
       "155  ['Kate Siegel, ', 'Zach Gilford, ', 'Kristin L...   110997  \n",
       "212  ['Sienna Miller, ', 'Rupert Friend, ', 'Michel...    27590  \n",
       "227  ['Margaret Qualley, ', 'Nick Robinson, ', 'Ryl...    81102  \n",
       "250  ['Claes Bang, ', 'Dolly Wells, ', 'Morfydd Cla...    47794  \n",
       "262  ['Victoria Pedretti, ', 'Oliver Jackson-Cohen,...   101853  "
      ]
     },
     "execution_count": 370,
     "metadata": {},
     "output_type": "execute_result"
    }
   ],
   "source": [
    "# Checando entradas acima de 175 minutos:\n",
    "data_clean.query('duration_min > 200').head(10)"
   ]
  },
  {
   "attachments": {},
   "cell_type": "markdown",
   "metadata": {},
   "source": [
    "- Os registros aparentam ser séries cujas inserções no banco de dados ocorreram de uma vez só em um único registro, causando com que a minutagem fosse o acumulado de todas as minutagens dos episódios das séries, como exemplo a série Dahmer, que possui multiplos episódios e nesse caso, sua minutagem aparenta ser a soma de todos esses episódios condensados em um só registro.\n",
    "\n",
    "- Além de séries temos alguns longas metragem como Lord Of The Rings e RRR;\n",
    "\n",
    "Pretendemos remover todos os registros acima de 201 minutos dos dados devido a sua alta volatidade e aleatoriedade, 201 minutos em específico para podermos manter nos dados o filme mais longo da saga The Lord Of The Rings, pois é um projeto importante nos dados com muitos votos para ser descartado."
   ]
  },
  {
   "cell_type": "code",
   "execution_count": 369,
   "metadata": {},
   "outputs": [
    {
     "data": {
      "text/html": [
       "<div>\n",
       "<style scoped>\n",
       "    .dataframe tbody tr th:only-of-type {\n",
       "        vertical-align: middle;\n",
       "    }\n",
       "\n",
       "    .dataframe tbody tr th {\n",
       "        vertical-align: top;\n",
       "    }\n",
       "\n",
       "    .dataframe thead th {\n",
       "        text-align: right;\n",
       "    }\n",
       "</style>\n",
       "<table border=\"1\" class=\"dataframe\">\n",
       "  <thead>\n",
       "    <tr style=\"text-align: right;\">\n",
       "      <th></th>\n",
       "      <th>title</th>\n",
       "      <th>release_year</th>\n",
       "      <th>ending_year</th>\n",
       "      <th>certificate</th>\n",
       "      <th>duration_min</th>\n",
       "      <th>genre</th>\n",
       "      <th>rating</th>\n",
       "      <th>stars</th>\n",
       "      <th>votes</th>\n",
       "    </tr>\n",
       "  </thead>\n",
       "  <tbody>\n",
       "    <tr>\n",
       "      <th>20</th>\n",
       "      <td>The Lord of the Rings: The Fellowship of the Ring</td>\n",
       "      <td>0</td>\n",
       "      <td>0</td>\n",
       "      <td>PG-13</td>\n",
       "      <td>178</td>\n",
       "      <td>Action, Adventure, Drama</td>\n",
       "      <td>8.8</td>\n",
       "      <td>['Peter Jackson', '| ', '    Stars:', 'Elijah ...</td>\n",
       "      <td>1844055</td>\n",
       "    </tr>\n",
       "    <tr>\n",
       "      <th>57</th>\n",
       "      <td>The Lord of the Rings: The Return of the King</td>\n",
       "      <td>0</td>\n",
       "      <td>0</td>\n",
       "      <td>PG-13</td>\n",
       "      <td>201</td>\n",
       "      <td>Action, Adventure, Drama</td>\n",
       "      <td>9.0</td>\n",
       "      <td>['Peter Jackson', '| ', '    Stars:', 'Elijah ...</td>\n",
       "      <td>1819157</td>\n",
       "    </tr>\n",
       "    <tr>\n",
       "      <th>78</th>\n",
       "      <td>The Lord of the Rings: The Two Towers</td>\n",
       "      <td>0</td>\n",
       "      <td>0</td>\n",
       "      <td>PG-13</td>\n",
       "      <td>179</td>\n",
       "      <td>Action, Adventure, Drama</td>\n",
       "      <td>8.8</td>\n",
       "      <td>['Peter Jackson', '| ', '    Stars:', 'Elijah ...</td>\n",
       "      <td>1642708</td>\n",
       "    </tr>\n",
       "    <tr>\n",
       "      <th>9921</th>\n",
       "      <td>The Lord of the Rings: The Fellowship of the Ring</td>\n",
       "      <td>0</td>\n",
       "      <td>0</td>\n",
       "      <td>PG-13</td>\n",
       "      <td>178</td>\n",
       "      <td>Action, Adventure, Drama</td>\n",
       "      <td>8.8</td>\n",
       "      <td>['Peter Jackson', '| ', '    Stars:', 'Elijah ...</td>\n",
       "      <td>1844075</td>\n",
       "    </tr>\n",
       "  </tbody>\n",
       "</table>\n",
       "</div>"
      ],
      "text/plain": [
       "                                                  title  release_year  \\\n",
       "20    The Lord of the Rings: The Fellowship of the Ring             0   \n",
       "57        The Lord of the Rings: The Return of the King             0   \n",
       "78                The Lord of the Rings: The Two Towers             0   \n",
       "9921  The Lord of the Rings: The Fellowship of the Ring             0   \n",
       "\n",
       "      ending_year certificate  duration_min                     genre  rating  \\\n",
       "20              0       PG-13           178  Action, Adventure, Drama     8.8   \n",
       "57              0       PG-13           201  Action, Adventure, Drama     9.0   \n",
       "78              0       PG-13           179  Action, Adventure, Drama     8.8   \n",
       "9921            0       PG-13           178  Action, Adventure, Drama     8.8   \n",
       "\n",
       "                                                  stars    votes  \n",
       "20    ['Peter Jackson', '| ', '    Stars:', 'Elijah ...  1844055  \n",
       "57    ['Peter Jackson', '| ', '    Stars:', 'Elijah ...  1819157  \n",
       "78    ['Peter Jackson', '| ', '    Stars:', 'Elijah ...  1642708  \n",
       "9921  ['Peter Jackson', '| ', '    Stars:', 'Elijah ...  1844075  "
      ]
     },
     "execution_count": 369,
     "metadata": {},
     "output_type": "execute_result"
    }
   ],
   "source": [
    "data_clean.loc[(data_clean.title.str.contains('Rings')), :]"
   ]
  },
  {
   "cell_type": "code",
   "execution_count": 402,
   "metadata": {},
   "outputs": [],
   "source": [
    "# Retirando dados acima de 202 minutos:\n",
    "data_clean = data_clean.drop(data_clean.query('duration_min > 201').index)"
   ]
  },
  {
   "cell_type": "code",
   "execution_count": 403,
   "metadata": {},
   "outputs": [
    {
     "data": {
      "text/plain": [
       "(8640, 9)"
      ]
     },
     "execution_count": 403,
     "metadata": {},
     "output_type": "execute_result"
    }
   ],
   "source": [
    "# Shape final do Dataset:\n",
    "data_clean.shape"
   ]
  },
  {
   "attachments": {},
   "cell_type": "markdown",
   "metadata": {},
   "source": [
    "### **Histograma e Boxplot: rating**"
   ]
  },
  {
   "cell_type": "code",
   "execution_count": 404,
   "metadata": {},
   "outputs": [],
   "source": [
    "# Selecionando dados diferentes de 0:\n",
    "rating_data = data_clean.query('rating != 0')[['rating']]"
   ]
  },
  {
   "cell_type": "code",
   "execution_count": 405,
   "metadata": {},
   "outputs": [
    {
     "data": {
      "image/png": "[encoded data removed]",
      "text/plain": [
       "<Figure size 1296x720 with 1 Axes>"
      ]
     },
     "metadata": {
      "needs_background": "light"
     },
     "output_type": "display_data"
    }
   ],
   "source": [
    "# Histograma:\n",
    "create_histogram(rating_data, \n",
    "                 rating_data['rating'],\n",
    "                 0.2, \n",
    "                'Distribuição de Notas por Projeto do Catálogo Netflix')"
   ]
  },
  {
   "cell_type": "code",
   "execution_count": 406,
   "metadata": {},
   "outputs": [
    {
     "data": {
      "image/png": "[encoded data removed]",
      "text/plain": [
       "<Figure size 1296x360 with 1 Axes>"
      ]
     },
     "metadata": {
      "needs_background": "light"
     },
     "output_type": "display_data"
    }
   ],
   "source": [
    "# Boxplot:\n",
    "create_boxplot(rating_data, \n",
    "               rating_data['rating'], \n",
    "               'Distribuição de Notas por Projeto do Catálogo Netflix')"
   ]
  },
  {
   "attachments": {},
   "cell_type": "markdown",
   "metadata": {},
   "source": [
    "Aqui podemos ter uma visualização melhor dos dados da coluna rating, onde a maioria das obras receberam uma avaliação de por volta 7, tendo alguns registos abaixo de 4 e um abaixo de 2.\n",
    "\n",
    "Com o Histograma, podemos ver que os dados estão distribuidos de forma homogênia com uma tendência a direita."
   ]
  },
  {
   "attachments": {},
   "cell_type": "markdown",
   "metadata": {},
   "source": [
    "### **Histograma e Boxplot: votes**"
   ]
  },
  {
   "attachments": {},
   "cell_type": "markdown",
   "metadata": {},
   "source": [
    "Como dito nas primeiras checagens da coluna votes, pela quantidade massiva de votos dados para cada projeto, a visualização do Histograma dessa coluna será feita em escala logarítimica para melhor visualização, por isso, não iremos chamar nossa função de criação de plots, mas iremos realizar a plotagem manualmente."
   ]
  },
  {
   "cell_type": "code",
   "execution_count": 407,
   "metadata": {},
   "outputs": [],
   "source": [
    "# Selecionando dados diferentes de 0:\n",
    "votes_data = data_clean.query('votes != 0')[['votes']]"
   ]
  },
  {
   "cell_type": "code",
   "execution_count": 408,
   "metadata": {},
   "outputs": [
    {
     "data": {
      "image/png": "[encoded data removed]",
      "text/plain": [
       "<Figure size 1296x720 with 1 Axes>"
      ]
     },
     "metadata": {
      "needs_background": "light"
     },
     "output_type": "display_data"
    }
   ],
   "source": [
    "# Histograma:\n",
    "fig, ax = plt.subplots(figsize=(18, 10))\n",
    "\n",
    "sns.histplot(data=votes_data, x='votes', kde=True, \n",
    "             label='Intensidade de Registros', \n",
    "             binwidth=0.08, edgecolor='black',\n",
    "             line_kws={'linestyle':'dashdot'},\n",
    "             color='navy', log_scale=True)\n",
    "\n",
    "plt.title('Distribuição de Votos em Projetos no Catálogo Netflix', \n",
    "           fontdict={'size': 18, \n",
    "                     'weight': 'bold', \n",
    "                     'family': 'serif'})\n",
    "\n",
    "plt.ylabel('Qtde. Registros', fontsize=13)\n",
    "\n",
    "plt.xlabel('Núm. Votos (Log Scale)', fontsize=13)\n",
    "\n",
    "plt.legend(loc='upper left', fontsize=12, \n",
    "           fancybox=True, shadow=True)\n",
    "\n",
    "plt.show()"
   ]
  },
  {
   "attachments": {},
   "cell_type": "markdown",
   "metadata": {},
   "source": [
    "Aqui temos o inverso do visualizado no histograma da coluna rating, uma distribuição homogênia dos dados que tende levemente a esquerda."
   ]
  },
  {
   "cell_type": "code",
   "execution_count": 409,
   "metadata": {},
   "outputs": [
    {
     "data": {
      "image/png": "[encoded data removed]",
      "text/plain": [
       "<Figure size 1296x360 with 1 Axes>"
      ]
     },
     "metadata": {
      "needs_background": "light"
     },
     "output_type": "display_data"
    }
   ],
   "source": [
    "# Boxplot:\n",
    "fig, ax = plt.subplots(figsize=(18, 5))\n",
    "\n",
    "sns.boxplot(data=votes_data, x='votes',\n",
    "            flierprops={\"marker\": \"x\"}, \n",
    "            medianprops={\"color\": \"red\"}, \n",
    "            color='#004d80', linewidth=2)\n",
    "\n",
    "ax.set_xscale('log')\n",
    "\n",
    "plt.title('Distribuição de Votos em Projetos no Catálogo Netflix', \n",
    "           loc='center', fontdict={'size': 16, \n",
    "                                   'weight': 'bold', \n",
    "                                   'family': 'serif'})\n",
    "\n",
    "plt.show()"
   ]
  },
  {
   "attachments": {},
   "cell_type": "markdown",
   "metadata": {},
   "source": [
    "A tendência a esquerda dos dados pode ser bem visualizada com o boxplot, onde alguns outliers estão mais a direita."
   ]
  },
  {
   "attachments": {},
   "cell_type": "markdown",
   "metadata": {},
   "source": [
    "Com os dados limpos e organizados, podemos dar início as nossas análises."
   ]
  },
  {
   "attachments": {},
   "cell_type": "markdown",
   "metadata": {},
   "source": [
    "# <font color='gold'>**_Perguntas, Insights e Plots_**</font> 📉"
   ]
  },
  {
   "attachments": {},
   "cell_type": "markdown",
   "metadata": {},
   "source": [
    "Com os dados devidamente limpos e organizados, nos debruçaremos sobre algumas análises pertinentes ao Dataset, sendo essas análises compostas pelas perguntas e postulações:\n",
    "\n",
    "- **1.** Qual a quantidade de obras por certificado?\n",
    "\n",
    "- **2.** Contabilizar a quantidade de projetos lançados por década;\n",
    "\n",
    "- **3.** Quais os top 10 gêneros e quantas vezes aparecem nos registros?\n",
    "\n",
    "- **4.** Qual a média de tempo de duração dos filmes por top 10 gêneros?\n",
    "\n",
    "- **5.** Qual a média de ratings dadas aos projetos por top 10 gêneros?\n",
    "\n",
    "- **6.** Quais são os programas mais bem avaliados no geral?\n",
    "\n",
    "- **7.** Existe alguma correlação relevante apontada pelos dados?\n",
    "\n",
    "Todas as questões serão analisadas e respondidas duas vezes, uma para cada DataFrame de minutagem."
   ]
  },
  {
   "attachments": {},
   "cell_type": "markdown",
   "metadata": {},
   "source": [
    "### 1. Qual a quantidade de obras por certificado?"
   ]
  },
  {
   "attachments": {},
   "cell_type": "markdown",
   "metadata": {},
   "source": [
    "#### Resposta 1: df_movies_clean"
   ]
  },
  {
   "cell_type": "code",
   "execution_count": null,
   "metadata": {},
   "outputs": [
    {
     "data": {
      "text/html": [
       "<div>\n",
       "<style scoped>\n",
       "    .dataframe tbody tr th:only-of-type {\n",
       "        vertical-align: middle;\n",
       "    }\n",
       "\n",
       "    .dataframe tbody tr th {\n",
       "        vertical-align: top;\n",
       "    }\n",
       "\n",
       "    .dataframe thead th {\n",
       "        text-align: right;\n",
       "    }\n",
       "</style>\n",
       "<table border=\"1\" class=\"dataframe\">\n",
       "  <thead>\n",
       "    <tr style=\"text-align: right;\">\n",
       "      <th></th>\n",
       "      <th>certificate_type</th>\n",
       "      <th>quantity</th>\n",
       "    </tr>\n",
       "  </thead>\n",
       "  <tbody>\n",
       "    <tr>\n",
       "      <th>0</th>\n",
       "      <td>[Not Informed]</td>\n",
       "      <td>2838</td>\n",
       "    </tr>\n",
       "    <tr>\n",
       "      <th>1</th>\n",
       "      <td>TV-MA</td>\n",
       "      <td>2395</td>\n",
       "    </tr>\n",
       "    <tr>\n",
       "      <th>2</th>\n",
       "      <td>TV-14</td>\n",
       "      <td>1169</td>\n",
       "    </tr>\n",
       "    <tr>\n",
       "      <th>3</th>\n",
       "      <td>TV-PG</td>\n",
       "      <td>534</td>\n",
       "    </tr>\n",
       "    <tr>\n",
       "      <th>4</th>\n",
       "      <td>R</td>\n",
       "      <td>470</td>\n",
       "    </tr>\n",
       "  </tbody>\n",
       "</table>\n",
       "</div>"
      ],
      "text/plain": [
       "  certificate_type  quantity\n",
       "0   [Not Informed]      2838\n",
       "1            TV-MA      2395\n",
       "2            TV-14      1169\n",
       "3            TV-PG       534\n",
       "4                R       470"
      ]
     },
     "execution_count": 170,
     "metadata": {},
     "output_type": "execute_result"
    }
   ],
   "source": [
    "# Coletando cada registro de cada certificado e passando esses valores para um novo DataFrame:\n",
    "df_certs_clean = pd.DataFrame(\n",
    "    df_movies_clean['certificate'].value_counts()\n",
    "    )\n",
    "\n",
    "# Resetando o index dos registros no novo DataFrame e renomeando as colunas novas:\n",
    "df_certs_clean = df_certs_clean.reset_index()\n",
    "df_certs_clean = df_certs_clean.rename(\n",
    "    columns={'index':'certificate_type', 'certificate':'quantity'}\n",
    "    )\n",
    "\n",
    "# Visualizando top 5 resultados:\n",
    "df_certs_clean.head()"
   ]
  },
  {
   "attachments": {},
   "cell_type": "markdown",
   "metadata": {},
   "source": [
    "Assim, temos os top 5 tipos de certificações dadas as obras com minutagem menor a 175, sendo:\n",
    "\n",
    "- 3399 registros o maior valor, onde essas obras não tiveram sua certificação informada no Dataset. Lembrando que isso não significa que essas obras não retiraram certificação ou não foram aplicáveis (como constam obras com certificação 'Not Rated/Unrated'), apenas significa que essa informação não foi inserida, por motivos desconhecidos.\n",
    "\n",
    "Dentre certificações que podemos determinar, a de maior atribuição foi **TV-MA**, seguida de **TV-14** e **TV-PG** respectivamente, o que indica que a maioria das produções presentes no catálogo Netflix cujas minutagens estão abaixo dos 175 minutos são pensadas para audiências maturas."
   ]
  },
  {
   "attachments": {},
   "cell_type": "markdown",
   "metadata": {},
   "source": [
    "Para facilitar a visualização e podermos enxergar toda a dimensão dos dados tabulares, plotaremos um gráfico com base nesses dados:"
   ]
  },
  {
   "cell_type": "code",
   "execution_count": null,
   "metadata": {},
   "outputs": [
    {
     "data": {
      "image/png": "[encoded data removed]",
      "text/plain": [
       "<Figure size 842.4x595.44 with 1 Axes>"
      ]
     },
     "metadata": {},
     "output_type": "display_data"
    }
   ],
   "source": [
    "# Bar Chart\n",
    "\n",
    "# Definindo as variáveis que contém o tipo de certificação e a quantidade respectivamente:\n",
    "certificates = list(df_certs_clean['certificate_type'])\n",
    "quantity = list(df_certs_clean['quantity'])\n",
    "\n",
    "# Plotando\n",
    "fig, ax = plt.subplots()\n",
    "\n",
    "hbars = ax.barh(\n",
    "    certificates, \n",
    "    quantity, \n",
    "    align='center', \n",
    "    edgecolor='black', \n",
    "    color='#0388fc'\n",
    "    )\n",
    "\n",
    "ax.set_yticks(certificates)\n",
    "ax.invert_yaxis()\n",
    "ax.set_xlabel('Quantidade',fontsize=12, fontweight='bold')\n",
    "ax.set_title('Catálogo Netflix: Quantidade de Certificações', fontsize=12, fontweight='bold')\n",
    "\n",
    "ax.bar_label(hbars, fmt='%.f',fontsize=12, color='#000000', padding=1)\n",
    "\n",
    "plt.show()"
   ]
  },
  {
   "attachments": {},
   "cell_type": "markdown",
   "metadata": {},
   "source": [
    "#### Resposta 2: df_long_duration"
   ]
  },
  {
   "cell_type": "code",
   "execution_count": null,
   "metadata": {},
   "outputs": [
    {
     "data": {
      "text/html": [
       "<div>\n",
       "<style scoped>\n",
       "    .dataframe tbody tr th:only-of-type {\n",
       "        vertical-align: middle;\n",
       "    }\n",
       "\n",
       "    .dataframe tbody tr th {\n",
       "        vertical-align: top;\n",
       "    }\n",
       "\n",
       "    .dataframe thead th {\n",
       "        text-align: right;\n",
       "    }\n",
       "</style>\n",
       "<table border=\"1\" class=\"dataframe\">\n",
       "  <thead>\n",
       "    <tr style=\"text-align: right;\">\n",
       "      <th></th>\n",
       "      <th>certificate_type</th>\n",
       "      <th>quantity</th>\n",
       "    </tr>\n",
       "  </thead>\n",
       "  <tbody>\n",
       "    <tr>\n",
       "      <th>0</th>\n",
       "      <td>TV-MA</td>\n",
       "      <td>106</td>\n",
       "    </tr>\n",
       "    <tr>\n",
       "      <th>1</th>\n",
       "      <td>TV-14</td>\n",
       "      <td>27</td>\n",
       "    </tr>\n",
       "    <tr>\n",
       "      <th>2</th>\n",
       "      <td>[Not Informed]</td>\n",
       "      <td>16</td>\n",
       "    </tr>\n",
       "    <tr>\n",
       "      <th>3</th>\n",
       "      <td>PG-13</td>\n",
       "      <td>8</td>\n",
       "    </tr>\n",
       "    <tr>\n",
       "      <th>4</th>\n",
       "      <td>TV-PG</td>\n",
       "      <td>7</td>\n",
       "    </tr>\n",
       "  </tbody>\n",
       "</table>\n",
       "</div>"
      ],
      "text/plain": [
       "  certificate_type  quantity\n",
       "0            TV-MA       106\n",
       "1            TV-14        27\n",
       "2   [Not Informed]        16\n",
       "3            PG-13         8\n",
       "4            TV-PG         7"
      ]
     },
     "execution_count": 172,
     "metadata": {},
     "output_type": "execute_result"
    }
   ],
   "source": [
    "# Coletando cada registro de cada certificado e passando esses valores para um novo DataFrame:\n",
    "df_certs_long = pd.DataFrame(\n",
    "    df_long_duration['certificate'].value_counts()\n",
    "    )\n",
    "\n",
    "# Resetando o index dos registros no novo DataFrame e renomeando as colunas novas:\n",
    "df_certs_long = df_certs_long.reset_index()\n",
    "df_certs_long = df_certs_long.rename(\n",
    "    columns={'index':'certificate_type', 'certificate':'quantity'}\n",
    "    )\n",
    "\n",
    "# Visualizando top 5 resultados:\n",
    "df_certs_long.head()"
   ]
  },
  {
   "attachments": {},
   "cell_type": "markdown",
   "metadata": {},
   "source": [
    "Aqui já notamos uma diferença em relação aos projetos de minutagem mais curta. O maior número de certificações pertencem a **TV-MA** com 106 registros, seguida por **TV-14** e **Not Informed** respectivamente.\n",
    "\n",
    "A quantidade de certificações para audiências maduras (TV-MA) ser cerca de 4X maior do que o segundo registro mais presente (TV-14), demonstra que obras de maior duração tendem a serem destinadas para o público adulto."
   ]
  },
  {
   "attachments": {},
   "cell_type": "markdown",
   "metadata": {},
   "source": [
    "Uma plotagem gráfica novamente será realizada para melhor visualização dos dados:"
   ]
  },
  {
   "cell_type": "code",
   "execution_count": null,
   "metadata": {},
   "outputs": [
    {
     "data": {
      "image/png": "[encoded data removed]",
      "text/plain": [
       "<Figure size 842.4x595.44 with 1 Axes>"
      ]
     },
     "metadata": {},
     "output_type": "display_data"
    }
   ],
   "source": [
    "# Bar Chart\n",
    "\n",
    "# Definindo as variáveis que contém o tipo de certificação e a quantidade respectivamente:\n",
    "certs_long = list(df_certs_long['certificate_type'])\n",
    "qnty_long = list(df_certs_long['quantity'])\n",
    "\n",
    "# Plotando:\n",
    "fig, ax = plt.subplots()\n",
    "\n",
    "hbars = ax.barh(\n",
    "    certs_long, \n",
    "    qnty_long, \n",
    "    align='center', \n",
    "    edgecolor='black', \n",
    "    color='#0388fc'\n",
    "    )\n",
    "\n",
    "ax.set_yticks(certs_long)\n",
    "ax.invert_yaxis()\n",
    "ax.set_xlabel('Quantidade',fontsize=12, fontweight='bold')\n",
    "ax.set_title('Catálogo Netflix: Quantidade de Certificações (Longas)', fontsize=12, fontweight='bold')\n",
    "\n",
    "ax.bar_label(hbars, fmt='%.f',fontsize=12, color='#000000', padding=1)\n",
    "\n",
    "plt.show()"
   ]
  },
  {
   "attachments": {},
   "cell_type": "markdown",
   "metadata": {},
   "source": [
    "### 2. Contabilizar a quantidade de projetos lançados por década"
   ]
  },
  {
   "attachments": {},
   "cell_type": "markdown",
   "metadata": {},
   "source": [
    "#### Resposta 1: df_movies_clean"
   ]
  },
  {
   "cell_type": "code",
   "execution_count": null,
   "metadata": {},
   "outputs": [
    {
     "data": {
      "text/html": [
       "<div>\n",
       "<style scoped>\n",
       "    .dataframe tbody tr th:only-of-type {\n",
       "        vertical-align: middle;\n",
       "    }\n",
       "\n",
       "    .dataframe tbody tr th {\n",
       "        vertical-align: top;\n",
       "    }\n",
       "\n",
       "    .dataframe thead th {\n",
       "        text-align: right;\n",
       "    }\n",
       "</style>\n",
       "<table border=\"1\" class=\"dataframe\">\n",
       "  <thead>\n",
       "    <tr style=\"text-align: right;\">\n",
       "      <th></th>\n",
       "      <th>release_year</th>\n",
       "      <th>quantity</th>\n",
       "    </tr>\n",
       "  </thead>\n",
       "  <tbody>\n",
       "    <tr>\n",
       "      <th>0</th>\n",
       "      <td>2019</td>\n",
       "      <td>1299</td>\n",
       "    </tr>\n",
       "    <tr>\n",
       "      <th>1</th>\n",
       "      <td>2020</td>\n",
       "      <td>1179</td>\n",
       "    </tr>\n",
       "    <tr>\n",
       "      <th>2</th>\n",
       "      <td>2018</td>\n",
       "      <td>1000</td>\n",
       "    </tr>\n",
       "    <tr>\n",
       "      <th>3</th>\n",
       "      <td>2021</td>\n",
       "      <td>863</td>\n",
       "    </tr>\n",
       "    <tr>\n",
       "      <th>4</th>\n",
       "      <td>2017</td>\n",
       "      <td>799</td>\n",
       "    </tr>\n",
       "  </tbody>\n",
       "</table>\n",
       "</div>"
      ],
      "text/plain": [
       "   release_year  quantity\n",
       "0          2019      1299\n",
       "1          2020      1179\n",
       "2          2018      1000\n",
       "3          2021       863\n",
       "4          2017       799"
      ]
     },
     "execution_count": 174,
     "metadata": {},
     "output_type": "execute_result"
    }
   ],
   "source": [
    "# Primeiramente, precisamos pegar todos os registros de cada ano de lançamento\n",
    "# e passar esses valores para um novo DataFrame:\n",
    "df_release_clean = pd.DataFrame(df_movies_clean.loc[\n",
    "    (df_movies_clean['release_year'] != 0), ['release_year']\n",
    "].value_counts())\n",
    "\n",
    "# Resetando os índices do novo DataFrame:\n",
    "df_release_clean = df_release_clean.reset_index()\n",
    "\n",
    "# Renomeando colunas:\n",
    "df_release_clean = df_release_clean.rename(columns={0:'quantity'})\n",
    "\n",
    "# Visualizando resultados:\n",
    "df_release_clean.head()"
   ]
  },
  {
   "attachments": {},
   "cell_type": "markdown",
   "metadata": {},
   "source": [
    "Para podermos ter conhecimento de quantos projetos foram lançados por década, iremos utilizar cortes de dez anos no Dataset, para isso no entanto, primeiro precisamos saber os anos máximo e mínimo presentes nos dados:"
   ]
  },
  {
   "cell_type": "code",
   "execution_count": null,
   "metadata": {},
   "outputs": [
    {
     "name": "stdout",
     "output_type": "stream",
     "text": [
      "Ano máximo: 2022\n",
      "Ano mínimo: 1932\n"
     ]
    }
   ],
   "source": [
    "# Identificando os anos máximo e mínimo presentes:\n",
    "max_year = df_release_clean['release_year'].max()\n",
    "min_year = df_release_clean['release_year'].min()\n",
    "\n",
    "print(f'Ano máximo: {max_year}')\n",
    "print(f'Ano mínimo: {min_year}')"
   ]
  },
  {
   "attachments": {},
   "cell_type": "markdown",
   "metadata": {},
   "source": [
    "Com isso vemos que temos um range de 90 anos de registros. Sendo assim, realizaremos um corte de 9 décadas para podermos visualizar o número de projetos lançados:"
   ]
  },
  {
   "cell_type": "code",
   "execution_count": null,
   "metadata": {},
   "outputs": [],
   "source": [
    "# Fatiando o DataFrame por década:\n",
    "release_decades = pd.cut(df_release_clean['release_year'], bins=9, labels=[\n",
    "    '1932-1942',\n",
    "    '1942-1952', \n",
    "    '1952-1962', \n",
    "    '1962-1972', \n",
    "    '1972-1982', \n",
    "    '1982-1992', \n",
    "    '1992-2002', \n",
    "    '2002-2012', \n",
    "    '2012-2022'\n",
    "])"
   ]
  },
  {
   "cell_type": "code",
   "execution_count": null,
   "metadata": {},
   "outputs": [
    {
     "data": {
      "text/html": [
       "<div>\n",
       "<style scoped>\n",
       "    .dataframe tbody tr th:only-of-type {\n",
       "        vertical-align: middle;\n",
       "    }\n",
       "\n",
       "    .dataframe tbody tr th {\n",
       "        vertical-align: top;\n",
       "    }\n",
       "\n",
       "    .dataframe thead th {\n",
       "        text-align: right;\n",
       "    }\n",
       "</style>\n",
       "<table border=\"1\" class=\"dataframe\">\n",
       "  <thead>\n",
       "    <tr style=\"text-align: right;\">\n",
       "      <th></th>\n",
       "      <th>release_year</th>\n",
       "      <th>quantity</th>\n",
       "      <th>release_decade</th>\n",
       "    </tr>\n",
       "  </thead>\n",
       "  <tbody>\n",
       "    <tr>\n",
       "      <th>58</th>\n",
       "      <td>1962</td>\n",
       "      <td>3</td>\n",
       "      <td>1952-1962</td>\n",
       "    </tr>\n",
       "    <tr>\n",
       "      <th>68</th>\n",
       "      <td>1972</td>\n",
       "      <td>2</td>\n",
       "      <td>1962-1972</td>\n",
       "    </tr>\n",
       "    <tr>\n",
       "      <th>73</th>\n",
       "      <td>1963</td>\n",
       "      <td>1</td>\n",
       "      <td>1962-1972</td>\n",
       "    </tr>\n",
       "    <tr>\n",
       "      <th>70</th>\n",
       "      <td>1958</td>\n",
       "      <td>2</td>\n",
       "      <td>1952-1962</td>\n",
       "    </tr>\n",
       "    <tr>\n",
       "      <th>62</th>\n",
       "      <td>1953</td>\n",
       "      <td>3</td>\n",
       "      <td>1952-1962</td>\n",
       "    </tr>\n",
       "  </tbody>\n",
       "</table>\n",
       "</div>"
      ],
      "text/plain": [
       "    release_year  quantity release_decade\n",
       "58          1962         3      1952-1962\n",
       "68          1972         2      1962-1972\n",
       "73          1963         1      1962-1972\n",
       "70          1958         2      1952-1962\n",
       "62          1953         3      1952-1962"
      ]
     },
     "execution_count": 177,
     "metadata": {},
     "output_type": "execute_result"
    }
   ],
   "source": [
    "# Inserindo esse recorte no DataFrame como uma nova coluna informando a década em que\n",
    "# o projeto foi lançado:\n",
    "df_release_clean['release_decade'] = release_decades\n",
    "\n",
    "# Checando resultados:\n",
    "df_release_clean.sample(5)"
   ]
  },
  {
   "attachments": {},
   "cell_type": "markdown",
   "metadata": {},
   "source": [
    "Agora, basta agrupar os dados pelas décadas e plotar um gráfico demonstrando quantos projetos foram lançados por década:"
   ]
  },
  {
   "cell_type": "code",
   "execution_count": null,
   "metadata": {},
   "outputs": [
    {
     "data": {
      "text/plain": [
       "1932-1942     6\n",
       "1942-1952     7\n",
       "1952-1962    10\n",
       "1962-1972    10\n",
       "1972-1982    10\n",
       "1982-1992    10\n",
       "1992-2002    10\n",
       "2002-2012    10\n",
       "2012-2022    10\n",
       "Name: release_decade, dtype: int64"
      ]
     },
     "execution_count": 178,
     "metadata": {},
     "output_type": "execute_result"
    }
   ],
   "source": [
    "# Agrupando dados por décadas:\n",
    "decades = df_release_clean['release_decade'].value_counts().sort_values()\n",
    "\n",
    "# Visualizando resultados:\n",
    "decades"
   ]
  },
  {
   "cell_type": "code",
   "execution_count": null,
   "metadata": {},
   "outputs": [
    {
     "data": {
      "image/png": "[encoded data removed]",
      "text/plain": [
       "<Figure size 842.4x595.44 with 1 Axes>"
      ]
     },
     "metadata": {},
     "output_type": "display_data"
    }
   ],
   "source": [
    "# Bar Chart\n",
    "\n",
    "# Plotando:\n",
    "fig, ax = plt.subplots()\n",
    "\n",
    "bars = ax.bar(\n",
    "    decades.index, \n",
    "    align='center', \n",
    "    edgecolor='black', \n",
    "    color='#0388fc', \n",
    "    height=decades, \n",
    "    width=.5\n",
    "    )\n",
    "    \n",
    "ax.set_xlabel('Décadas',fontsize=12, fontweight='bold')\n",
    "ax.set_title('Catálogo Netflix: Obras por Décadas', fontsize=12, fontweight='bold')\n",
    "\n",
    "ax.bar_label(bars, fmt='%.f',fontsize=12, color='#000000', padding=1)\n",
    "\n",
    "plt.show()"
   ]
  },
  {
   "attachments": {},
   "cell_type": "markdown",
   "metadata": {},
   "source": [
    "No catálogo da Netflix temos 10 projetos de cada década, menos das entre 1932 a 1952."
   ]
  },
  {
   "attachments": {},
   "cell_type": "markdown",
   "metadata": {},
   "source": [
    "#### Resposta 2: df_long_duration"
   ]
  },
  {
   "attachments": {},
   "cell_type": "markdown",
   "metadata": {},
   "source": [
    "Similarmente ao processo executado na resposta 1, vamos pegar os anos de lançamento de cada projeto, identificar os intervalos de décadas, realizar o corte no DataFrame e plotar os resultados."
   ]
  },
  {
   "cell_type": "code",
   "execution_count": null,
   "metadata": {},
   "outputs": [
    {
     "data": {
      "text/html": [
       "<div>\n",
       "<style scoped>\n",
       "    .dataframe tbody tr th:only-of-type {\n",
       "        vertical-align: middle;\n",
       "    }\n",
       "\n",
       "    .dataframe tbody tr th {\n",
       "        vertical-align: top;\n",
       "    }\n",
       "\n",
       "    .dataframe thead th {\n",
       "        text-align: right;\n",
       "    }\n",
       "</style>\n",
       "<table border=\"1\" class=\"dataframe\">\n",
       "  <thead>\n",
       "    <tr style=\"text-align: right;\">\n",
       "      <th></th>\n",
       "      <th>release_year</th>\n",
       "      <th>quantity</th>\n",
       "    </tr>\n",
       "  </thead>\n",
       "  <tbody>\n",
       "    <tr>\n",
       "      <th>0</th>\n",
       "      <td>2021</td>\n",
       "      <td>33</td>\n",
       "    </tr>\n",
       "    <tr>\n",
       "      <th>1</th>\n",
       "      <td>2020</td>\n",
       "      <td>31</td>\n",
       "    </tr>\n",
       "    <tr>\n",
       "      <th>2</th>\n",
       "      <td>2022</td>\n",
       "      <td>30</td>\n",
       "    </tr>\n",
       "    <tr>\n",
       "      <th>3</th>\n",
       "      <td>2019</td>\n",
       "      <td>18</td>\n",
       "    </tr>\n",
       "    <tr>\n",
       "      <th>4</th>\n",
       "      <td>2018</td>\n",
       "      <td>15</td>\n",
       "    </tr>\n",
       "  </tbody>\n",
       "</table>\n",
       "</div>"
      ],
      "text/plain": [
       "   release_year  quantity\n",
       "0          2021        33\n",
       "1          2020        31\n",
       "2          2022        30\n",
       "3          2019        18\n",
       "4          2018        15"
      ]
     },
     "execution_count": 180,
     "metadata": {},
     "output_type": "execute_result"
    }
   ],
   "source": [
    "# Coletando registros:\n",
    "df_release_long = pd.DataFrame(df_long_duration.loc[\n",
    "    (df_long_duration['release_year'] != 0), ['release_year']\n",
    "    ].value_counts())\n",
    "\n",
    "# Resetando index:\n",
    "df_release_long = df_release_long.reset_index()\n",
    "\n",
    "# Renomeando coluna e vendo resultados:\n",
    "df_release_long = df_release_long.rename(\n",
    "    columns={0:'quantity'}\n",
    "    )\n",
    "df_release_long.head()"
   ]
  },
  {
   "attachments": {},
   "cell_type": "markdown",
   "metadata": {},
   "source": [
    "Agora, vamos para a identificação dos anos máximo e mínimo e para os recortes de décadas:"
   ]
  },
  {
   "cell_type": "code",
   "execution_count": null,
   "metadata": {},
   "outputs": [
    {
     "name": "stdout",
     "output_type": "stream",
     "text": [
      "Ano máximo: 2022\n",
      "Ano mínimo: 1956\n"
     ]
    }
   ],
   "source": [
    "# Identificando os anos máximo e mínimo presentes:\n",
    "max_year = df_release_long['release_year'].max()\n",
    "min_year = df_release_long['release_year'].min()\n",
    "\n",
    "print(f'Ano máximo: {max_year}')\n",
    "print(f'Ano mínimo: {min_year}')"
   ]
  },
  {
   "attachments": {},
   "cell_type": "markdown",
   "metadata": {},
   "source": [
    "São 66 anos de registros, sendo assim, será uma divisão de 6 décadas:"
   ]
  },
  {
   "cell_type": "code",
   "execution_count": null,
   "metadata": {},
   "outputs": [
    {
     "data": {
      "text/html": [
       "<div>\n",
       "<style scoped>\n",
       "    .dataframe tbody tr th:only-of-type {\n",
       "        vertical-align: middle;\n",
       "    }\n",
       "\n",
       "    .dataframe tbody tr th {\n",
       "        vertical-align: top;\n",
       "    }\n",
       "\n",
       "    .dataframe thead th {\n",
       "        text-align: right;\n",
       "    }\n",
       "</style>\n",
       "<table border=\"1\" class=\"dataframe\">\n",
       "  <thead>\n",
       "    <tr style=\"text-align: right;\">\n",
       "      <th></th>\n",
       "      <th>release_year</th>\n",
       "      <th>quantity</th>\n",
       "      <th>release_decade</th>\n",
       "    </tr>\n",
       "  </thead>\n",
       "  <tbody>\n",
       "    <tr>\n",
       "      <th>1</th>\n",
       "      <td>2020</td>\n",
       "      <td>31</td>\n",
       "      <td>2011-2022</td>\n",
       "    </tr>\n",
       "    <tr>\n",
       "      <th>25</th>\n",
       "      <td>2010</td>\n",
       "      <td>1</td>\n",
       "      <td>2000-2011</td>\n",
       "    </tr>\n",
       "    <tr>\n",
       "      <th>12</th>\n",
       "      <td>2015</td>\n",
       "      <td>1</td>\n",
       "      <td>2011-2022</td>\n",
       "    </tr>\n",
       "    <tr>\n",
       "      <th>9</th>\n",
       "      <td>2001</td>\n",
       "      <td>3</td>\n",
       "      <td>2000-2011</td>\n",
       "    </tr>\n",
       "    <tr>\n",
       "      <th>5</th>\n",
       "      <td>2017</td>\n",
       "      <td>10</td>\n",
       "      <td>2011-2022</td>\n",
       "    </tr>\n",
       "  </tbody>\n",
       "</table>\n",
       "</div>"
      ],
      "text/plain": [
       "    release_year  quantity release_decade\n",
       "1           2020        31      2011-2022\n",
       "25          2010         1      2000-2011\n",
       "12          2015         1      2011-2022\n",
       "9           2001         3      2000-2011\n",
       "5           2017        10      2011-2022"
      ]
     },
     "execution_count": 182,
     "metadata": {},
     "output_type": "execute_result"
    }
   ],
   "source": [
    "# Cortando o DataFrame:\n",
    "release_decades_long = pd.cut(df_release_long['release_year'], bins=6, labels=[\n",
    "    '1956-1967',\n",
    "    '1967-1978',\n",
    "    '1978-1989', \n",
    "    '1989-2000', \n",
    "    '2000-2011', \n",
    "    '2011-2022'])\n",
    "\n",
    "# Inserindo os cortes no DataFrame:\n",
    "df_release_long['release_decade'] = release_decades_long\n",
    "\n",
    "# Visualizando resultados:\n",
    "df_release_long.sample(5)"
   ]
  },
  {
   "cell_type": "code",
   "execution_count": null,
   "metadata": {},
   "outputs": [
    {
     "data": {
      "text/plain": [
       "1978-1989     0\n",
       "1967-1978     1\n",
       "1956-1967     3\n",
       "1989-2000     5\n",
       "2000-2011     6\n",
       "2011-2022    11\n",
       "Name: release_decade, dtype: int64"
      ]
     },
     "execution_count": 183,
     "metadata": {},
     "output_type": "execute_result"
    }
   ],
   "source": [
    "# Agrupando por década de lançamento:\n",
    "long_decades = df_release_long['release_decade'].value_counts().sort_values()\n",
    "\n",
    "# Checando resultados:\n",
    "long_decades"
   ]
  },
  {
   "cell_type": "code",
   "execution_count": null,
   "metadata": {},
   "outputs": [
    {
     "data": {
      "image/png": "[encoded data removed]",
      "text/plain": [
       "<Figure size 842.4x595.44 with 1 Axes>"
      ]
     },
     "metadata": {},
     "output_type": "display_data"
    }
   ],
   "source": [
    "# Bar Chart\n",
    "\n",
    "# Plotando:\n",
    "fig, ax = plt.subplots()\n",
    "\n",
    "bars = ax.bar(\n",
    "    long_decades.index, \n",
    "    align='center', \n",
    "    edgecolor='black', \n",
    "    color='#0388fc', \n",
    "    height=long_decades, \n",
    "    width=.5\n",
    "    )\n",
    "\n",
    "ax.set_xlabel('Décadas',fontsize=12, fontweight='bold')\n",
    "ax.set_title('Catálogo Netflix: Obras por Décadas (Longas)', fontsize=12, fontweight='bold')\n",
    "\n",
    "ax.bar_label(bars, fmt='%.f',fontsize=12, color='#000000', padding=1)\n",
    "\n",
    "plt.show()"
   ]
  },
  {
   "attachments": {},
   "cell_type": "markdown",
   "metadata": {},
   "source": [
    "Podemos notar um crescimento no número de produções disponíveis no catálogo Netflix quanto mais recente a década, sendo a década de 2011 até 2022 a que possuí mais obras disponíveis."
   ]
  },
  {
   "attachments": {},
   "cell_type": "markdown",
   "metadata": {},
   "source": [
    "### 3. Quais os top 10 gêneros e quantas vezes aparecem nos registros?"
   ]
  },
  {
   "attachments": {},
   "cell_type": "markdown",
   "metadata": {},
   "source": [
    "#### Resposta 1: df_movies_clean"
   ]
  },
  {
   "cell_type": "code",
   "execution_count": null,
   "metadata": {},
   "outputs": [
    {
     "data": {
      "text/html": [
       "<div>\n",
       "<style scoped>\n",
       "    .dataframe tbody tr th:only-of-type {\n",
       "        vertical-align: middle;\n",
       "    }\n",
       "\n",
       "    .dataframe tbody tr th {\n",
       "        vertical-align: top;\n",
       "    }\n",
       "\n",
       "    .dataframe thead th {\n",
       "        text-align: right;\n",
       "    }\n",
       "</style>\n",
       "<table border=\"1\" class=\"dataframe\">\n",
       "  <thead>\n",
       "    <tr style=\"text-align: right;\">\n",
       "      <th></th>\n",
       "      <th>genre</th>\n",
       "      <th>quantity</th>\n",
       "    </tr>\n",
       "  </thead>\n",
       "  <tbody>\n",
       "    <tr>\n",
       "      <th>0</th>\n",
       "      <td>Comedy</td>\n",
       "      <td>803</td>\n",
       "    </tr>\n",
       "    <tr>\n",
       "      <th>1</th>\n",
       "      <td>Animation, Action, Adventure</td>\n",
       "      <td>523</td>\n",
       "    </tr>\n",
       "    <tr>\n",
       "      <th>2</th>\n",
       "      <td>Drama</td>\n",
       "      <td>506</td>\n",
       "    </tr>\n",
       "    <tr>\n",
       "      <th>3</th>\n",
       "      <td>Documentary</td>\n",
       "      <td>485</td>\n",
       "    </tr>\n",
       "    <tr>\n",
       "      <th>4</th>\n",
       "      <td>Comedy, Drama</td>\n",
       "      <td>277</td>\n",
       "    </tr>\n",
       "    <tr>\n",
       "      <th>5</th>\n",
       "      <td>Crime, Drama, Mystery</td>\n",
       "      <td>234</td>\n",
       "    </tr>\n",
       "    <tr>\n",
       "      <th>6</th>\n",
       "      <td>Drama, Romance</td>\n",
       "      <td>234</td>\n",
       "    </tr>\n",
       "    <tr>\n",
       "      <th>7</th>\n",
       "      <td>Comedy, Drama, Romance</td>\n",
       "      <td>204</td>\n",
       "    </tr>\n",
       "    <tr>\n",
       "      <th>8</th>\n",
       "      <td>Reality-TV</td>\n",
       "      <td>187</td>\n",
       "    </tr>\n",
       "    <tr>\n",
       "      <th>9</th>\n",
       "      <td>Action, Crime, Drama</td>\n",
       "      <td>166</td>\n",
       "    </tr>\n",
       "  </tbody>\n",
       "</table>\n",
       "</div>"
      ],
      "text/plain": [
       "                          genre  quantity\n",
       "0                        Comedy       803\n",
       "1  Animation, Action, Adventure       523\n",
       "2                         Drama       506\n",
       "3                   Documentary       485\n",
       "4                 Comedy, Drama       277\n",
       "5         Crime, Drama, Mystery       234\n",
       "6                Drama, Romance       234\n",
       "7        Comedy, Drama, Romance       204\n",
       "8                    Reality-TV       187\n",
       "9          Action, Crime, Drama       166"
      ]
     },
     "execution_count": 185,
     "metadata": {},
     "output_type": "execute_result"
    }
   ],
   "source": [
    "# Primeiramente, pegaremos os registros dos gêneros das top 10 obras e criar um novo DataFrame:\n",
    "df_genre_clean = pd.DataFrame(\n",
    "    df_movies_clean['genre'].value_counts().head(10)\n",
    "    )\n",
    "\n",
    "# Resetamos o index:\n",
    "df_genre_clean = df_genre_clean.reset_index()\n",
    "\n",
    "# Renomeando colunas:\n",
    "df_genre_clean = df_genre_clean.rename(\n",
    "    columns={'index':'genre', 'genre':'quantity'}\n",
    "    )\n",
    "\n",
    "# Checando resultados:\n",
    "df_genre_clean"
   ]
  },
  {
   "attachments": {},
   "cell_type": "markdown",
   "metadata": {},
   "source": [
    "O gênero mais presente no catálogo Netflix é Comédia, seguido por Animações de Ação e Aventura.\n",
    "\n",
    "Comédia aparece com uma expressão grande em relação aos outros títulos, tendo mais de 200 projetos de diferença com o segundo maior gênero.\n",
    "\n",
    "Isso pode ser identificado como resultado das ações da Netflix que adiquiriram muitos direitos autorais de Comedy Specials de diversos comediantes, tantos brasileiros quanto estrangeiros e os colocou em sua plataforma como exclusivos."
   ]
  },
  {
   "attachments": {},
   "cell_type": "markdown",
   "metadata": {},
   "source": [
    "Para melhor visualização, vamos plotar um gráfico:"
   ]
  },
  {
   "cell_type": "code",
   "execution_count": null,
   "metadata": {},
   "outputs": [
    {
     "data": {
      "image/png": "[encoded data removed]",
      "text/plain": [
       "<Figure size 842.4x595.44 with 1 Axes>"
      ]
     },
     "metadata": {},
     "output_type": "display_data"
    }
   ],
   "source": [
    "# Bar Chart\n",
    "\n",
    "# Plotando:\n",
    "genres = list(df_genre_clean['genre'])\n",
    "values = list(df_genre_clean['quantity'])\n",
    "\n",
    "fig, ax = plt.subplots()\n",
    "\n",
    "hbars = ax.barh(\n",
    "    genres, \n",
    "    values, \n",
    "    align='center', \n",
    "    edgecolor='black', \n",
    "    color='#0388fc'\n",
    "    )\n",
    "    \n",
    "ax.set_yticks(genres)\n",
    "ax.invert_yaxis()\n",
    "ax.set_xlabel('Quantidade', fontsize=12, fontweight='bold')\n",
    "ax.set_title('Catálogo Netflix: Quantidade de Projetos por Gênero (Top 10)', fontsize=12, fontweight='bold')\n",
    "ax.bar_label(hbars, fmt='%.f',fontsize=12, color='#000000', padding=1)\n",
    "\n",
    "plt.show()"
   ]
  },
  {
   "attachments": {},
   "cell_type": "markdown",
   "metadata": {},
   "source": [
    "#### Resposta 2: df_long_duration"
   ]
  },
  {
   "cell_type": "code",
   "execution_count": null,
   "metadata": {},
   "outputs": [
    {
     "data": {
      "text/html": [
       "<div>\n",
       "<style scoped>\n",
       "    .dataframe tbody tr th:only-of-type {\n",
       "        vertical-align: middle;\n",
       "    }\n",
       "\n",
       "    .dataframe tbody tr th {\n",
       "        vertical-align: top;\n",
       "    }\n",
       "\n",
       "    .dataframe thead th {\n",
       "        text-align: right;\n",
       "    }\n",
       "</style>\n",
       "<table border=\"1\" class=\"dataframe\">\n",
       "  <thead>\n",
       "    <tr style=\"text-align: right;\">\n",
       "      <th></th>\n",
       "      <th>genre</th>\n",
       "      <th>quantity</th>\n",
       "    </tr>\n",
       "  </thead>\n",
       "  <tbody>\n",
       "    <tr>\n",
       "      <th>0</th>\n",
       "      <td>Documentary, Crime</td>\n",
       "      <td>23</td>\n",
       "    </tr>\n",
       "    <tr>\n",
       "      <th>1</th>\n",
       "      <td>Documentary</td>\n",
       "      <td>12</td>\n",
       "    </tr>\n",
       "    <tr>\n",
       "      <th>2</th>\n",
       "      <td>Crime, Drama, Mystery</td>\n",
       "      <td>11</td>\n",
       "    </tr>\n",
       "    <tr>\n",
       "      <th>3</th>\n",
       "      <td>Action, Adventure, Drama</td>\n",
       "      <td>6</td>\n",
       "    </tr>\n",
       "    <tr>\n",
       "      <th>4</th>\n",
       "      <td>Crime, Drama</td>\n",
       "      <td>6</td>\n",
       "    </tr>\n",
       "    <tr>\n",
       "      <th>5</th>\n",
       "      <td>Biography, Crime, Drama</td>\n",
       "      <td>6</td>\n",
       "    </tr>\n",
       "    <tr>\n",
       "      <th>6</th>\n",
       "      <td>Drama, Horror, Mystery</td>\n",
       "      <td>5</td>\n",
       "    </tr>\n",
       "    <tr>\n",
       "      <th>7</th>\n",
       "      <td>Drama</td>\n",
       "      <td>5</td>\n",
       "    </tr>\n",
       "    <tr>\n",
       "      <th>8</th>\n",
       "      <td>Drama, Mystery, Thriller</td>\n",
       "      <td>5</td>\n",
       "    </tr>\n",
       "    <tr>\n",
       "      <th>9</th>\n",
       "      <td>Documentary, Crime, Mystery</td>\n",
       "      <td>5</td>\n",
       "    </tr>\n",
       "  </tbody>\n",
       "</table>\n",
       "</div>"
      ],
      "text/plain": [
       "                         genre  quantity\n",
       "0           Documentary, Crime        23\n",
       "1                  Documentary        12\n",
       "2        Crime, Drama, Mystery        11\n",
       "3     Action, Adventure, Drama         6\n",
       "4                 Crime, Drama         6\n",
       "5      Biography, Crime, Drama         6\n",
       "6       Drama, Horror, Mystery         5\n",
       "7                        Drama         5\n",
       "8     Drama, Mystery, Thriller         5\n",
       "9  Documentary, Crime, Mystery         5"
      ]
     },
     "execution_count": 187,
     "metadata": {},
     "output_type": "execute_result"
    }
   ],
   "source": [
    "# Primeiramente, pegaremos os registros dos gêneros das top 10 obras e criar um novo DataFrame:\n",
    "df_genre_long = pd.DataFrame(\n",
    "    df_long_duration['genre'].value_counts().head(10)\n",
    "    )\n",
    "\n",
    "# Resetamos o index:\n",
    "df_genre_long = df_genre_long.reset_index()\n",
    "\n",
    "# Renomeando colunas:\n",
    "df_genre_long = df_genre_long.rename(\n",
    "    columns={'index':'genre', 'genre':'quantity'}\n",
    "    )\n",
    "\n",
    "# Checando resultados:\n",
    "df_genre_long"
   ]
  },
  {
   "attachments": {},
   "cell_type": "markdown",
   "metadata": {},
   "source": [
    "Documentários sobre Crimes são o tipo de gênero mais comum entre os longas, isso pode ser sintoma da crescente aparente em conteúdos True Crime na cultura popular, tendo séries como Jeffrey Dahmer como exemplo mais recente de um sucesso 'complicado' desse tipo de conteúdo.\n",
    "\n",
    "Outro ponto interessante, são os tipos dos gêneros dos longas, tendo uma aparente têndencia a serem mais pesados/maduros em seus temas. Tópicos como Crime, Drama e Mystery são muito recorrentes nos dados, apenas reforçando a ideia de que obras de longa duração são destinadas primordialmente para públicos adultos."
   ]
  },
  {
   "cell_type": "code",
   "execution_count": null,
   "metadata": {},
   "outputs": [
    {
     "data": {
      "image/png": "[encoded data removed]",
      "text/plain": [
       "<Figure size 842.4x595.44 with 1 Axes>"
      ]
     },
     "metadata": {},
     "output_type": "display_data"
    }
   ],
   "source": [
    "# Bar Chart\n",
    "\n",
    "# Plotando:\n",
    "genres_long = list(df_genre_long['genre'])\n",
    "values_long = list(df_genre_long['quantity'])\n",
    "\n",
    "fig, ax = plt.subplots()\n",
    "\n",
    "hbars = ax.barh(\n",
    "    genres_long, \n",
    "    values_long, \n",
    "    align='center', \n",
    "    edgecolor='black', \n",
    "    color='#0388fc'\n",
    "    )\n",
    "    \n",
    "ax.set_yticks(genres_long)\n",
    "ax.invert_yaxis()\n",
    "ax.set_xlabel('Quantidade', fontsize=12, fontweight='bold')\n",
    "ax.set_title('Catálogo Netflix: Quantidade de Projetos por Gênero (Top 10/Longas)', fontsize=12, fontweight='bold')\n",
    "ax.bar_label(hbars, fmt='%.f',fontsize=12, color='#000000', padding=1)\n",
    "\n",
    "plt.show()"
   ]
  },
  {
   "attachments": {},
   "cell_type": "markdown",
   "metadata": {},
   "source": [
    "### 4. Qual a média de tempo de duração dos projetos por top 10 gêneros?"
   ]
  },
  {
   "attachments": {},
   "cell_type": "markdown",
   "metadata": {},
   "source": [
    "Para podermos analisar a média de tempo de duração dos projetos por top 10 gêneros, primeiro precisamos definir esses top 10 gêneros em uma variável:"
   ]
  },
  {
   "attachments": {},
   "cell_type": "markdown",
   "metadata": {},
   "source": [
    "#### Resposta 1: df_movies_clean"
   ]
  },
  {
   "cell_type": "code",
   "execution_count": null,
   "metadata": {},
   "outputs": [
    {
     "data": {
      "text/plain": [
       "Comedy                          803\n",
       "Animation, Action, Adventure    523\n",
       "Drama                           506\n",
       "Documentary                     485\n",
       "Comedy, Drama                   277\n",
       "Crime, Drama, Mystery           234\n",
       "Drama, Romance                  234\n",
       "Comedy, Drama, Romance          204\n",
       "Reality-TV                      187\n",
       "Action, Crime, Drama            166\n",
       "Name: genre, dtype: int64"
      ]
     },
     "execution_count": 189,
     "metadata": {},
     "output_type": "execute_result"
    }
   ],
   "source": [
    "# Definindo top 10 gêneros para uma variável:\n",
    "top_genres = df_movies_clean['genre'].value_counts().head(10)\n",
    "\n",
    "# Visualizando:\n",
    "top_genres"
   ]
  },
  {
   "attachments": {},
   "cell_type": "markdown",
   "metadata": {},
   "source": [
    "Para que a manipulação seja mais fácil, essa variável será trasformada em uma lista:"
   ]
  },
  {
   "cell_type": "code",
   "execution_count": null,
   "metadata": {},
   "outputs": [
    {
     "data": {
      "text/plain": [
       "['Comedy',\n",
       " 'Animation, Action, Adventure',\n",
       " 'Drama',\n",
       " 'Documentary',\n",
       " 'Comedy, Drama',\n",
       " 'Crime, Drama, Mystery',\n",
       " 'Drama, Romance',\n",
       " 'Comedy, Drama, Romance',\n",
       " 'Reality-TV',\n",
       " 'Action, Crime, Drama']"
      ]
     },
     "execution_count": 190,
     "metadata": {},
     "output_type": "execute_result"
    }
   ],
   "source": [
    "# Passando dados para uma lista:\n",
    "genres_list = list(top_genres.index)\n",
    "\n",
    "# Visualizando:\n",
    "genres_list"
   ]
  },
  {
   "attachments": {},
   "cell_type": "markdown",
   "metadata": {},
   "source": [
    "Agora que já temos os top 10 gêneros, precisamos coletar as minutagens desses gêneros específicos:"
   ]
  },
  {
   "cell_type": "code",
   "execution_count": null,
   "metadata": {},
   "outputs": [
    {
     "data": {
      "text/html": [
       "<div>\n",
       "<style scoped>\n",
       "    .dataframe tbody tr th:only-of-type {\n",
       "        vertical-align: middle;\n",
       "    }\n",
       "\n",
       "    .dataframe tbody tr th {\n",
       "        vertical-align: top;\n",
       "    }\n",
       "\n",
       "    .dataframe thead th {\n",
       "        text-align: right;\n",
       "    }\n",
       "</style>\n",
       "<table border=\"1\" class=\"dataframe\">\n",
       "  <thead>\n",
       "    <tr style=\"text-align: right;\">\n",
       "      <th></th>\n",
       "      <th>genre</th>\n",
       "      <th>duration_min</th>\n",
       "    </tr>\n",
       "  </thead>\n",
       "  <tbody>\n",
       "    <tr>\n",
       "      <th>4</th>\n",
       "      <td>Animation, Action, Adventure</td>\n",
       "      <td>24</td>\n",
       "    </tr>\n",
       "    <tr>\n",
       "      <th>11</th>\n",
       "      <td>Action, Crime, Drama</td>\n",
       "      <td>89</td>\n",
       "    </tr>\n",
       "    <tr>\n",
       "      <th>13</th>\n",
       "      <td>Crime, Drama, Mystery</td>\n",
       "      <td>139</td>\n",
       "    </tr>\n",
       "    <tr>\n",
       "      <th>14</th>\n",
       "      <td>Comedy</td>\n",
       "      <td>118</td>\n",
       "    </tr>\n",
       "    <tr>\n",
       "      <th>21</th>\n",
       "      <td>Drama, Romance</td>\n",
       "      <td>41</td>\n",
       "    </tr>\n",
       "    <tr>\n",
       "      <th>...</th>\n",
       "      <td>...</td>\n",
       "      <td>...</td>\n",
       "    </tr>\n",
       "    <tr>\n",
       "      <th>9937</th>\n",
       "      <td>Action, Crime, Drama</td>\n",
       "      <td>60</td>\n",
       "    </tr>\n",
       "    <tr>\n",
       "      <th>9939</th>\n",
       "      <td>Comedy, Drama, Romance</td>\n",
       "      <td>22</td>\n",
       "    </tr>\n",
       "    <tr>\n",
       "      <th>9941</th>\n",
       "      <td>Comedy</td>\n",
       "      <td>118</td>\n",
       "    </tr>\n",
       "    <tr>\n",
       "      <th>9944</th>\n",
       "      <td>Crime, Drama, Mystery</td>\n",
       "      <td>139</td>\n",
       "    </tr>\n",
       "    <tr>\n",
       "      <th>9949</th>\n",
       "      <td>Crime, Drama, Mystery</td>\n",
       "      <td>43</td>\n",
       "    </tr>\n",
       "  </tbody>\n",
       "</table>\n",
       "<p>3619 rows × 2 columns</p>\n",
       "</div>"
      ],
      "text/plain": [
       "                             genre  duration_min\n",
       "4     Animation, Action, Adventure            24\n",
       "11            Action, Crime, Drama            89\n",
       "13           Crime, Drama, Mystery           139\n",
       "14                          Comedy           118\n",
       "21                  Drama, Romance            41\n",
       "...                            ...           ...\n",
       "9937          Action, Crime, Drama            60\n",
       "9939        Comedy, Drama, Romance            22\n",
       "9941                        Comedy           118\n",
       "9944         Crime, Drama, Mystery           139\n",
       "9949         Crime, Drama, Mystery            43\n",
       "\n",
       "[3619 rows x 2 columns]"
      ]
     },
     "execution_count": 191,
     "metadata": {},
     "output_type": "execute_result"
    }
   ],
   "source": [
    "# Coletando registros de minutagem dos materiais que estão no top 10 gêneros\n",
    "genres_duration = df_movies_clean.loc[\n",
    "    (df_movies_clean['genre'].isin(genres_list)),\n",
    "    ['genre', 'duration_min']\n",
    "]\n",
    "\n",
    "# Visualizando novos dados:\n",
    "genres_duration"
   ]
  },
  {
   "attachments": {},
   "cell_type": "markdown",
   "metadata": {},
   "source": [
    "Agora que possuímos os dados que precisamos para responder a pergunta vamos arrumar o Dataset, começando pro agrupá-lo pela minutagem média:"
   ]
  },
  {
   "cell_type": "code",
   "execution_count": null,
   "metadata": {},
   "outputs": [
    {
     "data": {
      "text/html": [
       "<div>\n",
       "<style scoped>\n",
       "    .dataframe tbody tr th:only-of-type {\n",
       "        vertical-align: middle;\n",
       "    }\n",
       "\n",
       "    .dataframe tbody tr th {\n",
       "        vertical-align: top;\n",
       "    }\n",
       "\n",
       "    .dataframe thead th {\n",
       "        text-align: right;\n",
       "    }\n",
       "</style>\n",
       "<table border=\"1\" class=\"dataframe\">\n",
       "  <thead>\n",
       "    <tr style=\"text-align: right;\">\n",
       "      <th></th>\n",
       "      <th>duration_min</th>\n",
       "    </tr>\n",
       "    <tr>\n",
       "      <th>genre</th>\n",
       "      <th></th>\n",
       "    </tr>\n",
       "  </thead>\n",
       "  <tbody>\n",
       "    <tr>\n",
       "      <th>Action, Crime, Drama</th>\n",
       "      <td>79.391566</td>\n",
       "    </tr>\n",
       "    <tr>\n",
       "      <th>Animation, Action, Adventure</th>\n",
       "      <td>27.189293</td>\n",
       "    </tr>\n",
       "    <tr>\n",
       "      <th>Comedy</th>\n",
       "      <td>58.215442</td>\n",
       "    </tr>\n",
       "    <tr>\n",
       "      <th>Comedy, Drama</th>\n",
       "      <td>63.086643</td>\n",
       "    </tr>\n",
       "    <tr>\n",
       "      <th>Comedy, Drama, Romance</th>\n",
       "      <td>63.039216</td>\n",
       "    </tr>\n",
       "    <tr>\n",
       "      <th>Crime, Drama, Mystery</th>\n",
       "      <td>55.354701</td>\n",
       "    </tr>\n",
       "    <tr>\n",
       "      <th>Documentary</th>\n",
       "      <td>57.340206</td>\n",
       "    </tr>\n",
       "    <tr>\n",
       "      <th>Drama</th>\n",
       "      <td>66.266798</td>\n",
       "    </tr>\n",
       "    <tr>\n",
       "      <th>Drama, Romance</th>\n",
       "      <td>70.008547</td>\n",
       "    </tr>\n",
       "    <tr>\n",
       "      <th>Reality-TV</th>\n",
       "      <td>20.358289</td>\n",
       "    </tr>\n",
       "  </tbody>\n",
       "</table>\n",
       "</div>"
      ],
      "text/plain": [
       "                              duration_min\n",
       "genre                                     \n",
       "Action, Crime, Drama             79.391566\n",
       "Animation, Action, Adventure     27.189293\n",
       "Comedy                           58.215442\n",
       "Comedy, Drama                    63.086643\n",
       "Comedy, Drama, Romance           63.039216\n",
       "Crime, Drama, Mystery            55.354701\n",
       "Documentary                      57.340206\n",
       "Drama                            66.266798\n",
       "Drama, Romance                   70.008547\n",
       "Reality-TV                       20.358289"
      ]
     },
     "execution_count": 192,
     "metadata": {},
     "output_type": "execute_result"
    }
   ],
   "source": [
    "# Agrupando Dataset pelos gêneros e suas médias de tempo:\n",
    "genres_duration = genres_duration.groupby('genre').mean()\n",
    "\n",
    "# Visualizando:\n",
    "genres_duration"
   ]
  },
  {
   "cell_type": "code",
   "execution_count": null,
   "metadata": {},
   "outputs": [
    {
     "data": {
      "text/html": [
       "<div>\n",
       "<style scoped>\n",
       "    .dataframe tbody tr th:only-of-type {\n",
       "        vertical-align: middle;\n",
       "    }\n",
       "\n",
       "    .dataframe tbody tr th {\n",
       "        vertical-align: top;\n",
       "    }\n",
       "\n",
       "    .dataframe thead th {\n",
       "        text-align: right;\n",
       "    }\n",
       "</style>\n",
       "<table border=\"1\" class=\"dataframe\">\n",
       "  <thead>\n",
       "    <tr style=\"text-align: right;\">\n",
       "      <th></th>\n",
       "      <th>level_0</th>\n",
       "      <th>genre</th>\n",
       "      <th>0</th>\n",
       "    </tr>\n",
       "  </thead>\n",
       "  <tbody>\n",
       "    <tr>\n",
       "      <th>0</th>\n",
       "      <td>duration_min</td>\n",
       "      <td>Action, Crime, Drama</td>\n",
       "      <td>79.391566</td>\n",
       "    </tr>\n",
       "    <tr>\n",
       "      <th>1</th>\n",
       "      <td>duration_min</td>\n",
       "      <td>Animation, Action, Adventure</td>\n",
       "      <td>27.189293</td>\n",
       "    </tr>\n",
       "    <tr>\n",
       "      <th>2</th>\n",
       "      <td>duration_min</td>\n",
       "      <td>Comedy</td>\n",
       "      <td>58.215442</td>\n",
       "    </tr>\n",
       "    <tr>\n",
       "      <th>3</th>\n",
       "      <td>duration_min</td>\n",
       "      <td>Comedy, Drama</td>\n",
       "      <td>63.086643</td>\n",
       "    </tr>\n",
       "    <tr>\n",
       "      <th>4</th>\n",
       "      <td>duration_min</td>\n",
       "      <td>Comedy, Drama, Romance</td>\n",
       "      <td>63.039216</td>\n",
       "    </tr>\n",
       "    <tr>\n",
       "      <th>5</th>\n",
       "      <td>duration_min</td>\n",
       "      <td>Crime, Drama, Mystery</td>\n",
       "      <td>55.354701</td>\n",
       "    </tr>\n",
       "    <tr>\n",
       "      <th>6</th>\n",
       "      <td>duration_min</td>\n",
       "      <td>Documentary</td>\n",
       "      <td>57.340206</td>\n",
       "    </tr>\n",
       "    <tr>\n",
       "      <th>7</th>\n",
       "      <td>duration_min</td>\n",
       "      <td>Drama</td>\n",
       "      <td>66.266798</td>\n",
       "    </tr>\n",
       "    <tr>\n",
       "      <th>8</th>\n",
       "      <td>duration_min</td>\n",
       "      <td>Drama, Romance</td>\n",
       "      <td>70.008547</td>\n",
       "    </tr>\n",
       "    <tr>\n",
       "      <th>9</th>\n",
       "      <td>duration_min</td>\n",
       "      <td>Reality-TV</td>\n",
       "      <td>20.358289</td>\n",
       "    </tr>\n",
       "  </tbody>\n",
       "</table>\n",
       "</div>"
      ],
      "text/plain": [
       "        level_0                         genre          0\n",
       "0  duration_min          Action, Crime, Drama  79.391566\n",
       "1  duration_min  Animation, Action, Adventure  27.189293\n",
       "2  duration_min                        Comedy  58.215442\n",
       "3  duration_min                 Comedy, Drama  63.086643\n",
       "4  duration_min        Comedy, Drama, Romance  63.039216\n",
       "5  duration_min         Crime, Drama, Mystery  55.354701\n",
       "6  duration_min                   Documentary  57.340206\n",
       "7  duration_min                         Drama  66.266798\n",
       "8  duration_min                Drama, Romance  70.008547\n",
       "9  duration_min                    Reality-TV  20.358289"
      ]
     },
     "execution_count": 193,
     "metadata": {},
     "output_type": "execute_result"
    }
   ],
   "source": [
    "# Dando unstack e resetando index no novo Dataset:\n",
    "genres_duration = genres_duration.unstack().reset_index()\n",
    "\n",
    "# Visualizando:\n",
    "genres_duration"
   ]
  },
  {
   "cell_type": "code",
   "execution_count": null,
   "metadata": {},
   "outputs": [
    {
     "data": {
      "text/html": [
       "<div>\n",
       "<style scoped>\n",
       "    .dataframe tbody tr th:only-of-type {\n",
       "        vertical-align: middle;\n",
       "    }\n",
       "\n",
       "    .dataframe tbody tr th {\n",
       "        vertical-align: top;\n",
       "    }\n",
       "\n",
       "    .dataframe thead th {\n",
       "        text-align: right;\n",
       "    }\n",
       "</style>\n",
       "<table border=\"1\" class=\"dataframe\">\n",
       "  <thead>\n",
       "    <tr style=\"text-align: right;\">\n",
       "      <th></th>\n",
       "      <th>genre</th>\n",
       "      <th>duration_mean</th>\n",
       "    </tr>\n",
       "  </thead>\n",
       "  <tbody>\n",
       "    <tr>\n",
       "      <th>0</th>\n",
       "      <td>Action, Crime, Drama</td>\n",
       "      <td>79.391566</td>\n",
       "    </tr>\n",
       "    <tr>\n",
       "      <th>1</th>\n",
       "      <td>Animation, Action, Adventure</td>\n",
       "      <td>27.189293</td>\n",
       "    </tr>\n",
       "    <tr>\n",
       "      <th>2</th>\n",
       "      <td>Comedy</td>\n",
       "      <td>58.215442</td>\n",
       "    </tr>\n",
       "    <tr>\n",
       "      <th>3</th>\n",
       "      <td>Comedy, Drama</td>\n",
       "      <td>63.086643</td>\n",
       "    </tr>\n",
       "    <tr>\n",
       "      <th>4</th>\n",
       "      <td>Comedy, Drama, Romance</td>\n",
       "      <td>63.039216</td>\n",
       "    </tr>\n",
       "    <tr>\n",
       "      <th>5</th>\n",
       "      <td>Crime, Drama, Mystery</td>\n",
       "      <td>55.354701</td>\n",
       "    </tr>\n",
       "    <tr>\n",
       "      <th>6</th>\n",
       "      <td>Documentary</td>\n",
       "      <td>57.340206</td>\n",
       "    </tr>\n",
       "    <tr>\n",
       "      <th>7</th>\n",
       "      <td>Drama</td>\n",
       "      <td>66.266798</td>\n",
       "    </tr>\n",
       "    <tr>\n",
       "      <th>8</th>\n",
       "      <td>Drama, Romance</td>\n",
       "      <td>70.008547</td>\n",
       "    </tr>\n",
       "    <tr>\n",
       "      <th>9</th>\n",
       "      <td>Reality-TV</td>\n",
       "      <td>20.358289</td>\n",
       "    </tr>\n",
       "  </tbody>\n",
       "</table>\n",
       "</div>"
      ],
      "text/plain": [
       "                          genre  duration_mean\n",
       "0          Action, Crime, Drama      79.391566\n",
       "1  Animation, Action, Adventure      27.189293\n",
       "2                        Comedy      58.215442\n",
       "3                 Comedy, Drama      63.086643\n",
       "4        Comedy, Drama, Romance      63.039216\n",
       "5         Crime, Drama, Mystery      55.354701\n",
       "6                   Documentary      57.340206\n",
       "7                         Drama      66.266798\n",
       "8                Drama, Romance      70.008547\n",
       "9                    Reality-TV      20.358289"
      ]
     },
     "execution_count": 194,
     "metadata": {},
     "output_type": "execute_result"
    }
   ],
   "source": [
    "# Reorganizando colunas novas:\n",
    "genres_duration = genres_duration.drop(\n",
    "    'level_0', axis=1\n",
    "    )\n",
    "genres_duration = genres_duration.rename(\n",
    "    columns={0:'duration_mean'}\n",
    "    )\n",
    "\n",
    "# Visualizando Dataset finalizado:\n",
    "genres_duration"
   ]
  },
  {
   "attachments": {},
   "cell_type": "markdown",
   "metadata": {},
   "source": [
    "Para uma visualização ideal, vamos plotar um gráfico com os dados:"
   ]
  },
  {
   "cell_type": "code",
   "execution_count": null,
   "metadata": {},
   "outputs": [
    {
     "data": {
      "image/png": "[encoded data removed]",
      "text/plain": [
       "<Figure size 842.4x595.44 with 1 Axes>"
      ]
     },
     "metadata": {},
     "output_type": "display_data"
    }
   ],
   "source": [
    "# Bar Chart\n",
    "\n",
    "# Pegando os dados e transformando-os em listas:\n",
    "genres = list(genres_duration['genre'])\n",
    "duration_time = list(genres_duration['duration_mean'].sort_values(ascending=False))\n",
    "\n",
    "# Plotando:\n",
    "fig, ax = plt.subplots()\n",
    "\n",
    "hbars = ax.barh(\n",
    "    genres, \n",
    "    duration_time, \n",
    "    align='center', \n",
    "    edgecolor='black', \n",
    "    color='#0388fc'\n",
    "    )\n",
    "    \n",
    "ax.set_yticks(genres)\n",
    "ax.invert_yaxis()\n",
    "ax.set_xlabel('Minutagem Média', fontsize=12, fontweight='bold')\n",
    "ax.set_title('Catálogo Netflix: Minutagem Média (Top 10 Gêneros)', fontsize=12, fontweight='bold')\n",
    "ax.bar_label(hbars, fmt='%.2f', fontsize=12, color='#000000', padding=1)\n",
    "\n",
    "plt.show()"
   ]
  },
  {
   "attachments": {},
   "cell_type": "markdown",
   "metadata": {},
   "source": [
    "Com o gráfico, podemos ver que os projetos de Ação, Crime e Drama são os que possuem a maior minutagem média, seguido por Animações de Ação e Aventura.\n",
    "\n",
    "Um dado interessante é a minutagem média de projetos de Reality-TV, onde possuem apenas em média 20 minutos de duração. Na realidade, esse tipo de programação tem em torno de 30 minutos de duração, onde [uma parte desse tempo é tomado por intervalos comerciais](https://joneswriter.medium.com/how-long-should-tv-shows-be-the-rise-of-shorter-tv-6f23a83d572d) na TV.\n",
    "\n",
    "Porém, como a Netflix não possuí intervalos comerciais no meio de episódios de seus projetos no catálogo, os programas de Reality-TV apresentam seu \"verdadeiro\" run-time de por volta de 20 minutos, como apontam os dados."
   ]
  },
  {
   "attachments": {},
   "cell_type": "markdown",
   "metadata": {},
   "source": [
    "#### Resposta 2: df_long_movies"
   ]
  },
  {
   "attachments": {},
   "cell_type": "markdown",
   "metadata": {},
   "source": [
    "Para os projetos de longa duração, realizaremos o mesmo processo anterior para termos as informações necessárias:"
   ]
  },
  {
   "cell_type": "code",
   "execution_count": null,
   "metadata": {},
   "outputs": [
    {
     "data": {
      "text/plain": [
       "['Documentary, Crime',\n",
       " 'Documentary',\n",
       " 'Crime, Drama, Mystery',\n",
       " 'Action, Adventure, Drama',\n",
       " 'Crime, Drama',\n",
       " 'Biography, Crime, Drama',\n",
       " 'Drama, Horror, Mystery',\n",
       " 'Drama',\n",
       " 'Drama, Mystery, Thriller',\n",
       " 'Documentary, Crime, Mystery']"
      ]
     },
     "execution_count": 196,
     "metadata": {},
     "output_type": "execute_result"
    }
   ],
   "source": [
    "# Criando a variável com os top 10 gêneros de projetos longos:\n",
    "top_genres_long = df_long_duration['genre'].value_counts().head(10)\n",
    "\n",
    "# Passando esses dados para uma lista:\n",
    "long_genres_list = list(top_genres_long.index)\n",
    "\n",
    "# Visualizando:\n",
    "long_genres_list"
   ]
  },
  {
   "cell_type": "code",
   "execution_count": null,
   "metadata": {},
   "outputs": [
    {
     "data": {
      "text/html": [
       "<div>\n",
       "<style scoped>\n",
       "    .dataframe tbody tr th:only-of-type {\n",
       "        vertical-align: middle;\n",
       "    }\n",
       "\n",
       "    .dataframe tbody tr th {\n",
       "        vertical-align: top;\n",
       "    }\n",
       "\n",
       "    .dataframe thead th {\n",
       "        text-align: right;\n",
       "    }\n",
       "</style>\n",
       "<table border=\"1\" class=\"dataframe\">\n",
       "  <thead>\n",
       "    <tr style=\"text-align: right;\">\n",
       "      <th></th>\n",
       "      <th>duration_min</th>\n",
       "    </tr>\n",
       "    <tr>\n",
       "      <th>genre</th>\n",
       "      <th></th>\n",
       "    </tr>\n",
       "  </thead>\n",
       "  <tbody>\n",
       "    <tr>\n",
       "      <th>Action, Crime, Drama</th>\n",
       "      <td>405.000000</td>\n",
       "    </tr>\n",
       "    <tr>\n",
       "      <th>Animation, Action, Adventure</th>\n",
       "      <td>218.500000</td>\n",
       "    </tr>\n",
       "    <tr>\n",
       "      <th>Comedy</th>\n",
       "      <td>216.250000</td>\n",
       "    </tr>\n",
       "    <tr>\n",
       "      <th>Comedy, Drama</th>\n",
       "      <td>315.000000</td>\n",
       "    </tr>\n",
       "    <tr>\n",
       "      <th>Crime, Drama, Mystery</th>\n",
       "      <td>342.636364</td>\n",
       "    </tr>\n",
       "    <tr>\n",
       "      <th>Documentary</th>\n",
       "      <td>300.500000</td>\n",
       "    </tr>\n",
       "    <tr>\n",
       "      <th>Drama</th>\n",
       "      <td>306.400000</td>\n",
       "    </tr>\n",
       "    <tr>\n",
       "      <th>Drama, Romance</th>\n",
       "      <td>262.000000</td>\n",
       "    </tr>\n",
       "  </tbody>\n",
       "</table>\n",
       "</div>"
      ],
      "text/plain": [
       "                              duration_min\n",
       "genre                                     \n",
       "Action, Crime, Drama            405.000000\n",
       "Animation, Action, Adventure    218.500000\n",
       "Comedy                          216.250000\n",
       "Comedy, Drama                   315.000000\n",
       "Crime, Drama, Mystery           342.636364\n",
       "Documentary                     300.500000\n",
       "Drama                           306.400000\n",
       "Drama, Romance                  262.000000"
      ]
     },
     "execution_count": 197,
     "metadata": {},
     "output_type": "execute_result"
    }
   ],
   "source": [
    "# Coletando registros de minutagem dos projetos contidos nesses gêneros:\n",
    "long_genre_min = df_long_duration.loc[\n",
    "    (df_long_duration['genre'].isin(genres_list)),\n",
    "    ['genre', 'duration_min']\n",
    "]\n",
    "\n",
    "# Agrupando esses dados pela média do tempo por gênero:\n",
    "long_genre_min = long_genre_min.groupby('genre').mean()\n",
    "\n",
    "# Visualizando:\n",
    "long_genre_min\n"
   ]
  },
  {
   "attachments": {},
   "cell_type": "markdown",
   "metadata": {},
   "source": [
    "Agora, basta organizarmos os dados e plotarmos o gráfico:"
   ]
  },
  {
   "cell_type": "code",
   "execution_count": null,
   "metadata": {},
   "outputs": [
    {
     "data": {
      "text/html": [
       "<div>\n",
       "<style scoped>\n",
       "    .dataframe tbody tr th:only-of-type {\n",
       "        vertical-align: middle;\n",
       "    }\n",
       "\n",
       "    .dataframe tbody tr th {\n",
       "        vertical-align: top;\n",
       "    }\n",
       "\n",
       "    .dataframe thead th {\n",
       "        text-align: right;\n",
       "    }\n",
       "</style>\n",
       "<table border=\"1\" class=\"dataframe\">\n",
       "  <thead>\n",
       "    <tr style=\"text-align: right;\">\n",
       "      <th></th>\n",
       "      <th>genre</th>\n",
       "      <th>duration_mean</th>\n",
       "    </tr>\n",
       "  </thead>\n",
       "  <tbody>\n",
       "    <tr>\n",
       "      <th>0</th>\n",
       "      <td>Action, Crime, Drama</td>\n",
       "      <td>405.000000</td>\n",
       "    </tr>\n",
       "    <tr>\n",
       "      <th>1</th>\n",
       "      <td>Animation, Action, Adventure</td>\n",
       "      <td>218.500000</td>\n",
       "    </tr>\n",
       "    <tr>\n",
       "      <th>2</th>\n",
       "      <td>Comedy</td>\n",
       "      <td>216.250000</td>\n",
       "    </tr>\n",
       "    <tr>\n",
       "      <th>3</th>\n",
       "      <td>Comedy, Drama</td>\n",
       "      <td>315.000000</td>\n",
       "    </tr>\n",
       "    <tr>\n",
       "      <th>4</th>\n",
       "      <td>Crime, Drama, Mystery</td>\n",
       "      <td>342.636364</td>\n",
       "    </tr>\n",
       "    <tr>\n",
       "      <th>5</th>\n",
       "      <td>Documentary</td>\n",
       "      <td>300.500000</td>\n",
       "    </tr>\n",
       "    <tr>\n",
       "      <th>6</th>\n",
       "      <td>Drama</td>\n",
       "      <td>306.400000</td>\n",
       "    </tr>\n",
       "    <tr>\n",
       "      <th>7</th>\n",
       "      <td>Drama, Romance</td>\n",
       "      <td>262.000000</td>\n",
       "    </tr>\n",
       "  </tbody>\n",
       "</table>\n",
       "</div>"
      ],
      "text/plain": [
       "                          genre  duration_mean\n",
       "0          Action, Crime, Drama     405.000000\n",
       "1  Animation, Action, Adventure     218.500000\n",
       "2                        Comedy     216.250000\n",
       "3                 Comedy, Drama     315.000000\n",
       "4         Crime, Drama, Mystery     342.636364\n",
       "5                   Documentary     300.500000\n",
       "6                         Drama     306.400000\n",
       "7                Drama, Romance     262.000000"
      ]
     },
     "execution_count": 198,
     "metadata": {},
     "output_type": "execute_result"
    }
   ],
   "source": [
    "# Realizando o unstack e reindexação do DataFrame:\n",
    "long_genre_min = long_genre_min.unstack().reset_index()\n",
    "\n",
    "# Reorganizando colunas:\n",
    "long_genre_min = long_genre_min.drop(\n",
    "    'level_0', axis=1\n",
    "    )\n",
    "long_genre_min = long_genre_min.rename(\n",
    "    columns={0:'duration_mean'}\n",
    "    )\n",
    "\n",
    "# Visualizando:\n",
    "long_genre_min"
   ]
  },
  {
   "cell_type": "code",
   "execution_count": null,
   "metadata": {},
   "outputs": [
    {
     "data": {
      "image/png": "[encoded data removed]",
      "text/plain": [
       "<Figure size 842.4x595.44 with 1 Axes>"
      ]
     },
     "metadata": {},
     "output_type": "display_data"
    }
   ],
   "source": [
    "# Bar Chart:\n",
    "\n",
    "# Repassando so dados para listas:\n",
    "long_genres = list(long_genre_min['genre'])\n",
    "long_mean_time = list(long_genre_min['duration_mean'].sort_values(ascending=False))\n",
    "\n",
    "# Plotando:\n",
    "fig, ax = plt.subplots()\n",
    "\n",
    "hbars = ax.barh(\n",
    "    long_genres, \n",
    "    long_mean_time, \n",
    "    align='center', \n",
    "    edgecolor='black', \n",
    "    color='#0388fc'\n",
    "    )\n",
    "\n",
    "ax.set_yticks(long_genres)\n",
    "ax.invert_yaxis()\n",
    "ax.set_xlabel('Minutagem Média', fontsize=12, fontweight='bold')\n",
    "ax.set_title('Catálogo Netflix: Minutagem Média (Top 10 Gêneros/Longas)', fontsize=12, fontweight='bold')\n",
    "ax.bar_label(hbars, fmt='%.2f', fontsize=12, color='#000000', padding=1)\n",
    "\n",
    "plt.show()"
   ]
  },
  {
   "attachments": {},
   "cell_type": "markdown",
   "metadata": {},
   "source": [
    "Como dito no início do projeto, esses dados podem ser inconsistentes pelo fato de alguns desses registros não serem um programa \"contínuo\" como um filme de longa-metragem ou um documentário, mas sim algumas séries que tiveram seus registros e suas minutagens \"agregados\" em uma única entrada no banco de dados.\n",
    "\n",
    "Como forma de elucidar ainda mais esse ponto, vamos realizar uma query no banco de dados buscando por programas cuja minutagem é maior do que 500 minutos:"
   ]
  },
  {
   "cell_type": "code",
   "execution_count": null,
   "metadata": {},
   "outputs": [
    {
     "data": {
      "text/html": [
       "<div>\n",
       "<style scoped>\n",
       "    .dataframe tbody tr th:only-of-type {\n",
       "        vertical-align: middle;\n",
       "    }\n",
       "\n",
       "    .dataframe tbody tr th {\n",
       "        vertical-align: top;\n",
       "    }\n",
       "\n",
       "    .dataframe thead th {\n",
       "        text-align: right;\n",
       "    }\n",
       "</style>\n",
       "<table border=\"1\" class=\"dataframe\">\n",
       "  <thead>\n",
       "    <tr style=\"text-align: right;\">\n",
       "      <th></th>\n",
       "      <th>title</th>\n",
       "      <th>release_year</th>\n",
       "      <th>ending_year</th>\n",
       "      <th>certificate</th>\n",
       "      <th>duration_min</th>\n",
       "      <th>genre</th>\n",
       "      <th>rating</th>\n",
       "      <th>description</th>\n",
       "      <th>stars</th>\n",
       "      <th>votes</th>\n",
       "    </tr>\n",
       "  </thead>\n",
       "  <tbody>\n",
       "    <tr>\n",
       "      <th>6</th>\n",
       "      <td>Dahmer - Monster: The Jeffrey Dahmer Story</td>\n",
       "      <td>2022</td>\n",
       "      <td>0</td>\n",
       "      <td>TV-MA</td>\n",
       "      <td>534</td>\n",
       "      <td>Biography, Crime, Drama</td>\n",
       "      <td>8.5</td>\n",
       "      <td>Story of the Milwaukee Monster told from the p...</td>\n",
       "      <td>['Evan Peters, ', 'Richard Jenkins, ', 'Molly ...</td>\n",
       "      <td>5580</td>\n",
       "    </tr>\n",
       "    <tr>\n",
       "      <th>8</th>\n",
       "      <td>The Haunting of Hill House</td>\n",
       "      <td>2018</td>\n",
       "      <td>0</td>\n",
       "      <td>TV-MA</td>\n",
       "      <td>572</td>\n",
       "      <td>Drama, Horror, Mystery</td>\n",
       "      <td>8.6</td>\n",
       "      <td>Flashing between past and present, a fractured...</td>\n",
       "      <td>['Michiel Huisman, ', 'Carla Gugino, ', 'Henry...</td>\n",
       "      <td>237198</td>\n",
       "    </tr>\n",
       "    <tr>\n",
       "      <th>11</th>\n",
       "      <td>Maid</td>\n",
       "      <td>2021</td>\n",
       "      <td>0</td>\n",
       "      <td>TV-MA</td>\n",
       "      <td>545</td>\n",
       "      <td>Drama</td>\n",
       "      <td>8.4</td>\n",
       "      <td>After fleeing an abusive relationship, a young...</td>\n",
       "      <td>['Margaret Qualley, ', 'Nick Robinson, ', 'Ryl...</td>\n",
       "      <td>81102</td>\n",
       "    </tr>\n",
       "  </tbody>\n",
       "</table>\n",
       "</div>"
      ],
      "text/plain": [
       "                                         title  release_year  ending_year  \\\n",
       "6   Dahmer - Monster: The Jeffrey Dahmer Story          2022            0   \n",
       "8                   The Haunting of Hill House          2018            0   \n",
       "11                                        Maid          2021            0   \n",
       "\n",
       "   certificate  duration_min                    genre  rating  \\\n",
       "6        TV-MA           534  Biography, Crime, Drama     8.5   \n",
       "8        TV-MA           572   Drama, Horror, Mystery     8.6   \n",
       "11       TV-MA           545                    Drama     8.4   \n",
       "\n",
       "                                          description  \\\n",
       "6   Story of the Milwaukee Monster told from the p...   \n",
       "8   Flashing between past and present, a fractured...   \n",
       "11  After fleeing an abusive relationship, a young...   \n",
       "\n",
       "                                                stars   votes  \n",
       "6   ['Evan Peters, ', 'Richard Jenkins, ', 'Molly ...    5580  \n",
       "8   ['Michiel Huisman, ', 'Carla Gugino, ', 'Henry...  237198  \n",
       "11  ['Margaret Qualley, ', 'Nick Robinson, ', 'Ryl...   81102  "
      ]
     },
     "execution_count": 200,
     "metadata": {},
     "output_type": "execute_result"
    }
   ],
   "source": [
    "df_long_duration.query('duration_min > 500').head(3)"
   ]
  },
  {
   "attachments": {},
   "cell_type": "markdown",
   "metadata": {},
   "source": [
    "Como exemplo, em primeiro lugar temos a nova série contoversa da Netflix sobre Jeffrey Dahmer que possuí uma temporada até o momento presente.\n",
    "\n",
    "De acordo com os dados, a duração completa desse projeto é de 534 minutos, o que é a demonstração do comentado acima, de que algumas séries foram inseridas no banco de dados como um único registro, enquanto outras tiveram cada episódio lançado independentemente no Dataset.\n",
    "\n",
    "Com isso em mente, essas análises acerca dos programas longos devem ser interpretadas com cautela, pois os dados não são 100% integros."
   ]
  },
  {
   "attachments": {},
   "cell_type": "markdown",
   "metadata": {},
   "source": [
    "### 5. Qual a média de ratings dadas aos projetos por top 10 gêneros?"
   ]
  },
  {
   "attachments": {},
   "cell_type": "markdown",
   "metadata": {},
   "source": [
    "Outra métrica interessante de ser observada é a media de avaliações que os projetos presentes nos top 10 gêneros do catálogo Netflix receberam."
   ]
  },
  {
   "attachments": {},
   "cell_type": "markdown",
   "metadata": {},
   "source": [
    "#### Resposta 1: df_movies_clean"
   ]
  },
  {
   "cell_type": "code",
   "execution_count": null,
   "metadata": {},
   "outputs": [
    {
     "data": {
      "text/html": [
       "<div>\n",
       "<style scoped>\n",
       "    .dataframe tbody tr th:only-of-type {\n",
       "        vertical-align: middle;\n",
       "    }\n",
       "\n",
       "    .dataframe tbody tr th {\n",
       "        vertical-align: top;\n",
       "    }\n",
       "\n",
       "    .dataframe thead th {\n",
       "        text-align: right;\n",
       "    }\n",
       "</style>\n",
       "<table border=\"1\" class=\"dataframe\">\n",
       "  <thead>\n",
       "    <tr style=\"text-align: right;\">\n",
       "      <th></th>\n",
       "      <th>rating</th>\n",
       "    </tr>\n",
       "    <tr>\n",
       "      <th>genre</th>\n",
       "      <th></th>\n",
       "    </tr>\n",
       "  </thead>\n",
       "  <tbody>\n",
       "    <tr>\n",
       "      <th>Action, Crime, Drama</th>\n",
       "      <td>6.383735</td>\n",
       "    </tr>\n",
       "    <tr>\n",
       "      <th>Animation, Action, Adventure</th>\n",
       "      <td>7.374570</td>\n",
       "    </tr>\n",
       "    <tr>\n",
       "      <th>Comedy</th>\n",
       "      <td>6.105729</td>\n",
       "    </tr>\n",
       "    <tr>\n",
       "      <th>Comedy, Drama</th>\n",
       "      <td>6.789892</td>\n",
       "    </tr>\n",
       "    <tr>\n",
       "      <th>Comedy, Drama, Romance</th>\n",
       "      <td>6.509804</td>\n",
       "    </tr>\n",
       "    <tr>\n",
       "      <th>Crime, Drama, Mystery</th>\n",
       "      <td>7.406838</td>\n",
       "    </tr>\n",
       "    <tr>\n",
       "      <th>Documentary</th>\n",
       "      <td>6.520825</td>\n",
       "    </tr>\n",
       "    <tr>\n",
       "      <th>Drama</th>\n",
       "      <td>6.324901</td>\n",
       "    </tr>\n",
       "    <tr>\n",
       "      <th>Drama, Romance</th>\n",
       "      <td>6.673504</td>\n",
       "    </tr>\n",
       "    <tr>\n",
       "      <th>Reality-TV</th>\n",
       "      <td>6.209626</td>\n",
       "    </tr>\n",
       "  </tbody>\n",
       "</table>\n",
       "</div>"
      ],
      "text/plain": [
       "                                rating\n",
       "genre                                 \n",
       "Action, Crime, Drama          6.383735\n",
       "Animation, Action, Adventure  7.374570\n",
       "Comedy                        6.105729\n",
       "Comedy, Drama                 6.789892\n",
       "Comedy, Drama, Romance        6.509804\n",
       "Crime, Drama, Mystery         7.406838\n",
       "Documentary                   6.520825\n",
       "Drama                         6.324901\n",
       "Drama, Romance                6.673504\n",
       "Reality-TV                    6.209626"
      ]
     },
     "execution_count": 201,
     "metadata": {},
     "output_type": "execute_result"
    }
   ],
   "source": [
    "# Redefinindo os top 10 gêneros:\n",
    "movies_genres = df_movies_clean['genre'].value_counts().head(10)\n",
    "\n",
    "# Passando para uma lista:\n",
    "genres_list = list(movies_genres.index)\n",
    "\n",
    "# Coletando as avaliações dadas aos projetos presentes nesses gêneros:\n",
    "top_genres = df_movies_clean.loc[\n",
    "    (df_movies_clean['genre'].isin(genres_list)),\n",
    "    ['genre', 'rating']\n",
    "]\n",
    "\n",
    "# Reagrupando:\n",
    "top_genres = top_genres.groupby('genre').mean()\n",
    "\n",
    "# Visualizando:\n",
    "top_genres"
   ]
  },
  {
   "cell_type": "code",
   "execution_count": null,
   "metadata": {},
   "outputs": [
    {
     "data": {
      "text/html": [
       "<div>\n",
       "<style scoped>\n",
       "    .dataframe tbody tr th:only-of-type {\n",
       "        vertical-align: middle;\n",
       "    }\n",
       "\n",
       "    .dataframe tbody tr th {\n",
       "        vertical-align: top;\n",
       "    }\n",
       "\n",
       "    .dataframe thead th {\n",
       "        text-align: right;\n",
       "    }\n",
       "</style>\n",
       "<table border=\"1\" class=\"dataframe\">\n",
       "  <thead>\n",
       "    <tr style=\"text-align: right;\">\n",
       "      <th></th>\n",
       "      <th>genre</th>\n",
       "      <th>rating_mean</th>\n",
       "    </tr>\n",
       "  </thead>\n",
       "  <tbody>\n",
       "    <tr>\n",
       "      <th>0</th>\n",
       "      <td>Action, Crime, Drama</td>\n",
       "      <td>6.383735</td>\n",
       "    </tr>\n",
       "    <tr>\n",
       "      <th>1</th>\n",
       "      <td>Animation, Action, Adventure</td>\n",
       "      <td>7.374570</td>\n",
       "    </tr>\n",
       "    <tr>\n",
       "      <th>2</th>\n",
       "      <td>Comedy</td>\n",
       "      <td>6.105729</td>\n",
       "    </tr>\n",
       "    <tr>\n",
       "      <th>3</th>\n",
       "      <td>Comedy, Drama</td>\n",
       "      <td>6.789892</td>\n",
       "    </tr>\n",
       "    <tr>\n",
       "      <th>4</th>\n",
       "      <td>Comedy, Drama, Romance</td>\n",
       "      <td>6.509804</td>\n",
       "    </tr>\n",
       "    <tr>\n",
       "      <th>5</th>\n",
       "      <td>Crime, Drama, Mystery</td>\n",
       "      <td>7.406838</td>\n",
       "    </tr>\n",
       "    <tr>\n",
       "      <th>6</th>\n",
       "      <td>Documentary</td>\n",
       "      <td>6.520825</td>\n",
       "    </tr>\n",
       "    <tr>\n",
       "      <th>7</th>\n",
       "      <td>Drama</td>\n",
       "      <td>6.324901</td>\n",
       "    </tr>\n",
       "    <tr>\n",
       "      <th>8</th>\n",
       "      <td>Drama, Romance</td>\n",
       "      <td>6.673504</td>\n",
       "    </tr>\n",
       "    <tr>\n",
       "      <th>9</th>\n",
       "      <td>Reality-TV</td>\n",
       "      <td>6.209626</td>\n",
       "    </tr>\n",
       "  </tbody>\n",
       "</table>\n",
       "</div>"
      ],
      "text/plain": [
       "                          genre  rating_mean\n",
       "0          Action, Crime, Drama     6.383735\n",
       "1  Animation, Action, Adventure     7.374570\n",
       "2                        Comedy     6.105729\n",
       "3                 Comedy, Drama     6.789892\n",
       "4        Comedy, Drama, Romance     6.509804\n",
       "5         Crime, Drama, Mystery     7.406838\n",
       "6                   Documentary     6.520825\n",
       "7                         Drama     6.324901\n",
       "8                Drama, Romance     6.673504\n",
       "9                    Reality-TV     6.209626"
      ]
     },
     "execution_count": 202,
     "metadata": {},
     "output_type": "execute_result"
    }
   ],
   "source": [
    "# Dando unstack e reindexação no DataFrame:\n",
    "top_genres = top_genres.unstack().reset_index()\n",
    "top_genres = top_genres.drop(\n",
    "    'level_0', axis=1\n",
    "    )\n",
    "top_genres = top_genres.rename(\n",
    "    columns={0:'rating_mean'}\n",
    "    )\n",
    "\n",
    "# Visualizando:\n",
    "top_genres"
   ]
  },
  {
   "attachments": {},
   "cell_type": "markdown",
   "metadata": {},
   "source": [
    "Para uma melhor visualização, vamos plotar um gráfico com os dados:"
   ]
  },
  {
   "cell_type": "code",
   "execution_count": null,
   "metadata": {},
   "outputs": [
    {
     "data": {
      "image/png": "[encoded data removed]",
      "text/plain": [
       "<Figure size 842.4x595.44 with 1 Axes>"
      ]
     },
     "metadata": {},
     "output_type": "display_data"
    }
   ],
   "source": [
    "# Bar chart\n",
    "\n",
    "# Atribuindo dados para uma lista:\n",
    "genres = list(top_genres['genre'])\n",
    "ratings = list(top_genres['rating_mean'].sort_values(ascending=False))\n",
    "\n",
    "# Plotando:\n",
    "fig, ax = plt.subplots()\n",
    "\n",
    "hbars = ax.barh(\n",
    "    genres,\n",
    "    ratings, \n",
    "    align='center', \n",
    "    edgecolor='black',\n",
    "    color='#0388fc'\n",
    "    )\n",
    "    \n",
    "ax.set_yticks(genres)\n",
    "ax.invert_yaxis()\n",
    "ax.set_xlabel('Média de Avaliação', fontsize=12, fontweight='bold')\n",
    "ax.set_title('Catálogo Netflix: Média de Avaliações (Top 10 Gêneros)', fontsize=12, fontweight='bold')\n",
    "ax.bar_label(hbars, fmt='%.2f', fontsize=12, color='#000000', padding=1)\n",
    "\n",
    "plt.show()"
   ]
  },
  {
   "attachments": {},
   "cell_type": "markdown",
   "metadata": {},
   "source": [
    "Os programas mais bem avaliados na média são aqueles de Ação, Crime e Drama, seguidos por Animações de Ação e Aventura.\n",
    "\n",
    "Curiosamente esses dois gêneros também são os de minutagem média mais alta dos programas abaixo de 175 minutos, e Reality-TV, além de ser o de menor minutagem média, também possuí a menor média de avaliações positivas no catálogo.\n",
    "\n",
    "Isso pode indentificar um padrão de consumo nos clientes Netflix, onde aparenta-se que consumidores do serviço de streaming tendem a preferir programas de maior minutagem e incluso nessa métrica também, os programas especiais de Comédia, que também constam como uns dos gêneros de maior minutagem média e agora de acordo com o gráfico, também aparecem como o terceiro mais bem avaliado."
   ]
  },
  {
   "attachments": {},
   "cell_type": "markdown",
   "metadata": {},
   "source": [
    "#### Resposta 2: df_movies_long"
   ]
  },
  {
   "cell_type": "code",
   "execution_count": null,
   "metadata": {},
   "outputs": [
    {
     "data": {
      "text/html": [
       "<div>\n",
       "<style scoped>\n",
       "    .dataframe tbody tr th:only-of-type {\n",
       "        vertical-align: middle;\n",
       "    }\n",
       "\n",
       "    .dataframe tbody tr th {\n",
       "        vertical-align: top;\n",
       "    }\n",
       "\n",
       "    .dataframe thead th {\n",
       "        text-align: right;\n",
       "    }\n",
       "</style>\n",
       "<table border=\"1\" class=\"dataframe\">\n",
       "  <thead>\n",
       "    <tr style=\"text-align: right;\">\n",
       "      <th></th>\n",
       "      <th>rating</th>\n",
       "    </tr>\n",
       "    <tr>\n",
       "      <th>genre</th>\n",
       "      <th></th>\n",
       "    </tr>\n",
       "  </thead>\n",
       "  <tbody>\n",
       "    <tr>\n",
       "      <th>Action, Adventure, Drama</th>\n",
       "      <td>7.833333</td>\n",
       "    </tr>\n",
       "    <tr>\n",
       "      <th>Biography, Crime, Drama</th>\n",
       "      <td>7.966667</td>\n",
       "    </tr>\n",
       "    <tr>\n",
       "      <th>Crime, Drama</th>\n",
       "      <td>6.950000</td>\n",
       "    </tr>\n",
       "    <tr>\n",
       "      <th>Crime, Drama, Mystery</th>\n",
       "      <td>6.954545</td>\n",
       "    </tr>\n",
       "    <tr>\n",
       "      <th>Documentary</th>\n",
       "      <td>7.608333</td>\n",
       "    </tr>\n",
       "    <tr>\n",
       "      <th>Documentary, Crime</th>\n",
       "      <td>7.273913</td>\n",
       "    </tr>\n",
       "    <tr>\n",
       "      <th>Documentary, Crime, Mystery</th>\n",
       "      <td>7.060000</td>\n",
       "    </tr>\n",
       "    <tr>\n",
       "      <th>Drama</th>\n",
       "      <td>7.500000</td>\n",
       "    </tr>\n",
       "    <tr>\n",
       "      <th>Drama, Horror, Mystery</th>\n",
       "      <td>6.960000</td>\n",
       "    </tr>\n",
       "    <tr>\n",
       "      <th>Drama, Mystery, Thriller</th>\n",
       "      <td>6.620000</td>\n",
       "    </tr>\n",
       "  </tbody>\n",
       "</table>\n",
       "</div>"
      ],
      "text/plain": [
       "                               rating\n",
       "genre                                \n",
       "Action, Adventure, Drama     7.833333\n",
       "Biography, Crime, Drama      7.966667\n",
       "Crime, Drama                 6.950000\n",
       "Crime, Drama, Mystery        6.954545\n",
       "Documentary                  7.608333\n",
       "Documentary, Crime           7.273913\n",
       "Documentary, Crime, Mystery  7.060000\n",
       "Drama                        7.500000\n",
       "Drama, Horror, Mystery       6.960000\n",
       "Drama, Mystery, Thriller     6.620000"
      ]
     },
     "execution_count": 204,
     "metadata": {},
     "output_type": "execute_result"
    }
   ],
   "source": [
    "# Redefinindo os top 10 gêneros:\n",
    "long_gens = df_long_duration['genre'].value_counts().head(10)\n",
    "\n",
    "# Passando para uma lista:\n",
    "lista_long_gens = list(long_gens.index)\n",
    "\n",
    "# Coletando as avaliações dadas aos projetos presentes nesses gêneros:\n",
    "top_longs = df_long_duration.loc[\n",
    "    (df_long_duration['genre'].isin(lista_long_gens)), \n",
    "    ['genre', 'rating']\n",
    "    ]\n",
    "\n",
    "# Reagrupando:\n",
    "top_longs = top_longs.groupby('genre').mean()\n",
    "\n",
    "# Visualizando:\n",
    "top_longs"
   ]
  },
  {
   "cell_type": "code",
   "execution_count": null,
   "metadata": {},
   "outputs": [
    {
     "data": {
      "text/html": [
       "<div>\n",
       "<style scoped>\n",
       "    .dataframe tbody tr th:only-of-type {\n",
       "        vertical-align: middle;\n",
       "    }\n",
       "\n",
       "    .dataframe tbody tr th {\n",
       "        vertical-align: top;\n",
       "    }\n",
       "\n",
       "    .dataframe thead th {\n",
       "        text-align: right;\n",
       "    }\n",
       "</style>\n",
       "<table border=\"1\" class=\"dataframe\">\n",
       "  <thead>\n",
       "    <tr style=\"text-align: right;\">\n",
       "      <th></th>\n",
       "      <th>genre</th>\n",
       "      <th>rating_mean</th>\n",
       "    </tr>\n",
       "  </thead>\n",
       "  <tbody>\n",
       "    <tr>\n",
       "      <th>0</th>\n",
       "      <td>Action, Adventure, Drama</td>\n",
       "      <td>7.833333</td>\n",
       "    </tr>\n",
       "    <tr>\n",
       "      <th>1</th>\n",
       "      <td>Biography, Crime, Drama</td>\n",
       "      <td>7.966667</td>\n",
       "    </tr>\n",
       "    <tr>\n",
       "      <th>2</th>\n",
       "      <td>Crime, Drama</td>\n",
       "      <td>6.950000</td>\n",
       "    </tr>\n",
       "    <tr>\n",
       "      <th>3</th>\n",
       "      <td>Crime, Drama, Mystery</td>\n",
       "      <td>6.954545</td>\n",
       "    </tr>\n",
       "    <tr>\n",
       "      <th>4</th>\n",
       "      <td>Documentary</td>\n",
       "      <td>7.608333</td>\n",
       "    </tr>\n",
       "    <tr>\n",
       "      <th>5</th>\n",
       "      <td>Documentary, Crime</td>\n",
       "      <td>7.273913</td>\n",
       "    </tr>\n",
       "    <tr>\n",
       "      <th>6</th>\n",
       "      <td>Documentary, Crime, Mystery</td>\n",
       "      <td>7.060000</td>\n",
       "    </tr>\n",
       "    <tr>\n",
       "      <th>7</th>\n",
       "      <td>Drama</td>\n",
       "      <td>7.500000</td>\n",
       "    </tr>\n",
       "    <tr>\n",
       "      <th>8</th>\n",
       "      <td>Drama, Horror, Mystery</td>\n",
       "      <td>6.960000</td>\n",
       "    </tr>\n",
       "    <tr>\n",
       "      <th>9</th>\n",
       "      <td>Drama, Mystery, Thriller</td>\n",
       "      <td>6.620000</td>\n",
       "    </tr>\n",
       "  </tbody>\n",
       "</table>\n",
       "</div>"
      ],
      "text/plain": [
       "                         genre  rating_mean\n",
       "0     Action, Adventure, Drama     7.833333\n",
       "1      Biography, Crime, Drama     7.966667\n",
       "2                 Crime, Drama     6.950000\n",
       "3        Crime, Drama, Mystery     6.954545\n",
       "4                  Documentary     7.608333\n",
       "5           Documentary, Crime     7.273913\n",
       "6  Documentary, Crime, Mystery     7.060000\n",
       "7                        Drama     7.500000\n",
       "8       Drama, Horror, Mystery     6.960000\n",
       "9     Drama, Mystery, Thriller     6.620000"
      ]
     },
     "execution_count": 205,
     "metadata": {},
     "output_type": "execute_result"
    }
   ],
   "source": [
    "# Dando unstack e reindexação no DataFrame:\n",
    "top_longs = top_longs.unstack().reset_index()\n",
    "top_longs = top_longs.drop(\n",
    "    'level_0', axis=1\n",
    "    )\n",
    "top_longs = top_longs.rename(\n",
    "    columns={0:'rating_mean'}\n",
    "    )\n",
    "\n",
    "# Visualizando\n",
    "top_longs"
   ]
  },
  {
   "cell_type": "code",
   "execution_count": null,
   "metadata": {},
   "outputs": [
    {
     "data": {
      "image/png": "[encoded data removed]",
      "text/plain": [
       "<Figure size 842.4x595.44 with 1 Axes>"
      ]
     },
     "metadata": {},
     "output_type": "display_data"
    }
   ],
   "source": [
    "# Bar chart\n",
    "\n",
    "# Atribuindo dados para uma lista:\n",
    "gens_long = list(top_longs['genre'])\n",
    "means_long = list(top_longs['rating_mean'].sort_values(ascending=False))\n",
    "\n",
    "# Plotando:\n",
    "fig, ax = plt.subplots()\n",
    "\n",
    "hbars = ax.barh(\n",
    "    gens_long, \n",
    "    means_long, \n",
    "    align='center', \n",
    "    edgecolor='black', \n",
    "    color='#0388fc'\n",
    "    )\n",
    "    \n",
    "ax.set_yticks(gens_long)\n",
    "ax.invert_yaxis()\n",
    "ax.set_xlabel('Média de Avaliação', fontsize=12, fontweight='bold')\n",
    "ax.set_title('Catálogo Netflix: Média de Avaliações (Top 10 Gêneros/Longas)', fontsize=12, fontweight='bold')\n",
    "ax.bar_label(hbars, fmt='%.2f', fontsize=12, color='#000000', padding=1)\n",
    "\n",
    "plt.show()"
   ]
  },
  {
   "attachments": {},
   "cell_type": "markdown",
   "metadata": {},
   "source": [
    "Algo a se destacar é o fato de que os projetos que aparecem com duração maior de 175 minutos, possuem avaliações médias mais altas no geral quando comparados aos outros projetos menores. Basta aferir os valores dessas notas médias dos longas em comparação com o mesmo gráfico do df_movies_clean:\n",
    "\n",
    "**df_movies_clean**\n",
    "    \n",
    "    - Maiores notas: 7.41, 7.37, 6.79\n",
    "    - Menores notas: 6.11, 6.21, 6.32\n",
    "\n",
    "**df_movies_long**\n",
    "\n",
    "    - Maiores notas: 7.97, 7.83, 7.61\n",
    "    - Menores notas: 6.62, 6.95, 6.95\n",
    "\n",
    "Com isso, podemos identificar novamente o aparente padrão que os dados apresentam, onde projetos mais longos aparentam ter recepções e avaliações melhores no catálogo Netflix."
   ]
  },
  {
   "attachments": {},
   "cell_type": "markdown",
   "metadata": {},
   "source": [
    "### 6. Quais são os programas mais bem avaliados no geral?\n"
   ]
  },
  {
   "attachments": {},
   "cell_type": "markdown",
   "metadata": {},
   "source": [
    "Como uma pergunta final, vamos buscar compreender quais são os registros que constam com maior avaliação no geral no catálogo Netflix, com base nos nossos dois Datasets:"
   ]
  },
  {
   "attachments": {},
   "cell_type": "markdown",
   "metadata": {},
   "source": [
    "#### Resposta 1: df_movies_clean"
   ]
  },
  {
   "cell_type": "code",
   "execution_count": null,
   "metadata": {},
   "outputs": [
    {
     "data": {
      "text/html": [
       "<div>\n",
       "<style scoped>\n",
       "    .dataframe tbody tr th:only-of-type {\n",
       "        vertical-align: middle;\n",
       "    }\n",
       "\n",
       "    .dataframe tbody tr th {\n",
       "        vertical-align: top;\n",
       "    }\n",
       "\n",
       "    .dataframe thead th {\n",
       "        text-align: right;\n",
       "    }\n",
       "</style>\n",
       "<table border=\"1\" class=\"dataframe\">\n",
       "  <thead>\n",
       "    <tr style=\"text-align: right;\">\n",
       "      <th></th>\n",
       "      <th>title</th>\n",
       "      <th>genre</th>\n",
       "      <th>rating</th>\n",
       "      <th>votes</th>\n",
       "    </tr>\n",
       "  </thead>\n",
       "  <tbody>\n",
       "    <tr>\n",
       "      <th>0</th>\n",
       "      <td>BoJack Horseman</td>\n",
       "      <td>Animation, Comedy, Drama</td>\n",
       "      <td>9.9</td>\n",
       "      <td>16066</td>\n",
       "    </tr>\n",
       "    <tr>\n",
       "      <th>1</th>\n",
       "      <td>Avatar: The Last Airbender</td>\n",
       "      <td>Animation, Action, Adventure</td>\n",
       "      <td>9.6</td>\n",
       "      <td>3953</td>\n",
       "    </tr>\n",
       "    <tr>\n",
       "      <th>2</th>\n",
       "      <td>Stranger Things</td>\n",
       "      <td>Drama, Fantasy, Horror</td>\n",
       "      <td>9.6</td>\n",
       "      <td>36276</td>\n",
       "    </tr>\n",
       "    <tr>\n",
       "      <th>3</th>\n",
       "      <td>JoJo's Bizarre Adventure</td>\n",
       "      <td>Animation, Action, Adventure</td>\n",
       "      <td>9.6</td>\n",
       "      <td>1442</td>\n",
       "    </tr>\n",
       "    <tr>\n",
       "      <th>4</th>\n",
       "      <td>1899</td>\n",
       "      <td>Drama, History, Horror</td>\n",
       "      <td>9.6</td>\n",
       "      <td>853</td>\n",
       "    </tr>\n",
       "    <tr>\n",
       "      <th>5</th>\n",
       "      <td>Avatar: The Last Airbender</td>\n",
       "      <td>Animation, Action, Adventure</td>\n",
       "      <td>9.6</td>\n",
       "      <td>5221</td>\n",
       "    </tr>\n",
       "    <tr>\n",
       "      <th>6</th>\n",
       "      <td>Dexter</td>\n",
       "      <td>Crime, Drama, Mystery</td>\n",
       "      <td>9.6</td>\n",
       "      <td>10604</td>\n",
       "    </tr>\n",
       "    <tr>\n",
       "      <th>7</th>\n",
       "      <td>BoJack Horseman</td>\n",
       "      <td>Animation, Comedy, Drama</td>\n",
       "      <td>9.5</td>\n",
       "      <td>6230</td>\n",
       "    </tr>\n",
       "    <tr>\n",
       "      <th>8</th>\n",
       "      <td>Dark</td>\n",
       "      <td>Crime, Drama, Mystery</td>\n",
       "      <td>9.5</td>\n",
       "      <td>14007</td>\n",
       "    </tr>\n",
       "    <tr>\n",
       "      <th>9</th>\n",
       "      <td>Anne with an E</td>\n",
       "      <td>Drama, Family</td>\n",
       "      <td>9.5</td>\n",
       "      <td>2488</td>\n",
       "    </tr>\n",
       "  </tbody>\n",
       "</table>\n",
       "</div>"
      ],
      "text/plain": [
       "                        title                         genre  rating  votes\n",
       "0             BoJack Horseman      Animation, Comedy, Drama     9.9  16066\n",
       "1  Avatar: The Last Airbender  Animation, Action, Adventure     9.6   3953\n",
       "2             Stranger Things        Drama, Fantasy, Horror     9.6  36276\n",
       "3    JoJo's Bizarre Adventure  Animation, Action, Adventure     9.6   1442\n",
       "4                        1899        Drama, History, Horror     9.6    853\n",
       "5  Avatar: The Last Airbender  Animation, Action, Adventure     9.6   5221\n",
       "6                      Dexter         Crime, Drama, Mystery     9.6  10604\n",
       "7             BoJack Horseman      Animation, Comedy, Drama     9.5   6230\n",
       "8                        Dark         Crime, Drama, Mystery     9.5  14007\n",
       "9              Anne with an E                 Drama, Family     9.5   2488"
      ]
     },
     "execution_count": 207,
     "metadata": {},
     "output_type": "execute_result"
    }
   ],
   "source": [
    "# Filtrando Dataset em busca dos programas mais bem avaliados:\n",
    "ratings_list = df_movies_clean.loc[\n",
    "    :, \n",
    "    ['title', 'genre', 'rating', 'votes']\n",
    "    ].sort_values(['rating'], ascending=False).head(10)\n",
    "\n",
    "# Resetando index:\n",
    "ratings_list = ratings_list.reset_index()\n",
    "ratings_list = ratings_list.drop(columns={'index'})\n",
    "\n",
    "# Visualizando:\n",
    "ratings_list"
   ]
  },
  {
   "attachments": {},
   "cell_type": "markdown",
   "metadata": {},
   "source": [
    "O programa que consta com a maior avaliação com um surpreendente 9.9 é BoJack Horseman, um clássico presente no catálogo, seguido por um episódio específico de Avatar: The Last Airbender e um episódio de Stranger Things.\n",
    "\n",
    "É interessante notar que BoJack Horseman além de ser o número, aparece novamente na posição 7 com outro episódio com avaliação 9.5.\n",
    "\n",
    "Avatar: The Last Airbender também se repete e apare nas posições 2 (de index 1) e 6 (index 5)."
   ]
  },
  {
   "attachments": {},
   "cell_type": "markdown",
   "metadata": {},
   "source": [
    "#### Resposta 2: df_long_movies"
   ]
  },
  {
   "cell_type": "code",
   "execution_count": null,
   "metadata": {},
   "outputs": [
    {
     "data": {
      "text/html": [
       "<div>\n",
       "<style scoped>\n",
       "    .dataframe tbody tr th:only-of-type {\n",
       "        vertical-align: middle;\n",
       "    }\n",
       "\n",
       "    .dataframe tbody tr th {\n",
       "        vertical-align: top;\n",
       "    }\n",
       "\n",
       "    .dataframe thead th {\n",
       "        text-align: right;\n",
       "    }\n",
       "</style>\n",
       "<table border=\"1\" class=\"dataframe\">\n",
       "  <thead>\n",
       "    <tr style=\"text-align: right;\">\n",
       "      <th></th>\n",
       "      <th>title</th>\n",
       "      <th>genre</th>\n",
       "      <th>rating</th>\n",
       "      <th>votes</th>\n",
       "    </tr>\n",
       "  </thead>\n",
       "  <tbody>\n",
       "    <tr>\n",
       "      <th>0</th>\n",
       "      <td>Cosmos: A Spacetime Odyssey</td>\n",
       "      <td>Documentary</td>\n",
       "      <td>9.3</td>\n",
       "      <td>121400</td>\n",
       "    </tr>\n",
       "    <tr>\n",
       "      <th>1</th>\n",
       "      <td>Our Planet</td>\n",
       "      <td>Documentary</td>\n",
       "      <td>9.3</td>\n",
       "      <td>43175</td>\n",
       "    </tr>\n",
       "    <tr>\n",
       "      <th>2</th>\n",
       "      <td>The Last Dance</td>\n",
       "      <td>Documentary, Biography, History</td>\n",
       "      <td>9.1</td>\n",
       "      <td>119768</td>\n",
       "    </tr>\n",
       "    <tr>\n",
       "      <th>3</th>\n",
       "      <td>The Vietnam War</td>\n",
       "      <td>Documentary, History, War</td>\n",
       "      <td>9.1</td>\n",
       "      <td>24632</td>\n",
       "    </tr>\n",
       "    <tr>\n",
       "      <th>4</th>\n",
       "      <td>Frozen Planet</td>\n",
       "      <td>Documentary</td>\n",
       "      <td>9.0</td>\n",
       "      <td>30498</td>\n",
       "    </tr>\n",
       "    <tr>\n",
       "      <th>5</th>\n",
       "      <td>The Lord of the Rings: The Return of the King</td>\n",
       "      <td>Action, Adventure, Drama</td>\n",
       "      <td>9.0</td>\n",
       "      <td>1819157</td>\n",
       "    </tr>\n",
       "    <tr>\n",
       "      <th>6</th>\n",
       "      <td>When They See Us</td>\n",
       "      <td>Biography, Crime, Drama</td>\n",
       "      <td>8.9</td>\n",
       "      <td>119339</td>\n",
       "    </tr>\n",
       "    <tr>\n",
       "      <th>7</th>\n",
       "      <td>The Lord of the Rings: The Fellowship of the Ring</td>\n",
       "      <td>Action, Adventure, Drama</td>\n",
       "      <td>8.8</td>\n",
       "      <td>1844075</td>\n",
       "    </tr>\n",
       "    <tr>\n",
       "      <th>8</th>\n",
       "      <td>The Lord of the Rings: The Fellowship of the Ring</td>\n",
       "      <td>Action, Adventure, Drama</td>\n",
       "      <td>8.8</td>\n",
       "      <td>1844055</td>\n",
       "    </tr>\n",
       "    <tr>\n",
       "      <th>9</th>\n",
       "      <td>The Lord of the Rings: The Two Towers</td>\n",
       "      <td>Action, Adventure, Drama</td>\n",
       "      <td>8.8</td>\n",
       "      <td>1642708</td>\n",
       "    </tr>\n",
       "  </tbody>\n",
       "</table>\n",
       "</div>"
      ],
      "text/plain": [
       "                                               title  \\\n",
       "0                        Cosmos: A Spacetime Odyssey   \n",
       "1                                         Our Planet   \n",
       "2                                     The Last Dance   \n",
       "3                                    The Vietnam War   \n",
       "4                                      Frozen Planet   \n",
       "5      The Lord of the Rings: The Return of the King   \n",
       "6                                   When They See Us   \n",
       "7  The Lord of the Rings: The Fellowship of the Ring   \n",
       "8  The Lord of the Rings: The Fellowship of the Ring   \n",
       "9              The Lord of the Rings: The Two Towers   \n",
       "\n",
       "                             genre  rating    votes  \n",
       "0                      Documentary     9.3   121400  \n",
       "1                      Documentary     9.3    43175  \n",
       "2  Documentary, Biography, History     9.1   119768  \n",
       "3        Documentary, History, War     9.1    24632  \n",
       "4                      Documentary     9.0    30498  \n",
       "5         Action, Adventure, Drama     9.0  1819157  \n",
       "6          Biography, Crime, Drama     8.9   119339  \n",
       "7         Action, Adventure, Drama     8.8  1844075  \n",
       "8         Action, Adventure, Drama     8.8  1844055  \n",
       "9         Action, Adventure, Drama     8.8  1642708  "
      ]
     },
     "execution_count": 208,
     "metadata": {},
     "output_type": "execute_result"
    }
   ],
   "source": [
    "# Filtrando Dataset em busca dos programas mais bem avaliados:\n",
    "ratings_long = df_long_duration.loc[\n",
    "    :, \n",
    "    ['title', 'genre', 'rating', 'votes']\n",
    "    ].sort_values(['rating'], ascending=False).head(10)\n",
    "\n",
    "# Resetando index:\n",
    "ratings_long = ratings_long.reset_index()\n",
    "ratings_long = ratings_long.drop(columns={'index'})\n",
    "\n",
    "# Visualizando:\n",
    "ratings_long"
   ]
  },
  {
   "attachments": {},
   "cell_type": "markdown",
   "metadata": {},
   "source": [
    "O longa mais bem avaliado é a série documentária sobre o espaço, Cosmos: A Spacetime Odyssey com 9.3, um valor muito bom porém 0.6 pontos abaixo de BoJack Horseman. No geral, as avaliações dos longas aparentam ser menores em relação aos programas mais curtos, uma inversão curiosa do padrão visto até aqui, onde os longas tiveram avaliações em média mais alta do que os curtos.\n",
    "\n",
    "Isso pode aparentar que, por mais que os top 10 programas individuais longas tem avaliações menores do que os curtos, no catálogo como um todo eles possuem avaliações médias mais altas, indicando uma consistência de qualidade e satisfação do cliente maior com tais projetos."
   ]
  },
  {
   "attachments": {},
   "cell_type": "markdown",
   "metadata": {},
   "source": [
    "### Bônus: Quais correlações gerais podemos estrair dos dados?"
   ]
  },
  {
   "attachments": {},
   "cell_type": "markdown",
   "metadata": {},
   "source": [
    "Como um bônus de encerramento, vamos analisar as correlações entre as tabelas do Dataset e tentar aferir as características que vimos até aqui."
   ]
  },
  {
   "cell_type": "code",
   "execution_count": null,
   "metadata": {},
   "outputs": [
    {
     "data": {
      "text/html": [
       "<div>\n",
       "<style scoped>\n",
       "    .dataframe tbody tr th:only-of-type {\n",
       "        vertical-align: middle;\n",
       "    }\n",
       "\n",
       "    .dataframe tbody tr th {\n",
       "        vertical-align: top;\n",
       "    }\n",
       "\n",
       "    .dataframe thead th {\n",
       "        text-align: right;\n",
       "    }\n",
       "</style>\n",
       "<table border=\"1\" class=\"dataframe\">\n",
       "  <thead>\n",
       "    <tr style=\"text-align: right;\">\n",
       "      <th></th>\n",
       "      <th>release_year</th>\n",
       "      <th>ending_year</th>\n",
       "      <th>duration_min</th>\n",
       "      <th>rating</th>\n",
       "      <th>votes</th>\n",
       "    </tr>\n",
       "  </thead>\n",
       "  <tbody>\n",
       "    <tr>\n",
       "      <th>release_year</th>\n",
       "      <td>1.000000</td>\n",
       "      <td>0.017995</td>\n",
       "      <td>0.004520</td>\n",
       "      <td>0.176815</td>\n",
       "      <td>0.002592</td>\n",
       "    </tr>\n",
       "    <tr>\n",
       "      <th>ending_year</th>\n",
       "      <td>0.017995</td>\n",
       "      <td>1.000000</td>\n",
       "      <td>-0.281208</td>\n",
       "      <td>0.275709</td>\n",
       "      <td>0.066237</td>\n",
       "    </tr>\n",
       "    <tr>\n",
       "      <th>duration_min</th>\n",
       "      <td>0.004520</td>\n",
       "      <td>-0.281208</td>\n",
       "      <td>1.000000</td>\n",
       "      <td>-0.001992</td>\n",
       "      <td>0.156147</td>\n",
       "    </tr>\n",
       "    <tr>\n",
       "      <th>rating</th>\n",
       "      <td>0.176815</td>\n",
       "      <td>0.275709</td>\n",
       "      <td>-0.001992</td>\n",
       "      <td>1.000000</td>\n",
       "      <td>0.128175</td>\n",
       "    </tr>\n",
       "    <tr>\n",
       "      <th>votes</th>\n",
       "      <td>0.002592</td>\n",
       "      <td>0.066237</td>\n",
       "      <td>0.156147</td>\n",
       "      <td>0.128175</td>\n",
       "      <td>1.000000</td>\n",
       "    </tr>\n",
       "  </tbody>\n",
       "</table>\n",
       "</div>"
      ],
      "text/plain": [
       "              release_year  ending_year  duration_min    rating     votes\n",
       "release_year      1.000000     0.017995      0.004520  0.176815  0.002592\n",
       "ending_year       0.017995     1.000000     -0.281208  0.275709  0.066237\n",
       "duration_min      0.004520    -0.281208      1.000000 -0.001992  0.156147\n",
       "rating            0.176815     0.275709     -0.001992  1.000000  0.128175\n",
       "votes             0.002592     0.066237      0.156147  0.128175  1.000000"
      ]
     },
     "execution_count": 209,
     "metadata": {},
     "output_type": "execute_result"
    }
   ],
   "source": [
    "# Correlação do primeiro DataFrame:\n",
    "df_movies_clean.corr()"
   ]
  },
  {
   "cell_type": "code",
   "execution_count": null,
   "metadata": {},
   "outputs": [
    {
     "data": {
      "text/html": [
       "<div>\n",
       "<style scoped>\n",
       "    .dataframe tbody tr th:only-of-type {\n",
       "        vertical-align: middle;\n",
       "    }\n",
       "\n",
       "    .dataframe tbody tr th {\n",
       "        vertical-align: top;\n",
       "    }\n",
       "\n",
       "    .dataframe thead th {\n",
       "        text-align: right;\n",
       "    }\n",
       "</style>\n",
       "<table border=\"1\" class=\"dataframe\">\n",
       "  <thead>\n",
       "    <tr style=\"text-align: right;\">\n",
       "      <th></th>\n",
       "      <th>release_year</th>\n",
       "      <th>ending_year</th>\n",
       "      <th>duration_min</th>\n",
       "      <th>rating</th>\n",
       "      <th>votes</th>\n",
       "    </tr>\n",
       "  </thead>\n",
       "  <tbody>\n",
       "    <tr>\n",
       "      <th>release_year</th>\n",
       "      <td>1.000000</td>\n",
       "      <td>-0.051874</td>\n",
       "      <td>0.090713</td>\n",
       "      <td>-0.186243</td>\n",
       "      <td>-0.318940</td>\n",
       "    </tr>\n",
       "    <tr>\n",
       "      <th>ending_year</th>\n",
       "      <td>-0.051874</td>\n",
       "      <td>1.000000</td>\n",
       "      <td>0.170469</td>\n",
       "      <td>0.093072</td>\n",
       "      <td>-0.056761</td>\n",
       "    </tr>\n",
       "    <tr>\n",
       "      <th>duration_min</th>\n",
       "      <td>0.090713</td>\n",
       "      <td>0.170469</td>\n",
       "      <td>1.000000</td>\n",
       "      <td>0.331182</td>\n",
       "      <td>-0.120481</td>\n",
       "    </tr>\n",
       "    <tr>\n",
       "      <th>rating</th>\n",
       "      <td>-0.186243</td>\n",
       "      <td>0.093072</td>\n",
       "      <td>0.331182</td>\n",
       "      <td>1.000000</td>\n",
       "      <td>0.287831</td>\n",
       "    </tr>\n",
       "    <tr>\n",
       "      <th>votes</th>\n",
       "      <td>-0.318940</td>\n",
       "      <td>-0.056761</td>\n",
       "      <td>-0.120481</td>\n",
       "      <td>0.287831</td>\n",
       "      <td>1.000000</td>\n",
       "    </tr>\n",
       "  </tbody>\n",
       "</table>\n",
       "</div>"
      ],
      "text/plain": [
       "              release_year  ending_year  duration_min    rating     votes\n",
       "release_year      1.000000    -0.051874      0.090713 -0.186243 -0.318940\n",
       "ending_year      -0.051874     1.000000      0.170469  0.093072 -0.056761\n",
       "duration_min      0.090713     0.170469      1.000000  0.331182 -0.120481\n",
       "rating           -0.186243     0.093072      0.331182  1.000000  0.287831\n",
       "votes            -0.318940    -0.056761     -0.120481  0.287831  1.000000"
      ]
     },
     "execution_count": 210,
     "metadata": {},
     "output_type": "execute_result"
    }
   ],
   "source": [
    "# Correlação do segundo Dataframe:\n",
    "df_long_duration.corr()"
   ]
  },
  {
   "attachments": {},
   "cell_type": "markdown",
   "metadata": {},
   "source": [
    "Um ponto interessante é a têndencia préviamente observada de que projetos longos tem uma têndencia a ter avaliações mais altas e o inverso acontecendo no primeiro dataset.\n",
    "\n",
    "**df_movies_clean**\n",
    "\n",
    "    Correlação rating e duration_min:\n",
    "        -0.001992\n",
    "\n",
    "Uma correlação pequena, porem que tende para baixo. Ou seja, quanto maior a avaliação do projeto, menor ele é ou vice versa.\n",
    "\n",
    "**df_long_movies**\n",
    "\n",
    "    Correlação rating e duration_min:\n",
    "        0.331182\n",
    "\n",
    "Uma correlação bem mais pronunciada do que a do primeiro dataset. Quanto maior a avaliação do projeto, mais longo ele é, o inverso do ocorrido nos projetos menores, comprovando a tendência já observada ao longo das análises."
   ]
  }
 ],
 "metadata": {
  "kernelspec": {
   "display_name": "base",
   "language": "python",
   "name": "python3"
  },
  "language_info": {
   "codemirror_mode": {
    "name": "ipython",
    "version": 3
   },
   "file_extension": ".py",
   "mimetype": "text/x-python",
   "name": "python",
   "nbconvert_exporter": "python",
   "pygments_lexer": "ipython3",
   "version": "3.9.12"
  },
  "orig_nbformat": 4,
  "vscode": {
   "interpreter": {
    "hash": "594af92f1fbe2151803567768ef02c6f133f2dd09ab238e968f9d14c9ef1bc27"
   }
  }
 },
 "nbformat": 4,
 "nbformat_minor": 2
}

{
 "cells": [
  {
   "attachments": {},
   "cell_type": "markdown",
   "metadata": {},
   "source": [
    "# Filmes e Séries: Netflix"
   ]
  },
  {
   "attachments": {},
   "cell_type": "markdown",
   "metadata": {},
   "source": [
    "## Parte 1: Coleta e Análise Primária dos Dados"
   ]
  },
  {
   "cell_type": "code",
   "execution_count": 75,
   "metadata": {},
   "outputs": [],
   "source": [
    "# Importando as bibliotecas que serão utilizadas para a realização dos trabalhos:\n",
    "import pandas as pd\n",
    "import numpy as np\n",
    "import matplotlib\n",
    "import matplotlib.pyplot as plt\n",
    "import seaborn as sns\n",
    "import re\n",
    "\n",
    "# Definindo algumas configurações iniciais em relação a estilização e dimensões de gráficos \n",
    "# para plotagem posterior:\n",
    "sns.set(rc={'figure.figsize':(11.7, 8.27)})\n",
    "sns.set(style='darkgrid')"
   ]
  },
  {
   "cell_type": "code",
   "execution_count": 3,
   "metadata": {},
   "outputs": [],
   "source": [
    "# Criando o DataFrame:\n",
    "df_movies = pd.read_csv('data/netflix_movies.csv')"
   ]
  },
  {
   "cell_type": "code",
   "execution_count": 4,
   "metadata": {},
   "outputs": [
    {
     "data": {
      "text/html": [
       "<div>\n",
       "<style scoped>\n",
       "    .dataframe tbody tr th:only-of-type {\n",
       "        vertical-align: middle;\n",
       "    }\n",
       "\n",
       "    .dataframe tbody tr th {\n",
       "        vertical-align: top;\n",
       "    }\n",
       "\n",
       "    .dataframe thead th {\n",
       "        text-align: right;\n",
       "    }\n",
       "</style>\n",
       "<table border=\"1\" class=\"dataframe\">\n",
       "  <thead>\n",
       "    <tr style=\"text-align: right;\">\n",
       "      <th></th>\n",
       "      <th>title</th>\n",
       "      <th>year</th>\n",
       "      <th>certificate</th>\n",
       "      <th>duration</th>\n",
       "      <th>genre</th>\n",
       "      <th>rating</th>\n",
       "      <th>description</th>\n",
       "      <th>stars</th>\n",
       "      <th>votes</th>\n",
       "    </tr>\n",
       "  </thead>\n",
       "  <tbody>\n",
       "    <tr>\n",
       "      <th>0</th>\n",
       "      <td>Cobra Kai</td>\n",
       "      <td>(2018– )</td>\n",
       "      <td>TV-14</td>\n",
       "      <td>30 min</td>\n",
       "      <td>Action, Comedy, Drama</td>\n",
       "      <td>8.5</td>\n",
       "      <td>Decades after their 1984 All Valley Karate Tou...</td>\n",
       "      <td>['Ralph Macchio, ', 'William Zabka, ', 'Courtn...</td>\n",
       "      <td>177,031</td>\n",
       "    </tr>\n",
       "    <tr>\n",
       "      <th>1</th>\n",
       "      <td>The Crown</td>\n",
       "      <td>(2016– )</td>\n",
       "      <td>TV-MA</td>\n",
       "      <td>58 min</td>\n",
       "      <td>Biography, Drama, History</td>\n",
       "      <td>8.7</td>\n",
       "      <td>Follows the political rivalries and romance of...</td>\n",
       "      <td>['Claire Foy, ', 'Olivia Colman, ', 'Imelda St...</td>\n",
       "      <td>199,885</td>\n",
       "    </tr>\n",
       "    <tr>\n",
       "      <th>2</th>\n",
       "      <td>Better Call Saul</td>\n",
       "      <td>(2015–2022)</td>\n",
       "      <td>TV-MA</td>\n",
       "      <td>46 min</td>\n",
       "      <td>Crime, Drama</td>\n",
       "      <td>8.9</td>\n",
       "      <td>The trials and tribulations of criminal lawyer...</td>\n",
       "      <td>['Bob Odenkirk, ', 'Rhea Seehorn, ', 'Jonathan...</td>\n",
       "      <td>501,384</td>\n",
       "    </tr>\n",
       "    <tr>\n",
       "      <th>3</th>\n",
       "      <td>Devil in Ohio</td>\n",
       "      <td>(2022)</td>\n",
       "      <td>TV-MA</td>\n",
       "      <td>356 min</td>\n",
       "      <td>Drama, Horror, Mystery</td>\n",
       "      <td>5.9</td>\n",
       "      <td>When a psychiatrist shelters a mysterious cult...</td>\n",
       "      <td>['Emily Deschanel, ', 'Sam Jaeger, ', 'Gerardo...</td>\n",
       "      <td>9,773</td>\n",
       "    </tr>\n",
       "    <tr>\n",
       "      <th>4</th>\n",
       "      <td>Cyberpunk: Edgerunners</td>\n",
       "      <td>(2022– )</td>\n",
       "      <td>TV-MA</td>\n",
       "      <td>24 min</td>\n",
       "      <td>Animation, Action, Adventure</td>\n",
       "      <td>8.6</td>\n",
       "      <td>A Street Kid trying to survive in a technology...</td>\n",
       "      <td>['Zach Aguilar, ', 'Kenichiro Ohashi, ', 'Emi ...</td>\n",
       "      <td>15,413</td>\n",
       "    </tr>\n",
       "  </tbody>\n",
       "</table>\n",
       "</div>"
      ],
      "text/plain": [
       "                    title         year certificate duration  \\\n",
       "0               Cobra Kai     (2018– )       TV-14   30 min   \n",
       "1               The Crown     (2016– )       TV-MA   58 min   \n",
       "2        Better Call Saul  (2015–2022)       TV-MA   46 min   \n",
       "3           Devil in Ohio       (2022)       TV-MA  356 min   \n",
       "4  Cyberpunk: Edgerunners     (2022– )       TV-MA   24 min   \n",
       "\n",
       "                          genre  rating  \\\n",
       "0         Action, Comedy, Drama     8.5   \n",
       "1     Biography, Drama, History     8.7   \n",
       "2                  Crime, Drama     8.9   \n",
       "3        Drama, Horror, Mystery     5.9   \n",
       "4  Animation, Action, Adventure     8.6   \n",
       "\n",
       "                                         description  \\\n",
       "0  Decades after their 1984 All Valley Karate Tou...   \n",
       "1  Follows the political rivalries and romance of...   \n",
       "2  The trials and tribulations of criminal lawyer...   \n",
       "3  When a psychiatrist shelters a mysterious cult...   \n",
       "4  A Street Kid trying to survive in a technology...   \n",
       "\n",
       "                                               stars    votes  \n",
       "0  ['Ralph Macchio, ', 'William Zabka, ', 'Courtn...  177,031  \n",
       "1  ['Claire Foy, ', 'Olivia Colman, ', 'Imelda St...  199,885  \n",
       "2  ['Bob Odenkirk, ', 'Rhea Seehorn, ', 'Jonathan...  501,384  \n",
       "3  ['Emily Deschanel, ', 'Sam Jaeger, ', 'Gerardo...    9,773  \n",
       "4  ['Zach Aguilar, ', 'Kenichiro Ohashi, ', 'Emi ...   15,413  "
      ]
     },
     "execution_count": 4,
     "metadata": {},
     "output_type": "execute_result"
    }
   ],
   "source": [
    "# Visualizando os primeiros 5 registros do DataFrame\n",
    "df_movies.head()"
   ]
  },
  {
   "cell_type": "code",
   "execution_count": 5,
   "metadata": {},
   "outputs": [
    {
     "data": {
      "text/html": [
       "<div>\n",
       "<style scoped>\n",
       "    .dataframe tbody tr th:only-of-type {\n",
       "        vertical-align: middle;\n",
       "    }\n",
       "\n",
       "    .dataframe tbody tr th {\n",
       "        vertical-align: top;\n",
       "    }\n",
       "\n",
       "    .dataframe thead th {\n",
       "        text-align: right;\n",
       "    }\n",
       "</style>\n",
       "<table border=\"1\" class=\"dataframe\">\n",
       "  <thead>\n",
       "    <tr style=\"text-align: right;\">\n",
       "      <th></th>\n",
       "      <th>title</th>\n",
       "      <th>year</th>\n",
       "      <th>certificate</th>\n",
       "      <th>duration</th>\n",
       "      <th>genre</th>\n",
       "      <th>rating</th>\n",
       "      <th>description</th>\n",
       "      <th>stars</th>\n",
       "      <th>votes</th>\n",
       "    </tr>\n",
       "  </thead>\n",
       "  <tbody>\n",
       "    <tr>\n",
       "      <th>5401</th>\n",
       "      <td>My Little Pony: Equestria Girls Specials</td>\n",
       "      <td>(2017)</td>\n",
       "      <td>TV-Y</td>\n",
       "      <td>22 min</td>\n",
       "      <td>Animation, Comedy, Family</td>\n",
       "      <td>6.6</td>\n",
       "      <td>Three short stories involve the EQ Girls striv...</td>\n",
       "      <td>['Tara Strong, ', 'Ashleigh Ball, ', 'Tabitha ...</td>\n",
       "      <td>667</td>\n",
       "    </tr>\n",
       "    <tr>\n",
       "      <th>4035</th>\n",
       "      <td>Drug Lords</td>\n",
       "      <td>(2018– )</td>\n",
       "      <td>TV-MA</td>\n",
       "      <td>42 min</td>\n",
       "      <td>Documentary</td>\n",
       "      <td>6.8</td>\n",
       "      <td>Documentary series examining drug cartels and ...</td>\n",
       "      <td>['Quinn Dalton, ', 'Jordan Lawson, ', 'Razor R...</td>\n",
       "      <td>1,360</td>\n",
       "    </tr>\n",
       "    <tr>\n",
       "      <th>5833</th>\n",
       "      <td>How to Eliminate My Teacher</td>\n",
       "      <td>(2020)</td>\n",
       "      <td>NaN</td>\n",
       "      <td>24 min</td>\n",
       "      <td>Mystery, Thriller</td>\n",
       "      <td>4.6</td>\n",
       "      <td>Teichi Gakuen is an advanced school in Tokyo w...</td>\n",
       "      <td>['Ikuho Akiya, ', 'Riko Kawase, ', 'Sayu Kubot...</td>\n",
       "      <td>79</td>\n",
       "    </tr>\n",
       "    <tr>\n",
       "      <th>7232</th>\n",
       "      <td>The Standoff</td>\n",
       "      <td>(I)</td>\n",
       "      <td>NaN</td>\n",
       "      <td>NaN</td>\n",
       "      <td>Drama</td>\n",
       "      <td>NaN</td>\n",
       "      <td>Film takes place in December, 1969, when a new...</td>\n",
       "      <td>['Justin Lin']</td>\n",
       "      <td>NaN</td>\n",
       "    </tr>\n",
       "    <tr>\n",
       "      <th>9616</th>\n",
       "      <td>The Minions of Midas</td>\n",
       "      <td>(2020)</td>\n",
       "      <td>TV-MA</td>\n",
       "      <td>53 min</td>\n",
       "      <td>Crime, Drama, Thriller</td>\n",
       "      <td>6.9</td>\n",
       "      <td>The plot thickens when the extortionists carry...</td>\n",
       "      <td>['Mateo Gil', '| ', '    Stars:', 'Luis Tosar,...</td>\n",
       "      <td>147</td>\n",
       "    </tr>\n",
       "  </tbody>\n",
       "</table>\n",
       "</div>"
      ],
      "text/plain": [
       "                                         title      year certificate duration  \\\n",
       "5401  My Little Pony: Equestria Girls Specials    (2017)        TV-Y   22 min   \n",
       "4035                                Drug Lords  (2018– )       TV-MA   42 min   \n",
       "5833               How to Eliminate My Teacher    (2020)         NaN   24 min   \n",
       "7232                              The Standoff       (I)         NaN      NaN   \n",
       "9616                      The Minions of Midas    (2020)       TV-MA   53 min   \n",
       "\n",
       "                          genre  rating  \\\n",
       "5401  Animation, Comedy, Family     6.6   \n",
       "4035                Documentary     6.8   \n",
       "5833          Mystery, Thriller     4.6   \n",
       "7232                      Drama     NaN   \n",
       "9616     Crime, Drama, Thriller     6.9   \n",
       "\n",
       "                                            description  \\\n",
       "5401  Three short stories involve the EQ Girls striv...   \n",
       "4035  Documentary series examining drug cartels and ...   \n",
       "5833  Teichi Gakuen is an advanced school in Tokyo w...   \n",
       "7232  Film takes place in December, 1969, when a new...   \n",
       "9616  The plot thickens when the extortionists carry...   \n",
       "\n",
       "                                                  stars  votes  \n",
       "5401  ['Tara Strong, ', 'Ashleigh Ball, ', 'Tabitha ...    667  \n",
       "4035  ['Quinn Dalton, ', 'Jordan Lawson, ', 'Razor R...  1,360  \n",
       "5833  ['Ikuho Akiya, ', 'Riko Kawase, ', 'Sayu Kubot...     79  \n",
       "7232                                     ['Justin Lin']    NaN  \n",
       "9616  ['Mateo Gil', '| ', '    Stars:', 'Luis Tosar,...    147  "
      ]
     },
     "execution_count": 5,
     "metadata": {},
     "output_type": "execute_result"
    }
   ],
   "source": [
    "# Visualizando um sample aleatório do DataFrame:\n",
    "df_movies.sample(5)"
   ]
  },
  {
   "cell_type": "code",
   "execution_count": 6,
   "metadata": {},
   "outputs": [
    {
     "data": {
      "text/plain": [
       "(9957, 9)"
      ]
     },
     "execution_count": 6,
     "metadata": {},
     "output_type": "execute_result"
    }
   ],
   "source": [
    "# Determinando as dimensões do DataFrame:\n",
    "df_movies.shape"
   ]
  },
  {
   "attachments": {},
   "cell_type": "markdown",
   "metadata": {},
   "source": [
    "Com essa informação, sabemos que nosso DataFrame é composto por **9957 linhas** e **9 colunas**."
   ]
  },
  {
   "cell_type": "code",
   "execution_count": 7,
   "metadata": {},
   "outputs": [
    {
     "name": "stdout",
     "output_type": "stream",
     "text": [
      "<class 'pandas.core.frame.DataFrame'>\n",
      "RangeIndex: 9957 entries, 0 to 9956\n",
      "Data columns (total 9 columns):\n",
      " #   Column       Non-Null Count  Dtype  \n",
      "---  ------       --------------  -----  \n",
      " 0   title        9957 non-null   object \n",
      " 1   year         9430 non-null   object \n",
      " 2   certificate  6504 non-null   object \n",
      " 3   duration     7921 non-null   object \n",
      " 4   genre        9884 non-null   object \n",
      " 5   rating       8784 non-null   float64\n",
      " 6   description  9957 non-null   object \n",
      " 7   stars        9957 non-null   object \n",
      " 8   votes        8784 non-null   object \n",
      "dtypes: float64(1), object(8)\n",
      "memory usage: 700.2+ KB\n"
     ]
    }
   ],
   "source": [
    "# Coletando mais informações acerca do DataFrame utilizando o comando .info():\n",
    "df_movies.info()"
   ]
  },
  {
   "attachments": {},
   "cell_type": "markdown",
   "metadata": {},
   "source": [
    "Utilizando o comando .info(), podemos estrair algumas informações iniciais importantes sobre os dados:\n",
    "\n",
    "- Apenas as colunas **`title`**, **`description`** e **`stars`** possuem registros completos sem valores nulos;\n",
    "\n",
    "- Das 9 colunas, 8 estão no formato *object* (string), sendo que algumas delas como as colunas `year` e `votes` por exemplo poderiam e deveriam estar em valores numéricos.\n",
    "\n",
    "A seguir, iremos realizar uma checagem mais focada nos dados faltantes do DataFrame:"
   ]
  },
  {
   "cell_type": "code",
   "execution_count": 8,
   "metadata": {},
   "outputs": [
    {
     "data": {
      "text/plain": [
       "certificate    34.6791\n",
       "duration       20.4479\n",
       "rating         11.7807\n",
       "votes          11.7807\n",
       "year            5.2928\n",
       "genre           0.7332\n",
       "title           0.0000\n",
       "description     0.0000\n",
       "stars           0.0000\n",
       "dtype: float64"
      ]
     },
     "execution_count": 8,
     "metadata": {},
     "output_type": "execute_result"
    }
   ],
   "source": [
    "# Checando porcentagem de dados faltantes no DataFrame:\n",
    "(((df_movies.isnull().sum() / df_movies.shape[0]) * 100).sort_values(ascending=False)).round(4)"
   ]
  },
  {
   "attachments": {},
   "cell_type": "markdown",
   "metadata": {},
   "source": [
    "Dos registros presentes nas 9 colunas do DataFrame, as colunas:\n",
    "\n",
    "- **`certificate`** possui 34.68% de valores nulos;\n",
    "\n",
    "- **`duration`** possui 20.45% de valores nulos;\n",
    "\n",
    "- **`rating`** e **`votes`** possuem 11.78% de valores nulos;\n",
    "\n",
    "- **`year`** possui 5.29% de valores nulos;\n",
    "\n",
    "- **`genre`** possui 0.73% de valores nulos."
   ]
  },
  {
   "attachments": {},
   "cell_type": "markdown",
   "metadata": {},
   "source": [
    "### Dicionário de Variáveis"
   ]
  },
  {
   "attachments": {},
   "cell_type": "markdown",
   "metadata": {},
   "source": [
    "Para termos uma compreensão ainda maior acerca dos nossos dados, realizaremos uma descrição de cada uma das colunas presentes no DataFrame, entrando em detalhes onde for necessário:\n",
    "\n",
    "- **`title`** - Título da obra (séries, filmes, etc);\n",
    "\n",
    "- **`year`** - Tupla que contém duas datas: (ano_de_lançamento - ano de encerramento), tendo uma diferença entre obras \"únicas\" como filmes e obras \"contínuas\" como Séries:\n",
    "    \n",
    "    - *Séries*: (ano_estreia_primeiro_ep - ano_estreia_útlimo_ep) ou apenas (ano_estreia_primeiro_ep - );\n",
    "    \n",
    "    - *Filmes*: (ano_lançamento)\n",
    "\n",
    "- **`certificate`** - Certificado de classificação, em formatos distintos para cada tipo de mídia e baseados em diferentes métricas de avaliação de conteúdo (essa é a coluna mais complexa do DataFrame, onde as definições a seguir foram baseadas em pesquisas realizadas acerca de cada tipo de certificado):\n",
    "\n",
    "    - *Programas Televisivos: TV Parental Guidelines*\n",
    "\n",
    "        - **TV-14**: Não recomendado para menores de 14 anos;\n",
    "        \n",
    "        - **TV-MA**: Audiência madura - Não recomendado para menores de 17 anos;\n",
    "        \n",
    "        - **TV-PG**: Conteúdos recomendados para serem consumidos com orientação parental;\n",
    "\n",
    "        - **TV-Y7-FV**: Não recomendado para menores de 7 anos, contém violência fantasiosa;\n",
    "\n",
    "        - **TV-G**: Recomendado para todos os públicos;\n",
    "\n",
    "        - **TV-Y7**: Não recomendado para menores de 7 anos;\n",
    "\n",
    "        - **TV-Y**: Conteúdo infantil.\n",
    "\n",
    "    - *Filmes: Motion Picture Association film rating system*\n",
    "\n",
    "        - **NC-17**: Ninguém com 17 anos ou menos admitido;\n",
    "\n",
    "        - **R**: Menores de 17 anos requerem acompanhamento dos pais ou responsáveis adultos;\n",
    "\n",
    "        - **PG-13**: Alguns materiais podem ser impróprios para crianças menores de 13 anos;\n",
    "\n",
    "        - **PG**: Parte do material pode não ser adequado para crianças;\n",
    "\n",
    "        - **G**: Todas as idades admitidas.\n",
    "\n",
    "    - *Entertainment Software Rating Board*\n",
    "\n",
    "        - **M (Mature)**: Não recomendado para menores de 17 anos;\n",
    "\n",
    "        - **E10+**: Recomendado para públicos a partir de 10 anos.\n",
    "\n",
    "    - *Outros formatos de avaliação presentes*\n",
    "\n",
    "        - **Not Rated/Unrated**: Sem classificação. Significa que a mídia específica não foi classificada por meio de um processo de classificação. Isso geralmente implica que um trabalho nunca foi autoclassificado ou submetido a um órgão de classificação por diversos motivos como, por exemplo, devido a natureza do trabalho (como um evento esportivo) ou por motivos orçamentários;\n",
    "\n",
    "        - **Approved/Passed**: Sob o [Código Hays](https://www.megacurioso.com.br/artes-cultura/123329-codigo-hays-as-regras-que-censuravam-filmes-na-era-de-ouro-de-hollywood.htm), os filmes eram simplesmente aprovados ou reprovados com base no fato de serem considerados \"morais\" ou \"imorais\". Esse tipo de avaliação é específico para o recorte histórico durante a década de 1930.\n",
    "\n",
    "        - **12**: Não recomendado para menores de 12 anos;\n",
    "\n",
    "        - **MA-17**: Não recomendado para menores de 17 anos.\n",
    "\n",
    "- **`duration`** - Duração do filme ou duração dos episódios de Séries (em minutos);\n",
    "\n",
    "- **`genre`** - Gênero(s) da obra;\n",
    "\n",
    "- **`rating`** - Nota de avaliação [IMDb](https://www.imdb.com/);\n",
    "\n",
    "- **`description`** - Sinópse da obra;\n",
    "\n",
    "- **`stars`** - Atores de destaque;\n",
    "\n",
    "- **`votes`** - Quantidade de votos no IMDb.\n",
    "\n"
   ]
  },
  {
   "attachments": {},
   "cell_type": "markdown",
   "metadata": {},
   "source": [
    "## Parte 2: Tratamento dos Dados"
   ]
  },
  {
   "attachments": {},
   "cell_type": "markdown",
   "metadata": {},
   "source": [
    "Para que se possa ter resultados precisos na análise, é necessário a limpeza e tratamento de dados no DataFrame. Para iniciarmos esse processo, vamos checar novamente os data types das colunas:"
   ]
  },
  {
   "cell_type": "code",
   "execution_count": 9,
   "metadata": {},
   "outputs": [
    {
     "data": {
      "text/plain": [
       "title           object\n",
       "year            object\n",
       "certificate     object\n",
       "duration        object\n",
       "genre           object\n",
       "rating         float64\n",
       "description     object\n",
       "stars           object\n",
       "votes           object\n",
       "dtype: object"
      ]
     },
     "execution_count": 9,
     "metadata": {},
     "output_type": "execute_result"
    }
   ],
   "source": [
    "# Checando os data types:\n",
    "df_movies.dtypes"
   ]
  },
  {
   "cell_type": "code",
   "execution_count": 10,
   "metadata": {},
   "outputs": [
    {
     "data": {
      "text/html": [
       "<div>\n",
       "<style scoped>\n",
       "    .dataframe tbody tr th:only-of-type {\n",
       "        vertical-align: middle;\n",
       "    }\n",
       "\n",
       "    .dataframe tbody tr th {\n",
       "        vertical-align: top;\n",
       "    }\n",
       "\n",
       "    .dataframe thead th {\n",
       "        text-align: right;\n",
       "    }\n",
       "</style>\n",
       "<table border=\"1\" class=\"dataframe\">\n",
       "  <thead>\n",
       "    <tr style=\"text-align: right;\">\n",
       "      <th></th>\n",
       "      <th>title</th>\n",
       "      <th>year</th>\n",
       "      <th>certificate</th>\n",
       "      <th>duration</th>\n",
       "      <th>genre</th>\n",
       "      <th>rating</th>\n",
       "      <th>description</th>\n",
       "      <th>stars</th>\n",
       "      <th>votes</th>\n",
       "    </tr>\n",
       "  </thead>\n",
       "  <tbody>\n",
       "    <tr>\n",
       "      <th>0</th>\n",
       "      <td>Cobra Kai</td>\n",
       "      <td>(2018– )</td>\n",
       "      <td>TV-14</td>\n",
       "      <td>30 min</td>\n",
       "      <td>Action, Comedy, Drama</td>\n",
       "      <td>8.5</td>\n",
       "      <td>Decades after their 1984 All Valley Karate Tou...</td>\n",
       "      <td>['Ralph Macchio, ', 'William Zabka, ', 'Courtn...</td>\n",
       "      <td>177,031</td>\n",
       "    </tr>\n",
       "  </tbody>\n",
       "</table>\n",
       "</div>"
      ],
      "text/plain": [
       "       title      year certificate duration                  genre  rating  \\\n",
       "0  Cobra Kai  (2018– )       TV-14   30 min  Action, Comedy, Drama     8.5   \n",
       "\n",
       "                                         description  \\\n",
       "0  Decades after their 1984 All Valley Karate Tou...   \n",
       "\n",
       "                                               stars    votes  \n",
       "0  ['Ralph Macchio, ', 'William Zabka, ', 'Courtn...  177,031  "
      ]
     },
     "execution_count": 10,
     "metadata": {},
     "output_type": "execute_result"
    }
   ],
   "source": [
    "# Puxando apenas uma linha do DataFrame para visualizarmos melhor os dados:\n",
    "df_movies.head(1)"
   ]
  },
  {
   "attachments": {},
   "cell_type": "markdown",
   "metadata": {},
   "source": [
    "Algumas conclusões preliminares podem ser feitas sobre certas colunas:\n",
    "\n",
    "- **`year`**: O formato dessa coluna é menos que ideal para as análises, sendo assim, algumas mudanças serão realizadas nela. Primeiramente dividi-la em duas colunas diferentes, cada uma contendo o ano de lançamento e o ano de encerramento respectivamente. Já que filmes somente possuem o primeiro valor (lançamento), iremos utilizar 0 como placeholder na segunda coluna (ano de encerramento);\n",
    "\n",
    "- **`duration`**: Para facilitar as análises, será adaptada para em seu título informar a métrica de tempo usada (minutos) e apenas numeração nos dados em si;\n",
    "\n",
    "- **`votes`**: Trasformar o data type para tipo float."
   ]
  },
  {
   "cell_type": "code",
   "execution_count": 11,
   "metadata": {},
   "outputs": [],
   "source": [
    "# Criação de uma cópia do DataFrame onde será realizada a limpeza e tratativa dos dados:\n",
    "df_movies_clean = df_movies.copy()"
   ]
  },
  {
   "attachments": {},
   "cell_type": "markdown",
   "metadata": {},
   "source": [
    "### Tratamento: Coluna year"
   ]
  },
  {
   "attachments": {},
   "cell_type": "markdown",
   "metadata": {},
   "source": [
    "Para podermos criar duas colunas a partir da coluna year, onde cada uma irá conter o ano de lançamento e ano de encerramento respectivamente, iremos utilizar o método regex para auxiliar nessa operação, onde necessitamos apenas dos valores numéricos que representam os anos:"
   ]
  },
  {
   "cell_type": "code",
   "execution_count": 12,
   "metadata": {},
   "outputs": [],
   "source": [
    "# Criando uma variável que contém dado Regex para remoção (Remover tudo que não seja número da string):\n",
    "remove = r'[^0-9]+'"
   ]
  },
  {
   "cell_type": "code",
   "execution_count": 13,
   "metadata": {},
   "outputs": [
    {
     "data": {
      "text/plain": [
       "8974    20192020\n",
       "5783        2020\n",
       "5612        2009\n",
       "9576        2016\n",
       "7522        2015\n",
       "Name: year, dtype: object"
      ]
     },
     "execution_count": 13,
     "metadata": {},
     "output_type": "execute_result"
    }
   ],
   "source": [
    "# Utilizando método apply para limpar caracteres indesejáveis da coluna year aplicando a variável regex:\n",
    "df_movies_clean['year'] = df_movies['year'].apply(\n",
    "    lambda x: re.sub(remove, '', str(x))\n",
    ")\n",
    "\n",
    "# Checando novos dados da coluna year:\n",
    "df_movies_clean['year'].sample(5)"
   ]
  },
  {
   "attachments": {},
   "cell_type": "markdown",
   "metadata": {},
   "source": [
    "Com apenas valores numéricos presentes na tabela year, podemos criar as duas novas colunas constando os anos de lançamento e encerramento:"
   ]
  },
  {
   "cell_type": "code",
   "execution_count": 14,
   "metadata": {},
   "outputs": [
    {
     "data": {
      "text/plain": [
       "2207        \n",
       "362     2020\n",
       "82      2012\n",
       "8253    2006\n",
       "4576    2012\n",
       "Name: release_year, dtype: object"
      ]
     },
     "execution_count": 14,
     "metadata": {},
     "output_type": "execute_result"
    }
   ],
   "source": [
    "# Criando nova coluna que consta o primeiro ano da tabela year (ano de lançamento):\n",
    "df_movies_clean['release_year'] = df_movies_clean['year'].apply(\n",
    "    lambda x: str(x)[:4] if len(str(x)) == 8 else x\n",
    ")\n",
    "\n",
    "# Checando novos dados:\n",
    "df_movies_clean['release_year'].sample(5)"
   ]
  },
  {
   "cell_type": "code",
   "execution_count": 15,
   "metadata": {},
   "outputs": [
    {
     "data": {
      "text/plain": [
       "4591    0\n",
       "3427    0\n",
       "5811    0\n",
       "2633    0\n",
       "1939    0\n",
       "Name: ending_year, dtype: object"
      ]
     },
     "execution_count": 15,
     "metadata": {},
     "output_type": "execute_result"
    }
   ],
   "source": [
    "# Criando nova coluna que consta o últímo ano da tabela year (ano de encerramento).\n",
    "# Caso não exista (como no caso de filmes), colocar 0:\n",
    "df_movies_clean['ending_year'] = df_movies_clean['year'].apply(\n",
    "    lambda x: str(x)[-4:] if len(str(x)) == 8 else 0\n",
    ")\n",
    "\n",
    "# Checando resultados:\n",
    "df_movies_clean['ending_year'].sample(5)"
   ]
  },
  {
   "attachments": {},
   "cell_type": "markdown",
   "metadata": {},
   "source": [
    "É necessário agora conferir a integridade dos dados de ambas as novas colunas, checando por valores vazios:"
   ]
  },
  {
   "cell_type": "code",
   "execution_count": 16,
   "metadata": {},
   "outputs": [
    {
     "data": {
      "text/plain": [
       "631"
      ]
     },
     "execution_count": 16,
     "metadata": {},
     "output_type": "execute_result"
    }
   ],
   "source": [
    "# Checando dados vazios da coluna release_year:\n",
    "df_movies_clean.loc[(df_movies_clean['release_year'] == \"\"), 'release_year'].count()"
   ]
  },
  {
   "cell_type": "code",
   "execution_count": 17,
   "metadata": {},
   "outputs": [
    {
     "data": {
      "text/plain": [
       "0"
      ]
     },
     "execution_count": 17,
     "metadata": {},
     "output_type": "execute_result"
    }
   ],
   "source": [
    "# Checando dados vazios da coluna ending_year:\n",
    "df_movies_clean.loc[(df_movies_clean['ending_year'] == \"\"), 'ending_year'].count()"
   ]
  },
  {
   "attachments": {},
   "cell_type": "markdown",
   "metadata": {},
   "source": [
    "A coluna `release_year` possui 631 registros faltantes, já a coluna `ending_year` não possui nenhum."
   ]
  },
  {
   "cell_type": "code",
   "execution_count": 18,
   "metadata": {},
   "outputs": [],
   "source": [
    "# Tratando dados faltantes da coluna release_year:\n",
    "df_movies_clean['release_year'] = df_movies_clean['release_year'].apply(\n",
    "    lambda x: 0 if str(x).isalnum() == False else x\n",
    ")"
   ]
  },
  {
   "attachments": {},
   "cell_type": "markdown",
   "metadata": {},
   "source": [
    "Com nossas duas novas colunas de anos, basta transforma-las para o tipo numérico de dados:"
   ]
  },
  {
   "cell_type": "code",
   "execution_count": 19,
   "metadata": {},
   "outputs": [],
   "source": [
    "# Transformando dados nas colunas de release_year e ending_year para int:\n",
    "df_movies_clean['release_year'] = df_movies_clean['release_year'].astype(int)\n",
    "df_movies_clean['ending_year'] = df_movies_clean['ending_year'].astype(int)"
   ]
  },
  {
   "attachments": {},
   "cell_type": "markdown",
   "metadata": {},
   "source": [
    "### Tratamento: Coluna duration"
   ]
  },
  {
   "attachments": {},
   "cell_type": "markdown",
   "metadata": {},
   "source": [
    "Como analisado previamente, a coluna `duration` pode ter sua métrica de tempo (minutos) destacada no header e os dados apenas em valores numéricos. Sendo assim, primeiramente se faz necessário remover as letras \"min\" da coluna:"
   ]
  },
  {
   "cell_type": "code",
   "execution_count": 20,
   "metadata": {},
   "outputs": [
    {
     "data": {
      "text/plain": [
       "6540     0\n",
       "5645     0\n",
       "1159    86\n",
       "5083     0\n",
       "205     40\n",
       "Name: duration, dtype: object"
      ]
     },
     "execution_count": 20,
     "metadata": {},
     "output_type": "execute_result"
    }
   ],
   "source": [
    "# Limpando a coluna duration para retirada de letras:\n",
    "df_movies_clean['duration'] = df_movies_clean['duration'].apply(\n",
    "    lambda x: 0 if str(x) == 'nan' else str(x)[:-4]\n",
    ")\n",
    "\n",
    "# Checando um sample dos resultados:\n",
    "df_movies_clean['duration'].sample(5)"
   ]
  },
  {
   "cell_type": "code",
   "execution_count": 21,
   "metadata": {},
   "outputs": [],
   "source": [
    "# Transformando a coluna duration para int\n",
    "df_movies_clean['duration'] = df_movies_clean['duration'].astype(int)"
   ]
  },
  {
   "cell_type": "code",
   "execution_count": 22,
   "metadata": {},
   "outputs": [],
   "source": [
    "# Renomeando coluna duration para informar que a mesma está em minutos:\n",
    "df_movies_clean.columns = df_movies_clean.columns.str.replace('duration', 'duration_min')"
   ]
  },
  {
   "attachments": {},
   "cell_type": "markdown",
   "metadata": {},
   "source": [
    "### Tratamento: Coluna votes"
   ]
  },
  {
   "attachments": {},
   "cell_type": "markdown",
   "metadata": {},
   "source": [
    "A coluna `votes` será tratada da seguinte maneira: Substituindo valores nulos por 0, retirando vírgulas dos dados e os transformando em números inteiros."
   ]
  },
  {
   "cell_type": "code",
   "execution_count": 23,
   "metadata": {},
   "outputs": [],
   "source": [
    "# Substituíndo valores nulos para 0:\n",
    "df_movies_clean['votes'] = df_movies_clean['votes'].apply(\n",
    "    lambda x: 0 if str(x) == 'nan' else x\n",
    ")"
   ]
  },
  {
   "cell_type": "code",
   "execution_count": 24,
   "metadata": {},
   "outputs": [],
   "source": [
    "# Retirando vírgulas:\n",
    "df_movies_clean['votes'] = df_movies_clean['votes'].apply(\n",
    "    lambda x: str(x).replace(',','')\n",
    ")"
   ]
  },
  {
   "cell_type": "code",
   "execution_count": 25,
   "metadata": {},
   "outputs": [],
   "source": [
    "# Passando valores para int:\n",
    "df_movies_clean['votes'] = df_movies_clean['votes'].astype(int)"
   ]
  },
  {
   "cell_type": "code",
   "execution_count": 26,
   "metadata": {},
   "outputs": [
    {
     "data": {
      "text/plain": [
       "6618      49\n",
       "9058     171\n",
       "3369    4772\n",
       "2711    6715\n",
       "5686    2298\n",
       "Name: votes, dtype: int32"
      ]
     },
     "execution_count": 26,
     "metadata": {},
     "output_type": "execute_result"
    }
   ],
   "source": [
    "# Visualizando resultados:\n",
    "df_movies_clean['votes'].sample(5)"
   ]
  },
  {
   "attachments": {},
   "cell_type": "markdown",
   "metadata": {},
   "source": [
    "### Tratamento: Colunas Stars, Certificate, Rating e Genre"
   ]
  },
  {
   "attachments": {},
   "cell_type": "markdown",
   "metadata": {},
   "source": [
    "Como essas colunas necessitam apenas de correções básicas, elas estão agrupadas num único capítulo."
   ]
  },
  {
   "attachments": {},
   "cell_type": "markdown",
   "metadata": {},
   "source": [
    "- Coluna Stars:"
   ]
  },
  {
   "cell_type": "code",
   "execution_count": 27,
   "metadata": {},
   "outputs": [],
   "source": [
    "# Substituíndo valores nulos por [not informed]:\n",
    "df_movies_clean['stars'] = df_movies_clean['stars'].apply(\n",
    "    lambda x: '[Not Informed]' if str(x) == '[]' else x\n",
    ")"
   ]
  },
  {
   "attachments": {},
   "cell_type": "markdown",
   "metadata": {},
   "source": [
    "- Coluna Certificate:"
   ]
  },
  {
   "cell_type": "code",
   "execution_count": 28,
   "metadata": {},
   "outputs": [],
   "source": [
    "# Substituíndo valores nulos por [not informed]:\n",
    "df_movies_clean['certificate'] = df_movies_clean['certificate'].apply(\n",
    "    lambda x: '[Not Informed]' if str(x) == 'nan' else x\n",
    ")"
   ]
  },
  {
   "attachments": {},
   "cell_type": "markdown",
   "metadata": {},
   "source": [
    "- Coluna Rating"
   ]
  },
  {
   "cell_type": "code",
   "execution_count": 29,
   "metadata": {},
   "outputs": [],
   "source": [
    "# Substituindo valores nulos por 0\n",
    "df_movies_clean['rating'] = df_movies_clean['rating'].apply(\n",
    "    lambda x: 0 if str(x) == 'nan' else x\n",
    ")"
   ]
  },
  {
   "attachments": {},
   "cell_type": "markdown",
   "metadata": {},
   "source": [
    "- Coluna genre"
   ]
  },
  {
   "cell_type": "code",
   "execution_count": 30,
   "metadata": {},
   "outputs": [],
   "source": [
    "# Substituindo valores nulos por [not informed]\n",
    "df_movies_clean['genre'] = df_movies_clean['genre'].apply(\n",
    "    lambda x: '[Not informed]' if str(x) == 'nan' else x\n",
    ")"
   ]
  },
  {
   "attachments": {},
   "cell_type": "markdown",
   "metadata": {},
   "source": [
    "Com essas alterações feitas, o DataFrame se encontra em condições apropriadas para análises e retirada de insights. Como última alteração, a sequência das colunas será alterada para melhor visualização:"
   ]
  },
  {
   "cell_type": "code",
   "execution_count": 31,
   "metadata": {},
   "outputs": [
    {
     "data": {
      "text/html": [
       "<div>\n",
       "<style scoped>\n",
       "    .dataframe tbody tr th:only-of-type {\n",
       "        vertical-align: middle;\n",
       "    }\n",
       "\n",
       "    .dataframe tbody tr th {\n",
       "        vertical-align: top;\n",
       "    }\n",
       "\n",
       "    .dataframe thead th {\n",
       "        text-align: right;\n",
       "    }\n",
       "</style>\n",
       "<table border=\"1\" class=\"dataframe\">\n",
       "  <thead>\n",
       "    <tr style=\"text-align: right;\">\n",
       "      <th></th>\n",
       "      <th>title</th>\n",
       "      <th>release_year</th>\n",
       "      <th>ending_year</th>\n",
       "      <th>certificate</th>\n",
       "      <th>duration_min</th>\n",
       "      <th>genre</th>\n",
       "      <th>rating</th>\n",
       "      <th>description</th>\n",
       "      <th>stars</th>\n",
       "      <th>votes</th>\n",
       "    </tr>\n",
       "  </thead>\n",
       "  <tbody>\n",
       "    <tr>\n",
       "      <th>8552</th>\n",
       "      <td>The Pentaverate</td>\n",
       "      <td>2022</td>\n",
       "      <td>0</td>\n",
       "      <td>TV-MA</td>\n",
       "      <td>28</td>\n",
       "      <td>Comedy</td>\n",
       "      <td>6.8</td>\n",
       "      <td>As the Meadows draws near, professor Clark att...</td>\n",
       "      <td>['Tim Kirkby', '| ', '    Stars:', 'Mike Myers...</td>\n",
       "      <td>368</td>\n",
       "    </tr>\n",
       "    <tr>\n",
       "      <th>7369</th>\n",
       "      <td>Once and for All</td>\n",
       "      <td>0</td>\n",
       "      <td>0</td>\n",
       "      <td>[Not Informed]</td>\n",
       "      <td>0</td>\n",
       "      <td>Drama, Romance</td>\n",
       "      <td>0.0</td>\n",
       "      <td>After years facing brides with cold feet and b...</td>\n",
       "      <td>[Not Informed]</td>\n",
       "      <td>0</td>\n",
       "    </tr>\n",
       "    <tr>\n",
       "      <th>4523</th>\n",
       "      <td>The Last Word</td>\n",
       "      <td>2020</td>\n",
       "      <td>0</td>\n",
       "      <td>TV-MA</td>\n",
       "      <td>40</td>\n",
       "      <td>Comedy, Drama</td>\n",
       "      <td>7.0</td>\n",
       "      <td>While still working through her husband's rece...</td>\n",
       "      <td>['Anke Engelke, ', 'Thorsten Merten, ', 'Johan...</td>\n",
       "      <td>979</td>\n",
       "    </tr>\n",
       "    <tr>\n",
       "      <th>8036</th>\n",
       "      <td>Avatar: The Last Airbender</td>\n",
       "      <td>2005</td>\n",
       "      <td>2008</td>\n",
       "      <td>TV-Y7</td>\n",
       "      <td>25</td>\n",
       "      <td>Animation, Action, Adventure</td>\n",
       "      <td>7.8</td>\n",
       "      <td>In a nearby Earth Village, the gang meets a te...</td>\n",
       "      <td>['Dave Filoni', '| ', '    Stars:', 'Zach Tyle...</td>\n",
       "      <td>4093</td>\n",
       "    </tr>\n",
       "    <tr>\n",
       "      <th>2151</th>\n",
       "      <td>Married to Medicine</td>\n",
       "      <td>2013</td>\n",
       "      <td>0</td>\n",
       "      <td>TV-14</td>\n",
       "      <td>43</td>\n",
       "      <td>Reality-TV</td>\n",
       "      <td>5.5</td>\n",
       "      <td>The ladies of Atlanta's exclusive medical inne...</td>\n",
       "      <td>['Jackie Walters, ', 'Simone Whitmore, ', 'Toy...</td>\n",
       "      <td>403</td>\n",
       "    </tr>\n",
       "  </tbody>\n",
       "</table>\n",
       "</div>"
      ],
      "text/plain": [
       "                           title  release_year  ending_year     certificate  \\\n",
       "8552             The Pentaverate          2022            0           TV-MA   \n",
       "7369            Once and for All             0            0  [Not Informed]   \n",
       "4523               The Last Word          2020            0           TV-MA   \n",
       "8036  Avatar: The Last Airbender          2005         2008           TV-Y7   \n",
       "2151         Married to Medicine          2013            0           TV-14   \n",
       "\n",
       "      duration_min                         genre  rating  \\\n",
       "8552            28                        Comedy     6.8   \n",
       "7369             0                Drama, Romance     0.0   \n",
       "4523            40                 Comedy, Drama     7.0   \n",
       "8036            25  Animation, Action, Adventure     7.8   \n",
       "2151            43                    Reality-TV     5.5   \n",
       "\n",
       "                                            description  \\\n",
       "8552  As the Meadows draws near, professor Clark att...   \n",
       "7369  After years facing brides with cold feet and b...   \n",
       "4523  While still working through her husband's rece...   \n",
       "8036  In a nearby Earth Village, the gang meets a te...   \n",
       "2151  The ladies of Atlanta's exclusive medical inne...   \n",
       "\n",
       "                                                  stars  votes  \n",
       "8552  ['Tim Kirkby', '| ', '    Stars:', 'Mike Myers...    368  \n",
       "7369                                     [Not Informed]      0  \n",
       "4523  ['Anke Engelke, ', 'Thorsten Merten, ', 'Johan...    979  \n",
       "8036  ['Dave Filoni', '| ', '    Stars:', 'Zach Tyle...   4093  \n",
       "2151  ['Jackie Walters, ', 'Simone Whitmore, ', 'Toy...    403  "
      ]
     },
     "execution_count": 31,
     "metadata": {},
     "output_type": "execute_result"
    }
   ],
   "source": [
    "# Reorganizando o dataframe para uma visualização melhor\n",
    "df_movies_clean = df_movies_clean.loc[:, \n",
    "                            ['title', 'release_year', 'ending_year', 'certificate', 'duration_min', \n",
    "                            'genre', 'rating', 'description', 'stars', 'votes']]\n",
    "\n",
    "# Checando nova visualização                     \n",
    "df_movies_clean.sample(5)"
   ]
  },
  {
   "attachments": {},
   "cell_type": "markdown",
   "metadata": {},
   "source": [
    "Como checagem extra, vamos conferir se o DataFrame possui registros duplicados:"
   ]
  },
  {
   "cell_type": "code",
   "execution_count": 32,
   "metadata": {},
   "outputs": [
    {
     "data": {
      "text/html": [
       "<div>\n",
       "<style scoped>\n",
       "    .dataframe tbody tr th:only-of-type {\n",
       "        vertical-align: middle;\n",
       "    }\n",
       "\n",
       "    .dataframe tbody tr th {\n",
       "        vertical-align: top;\n",
       "    }\n",
       "\n",
       "    .dataframe thead th {\n",
       "        text-align: right;\n",
       "    }\n",
       "</style>\n",
       "<table border=\"1\" class=\"dataframe\">\n",
       "  <thead>\n",
       "    <tr style=\"text-align: right;\">\n",
       "      <th></th>\n",
       "      <th>title</th>\n",
       "      <th>release_year</th>\n",
       "      <th>ending_year</th>\n",
       "      <th>certificate</th>\n",
       "      <th>duration_min</th>\n",
       "      <th>genre</th>\n",
       "      <th>rating</th>\n",
       "      <th>description</th>\n",
       "      <th>stars</th>\n",
       "      <th>votes</th>\n",
       "    </tr>\n",
       "  </thead>\n",
       "  <tbody>\n",
       "  </tbody>\n",
       "</table>\n",
       "</div>"
      ],
      "text/plain": [
       "Empty DataFrame\n",
       "Columns: [title, release_year, ending_year, certificate, duration_min, genre, rating, description, stars, votes]\n",
       "Index: []"
      ]
     },
     "execution_count": 32,
     "metadata": {},
     "output_type": "execute_result"
    }
   ],
   "source": [
    "# Checando se o data frame contém linhas repetidas\n",
    "df_movies_clean.loc[(df_movies_clean.duplicated() == True), :]"
   ]
  },
  {
   "attachments": {},
   "cell_type": "markdown",
   "metadata": {},
   "source": [
    "## Parte 3: Histogramas, Outliers e Análises Iniciais"
   ]
  },
  {
   "attachments": {},
   "cell_type": "markdown",
   "metadata": {},
   "source": [
    "Com os dados limpos e organizados, podemos partir para a próxima etapa da análise, que consiste em checar por outliers e compreender melhor a distribuição dos dados ao longo do DataFrame utilizando Histogramas.\n",
    "\n",
    "Como um primeiro passo, vamos utilizar o comando .describe() nas colunas numéricas para realizar a checagem por outliers e dados relevantes:"
   ]
  },
  {
   "cell_type": "code",
   "execution_count": 33,
   "metadata": {},
   "outputs": [
    {
     "data": {
      "text/html": [
       "<div>\n",
       "<style scoped>\n",
       "    .dataframe tbody tr th:only-of-type {\n",
       "        vertical-align: middle;\n",
       "    }\n",
       "\n",
       "    .dataframe tbody tr th {\n",
       "        vertical-align: top;\n",
       "    }\n",
       "\n",
       "    .dataframe thead th {\n",
       "        text-align: right;\n",
       "    }\n",
       "</style>\n",
       "<table border=\"1\" class=\"dataframe\">\n",
       "  <thead>\n",
       "    <tr style=\"text-align: right;\">\n",
       "      <th></th>\n",
       "      <th>release_year</th>\n",
       "      <th>ending_year</th>\n",
       "      <th>duration_min</th>\n",
       "      <th>rating</th>\n",
       "      <th>votes</th>\n",
       "    </tr>\n",
       "  </thead>\n",
       "  <tbody>\n",
       "    <tr>\n",
       "      <th>count</th>\n",
       "      <td>9957.000000</td>\n",
       "      <td>9957.000000</td>\n",
       "      <td>9957.000000</td>\n",
       "      <td>9957.000000</td>\n",
       "      <td>9.957000e+03</td>\n",
       "    </tr>\n",
       "    <tr>\n",
       "      <th>mean</th>\n",
       "      <td>1888.050316</td>\n",
       "      <td>314.059657</td>\n",
       "      <td>58.686853</td>\n",
       "      <td>5.967611</td>\n",
       "      <td>1.722323e+04</td>\n",
       "    </tr>\n",
       "    <tr>\n",
       "      <th>std</th>\n",
       "      <td>491.205456</td>\n",
       "      <td>731.459807</td>\n",
       "      <td>53.820112</td>\n",
       "      <td>2.461310</td>\n",
       "      <td>8.249809e+04</td>\n",
       "    </tr>\n",
       "    <tr>\n",
       "      <th>min</th>\n",
       "      <td>0.000000</td>\n",
       "      <td>0.000000</td>\n",
       "      <td>0.000000</td>\n",
       "      <td>0.000000</td>\n",
       "      <td>0.000000e+00</td>\n",
       "    </tr>\n",
       "    <tr>\n",
       "      <th>25%</th>\n",
       "      <td>2014.000000</td>\n",
       "      <td>0.000000</td>\n",
       "      <td>22.000000</td>\n",
       "      <td>5.500000</td>\n",
       "      <td>1.300000e+02</td>\n",
       "    </tr>\n",
       "    <tr>\n",
       "      <th>50%</th>\n",
       "      <td>2018.000000</td>\n",
       "      <td>0.000000</td>\n",
       "      <td>52.000000</td>\n",
       "      <td>6.700000</td>\n",
       "      <td>8.420000e+02</td>\n",
       "    </tr>\n",
       "    <tr>\n",
       "      <th>75%</th>\n",
       "      <td>2020.000000</td>\n",
       "      <td>0.000000</td>\n",
       "      <td>93.000000</td>\n",
       "      <td>7.500000</td>\n",
       "      <td>4.260000e+03</td>\n",
       "    </tr>\n",
       "    <tr>\n",
       "      <th>max</th>\n",
       "      <td>2025.000000</td>\n",
       "      <td>2023.000000</td>\n",
       "      <td>990.000000</td>\n",
       "      <td>9.900000</td>\n",
       "      <td>1.844075e+06</td>\n",
       "    </tr>\n",
       "  </tbody>\n",
       "</table>\n",
       "</div>"
      ],
      "text/plain": [
       "       release_year  ending_year  duration_min       rating         votes\n",
       "count   9957.000000  9957.000000   9957.000000  9957.000000  9.957000e+03\n",
       "mean    1888.050316   314.059657     58.686853     5.967611  1.722323e+04\n",
       "std      491.205456   731.459807     53.820112     2.461310  8.249809e+04\n",
       "min        0.000000     0.000000      0.000000     0.000000  0.000000e+00\n",
       "25%     2014.000000     0.000000     22.000000     5.500000  1.300000e+02\n",
       "50%     2018.000000     0.000000     52.000000     6.700000  8.420000e+02\n",
       "75%     2020.000000     0.000000     93.000000     7.500000  4.260000e+03\n",
       "max     2025.000000  2023.000000    990.000000     9.900000  1.844075e+06"
      ]
     },
     "execution_count": 33,
     "metadata": {},
     "output_type": "execute_result"
    }
   ],
   "source": [
    "# Utilizando describe() para checar os dados:\n",
    "df_movies_clean[['release_year', 'ending_year', 'duration_min', 'rating', 'votes']].describe()"
   ]
  },
  {
   "attachments": {},
   "cell_type": "markdown",
   "metadata": {},
   "source": [
    "Com essa tabela, temos algumas informações importantes:\n",
    "\n",
    "- Coluna **`release_year`**:\n",
    "\n",
    "    - O ano máximo presente nos dados é 2025, sendo que estamos em 2022 no tempo de confecção deste trabalho, logo, isso indica que possivelmente algumas das datas de lançamento são previsões de obras ainda não lançadas, porém que já constam no catálogo da Netflix como projetos com datas previstas de estreia. Esse fato será levado em conta nas análises posteriores.\n",
    "\n",
    "- Coluna **`ending_year`**:\n",
    "\n",
    "    - Similarmente a coluna release_year, o ano máximo de encerramento de uma obra é maior do que o ano de confecção do projeto, sendo 2023 essa data máxima. Isso provavelmente signifca que temos obras como Séries que ou já possuem data limite de exibição ou estão se aproximando do seu final, onde já possuem data de encerramento.\n",
    "\n",
    "- Coluna **`duration`**:\n",
    "\n",
    "    - 75% dos dados constam duração máxima de 93 minutos, porém o valor máximo presente é de 990. Isso indica claramente um outlier. Uma possibilidade de explicação, é a de que algumas séries podem ter sido lançadas no banco de dados em um único registro, onde a minutagem total representa a soma de todos os seus episódios, onde outras séries foram inseridas episódio por episódio no banco de dados.\n",
    "\n",
    "- Coluna **`votes`**:\n",
    "\n",
    "    - Como a quantidade de votos é muito grande, as análises por meios de gráficos provavelmente terão que ser realizadas utilizando escala logarítimica para melhor visualização."
   ]
  },
  {
   "attachments": {},
   "cell_type": "markdown",
   "metadata": {},
   "source": [
    "Para podermos explorar melhor essas características dos dados, vamos plotar histogramas e boxplots para cada coluna numérica:"
   ]
  },
  {
   "attachments": {},
   "cell_type": "markdown",
   "metadata": {},
   "source": [
    "### Coluna release_year"
   ]
  },
  {
   "cell_type": "code",
   "execution_count": 76,
   "metadata": {},
   "outputs": [
    {
     "data": {
      "image/png": "[encoded data removed]",
      "text/plain": [
       "<Figure size 842.4x595.44 with 1 Axes>"
      ]
     },
     "metadata": {},
     "output_type": "display_data"
    }
   ],
   "source": [
    "# Histograma\n",
    "\n",
    "# Selecionando dados existentes, ou seja, aqueles diferentes de 0 para compor a análise:\n",
    "release_year = df_movies_clean.loc[(df_movies_clean['release_year'] != 0), ['release_year']]\n",
    "\n",
    "# Plotando:\n",
    "sns.histplot(\n",
    "    data=release_year, \n",
    "    x='release_year', \n",
    "    kde=True, \n",
    "    label='Intensidade de Registros', \n",
    "    binwidth=1, \n",
    "    line_kws={'linestyle':'dashed'}\n",
    "    )\n",
    "\n",
    "plt.title('Histograma da Coluna \"release_year\"', fontsize=12, fontweight='bold')\n",
    "plt.ylabel('Num. Registros', fontsize=12, fontweight='bold')\n",
    "plt.xlabel('Ano de Lançamento', fontsize=12, fontweight='bold')\n",
    "\n",
    "plt.legend()\n",
    "plt.show()"
   ]
  },
  {
   "cell_type": "code",
   "execution_count": 35,
   "metadata": {},
   "outputs": [
    {
     "data": {
      "image/png": "[encoded data removed]",
      "text/plain": [
       "<Figure size 1440x360 with 1 Axes>"
      ]
     },
     "metadata": {
      "needs_background": "light"
     },
     "output_type": "display_data"
    },
    {
     "name": "stdout",
     "output_type": "stream",
     "text": [
      "Anos acima de 2022:\n",
      "47 entradas\n",
      "0.5040%\n"
     ]
    }
   ],
   "source": [
    "# Boxplot\n",
    "\n",
    "# Selecionando dados diferentes de 0 para checagem distributiva dos dados:\n",
    "release_year = df_movies_clean.loc[(df_movies_clean['release_year'] != 0), ['release_year']]\n",
    "\n",
    "# Plotando:\n",
    "release_year.plot(\n",
    "    kind='box', \n",
    "    vert=False, \n",
    "    figsize=(20,5), \n",
    "    fontsize=12\n",
    "    )\n",
    "\n",
    "plt.title('Boxplot da Coluna \"release_year\"', fontsize=12, fontweight='bold')\n",
    "plt.xlabel('Ano', fontsize=12, fontweight='bold')\n",
    "\n",
    "plt.show()\n",
    "\n",
    "# Printando a quantidade anos que estão acima de 2022 (ano da confecção desse projeto):\n",
    "print(\"Anos acima de 2022:\")\n",
    "print(\"{} entradas\".format(len(release_year[release_year['release_year'] > 2022])))\n",
    "print(\"{:.4f}%\".format((len(release_year[release_year['release_year'] > 2022]) / release_year.shape[0]) * 100))"
   ]
  },
  {
   "attachments": {},
   "cell_type": "markdown",
   "metadata": {},
   "source": [
    "Alguns insights podem ser adiquiridos a partir dessas análises:\n",
    "\n",
    "- Como apontam tanto o Histograma quanto o Boxplot, a maioria dos projetos possuem ano de lançamento por volta de 2020;\n",
    "\n",
    "- De acordo com o Boxplot, 47 registros possuem anos de lançamento agendados para anos acima de 2022;\n",
    "\n",
    "- Por mais que os quartis estejam agrupados por volta de 2020, ainda temos registros de filmes bem mais antigos do que isso, como alguns que constam como lançamento datas anteriores a 1940."
   ]
  },
  {
   "attachments": {},
   "cell_type": "markdown",
   "metadata": {},
   "source": [
    "Como forma de visualização, vamos checar alguns desses registros que possuem data de lançamento maiores de 2022:"
   ]
  },
  {
   "cell_type": "code",
   "execution_count": 36,
   "metadata": {},
   "outputs": [
    {
     "data": {
      "text/html": [
       "<div>\n",
       "<style scoped>\n",
       "    .dataframe tbody tr th:only-of-type {\n",
       "        vertical-align: middle;\n",
       "    }\n",
       "\n",
       "    .dataframe tbody tr th {\n",
       "        vertical-align: top;\n",
       "    }\n",
       "\n",
       "    .dataframe thead th {\n",
       "        text-align: right;\n",
       "    }\n",
       "</style>\n",
       "<table border=\"1\" class=\"dataframe\">\n",
       "  <thead>\n",
       "    <tr style=\"text-align: right;\">\n",
       "      <th></th>\n",
       "      <th>title</th>\n",
       "      <th>release_year</th>\n",
       "      <th>ending_year</th>\n",
       "      <th>certificate</th>\n",
       "      <th>duration_min</th>\n",
       "      <th>genre</th>\n",
       "      <th>rating</th>\n",
       "      <th>description</th>\n",
       "      <th>stars</th>\n",
       "      <th>votes</th>\n",
       "    </tr>\n",
       "  </thead>\n",
       "  <tbody>\n",
       "    <tr>\n",
       "      <th>5567</th>\n",
       "      <td>Untitled Wallace and Gromit Film</td>\n",
       "      <td>2024</td>\n",
       "      <td>0</td>\n",
       "      <td>[Not Informed]</td>\n",
       "      <td>0</td>\n",
       "      <td>Animation, Adventure, Comedy</td>\n",
       "      <td>0.0</td>\n",
       "      <td>Focus on Gromit's concern that Wallace has bec...</td>\n",
       "      <td>['Merlin Crossingham, ', 'Nick Park', '| ', ' ...</td>\n",
       "      <td>0</td>\n",
       "    </tr>\n",
       "    <tr>\n",
       "      <th>6516</th>\n",
       "      <td>Astérix</td>\n",
       "      <td>2023</td>\n",
       "      <td>0</td>\n",
       "      <td>[Not Informed]</td>\n",
       "      <td>0</td>\n",
       "      <td>Animation, Action, Adventure</td>\n",
       "      <td>0.0</td>\n",
       "      <td>In the glory days of the Roman Empire, one vil...</td>\n",
       "      <td>[Not Informed]</td>\n",
       "      <td>0</td>\n",
       "    </tr>\n",
       "    <tr>\n",
       "      <th>2510</th>\n",
       "      <td>Shirley</td>\n",
       "      <td>2023</td>\n",
       "      <td>0</td>\n",
       "      <td>[Not Informed]</td>\n",
       "      <td>0</td>\n",
       "      <td>Biography, Drama, History</td>\n",
       "      <td>0.0</td>\n",
       "      <td>Follows the biopic film about Shirley Chisholm...</td>\n",
       "      <td>['John Ridley', '| ', '    Stars:', 'Lance Red...</td>\n",
       "      <td>0</td>\n",
       "    </tr>\n",
       "    <tr>\n",
       "      <th>2965</th>\n",
       "      <td>The Archies</td>\n",
       "      <td>2023</td>\n",
       "      <td>0</td>\n",
       "      <td>[Not Informed]</td>\n",
       "      <td>0</td>\n",
       "      <td>Comedy, Drama, Musical</td>\n",
       "      <td>0.0</td>\n",
       "      <td>The Archies, film is an Indian adaptation of t...</td>\n",
       "      <td>['Zoya Akhtar', '| ', '    Stars:', 'Khushi Ka...</td>\n",
       "      <td>0</td>\n",
       "    </tr>\n",
       "    <tr>\n",
       "      <th>7193</th>\n",
       "      <td>The Days</td>\n",
       "      <td>2023</td>\n",
       "      <td>0</td>\n",
       "      <td>[Not Informed]</td>\n",
       "      <td>60</td>\n",
       "      <td>Drama</td>\n",
       "      <td>0.0</td>\n",
       "      <td>It showcases the events of the Fukushima Daiic...</td>\n",
       "      <td>['Kôji Yakusho']</td>\n",
       "      <td>0</td>\n",
       "    </tr>\n",
       "  </tbody>\n",
       "</table>\n",
       "</div>"
      ],
      "text/plain": [
       "                                 title  release_year  ending_year  \\\n",
       "5567  Untitled Wallace and Gromit Film          2024            0   \n",
       "6516                           Astérix          2023            0   \n",
       "2510                           Shirley          2023            0   \n",
       "2965                       The Archies          2023            0   \n",
       "7193                          The Days          2023            0   \n",
       "\n",
       "         certificate  duration_min                         genre  rating  \\\n",
       "5567  [Not Informed]             0  Animation, Adventure, Comedy     0.0   \n",
       "6516  [Not Informed]             0  Animation, Action, Adventure     0.0   \n",
       "2510  [Not Informed]             0     Biography, Drama, History     0.0   \n",
       "2965  [Not Informed]             0        Comedy, Drama, Musical     0.0   \n",
       "7193  [Not Informed]            60                         Drama     0.0   \n",
       "\n",
       "                                            description  \\\n",
       "5567  Focus on Gromit's concern that Wallace has bec...   \n",
       "6516  In the glory days of the Roman Empire, one vil...   \n",
       "2510  Follows the biopic film about Shirley Chisholm...   \n",
       "2965  The Archies, film is an Indian adaptation of t...   \n",
       "7193  It showcases the events of the Fukushima Daiic...   \n",
       "\n",
       "                                                  stars  votes  \n",
       "5567  ['Merlin Crossingham, ', 'Nick Park', '| ', ' ...      0  \n",
       "6516                                     [Not Informed]      0  \n",
       "2510  ['John Ridley', '| ', '    Stars:', 'Lance Red...      0  \n",
       "2965  ['Zoya Akhtar', '| ', '    Stars:', 'Khushi Ka...      0  \n",
       "7193                                   ['Kôji Yakusho']      0  "
      ]
     },
     "execution_count": 36,
     "metadata": {},
     "output_type": "execute_result"
    }
   ],
   "source": [
    "# checando entradas acima de 2022:\n",
    "df_movies_clean.query('release_year > 2022').sample(5)"
   ]
  },
  {
   "attachments": {},
   "cell_type": "markdown",
   "metadata": {},
   "source": [
    "- Como são projetos que estão agendados para estrear, eles não possuem nenhum tipo de avaliação, duração nem votos, para essa análise eles serão retirados, pois o objetivo é analisar os programas já lançados e seus respectivos dados."
   ]
  },
  {
   "cell_type": "code",
   "execution_count": 37,
   "metadata": {},
   "outputs": [],
   "source": [
    "# Retirar programas sem dados que estão agendados para estreia no futuro\n",
    "df_movies_clean = df_movies_clean.drop(df_movies_clean[df_movies_clean['release_year'] > 2022].index)"
   ]
  },
  {
   "attachments": {},
   "cell_type": "markdown",
   "metadata": {},
   "source": [
    "### Coluna ending_year"
   ]
  },
  {
   "cell_type": "code",
   "execution_count": 77,
   "metadata": {},
   "outputs": [
    {
     "data": {
      "image/png": "[encoded data removed]",
      "text/plain": [
       "<Figure size 842.4x595.44 with 1 Axes>"
      ]
     },
     "metadata": {},
     "output_type": "display_data"
    }
   ],
   "source": [
    "# Histograma\n",
    "\n",
    "# Selecionando dados diferentes de 0:\n",
    "ending_year = df_movies_clean.loc[(df_movies_clean['ending_year'] != 0), ['ending_year']]\n",
    "\n",
    "# Plotando\n",
    "sns.histplot(\n",
    "    data=ending_year, \n",
    "    kde=True, \n",
    "    label='Intensidade de Registros', \n",
    "    binwidth=1, \n",
    "    line_kws={'linestyle': 'dashed'}\n",
    "    )\n",
    "\n",
    "plt.title('Histograma da Coluna \"ending_year\"', fontsize=12, fontweight='bold')\n",
    "plt.ylabel('Num. Registros', fontsize=12, fontweight='bold')\n",
    "plt.xlabel('Ano de encerramento', fontsize=12, fontweight='bold')\n",
    "\n",
    "plt.legend()\n",
    "plt.show()"
   ]
  },
  {
   "cell_type": "code",
   "execution_count": 39,
   "metadata": {},
   "outputs": [
    {
     "data": {
      "image/png": "[encoded data removed]",
      "text/plain": [
       "<Figure size 1440x360 with 1 Axes>"
      ]
     },
     "metadata": {
      "needs_background": "light"
     },
     "output_type": "display_data"
    },
    {
     "name": "stdout",
     "output_type": "stream",
     "text": [
      "Anos acima de 2022:\n",
      "53 entradas\n",
      "3.4194%\n"
     ]
    }
   ],
   "source": [
    "# Boxplot\n",
    "\n",
    "# Selecionando dados diferente de 0:\n",
    "ending_year = df_movies_clean.loc[(df_movies_clean['ending_year'] != 0), ['ending_year']]\n",
    "\n",
    "# Plotando\n",
    "ending_year.plot(\n",
    "    kind='box', \n",
    "    vert=False, \n",
    "    figsize=(20,5), \n",
    "    fontsize=12\n",
    "    )\n",
    "\n",
    "plt.title('Boxplot da Coluna \"ending_year\"', fontsize=12, fontweight='bold')\n",
    "plt.xlabel('Ano', fontsize=12, fontweight='bold')\n",
    "\n",
    "plt.show()\n",
    "\n",
    "# Printando a quantidade de registros acima de 2022:\n",
    "print(\"Anos acima de 2022:\")\n",
    "print(\"{} entradas\".format(len(ending_year[ending_year['ending_year'] > 2022])))\n",
    "print(\"{:.4f}%\".format((len(ending_year[ending_year['ending_year'] > 2022]) / ending_year.shape[0]) * 100))"
   ]
  },
  {
   "attachments": {},
   "cell_type": "markdown",
   "metadata": {},
   "source": [
    "Como apontam o Histograam e o Boxplot, curiosamente o ano de encerramento mais comum é o mesmo ano de lançamento mais comum, 2020. Isso pode indicar algumas coisas:\n",
    "\n",
    "- Lançamentos de mini-séries que se iniciam e terminam no mesmo ano;\n",
    "\n",
    "- É válido considerar a [pandemia de Covid-19 e seus impactos na indústria do cinema](https://www.vet.k-state.edu/about/news-events-publications/OneHealth/Vol14-Iss1/film-industry.html#:~:text=As%20a%20result%20of%20the,produced%20in%202021%20or%202022.), onde muitas produções de filmes e séries foram canceladas, encerradas abruptamente ou postergadas para anos seguintes durante 2020, o que pode compor uma explicação para tantos encerramentos em 2020. "
   ]
  },
  {
   "attachments": {},
   "cell_type": "markdown",
   "metadata": {},
   "source": [
    "Vamos checar alguns desses registros que constam data de encerramento maiores que 2022:"
   ]
  },
  {
   "cell_type": "code",
   "execution_count": 40,
   "metadata": {},
   "outputs": [
    {
     "data": {
      "text/html": [
       "<div>\n",
       "<style scoped>\n",
       "    .dataframe tbody tr th:only-of-type {\n",
       "        vertical-align: middle;\n",
       "    }\n",
       "\n",
       "    .dataframe tbody tr th {\n",
       "        vertical-align: top;\n",
       "    }\n",
       "\n",
       "    .dataframe thead th {\n",
       "        text-align: right;\n",
       "    }\n",
       "</style>\n",
       "<table border=\"1\" class=\"dataframe\">\n",
       "  <thead>\n",
       "    <tr style=\"text-align: right;\">\n",
       "      <th></th>\n",
       "      <th>title</th>\n",
       "      <th>release_year</th>\n",
       "      <th>ending_year</th>\n",
       "      <th>certificate</th>\n",
       "      <th>duration_min</th>\n",
       "      <th>genre</th>\n",
       "      <th>rating</th>\n",
       "      <th>description</th>\n",
       "      <th>stars</th>\n",
       "      <th>votes</th>\n",
       "    </tr>\n",
       "  </thead>\n",
       "  <tbody>\n",
       "    <tr>\n",
       "      <th>9558</th>\n",
       "      <td>Snowpiercer</td>\n",
       "      <td>2020</td>\n",
       "      <td>2023</td>\n",
       "      <td>TV-MA</td>\n",
       "      <td>47</td>\n",
       "      <td>Action, Drama, Sci-Fi</td>\n",
       "      <td>7.7</td>\n",
       "      <td>Those who are close with Layton grow anxious t...</td>\n",
       "      <td>['Clare Kilner', '| ', '    Stars:', 'Daveed D...</td>\n",
       "      <td>1012</td>\n",
       "    </tr>\n",
       "    <tr>\n",
       "      <th>9561</th>\n",
       "      <td>Snowpiercer</td>\n",
       "      <td>2020</td>\n",
       "      <td>2023</td>\n",
       "      <td>TV-MA</td>\n",
       "      <td>48</td>\n",
       "      <td>Action, Drama, Sci-Fi</td>\n",
       "      <td>7.5</td>\n",
       "      <td>An exchange is made between the two trains, bu...</td>\n",
       "      <td>['Christoph Schrewe', '| ', '    Stars:', 'Jen...</td>\n",
       "      <td>1227</td>\n",
       "    </tr>\n",
       "    <tr>\n",
       "      <th>9563</th>\n",
       "      <td>Snowpiercer</td>\n",
       "      <td>2020</td>\n",
       "      <td>2023</td>\n",
       "      <td>TV-MA</td>\n",
       "      <td>47</td>\n",
       "      <td>Action, Drama, Sci-Fi</td>\n",
       "      <td>7.1</td>\n",
       "      <td>As the Big Alice crew are granted shore leave ...</td>\n",
       "      <td>['David Frazee', '| ', '    Stars:', 'Daveed D...</td>\n",
       "      <td>1096</td>\n",
       "    </tr>\n",
       "    <tr>\n",
       "      <th>9067</th>\n",
       "      <td>The Umbrella Academy</td>\n",
       "      <td>2019</td>\n",
       "      <td>2023</td>\n",
       "      <td>TV-14</td>\n",
       "      <td>48</td>\n",
       "      <td>Action, Adventure, Comedy</td>\n",
       "      <td>8.1</td>\n",
       "      <td>Summoned to an emergency meeting, the siblings...</td>\n",
       "      <td>['Tom Verica', '| ', '    Stars:', 'Elliot Pag...</td>\n",
       "      <td>3698</td>\n",
       "    </tr>\n",
       "    <tr>\n",
       "      <th>49</th>\n",
       "      <td>Never Have I Ever</td>\n",
       "      <td>2020</td>\n",
       "      <td>2023</td>\n",
       "      <td>TV-14</td>\n",
       "      <td>30</td>\n",
       "      <td>Comedy, Drama</td>\n",
       "      <td>7.9</td>\n",
       "      <td>The complicated life of a modern-day first gen...</td>\n",
       "      <td>['Maitreyi Ramakrishnan, ', 'Poorna Jagannatha...</td>\n",
       "      <td>56216</td>\n",
       "    </tr>\n",
       "  </tbody>\n",
       "</table>\n",
       "</div>"
      ],
      "text/plain": [
       "                     title  release_year  ending_year certificate  \\\n",
       "9558           Snowpiercer          2020         2023       TV-MA   \n",
       "9561           Snowpiercer          2020         2023       TV-MA   \n",
       "9563           Snowpiercer          2020         2023       TV-MA   \n",
       "9067  The Umbrella Academy          2019         2023       TV-14   \n",
       "49       Never Have I Ever          2020         2023       TV-14   \n",
       "\n",
       "      duration_min                      genre  rating  \\\n",
       "9558            47      Action, Drama, Sci-Fi     7.7   \n",
       "9561            48      Action, Drama, Sci-Fi     7.5   \n",
       "9563            47      Action, Drama, Sci-Fi     7.1   \n",
       "9067            48  Action, Adventure, Comedy     8.1   \n",
       "49              30              Comedy, Drama     7.9   \n",
       "\n",
       "                                            description  \\\n",
       "9558  Those who are close with Layton grow anxious t...   \n",
       "9561  An exchange is made between the two trains, bu...   \n",
       "9563  As the Big Alice crew are granted shore leave ...   \n",
       "9067  Summoned to an emergency meeting, the siblings...   \n",
       "49    The complicated life of a modern-day first gen...   \n",
       "\n",
       "                                                  stars  votes  \n",
       "9558  ['Clare Kilner', '| ', '    Stars:', 'Daveed D...   1012  \n",
       "9561  ['Christoph Schrewe', '| ', '    Stars:', 'Jen...   1227  \n",
       "9563  ['David Frazee', '| ', '    Stars:', 'Daveed D...   1096  \n",
       "9067  ['Tom Verica', '| ', '    Stars:', 'Elliot Pag...   3698  \n",
       "49    ['Maitreyi Ramakrishnan, ', 'Poorna Jagannatha...  56216  "
      ]
     },
     "execution_count": 40,
     "metadata": {},
     "output_type": "execute_result"
    }
   ],
   "source": [
    "# checando  entradas acima de 2022:\n",
    "df_movies_clean.query('ending_year > 2022').sample(5)"
   ]
  },
  {
   "attachments": {},
   "cell_type": "markdown",
   "metadata": {},
   "source": [
    "- São programas já estabelecidos que possuem um ano previsto para finalização (a série The Flash como exemplificado acima com 2 episódios aparecendo na sample), nesse caso iremos deixá-los na análise justamente por possuirem dados relevantes (minutagem, rating e votos)."
   ]
  },
  {
   "attachments": {},
   "cell_type": "markdown",
   "metadata": {},
   "source": [
    "### Coluna duration_min"
   ]
  },
  {
   "cell_type": "code",
   "execution_count": 78,
   "metadata": {},
   "outputs": [
    {
     "data": {
      "image/png": "[encoded data removed]",
      "text/plain": [
       "<Figure size 842.4x595.44 with 1 Axes>"
      ]
     },
     "metadata": {},
     "output_type": "display_data"
    }
   ],
   "source": [
    "# Histograma\n",
    "\n",
    "# Selecionando dados diferentes de 0:\n",
    "duration_min = df_movies_clean.loc[(df_movies_clean['duration_min'] != 0), ['duration_min']]\n",
    "\n",
    "# Plotando:\n",
    "sns.histplot(\n",
    "    data=duration_min, \n",
    "    kde=True, \n",
    "    label='Intensidade de Registros', \n",
    "    binwidth=1, \n",
    "    line_kws={'linestyle': 'dashed'}\n",
    "    )\n",
    "\n",
    "plt.title('Histograma da Coluna \"duration_min\"', fontsize=12, fontweight='bold')\n",
    "plt.ylabel('Num. Registros', fontsize=12, fontweight='bold')\n",
    "plt.xlabel('Duração em Minutos', fontsize=12, fontweight='bold')\n",
    "\n",
    "plt.legend()\n",
    "plt.show()"
   ]
  },
  {
   "attachments": {},
   "cell_type": "markdown",
   "metadata": {},
   "source": [
    "Somente com o histograma é aparente a distribuição não adequada da coluna de minutagem, onde a grande maioria dos dados estão abaixo de por volta 150 a 200 minutos porém o eixo X vai até 1000.\n",
    "\n",
    "Com o boxplot, iremos visualizar quantos desses registros estão acima de 175 minutos, com um bom middle-point entre 150 e 200 para termos uma dimensão melhor dos outliers."
   ]
  },
  {
   "cell_type": "code",
   "execution_count": 42,
   "metadata": {},
   "outputs": [
    {
     "data": {
      "image/png": "[encoded data removed]",
      "text/plain": [
       "<Figure size 1440x360 with 1 Axes>"
      ]
     },
     "metadata": {
      "needs_background": "light"
     },
     "output_type": "display_data"
    },
    {
     "name": "stdout",
     "output_type": "stream",
     "text": [
      "Minutagens acima de 175:\n",
      "172 entradas\n",
      "2.1731%\n"
     ]
    }
   ],
   "source": [
    "# Boxplot\n",
    "\n",
    "# Selecionando dados diferentes de 0:\n",
    "duration_min = df_movies_clean.loc[(df_movies_clean['duration_min'] != 0), ['duration_min']]\n",
    "\n",
    "\n",
    "# Plotando:\n",
    "duration_min.plot(\n",
    "    kind='box', \n",
    "    vert=False, \n",
    "    figsize=(20,5), \n",
    "    fontsize=12\n",
    "    )\n",
    "\n",
    "plt.title('Boxplot da Coluna \"duration_min\"', fontsize=12, fontweight='bold')\n",
    "plt.xlabel('Duração em Minutos', fontsize=12, fontweight='bold')\n",
    "\n",
    "plt.show()\n",
    "\n",
    "# Mostrando registros acima de 175 minutos:\n",
    "print(\"Minutagens acima de 175:\")\n",
    "print(\"{} entradas\".format(len(duration_min[duration_min['duration_min'] > 175])))\n",
    "print(\"{:.4f}%\".format((len(duration_min[duration_min['duration_min'] > 175]) / duration_min.shape[0]) * 100))"
   ]
  },
  {
   "attachments": {},
   "cell_type": "markdown",
   "metadata": {},
   "source": [
    "É aparente que temos outliers nessa coluna, porém, para termos uma compreensão melhor do que são esses registros com minutagens tão extensas, vamos puxar um sample do DataFrame para visualização:"
   ]
  },
  {
   "cell_type": "code",
   "execution_count": 43,
   "metadata": {},
   "outputs": [
    {
     "data": {
      "text/html": [
       "<div>\n",
       "<style scoped>\n",
       "    .dataframe tbody tr th:only-of-type {\n",
       "        vertical-align: middle;\n",
       "    }\n",
       "\n",
       "    .dataframe tbody tr th {\n",
       "        vertical-align: top;\n",
       "    }\n",
       "\n",
       "    .dataframe thead th {\n",
       "        text-align: right;\n",
       "    }\n",
       "</style>\n",
       "<table border=\"1\" class=\"dataframe\">\n",
       "  <thead>\n",
       "    <tr style=\"text-align: right;\">\n",
       "      <th></th>\n",
       "      <th>title</th>\n",
       "      <th>release_year</th>\n",
       "      <th>ending_year</th>\n",
       "      <th>certificate</th>\n",
       "      <th>duration_min</th>\n",
       "      <th>genre</th>\n",
       "      <th>rating</th>\n",
       "      <th>description</th>\n",
       "      <th>stars</th>\n",
       "      <th>votes</th>\n",
       "    </tr>\n",
       "  </thead>\n",
       "  <tbody>\n",
       "    <tr>\n",
       "      <th>5414</th>\n",
       "      <td>Colonia Dignidad - Aus dem Innern einer deutsc...</td>\n",
       "      <td>2020</td>\n",
       "      <td>0</td>\n",
       "      <td>[Not Informed]</td>\n",
       "      <td>209</td>\n",
       "      <td>Documentary, History</td>\n",
       "      <td>7.6</td>\n",
       "      <td>This documentary series plunges into the abyss...</td>\n",
       "      <td>['Jonas Baeck, ', 'Wolfgang Kneese, ', 'Willi ...</td>\n",
       "      <td>415</td>\n",
       "    </tr>\n",
       "    <tr>\n",
       "      <th>5216</th>\n",
       "      <td>Best. Worst. Weekend. Ever.</td>\n",
       "      <td>2018</td>\n",
       "      <td>0</td>\n",
       "      <td>TV-PG</td>\n",
       "      <td>191</td>\n",
       "      <td>Comedy, Family</td>\n",
       "      <td>6.3</td>\n",
       "      <td>Zed and his teenage pals face a never-ending s...</td>\n",
       "      <td>['Sam Ashe Arnold, ', 'Brittany Garms, ', 'Bri...</td>\n",
       "      <td>315</td>\n",
       "    </tr>\n",
       "    <tr>\n",
       "      <th>7044</th>\n",
       "      <td>The School of Mischief</td>\n",
       "      <td>1973</td>\n",
       "      <td>0</td>\n",
       "      <td>TV-14</td>\n",
       "      <td>252</td>\n",
       "      <td>Comedy, Drama, Musical</td>\n",
       "      <td>6.2</td>\n",
       "      <td>The relationships and difficulties that's faci...</td>\n",
       "      <td>['Houssam El-Din Mustafa', '| ', '    Stars:',...</td>\n",
       "      <td>362</td>\n",
       "    </tr>\n",
       "    <tr>\n",
       "      <th>989</th>\n",
       "      <td>The Staircase</td>\n",
       "      <td>2004</td>\n",
       "      <td>2018</td>\n",
       "      <td>TV-MA</td>\n",
       "      <td>629</td>\n",
       "      <td>Documentary, Crime, Drama</td>\n",
       "      <td>7.8</td>\n",
       "      <td>The high-profile murder trial of American nove...</td>\n",
       "      <td>['Michael Peterson, ', 'David Rudolf, ', 'Ron ...</td>\n",
       "      <td>24588</td>\n",
       "    </tr>\n",
       "    <tr>\n",
       "      <th>4753</th>\n",
       "      <td>The Politician's Husband</td>\n",
       "      <td>2013</td>\n",
       "      <td>0</td>\n",
       "      <td>[Not Informed]</td>\n",
       "      <td>180</td>\n",
       "      <td>Drama</td>\n",
       "      <td>7.1</td>\n",
       "      <td>Political drama series about a marriage betwee...</td>\n",
       "      <td>['David Tennant, ', 'Emily Watson, ', 'Jack Sh...</td>\n",
       "      <td>1741</td>\n",
       "    </tr>\n",
       "  </tbody>\n",
       "</table>\n",
       "</div>"
      ],
      "text/plain": [
       "                                                  title  release_year  \\\n",
       "5414  Colonia Dignidad - Aus dem Innern einer deutsc...          2020   \n",
       "5216                        Best. Worst. Weekend. Ever.          2018   \n",
       "7044                             The School of Mischief          1973   \n",
       "989                                       The Staircase          2004   \n",
       "4753                           The Politician's Husband          2013   \n",
       "\n",
       "      ending_year     certificate  duration_min                      genre  \\\n",
       "5414            0  [Not Informed]           209       Documentary, History   \n",
       "5216            0           TV-PG           191             Comedy, Family   \n",
       "7044            0           TV-14           252     Comedy, Drama, Musical   \n",
       "989          2018           TV-MA           629  Documentary, Crime, Drama   \n",
       "4753            0  [Not Informed]           180                      Drama   \n",
       "\n",
       "      rating                                        description  \\\n",
       "5414     7.6  This documentary series plunges into the abyss...   \n",
       "5216     6.3  Zed and his teenage pals face a never-ending s...   \n",
       "7044     6.2  The relationships and difficulties that's faci...   \n",
       "989      7.8  The high-profile murder trial of American nove...   \n",
       "4753     7.1  Political drama series about a marriage betwee...   \n",
       "\n",
       "                                                  stars  votes  \n",
       "5414  ['Jonas Baeck, ', 'Wolfgang Kneese, ', 'Willi ...    415  \n",
       "5216  ['Sam Ashe Arnold, ', 'Brittany Garms, ', 'Bri...    315  \n",
       "7044  ['Houssam El-Din Mustafa', '| ', '    Stars:',...    362  \n",
       "989   ['Michael Peterson, ', 'David Rudolf, ', 'Ron ...  24588  \n",
       "4753  ['David Tennant, ', 'Emily Watson, ', 'Jack Sh...   1741  "
      ]
     },
     "execution_count": 43,
     "metadata": {},
     "output_type": "execute_result"
    }
   ],
   "source": [
    "# Checando entradas acima de 175 minutos:\n",
    "df_movies_clean.query('duration_min > 175').sample(5)"
   ]
  },
  {
   "attachments": {},
   "cell_type": "markdown",
   "metadata": {},
   "source": [
    "- Os registros são séries cujas inserções no banco de dados aparentemente se deu de uma vez só em um único registro, causando com que a minutagem fosse o acumulado de todas as minutagens dos episódios das séries;\n",
    "\n",
    "- Além de séries temos também documentários presentes como The Family e provavelmente alguns longas metragem como Lord Of The Ring também devem estar presentes nos registros."
   ]
  },
  {
   "cell_type": "code",
   "execution_count": 44,
   "metadata": {},
   "outputs": [
    {
     "data": {
      "text/html": [
       "<div>\n",
       "<style scoped>\n",
       "    .dataframe tbody tr th:only-of-type {\n",
       "        vertical-align: middle;\n",
       "    }\n",
       "\n",
       "    .dataframe tbody tr th {\n",
       "        vertical-align: top;\n",
       "    }\n",
       "\n",
       "    .dataframe thead th {\n",
       "        text-align: right;\n",
       "    }\n",
       "</style>\n",
       "<table border=\"1\" class=\"dataframe\">\n",
       "  <thead>\n",
       "    <tr style=\"text-align: right;\">\n",
       "      <th></th>\n",
       "      <th>title</th>\n",
       "      <th>release_year</th>\n",
       "      <th>ending_year</th>\n",
       "      <th>certificate</th>\n",
       "      <th>duration_min</th>\n",
       "      <th>genre</th>\n",
       "      <th>rating</th>\n",
       "      <th>description</th>\n",
       "      <th>stars</th>\n",
       "      <th>votes</th>\n",
       "    </tr>\n",
       "  </thead>\n",
       "  <tbody>\n",
       "    <tr>\n",
       "      <th>20</th>\n",
       "      <td>The Lord of the Rings: The Fellowship of the Ring</td>\n",
       "      <td>2001</td>\n",
       "      <td>0</td>\n",
       "      <td>PG-13</td>\n",
       "      <td>178</td>\n",
       "      <td>Action, Adventure, Drama</td>\n",
       "      <td>8.8</td>\n",
       "      <td>A meek Hobbit from the Shire and eight compani...</td>\n",
       "      <td>['Peter Jackson', '| ', '    Stars:', 'Elijah ...</td>\n",
       "      <td>1844055</td>\n",
       "    </tr>\n",
       "    <tr>\n",
       "      <th>57</th>\n",
       "      <td>The Lord of the Rings: The Return of the King</td>\n",
       "      <td>2003</td>\n",
       "      <td>0</td>\n",
       "      <td>PG-13</td>\n",
       "      <td>201</td>\n",
       "      <td>Action, Adventure, Drama</td>\n",
       "      <td>9.0</td>\n",
       "      <td>Gandalf and Aragorn lead the World of Men agai...</td>\n",
       "      <td>['Peter Jackson', '| ', '    Stars:', 'Elijah ...</td>\n",
       "      <td>1819157</td>\n",
       "    </tr>\n",
       "    <tr>\n",
       "      <th>78</th>\n",
       "      <td>The Lord of the Rings: The Two Towers</td>\n",
       "      <td>2002</td>\n",
       "      <td>0</td>\n",
       "      <td>PG-13</td>\n",
       "      <td>179</td>\n",
       "      <td>Action, Adventure, Drama</td>\n",
       "      <td>8.8</td>\n",
       "      <td>While Frodo and Sam edge closer to Mordor with...</td>\n",
       "      <td>['Peter Jackson', '| ', '    Stars:', 'Elijah ...</td>\n",
       "      <td>1642708</td>\n",
       "    </tr>\n",
       "    <tr>\n",
       "      <th>9921</th>\n",
       "      <td>The Lord of the Rings: The Fellowship of the Ring</td>\n",
       "      <td>2001</td>\n",
       "      <td>0</td>\n",
       "      <td>PG-13</td>\n",
       "      <td>178</td>\n",
       "      <td>Action, Adventure, Drama</td>\n",
       "      <td>8.8</td>\n",
       "      <td>A meek Hobbit from the Shire and eight compani...</td>\n",
       "      <td>['Peter Jackson', '| ', '    Stars:', 'Elijah ...</td>\n",
       "      <td>1844075</td>\n",
       "    </tr>\n",
       "  </tbody>\n",
       "</table>\n",
       "</div>"
      ],
      "text/plain": [
       "                                                  title  release_year  \\\n",
       "20    The Lord of the Rings: The Fellowship of the Ring          2001   \n",
       "57        The Lord of the Rings: The Return of the King          2003   \n",
       "78                The Lord of the Rings: The Two Towers          2002   \n",
       "9921  The Lord of the Rings: The Fellowship of the Ring          2001   \n",
       "\n",
       "      ending_year certificate  duration_min                     genre  rating  \\\n",
       "20              0       PG-13           178  Action, Adventure, Drama     8.8   \n",
       "57              0       PG-13           201  Action, Adventure, Drama     9.0   \n",
       "78              0       PG-13           179  Action, Adventure, Drama     8.8   \n",
       "9921            0       PG-13           178  Action, Adventure, Drama     8.8   \n",
       "\n",
       "                                            description  \\\n",
       "20    A meek Hobbit from the Shire and eight compani...   \n",
       "57    Gandalf and Aragorn lead the World of Men agai...   \n",
       "78    While Frodo and Sam edge closer to Mordor with...   \n",
       "9921  A meek Hobbit from the Shire and eight compani...   \n",
       "\n",
       "                                                  stars    votes  \n",
       "20    ['Peter Jackson', '| ', '    Stars:', 'Elijah ...  1844055  \n",
       "57    ['Peter Jackson', '| ', '    Stars:', 'Elijah ...  1819157  \n",
       "78    ['Peter Jackson', '| ', '    Stars:', 'Elijah ...  1642708  \n",
       "9921  ['Peter Jackson', '| ', '    Stars:', 'Elijah ...  1844075  "
      ]
     },
     "execution_count": 44,
     "metadata": {},
     "output_type": "execute_result"
    }
   ],
   "source": [
    "# Checando para ver um longa como Lord Of The Rings compõe parte desses dados com minutagem\n",
    "# acima de 175 minutos:\n",
    "df_movies_clean.loc[df_movies_clean['title'].str.contains(\"Rings\")]"
   ]
  },
  {
   "attachments": {},
   "cell_type": "markdown",
   "metadata": {},
   "source": [
    "Com a informação de que esses outliers de minutagem também são dados válidos para a análise porém são longos demais que iriam distorcer as análises, como solução iremos dividir o DataFrame em dois, onde teremos:\n",
    "\n",
    "- DataFrame contendo dados de obras com minutagem menor do que 175 minutos;\n",
    "\n",
    "- DataFrame contendo dados de obras com minutagem maior do que 175 minutos (longas, séries, documentários).\n",
    "\n",
    "Dessa forma, se é capaz de ter análises pertinentes a respeito desses registros de minutagens longas e também dos de minutagem mais curta."
   ]
  },
  {
   "attachments": {},
   "cell_type": "markdown",
   "metadata": {},
   "source": [
    "### Coluna rating"
   ]
  },
  {
   "cell_type": "code",
   "execution_count": 79,
   "metadata": {},
   "outputs": [
    {
     "data": {
      "image/png": "[encoded data removed]",
      "text/plain": [
       "<Figure size 842.4x595.44 with 1 Axes>"
      ]
     },
     "metadata": {},
     "output_type": "display_data"
    }
   ],
   "source": [
    "# Histograma\n",
    "\n",
    "# Selecionando dados diferentes de 0:\n",
    "rating = df_movies_clean.loc[(df_movies_clean['rating'] != 0), ['rating']]\n",
    "\n",
    "# Plotando:\n",
    "sns.histplot(\n",
    "    data=rating, \n",
    "    kde=True, \n",
    "    label='Intensidade de Registros', \n",
    "    binwidth=0.2, \n",
    "    line_kws={'linestyle': 'dashed'}\n",
    "    )\n",
    "\n",
    "plt.title('Histograma da Coluna \"rating\"', fontsize=12, fontweight='bold')\n",
    "plt.ylabel('Num. Registros', fontsize=12, fontweight='bold')\n",
    "plt.xlabel('Notas', fontsize=12, fontweight='bold')\n",
    "\n",
    "plt.legend()\n",
    "plt.show()"
   ]
  },
  {
   "cell_type": "code",
   "execution_count": 46,
   "metadata": {},
   "outputs": [
    {
     "data": {
      "image/png": "[encoded data removed]",
      "text/plain": [
       "<Figure size 1440x360 with 1 Axes>"
      ]
     },
     "metadata": {
      "needs_background": "light"
     },
     "output_type": "display_data"
    }
   ],
   "source": [
    "# Boxplot\n",
    "\n",
    "# Selecionando dados diferentes de 0:\n",
    "ratings = df_movies_clean.loc[(df_movies_clean['rating'] != 0), ['rating']]\n",
    "\n",
    "# Plotando:\n",
    "ratings.plot(\n",
    "    kind='box', \n",
    "    vert=False, \n",
    "    figsize=(20,5), \n",
    "    fontsize=12\n",
    "    )\n",
    "\n",
    "plt.title('Boxplot da Coluna \"rating\"', fontsize=12, fontweight='bold')\n",
    "plt.xlabel('Notas', fontsize=12, fontweight='bold')\n",
    "\n",
    "plt.show()"
   ]
  },
  {
   "attachments": {},
   "cell_type": "markdown",
   "metadata": {},
   "source": [
    "Aqui podemos ter uma visualização melhor dos dados da coluna rating, onde a maioria das obras receberam uma avaliação de por volta 7, tendo alguns registos abaixo de 4 e um abaixo de 2.\n",
    "\n",
    "Com o Histograma, podemos ver que os dados estão distribuidos de forma homogênia com uma tendência a direita."
   ]
  },
  {
   "attachments": {},
   "cell_type": "markdown",
   "metadata": {},
   "source": [
    "### Coluna votes"
   ]
  },
  {
   "attachments": {},
   "cell_type": "markdown",
   "metadata": {},
   "source": [
    "Como dito nas primeiras checagens da coluna votes, pela quantidade massiva de votos dados para cada projeto, a visualização do Histograma dessa coluna será feita em escala logarítimica para melhor visualização."
   ]
  },
  {
   "cell_type": "code",
   "execution_count": 80,
   "metadata": {},
   "outputs": [
    {
     "data": {
      "image/png": "[encoded data removed]",
      "text/plain": [
       "<Figure size 842.4x595.44 with 1 Axes>"
      ]
     },
     "metadata": {},
     "output_type": "display_data"
    }
   ],
   "source": [
    "# Histograma\n",
    "\n",
    "# Selecionando dados diferentes de 0:\n",
    "votes = df_movies_clean.loc[(df_movies_clean['votes'] != 0), ['votes']]\n",
    "\n",
    "# Plotando:\n",
    "sns.histplot(\n",
    "    data=votes, \n",
    "    kde=True, \n",
    "    label='Intensidade de Registros', \n",
    "    binwidth=0.08, \n",
    "    line_kws={'linestyle': 'dashed'}, \n",
    "    log_scale=True\n",
    "    )\n",
    "\n",
    "plt.title('Histograma da Coluna \"votes\"', fontsize=12, fontweight='bold')\n",
    "plt.ylabel('Num. Registros', fontsize=12, fontweight='bold')\n",
    "plt.xlabel('Votos (escala logarítimica)', fontsize=12, fontweight='bold')\n",
    "\n",
    "plt.legend()\n",
    "plt.show()"
   ]
  },
  {
   "attachments": {},
   "cell_type": "markdown",
   "metadata": {},
   "source": [
    "Aqui temos o inverso do visualizado no histograma da coluna rating, uma distribuição homogênia dos dados que tende a esquerda."
   ]
  },
  {
   "cell_type": "code",
   "execution_count": 48,
   "metadata": {},
   "outputs": [
    {
     "data": {
      "image/png": "[encoded data removed]",
      "text/plain": [
       "<Figure size 1440x360 with 1 Axes>"
      ]
     },
     "metadata": {
      "needs_background": "light"
     },
     "output_type": "display_data"
    }
   ],
   "source": [
    "# Boxplot\n",
    "\n",
    "# Selecionando dados diferentes de 0:\n",
    "votes = df_movies_clean.loc[(df_movies_clean['votes'] != 0), ['votes']]\n",
    "\n",
    "# Plotando:\n",
    "votes.plot(\n",
    "    kind='box', \n",
    "    vert=False, \n",
    "    figsize=(20,5), \n",
    "    fontsize=12,\n",
    "    loglog=True\n",
    "    )\n",
    "\n",
    "plt.title('Boxplot da Coluna \"votes\"', fontsize=12, fontweight='bold')\n",
    "plt.xlabel('Votos', fontsize=12, fontweight='bold')\n",
    "\n",
    "plt.show()"
   ]
  },
  {
   "attachments": {},
   "cell_type": "markdown",
   "metadata": {},
   "source": [
    "A tendência a esquerda dos dados pode ser bem visualizada com o boxplot, onde alguns outliers estão mais a direita."
   ]
  },
  {
   "attachments": {},
   "cell_type": "markdown",
   "metadata": {},
   "source": [
    "Como um último ajuste aos dados por agora, iremos remover todos os registros que não costam nenhum dado numérico, ou seja, que não serão relevantes para a análise.\n",
    "\n",
    "A exemplo de visualização, vamos puxar alguns desses dados do Dataset:"
   ]
  },
  {
   "cell_type": "code",
   "execution_count": 49,
   "metadata": {},
   "outputs": [],
   "source": [
    "# Pesquisando os dados vazios no DataFrame e retirando-os:\n",
    "df_movies_clean = df_movies_clean.drop(df_movies_clean.loc[\n",
    "    (df_movies_clean['release_year'] == 0) & \n",
    "    (df_movies_clean['ending_year'] == 0) & \n",
    "    (df_movies_clean['duration_min'] == 0) & \n",
    "    (df_movies_clean['rating'] == 0) & \n",
    "    (df_movies_clean['votes'] == 0), :].index)"
   ]
  },
  {
   "attachments": {},
   "cell_type": "markdown",
   "metadata": {},
   "source": [
    "Com o conhecimento dos outliers e características dos dados como um todo, a próxima etapa consistirá em dividir o DataFrame em dois (de minutagem curta e longa), assim poderemos realizar as análises para gerar insights mais aprofundados."
   ]
  },
  {
   "attachments": {},
   "cell_type": "markdown",
   "metadata": {},
   "source": [
    "## Parte 4: Limpando Outliers Necessários e Reagrupando DataFrame"
   ]
  },
  {
   "attachments": {},
   "cell_type": "markdown",
   "metadata": {},
   "source": [
    "Com o DataFrame analisado, constatou-se a massiva diferença na minutagem de projetos acima de 175 minutos, onde eles mesmo sendo muito díspares do restante dos dados, ainda possuem dados relevantes para análise. Com a divisão em dois do DataFrame, poderemos realizar análises próprias desses outliers que não passam de longas, documentários ou séries com apenas um registro somatório de seus episódios, não parecendo certo apenas descartá-los do Dataset como um todo."
   ]
  },
  {
   "cell_type": "code",
   "execution_count": 50,
   "metadata": {},
   "outputs": [
    {
     "data": {
      "text/html": [
       "<div>\n",
       "<style scoped>\n",
       "    .dataframe tbody tr th:only-of-type {\n",
       "        vertical-align: middle;\n",
       "    }\n",
       "\n",
       "    .dataframe tbody tr th {\n",
       "        vertical-align: top;\n",
       "    }\n",
       "\n",
       "    .dataframe thead th {\n",
       "        text-align: right;\n",
       "    }\n",
       "</style>\n",
       "<table border=\"1\" class=\"dataframe\">\n",
       "  <thead>\n",
       "    <tr style=\"text-align: right;\">\n",
       "      <th></th>\n",
       "      <th>title</th>\n",
       "      <th>release_year</th>\n",
       "      <th>ending_year</th>\n",
       "      <th>certificate</th>\n",
       "      <th>duration_min</th>\n",
       "      <th>genre</th>\n",
       "      <th>rating</th>\n",
       "      <th>description</th>\n",
       "      <th>stars</th>\n",
       "      <th>votes</th>\n",
       "    </tr>\n",
       "  </thead>\n",
       "  <tbody>\n",
       "    <tr>\n",
       "      <th>147</th>\n",
       "      <td>Carmel: Who Killed Maria Marta?</td>\n",
       "      <td>2020</td>\n",
       "      <td>0</td>\n",
       "      <td>TV-14</td>\n",
       "      <td>229</td>\n",
       "      <td>Documentary, Crime, Mystery</td>\n",
       "      <td>7.0</td>\n",
       "      <td>Documentary series on the circumstances surrou...</td>\n",
       "      <td>['Diego Molina Pico, ', 'Carlos Carrascosa, ',...</td>\n",
       "      <td>2515</td>\n",
       "    </tr>\n",
       "    <tr>\n",
       "      <th>24</th>\n",
       "      <td>The Serpent</td>\n",
       "      <td>2021</td>\n",
       "      <td>0</td>\n",
       "      <td>TV-MA</td>\n",
       "      <td>458</td>\n",
       "      <td>Crime, Drama, Thriller</td>\n",
       "      <td>7.6</td>\n",
       "      <td>The twisting, real-life story of Charles Sobhr...</td>\n",
       "      <td>['Tahar Rahim, ', 'Billy Howle, ', 'Jenna Cole...</td>\n",
       "      <td>43200</td>\n",
       "    </tr>\n",
       "    <tr>\n",
       "      <th>17</th>\n",
       "      <td>Godless</td>\n",
       "      <td>2017</td>\n",
       "      <td>0</td>\n",
       "      <td>TV-MA</td>\n",
       "      <td>452</td>\n",
       "      <td>Action, Drama, Western</td>\n",
       "      <td>8.3</td>\n",
       "      <td>In the 1880s American West, murderous outlaw g...</td>\n",
       "      <td>[\"Jack O'Connell, \", 'Michelle Dockery, ', 'Sc...</td>\n",
       "      <td>66821</td>\n",
       "    </tr>\n",
       "    <tr>\n",
       "      <th>165</th>\n",
       "      <td>Reasonable Doubt: A Tale of Two Kidnappings</td>\n",
       "      <td>2021</td>\n",
       "      <td>0</td>\n",
       "      <td>TV-MA</td>\n",
       "      <td>186</td>\n",
       "      <td>Documentary, Crime</td>\n",
       "      <td>7.6</td>\n",
       "      <td>A fender bender that turned into a kidnapping ...</td>\n",
       "      <td>[Not Informed]</td>\n",
       "      <td>204</td>\n",
       "    </tr>\n",
       "    <tr>\n",
       "      <th>19</th>\n",
       "      <td>The Stranger</td>\n",
       "      <td>2020</td>\n",
       "      <td>0</td>\n",
       "      <td>TV-MA</td>\n",
       "      <td>363</td>\n",
       "      <td>Crime, Drama, Mystery</td>\n",
       "      <td>7.3</td>\n",
       "      <td>Follows the lives of suburban families whose s...</td>\n",
       "      <td>['Richard Armitage, ', 'Shaun Dooley, ', 'Siob...</td>\n",
       "      <td>50086</td>\n",
       "    </tr>\n",
       "  </tbody>\n",
       "</table>\n",
       "</div>"
      ],
      "text/plain": [
       "                                           title  release_year  ending_year  \\\n",
       "147              Carmel: Who Killed Maria Marta?          2020            0   \n",
       "24                                   The Serpent          2021            0   \n",
       "17                                       Godless          2017            0   \n",
       "165  Reasonable Doubt: A Tale of Two Kidnappings          2021            0   \n",
       "19                                  The Stranger          2020            0   \n",
       "\n",
       "    certificate  duration_min                        genre  rating  \\\n",
       "147       TV-14           229  Documentary, Crime, Mystery     7.0   \n",
       "24        TV-MA           458       Crime, Drama, Thriller     7.6   \n",
       "17        TV-MA           452       Action, Drama, Western     8.3   \n",
       "165       TV-MA           186           Documentary, Crime     7.6   \n",
       "19        TV-MA           363        Crime, Drama, Mystery     7.3   \n",
       "\n",
       "                                           description  \\\n",
       "147  Documentary series on the circumstances surrou...   \n",
       "24   The twisting, real-life story of Charles Sobhr...   \n",
       "17   In the 1880s American West, murderous outlaw g...   \n",
       "165  A fender bender that turned into a kidnapping ...   \n",
       "19   Follows the lives of suburban families whose s...   \n",
       "\n",
       "                                                 stars  votes  \n",
       "147  ['Diego Molina Pico, ', 'Carlos Carrascosa, ',...   2515  \n",
       "24   ['Tahar Rahim, ', 'Billy Howle, ', 'Jenna Cole...  43200  \n",
       "17   [\"Jack O'Connell, \", 'Michelle Dockery, ', 'Sc...  66821  \n",
       "165                                     [Not Informed]    204  \n",
       "19   ['Richard Armitage, ', 'Shaun Dooley, ', 'Siob...  50086  "
      ]
     },
     "execution_count": 50,
     "metadata": {},
     "output_type": "execute_result"
    }
   ],
   "source": [
    "# Criando um dataframe separado para os programas de longa-metragem (acima de 175 min):\n",
    "df_long_duration = df_movies_clean.loc[(df_movies_clean['duration_min'] > 175), :].copy()\n",
    "\n",
    "# Resetando o index desse novo DataFrame:\n",
    "df_long_duration = df_long_duration.reset_index(0, drop=True)\n",
    "\n",
    "# Visualizando um sample desses dados:\n",
    "df_long_duration.sample(5)"
   ]
  },
  {
   "attachments": {},
   "cell_type": "markdown",
   "metadata": {},
   "source": [
    "Com esses registros acima de 175 minutos em um DataFrame próprio, basta removê-los do Dataset limpo original para que restem apenas os registros abaixo dessa minutagem:"
   ]
  },
  {
   "cell_type": "code",
   "execution_count": 51,
   "metadata": {},
   "outputs": [
    {
     "data": {
      "text/html": [
       "<div>\n",
       "<style scoped>\n",
       "    .dataframe tbody tr th:only-of-type {\n",
       "        vertical-align: middle;\n",
       "    }\n",
       "\n",
       "    .dataframe tbody tr th {\n",
       "        vertical-align: top;\n",
       "    }\n",
       "\n",
       "    .dataframe thead th {\n",
       "        text-align: right;\n",
       "    }\n",
       "</style>\n",
       "<table border=\"1\" class=\"dataframe\">\n",
       "  <thead>\n",
       "    <tr style=\"text-align: right;\">\n",
       "      <th></th>\n",
       "      <th>title</th>\n",
       "      <th>release_year</th>\n",
       "      <th>ending_year</th>\n",
       "      <th>certificate</th>\n",
       "      <th>duration_min</th>\n",
       "      <th>genre</th>\n",
       "      <th>rating</th>\n",
       "      <th>description</th>\n",
       "      <th>stars</th>\n",
       "      <th>votes</th>\n",
       "    </tr>\n",
       "  </thead>\n",
       "  <tbody>\n",
       "    <tr>\n",
       "      <th>4863</th>\n",
       "      <td>Blood Brothers: Malcolm X &amp; Muhammad Ali</td>\n",
       "      <td>2021</td>\n",
       "      <td>0</td>\n",
       "      <td>PG-13</td>\n",
       "      <td>95</td>\n",
       "      <td>Documentary, Biography, History</td>\n",
       "      <td>6.9</td>\n",
       "      <td>From a chance meeting to a tragic fallout, Mal...</td>\n",
       "      <td>['Marcus A. Clarke', '| ', '    Stars:', 'Ilya...</td>\n",
       "      <td>986</td>\n",
       "    </tr>\n",
       "    <tr>\n",
       "      <th>4894</th>\n",
       "      <td>Love Is Blind: Brazil</td>\n",
       "      <td>2021</td>\n",
       "      <td>0</td>\n",
       "      <td>TV-MA</td>\n",
       "      <td>60</td>\n",
       "      <td>Reality-TV, Romance</td>\n",
       "      <td>6.2</td>\n",
       "      <td>The dating experiment comes to Brazil as local...</td>\n",
       "      <td>['Shayan Haghbin, ', 'Rodrigo Vaisemberg, ', '...</td>\n",
       "      <td>459</td>\n",
       "    </tr>\n",
       "    <tr>\n",
       "      <th>7228</th>\n",
       "      <td>Alexis Viera: A Story of Surviving</td>\n",
       "      <td>2019</td>\n",
       "      <td>0</td>\n",
       "      <td>[Not Informed]</td>\n",
       "      <td>68</td>\n",
       "      <td>Documentary</td>\n",
       "      <td>7.2</td>\n",
       "      <td>Alexis Viera, una historia de superación is a ...</td>\n",
       "      <td>['Luis Ara']</td>\n",
       "      <td>55</td>\n",
       "    </tr>\n",
       "    <tr>\n",
       "      <th>6619</th>\n",
       "      <td>Filthy Gorgeous: The Bob Guccione Story</td>\n",
       "      <td>2013</td>\n",
       "      <td>0</td>\n",
       "      <td>TV-MA</td>\n",
       "      <td>96</td>\n",
       "      <td>Documentary, Biography</td>\n",
       "      <td>6.5</td>\n",
       "      <td>A look at the extraordinary world of Penthouse...</td>\n",
       "      <td>['Barry Avrich', '| ', '    Stars:', 'Patrice ...</td>\n",
       "      <td>362</td>\n",
       "    </tr>\n",
       "    <tr>\n",
       "      <th>9755</th>\n",
       "      <td>Dash &amp; Lily</td>\n",
       "      <td>2020</td>\n",
       "      <td>0</td>\n",
       "      <td>TV-14</td>\n",
       "      <td>23</td>\n",
       "      <td>Comedy, Drama, Romance</td>\n",
       "      <td>7.7</td>\n",
       "      <td>Lily loves Christmas, but the prospect of a lo...</td>\n",
       "      <td>['Brad Silberling', '| ', '    Stars:', 'Midor...</td>\n",
       "      <td>359</td>\n",
       "    </tr>\n",
       "  </tbody>\n",
       "</table>\n",
       "</div>"
      ],
      "text/plain": [
       "                                         title  release_year  ending_year  \\\n",
       "4863  Blood Brothers: Malcolm X & Muhammad Ali          2021            0   \n",
       "4894                     Love Is Blind: Brazil          2021            0   \n",
       "7228        Alexis Viera: A Story of Surviving          2019            0   \n",
       "6619   Filthy Gorgeous: The Bob Guccione Story          2013            0   \n",
       "9755                               Dash & Lily          2020            0   \n",
       "\n",
       "         certificate  duration_min                            genre  rating  \\\n",
       "4863           PG-13            95  Documentary, Biography, History     6.9   \n",
       "4894           TV-MA            60              Reality-TV, Romance     6.2   \n",
       "7228  [Not Informed]            68                      Documentary     7.2   \n",
       "6619           TV-MA            96           Documentary, Biography     6.5   \n",
       "9755           TV-14            23           Comedy, Drama, Romance     7.7   \n",
       "\n",
       "                                            description  \\\n",
       "4863  From a chance meeting to a tragic fallout, Mal...   \n",
       "4894  The dating experiment comes to Brazil as local...   \n",
       "7228  Alexis Viera, una historia de superación is a ...   \n",
       "6619  A look at the extraordinary world of Penthouse...   \n",
       "9755  Lily loves Christmas, but the prospect of a lo...   \n",
       "\n",
       "                                                  stars  votes  \n",
       "4863  ['Marcus A. Clarke', '| ', '    Stars:', 'Ilya...    986  \n",
       "4894  ['Shayan Haghbin, ', 'Rodrigo Vaisemberg, ', '...    459  \n",
       "7228                                       ['Luis Ara']     55  \n",
       "6619  ['Barry Avrich', '| ', '    Stars:', 'Patrice ...    362  \n",
       "9755  ['Brad Silberling', '| ', '    Stars:', 'Midor...    359  "
      ]
     },
     "execution_count": 51,
     "metadata": {},
     "output_type": "execute_result"
    }
   ],
   "source": [
    "# Removendo esse longas do dataframe original:\n",
    "df_movies_clean = df_movies_clean.drop(df_movies_clean[df_movies_clean['duration_min'] > 175].index)\n",
    "\n",
    "# Visualizando um sample do Dataset:\n",
    "df_movies_clean.sample(5)"
   ]
  },
  {
   "attachments": {},
   "cell_type": "markdown",
   "metadata": {},
   "source": [
    "Com os dados separados por minutagem, vamos refazer o Histograma da coluna duration_min de ambos os DataFrames:"
   ]
  },
  {
   "attachments": {},
   "cell_type": "markdown",
   "metadata": {},
   "source": [
    "### Histograma: df_movies_clean"
   ]
  },
  {
   "cell_type": "code",
   "execution_count": 81,
   "metadata": {},
   "outputs": [
    {
     "data": {
      "image/png": "[encoded data removed]",
      "text/plain": [
       "<Figure size 842.4x595.44 with 1 Axes>"
      ]
     },
     "metadata": {},
     "output_type": "display_data"
    }
   ],
   "source": [
    "# Histograma\n",
    "\n",
    "# Selecionando dados diferentes de 0:\n",
    "duration_min = df_movies_clean.loc[(df_movies_clean['duration_min'] != 0), ['duration_min']]\n",
    "\n",
    "# Plotando\n",
    "sns.histplot(\n",
    "    data=duration_min, \n",
    "    kde=True, \n",
    "    label='Intensidade de Registros', \n",
    "    binwidth=2, \n",
    "    line_kws={'linestyle': 'dashed'}\n",
    "    )\n",
    "\n",
    "plt.title('Histograma da Coluna \"duration_min\" Limpa', fontsize=12, fontweight='bold')\n",
    "plt.ylabel('Num. Registros', fontsize=12, fontweight='bold')\n",
    "plt.xlabel('Duração em Minutos', fontsize=12, fontweight='bold')\n",
    "\n",
    "plt.legend()\n",
    "plt.show()"
   ]
  },
  {
   "attachments": {},
   "cell_type": "markdown",
   "metadata": {},
   "source": [
    "Com a minutagem apenas abaixo de 175 minutos presente, a distribuição dos dados no df_movies_clean ficou mais aparente. Agora realizaremos o mesmo processo para visualizar a minutagem do df_long_duration:"
   ]
  },
  {
   "attachments": {},
   "cell_type": "markdown",
   "metadata": {},
   "source": [
    "### Histograma: df_long_duration"
   ]
  },
  {
   "cell_type": "code",
   "execution_count": 82,
   "metadata": {},
   "outputs": [
    {
     "data": {
      "image/png": "[encoded data removed]",
      "text/plain": [
       "<Figure size 842.4x595.44 with 1 Axes>"
      ]
     },
     "metadata": {},
     "output_type": "display_data"
    }
   ],
   "source": [
    "# Histograma\n",
    "\n",
    "# Selecionando dados diferentes de 0:\n",
    "duration_min_long = df_long_duration.loc[(df_long_duration['duration_min'] != 0), ['duration_min']]\n",
    "\n",
    "# Plotando\n",
    "sns.histplot(\n",
    "    data=duration_min_long, \n",
    "    kde=True, \n",
    "    label='Intensidade de Registros', \n",
    "    line_kws={'linestyle': 'dashed'}\n",
    "    )\n",
    "\n",
    "plt.title('Histograma da Coluna \"duration_min\" df_long_duration', fontsize=12, fontweight='bold')\n",
    "plt.ylabel('Num. Registros', fontsize=12, fontweight='bold')\n",
    "plt.xlabel('Duração em Minutos', fontsize=12, fontweight='bold')\n",
    "\n",
    "plt.legend()\n",
    "plt.show()"
   ]
  },
  {
   "attachments": {},
   "cell_type": "markdown",
   "metadata": {},
   "source": [
    "Percebemos que a distribuição é tende muito a esquerda, onde a maioria dos valores está abaixo de 300 minutos. Após os 600 minutos, temos um gap de quase nenhum registro entre 700 e 800 minutos, apenas resurgindo novamente por volta de 900 e novamente por volta de 1000 minutos."
   ]
  },
  {
   "attachments": {},
   "cell_type": "markdown",
   "metadata": {},
   "source": [
    "## Parte 5: Perguntas e Insights Relevantes"
   ]
  },
  {
   "attachments": {},
   "cell_type": "markdown",
   "metadata": {},
   "source": [
    "Com os dados devidamente limpos, organizados e separados por minutagem, nos debruçaremos sobre algumas análises pertinentes ao Dataset, sendo essas análises compostas pelas perguntas e postulações:\n",
    "\n",
    "- **1.** Qual a quantidade de obras por certificado?\n",
    "\n",
    "- **2.** Contabilizar a quantidade de projetos lançados por década;\n",
    "\n",
    "- **3.** Quais os top 10 gêneros e quantas vezes aparecem nos registros?\n",
    "\n",
    "- **4.** Qual a média de tempo de duração dos filmes por top 10 gêneros?\n",
    "\n",
    "- **5.** Qual a média de ratings dadas aos projetos por top 10 gêneros?\n",
    "\n",
    "- **6.** Quais são os programas mais bem avaliados no geral?\n",
    "\n",
    "- **7.** Existe alguma correlação relevante apontada pelos dados?\n",
    "\n",
    "Todas as questões serão analisadas e respondidas duas vezes, uma para cada DataFrame de minutagem."
   ]
  },
  {
   "attachments": {},
   "cell_type": "markdown",
   "metadata": {},
   "source": [
    "### 1. Qual a quantidade de obras por certificado?"
   ]
  },
  {
   "attachments": {},
   "cell_type": "markdown",
   "metadata": {},
   "source": [
    "#### Resposta 1: df_movies_clean"
   ]
  },
  {
   "cell_type": "code",
   "execution_count": 54,
   "metadata": {},
   "outputs": [
    {
     "data": {
      "text/html": [
       "<div>\n",
       "<style scoped>\n",
       "    .dataframe tbody tr th:only-of-type {\n",
       "        vertical-align: middle;\n",
       "    }\n",
       "\n",
       "    .dataframe tbody tr th {\n",
       "        vertical-align: top;\n",
       "    }\n",
       "\n",
       "    .dataframe thead th {\n",
       "        text-align: right;\n",
       "    }\n",
       "</style>\n",
       "<table border=\"1\" class=\"dataframe\">\n",
       "  <thead>\n",
       "    <tr style=\"text-align: right;\">\n",
       "      <th></th>\n",
       "      <th>certificate_type</th>\n",
       "      <th>quantity</th>\n",
       "    </tr>\n",
       "  </thead>\n",
       "  <tbody>\n",
       "    <tr>\n",
       "      <th>0</th>\n",
       "      <td>[Not Informed]</td>\n",
       "      <td>2838</td>\n",
       "    </tr>\n",
       "    <tr>\n",
       "      <th>1</th>\n",
       "      <td>TV-MA</td>\n",
       "      <td>2395</td>\n",
       "    </tr>\n",
       "    <tr>\n",
       "      <th>2</th>\n",
       "      <td>TV-14</td>\n",
       "      <td>1169</td>\n",
       "    </tr>\n",
       "    <tr>\n",
       "      <th>3</th>\n",
       "      <td>TV-PG</td>\n",
       "      <td>534</td>\n",
       "    </tr>\n",
       "    <tr>\n",
       "      <th>4</th>\n",
       "      <td>R</td>\n",
       "      <td>470</td>\n",
       "    </tr>\n",
       "  </tbody>\n",
       "</table>\n",
       "</div>"
      ],
      "text/plain": [
       "  certificate_type  quantity\n",
       "0   [Not Informed]      2838\n",
       "1            TV-MA      2395\n",
       "2            TV-14      1169\n",
       "3            TV-PG       534\n",
       "4                R       470"
      ]
     },
     "execution_count": 54,
     "metadata": {},
     "output_type": "execute_result"
    }
   ],
   "source": [
    "# Coletando cada registro de cada certificado e passando esses valores para um novo DataFrame:\n",
    "df_certs_clean = pd.DataFrame(df_movies_clean['certificate'].value_counts())\n",
    "\n",
    "# Resetando o index dos registros no novo DataFrame e renomeando as colunas novas:\n",
    "df_certs_clean = df_certs_clean.reset_index()\n",
    "df_certs_clean = df_certs_clean.rename(columns={'index':'certificate_type', 'certificate':'quantity'})\n",
    "\n",
    "# Visualizando top 5 resultados:\n",
    "df_certs_clean.head()"
   ]
  },
  {
   "attachments": {},
   "cell_type": "markdown",
   "metadata": {},
   "source": [
    "Assim, temos os top 5 tipos de certificações dadas as obras com minutagem menor a 175, sendo:\n",
    "\n",
    "- 3399 registros o maior valor, onde essas obras não tiveram sua certificação informada no Dataset. Lembrando que isso não significa que essas obras não retiraram certificação ou não foram aplicáveis (como constam obras com certificação 'Not Rated/Unrated'), apenas significa que essa informação não foi inserida, por motivos desconhecidos.\n",
    "\n",
    "Dentre certificações que podemos determinar, a de maior atribuição foi **TV-MA**, seguida de **TV-14** e **TV-PG** respectivamente, o que indica que a maioria das produções presentes no catálogo Netflix cujas minutagens estão abaixo dos 175 minutos são pensadas para audiências maturas."
   ]
  },
  {
   "attachments": {},
   "cell_type": "markdown",
   "metadata": {},
   "source": [
    "Para facilitar a visualização e podermos enxergar toda a dimensão dos dados tabulares, plotaremos um gráfico com base nesses dados:"
   ]
  },
  {
   "cell_type": "code",
   "execution_count": 83,
   "metadata": {},
   "outputs": [
    {
     "data": {
      "image/png": "[encoded data removed]",
      "text/plain": [
       "<Figure size 842.4x595.44 with 1 Axes>"
      ]
     },
     "metadata": {},
     "output_type": "display_data"
    }
   ],
   "source": [
    "# Bar Chart\n",
    "\n",
    "# Definindo as variáveis que contém o tipo de certificação e a quantidade respectivamente:\n",
    "certificates = list(df_certs_clean['certificate_type'])\n",
    "quantity = list(df_certs_clean['quantity'])\n",
    "\n",
    "# Plotando\n",
    "fig, ax = plt.subplots()\n",
    "\n",
    "hbars = ax.barh(certificates, quantity, align='center', edgecolor='black', color='#0388fc')\n",
    "\n",
    "ax.set_yticks(certificates)\n",
    "ax.invert_yaxis()\n",
    "ax.set_xlabel('Quantidade',fontsize=12, fontweight='bold')\n",
    "ax.set_title('Quantidade de Cada Tipo de Certificado', fontsize=12, fontweight='bold')\n",
    "\n",
    "ax.bar_label(hbars, fmt='%.f',fontsize=12, color='#000000', padding=1)\n",
    "\n",
    "plt.show()"
   ]
  },
  {
   "attachments": {},
   "cell_type": "markdown",
   "metadata": {},
   "source": [
    "#### Resposta 2: df_long_duration"
   ]
  },
  {
   "cell_type": "code",
   "execution_count": 56,
   "metadata": {},
   "outputs": [
    {
     "data": {
      "text/html": [
       "<div>\n",
       "<style scoped>\n",
       "    .dataframe tbody tr th:only-of-type {\n",
       "        vertical-align: middle;\n",
       "    }\n",
       "\n",
       "    .dataframe tbody tr th {\n",
       "        vertical-align: top;\n",
       "    }\n",
       "\n",
       "    .dataframe thead th {\n",
       "        text-align: right;\n",
       "    }\n",
       "</style>\n",
       "<table border=\"1\" class=\"dataframe\">\n",
       "  <thead>\n",
       "    <tr style=\"text-align: right;\">\n",
       "      <th></th>\n",
       "      <th>certificate_type</th>\n",
       "      <th>quantity</th>\n",
       "    </tr>\n",
       "  </thead>\n",
       "  <tbody>\n",
       "    <tr>\n",
       "      <th>0</th>\n",
       "      <td>TV-MA</td>\n",
       "      <td>106</td>\n",
       "    </tr>\n",
       "    <tr>\n",
       "      <th>1</th>\n",
       "      <td>TV-14</td>\n",
       "      <td>27</td>\n",
       "    </tr>\n",
       "    <tr>\n",
       "      <th>2</th>\n",
       "      <td>[Not Informed]</td>\n",
       "      <td>16</td>\n",
       "    </tr>\n",
       "    <tr>\n",
       "      <th>3</th>\n",
       "      <td>PG-13</td>\n",
       "      <td>8</td>\n",
       "    </tr>\n",
       "    <tr>\n",
       "      <th>4</th>\n",
       "      <td>TV-PG</td>\n",
       "      <td>7</td>\n",
       "    </tr>\n",
       "  </tbody>\n",
       "</table>\n",
       "</div>"
      ],
      "text/plain": [
       "  certificate_type  quantity\n",
       "0            TV-MA       106\n",
       "1            TV-14        27\n",
       "2   [Not Informed]        16\n",
       "3            PG-13         8\n",
       "4            TV-PG         7"
      ]
     },
     "execution_count": 56,
     "metadata": {},
     "output_type": "execute_result"
    }
   ],
   "source": [
    "# Coletando cada registro de cada certificado e passando esses valores para um novo DataFrame:\n",
    "df_certs_long = pd.DataFrame(df_long_duration['certificate'].value_counts())\n",
    "\n",
    "# Resetando o index dos registros no novo DataFrame e renomeando as colunas novas:\n",
    "df_certs_long = df_certs_long.reset_index()\n",
    "df_certs_long = df_certs_long.rename(columns={'index':'certificate_type', 'certificate':'quantity'})\n",
    "\n",
    "# Visualizando top 5 resultados:\n",
    "df_certs_long.head()"
   ]
  },
  {
   "attachments": {},
   "cell_type": "markdown",
   "metadata": {},
   "source": [
    "Aqui já notamos uma diferença em relação aos projetos de minutagem mais curta. O maior número de certificações pertencem a **TV-MA** com 106 registros, seguida por **TV-14** e **Not Informed** respectivamente.\n",
    "\n",
    "A quantidade de certificações para audiências maduras (TV-MA) ser cerca de 4X maior do que o segundo registro mais presente (TV-14), demonstra que obras de maior duração tendem a serem destinadas para o público adulto."
   ]
  },
  {
   "attachments": {},
   "cell_type": "markdown",
   "metadata": {},
   "source": [
    "Uma plotagem gráfica novamente será realizada para melhor visualização dos dados:"
   ]
  },
  {
   "cell_type": "code",
   "execution_count": 84,
   "metadata": {},
   "outputs": [
    {
     "data": {
      "image/png": "[encoded data removed]",
      "text/plain": [
       "<Figure size 842.4x595.44 with 1 Axes>"
      ]
     },
     "metadata": {},
     "output_type": "display_data"
    }
   ],
   "source": [
    "# Bar Chart\n",
    "\n",
    "# Definindo as variáveis que contém o tipo de certificação e a quantidade respectivamente:\n",
    "certs_long = list(df_certs_long['certificate_type'])\n",
    "qnty_long = list(df_certs_long['quantity'])\n",
    "\n",
    "# Plotando:\n",
    "fig, ax = plt.subplots()\n",
    "\n",
    "hbars = ax.barh(certs_long, qnty_long, align='center', edgecolor='black', color='#0388fc')\n",
    "\n",
    "ax.set_yticks(certs_long)\n",
    "ax.invert_yaxis()\n",
    "ax.set_xlabel('Quantidade',fontsize=12, fontweight='bold')\n",
    "ax.set_title('Quantidade de Cada Tipo de Certificado - Long Duration', fontsize=12, fontweight='bold')\n",
    "\n",
    "ax.bar_label(hbars, fmt='%.f',fontsize=12, color='#000000', padding=1)\n",
    "\n",
    "plt.show()"
   ]
  },
  {
   "attachments": {},
   "cell_type": "markdown",
   "metadata": {},
   "source": [
    "### 2. Contabilizar a quantidade de projetos lançados por década"
   ]
  },
  {
   "attachments": {},
   "cell_type": "markdown",
   "metadata": {},
   "source": [
    "#### Resposta 1: df_movies_clean"
   ]
  },
  {
   "cell_type": "code",
   "execution_count": 58,
   "metadata": {},
   "outputs": [
    {
     "data": {
      "text/html": [
       "<div>\n",
       "<style scoped>\n",
       "    .dataframe tbody tr th:only-of-type {\n",
       "        vertical-align: middle;\n",
       "    }\n",
       "\n",
       "    .dataframe tbody tr th {\n",
       "        vertical-align: top;\n",
       "    }\n",
       "\n",
       "    .dataframe thead th {\n",
       "        text-align: right;\n",
       "    }\n",
       "</style>\n",
       "<table border=\"1\" class=\"dataframe\">\n",
       "  <thead>\n",
       "    <tr style=\"text-align: right;\">\n",
       "      <th></th>\n",
       "      <th>release_year</th>\n",
       "      <th>quantity</th>\n",
       "    </tr>\n",
       "  </thead>\n",
       "  <tbody>\n",
       "    <tr>\n",
       "      <th>0</th>\n",
       "      <td>2019</td>\n",
       "      <td>1299</td>\n",
       "    </tr>\n",
       "    <tr>\n",
       "      <th>1</th>\n",
       "      <td>2020</td>\n",
       "      <td>1179</td>\n",
       "    </tr>\n",
       "    <tr>\n",
       "      <th>2</th>\n",
       "      <td>2018</td>\n",
       "      <td>1000</td>\n",
       "    </tr>\n",
       "    <tr>\n",
       "      <th>3</th>\n",
       "      <td>2021</td>\n",
       "      <td>863</td>\n",
       "    </tr>\n",
       "    <tr>\n",
       "      <th>4</th>\n",
       "      <td>2017</td>\n",
       "      <td>799</td>\n",
       "    </tr>\n",
       "  </tbody>\n",
       "</table>\n",
       "</div>"
      ],
      "text/plain": [
       "   release_year  quantity\n",
       "0          2019      1299\n",
       "1          2020      1179\n",
       "2          2018      1000\n",
       "3          2021       863\n",
       "4          2017       799"
      ]
     },
     "execution_count": 58,
     "metadata": {},
     "output_type": "execute_result"
    }
   ],
   "source": [
    "# Primeiramente, precisamos pegar todos os registros de cada ano de lançamento\n",
    "# e passar esses valores para um novo DataFrame:\n",
    "df_release_clean = pd.DataFrame(df_movies_clean.loc[\n",
    "    (df_movies_clean['release_year'] != 0), ['release_year']\n",
    "].value_counts())\n",
    "\n",
    "# Resetando os índices do novo DataFrame:\n",
    "df_release_clean = df_release_clean.reset_index()\n",
    "\n",
    "# Renomeando colunas:\n",
    "df_release_clean = df_release_clean.rename(columns={0:'quantity'})\n",
    "\n",
    "# Visualizando resultados:\n",
    "df_release_clean.head()"
   ]
  },
  {
   "attachments": {},
   "cell_type": "markdown",
   "metadata": {},
   "source": [
    "Para podermos ter conhecimento de quantos projetos foram lançados por década, iremos utilizar cortes de dez anos no Dataset, para isso no entanto, primeiro precisamos saber os anos máximo e mínimo presentes nos dados:"
   ]
  },
  {
   "cell_type": "code",
   "execution_count": 59,
   "metadata": {},
   "outputs": [
    {
     "name": "stdout",
     "output_type": "stream",
     "text": [
      "Ano máximo: 2022\n",
      "Ano mínimo: 1932\n"
     ]
    }
   ],
   "source": [
    "# Identificando os anos máximo e mínimo presentes:\n",
    "max_year = df_release_clean['release_year'].max()\n",
    "min_year = df_release_clean['release_year'].min()\n",
    "\n",
    "print(f'Ano máximo: {max_year}')\n",
    "print(f'Ano mínimo: {min_year}')"
   ]
  },
  {
   "attachments": {},
   "cell_type": "markdown",
   "metadata": {},
   "source": [
    "Com isso vemos que temos um range de 90 anos de registros. Sendo assim, realizaremos um corte de 9 décadas para podermos visualizar o número de projetos lançados:"
   ]
  },
  {
   "cell_type": "code",
   "execution_count": 60,
   "metadata": {},
   "outputs": [],
   "source": [
    "# Fatiando o DataFrame por década:\n",
    "release_decades = pd.cut(df_release_clean['release_year'], bins=9, labels=[\n",
    "    '1932-1942',\n",
    "    '1942-1952', \n",
    "    '1952-1962', \n",
    "    '1962-1972', \n",
    "    '1972-1982', \n",
    "    '1982-1992', \n",
    "    '1992-2002', \n",
    "    '2002-2012', \n",
    "    '2012-2022'\n",
    "])"
   ]
  },
  {
   "cell_type": "code",
   "execution_count": 61,
   "metadata": {},
   "outputs": [
    {
     "data": {
      "text/html": [
       "<div>\n",
       "<style scoped>\n",
       "    .dataframe tbody tr th:only-of-type {\n",
       "        vertical-align: middle;\n",
       "    }\n",
       "\n",
       "    .dataframe tbody tr th {\n",
       "        vertical-align: top;\n",
       "    }\n",
       "\n",
       "    .dataframe thead th {\n",
       "        text-align: right;\n",
       "    }\n",
       "</style>\n",
       "<table border=\"1\" class=\"dataframe\">\n",
       "  <thead>\n",
       "    <tr style=\"text-align: right;\">\n",
       "      <th></th>\n",
       "      <th>release_year</th>\n",
       "      <th>quantity</th>\n",
       "      <th>release_decade</th>\n",
       "    </tr>\n",
       "  </thead>\n",
       "  <tbody>\n",
       "    <tr>\n",
       "      <th>51</th>\n",
       "      <td>1961</td>\n",
       "      <td>3</td>\n",
       "      <td>1952-1962</td>\n",
       "    </tr>\n",
       "    <tr>\n",
       "      <th>76</th>\n",
       "      <td>1947</td>\n",
       "      <td>1</td>\n",
       "      <td>1942-1952</td>\n",
       "    </tr>\n",
       "    <tr>\n",
       "      <th>0</th>\n",
       "      <td>2019</td>\n",
       "      <td>1299</td>\n",
       "      <td>2012-2022</td>\n",
       "    </tr>\n",
       "    <tr>\n",
       "      <th>67</th>\n",
       "      <td>1986</td>\n",
       "      <td>2</td>\n",
       "      <td>1982-1992</td>\n",
       "    </tr>\n",
       "    <tr>\n",
       "      <th>37</th>\n",
       "      <td>1989</td>\n",
       "      <td>6</td>\n",
       "      <td>1982-1992</td>\n",
       "    </tr>\n",
       "  </tbody>\n",
       "</table>\n",
       "</div>"
      ],
      "text/plain": [
       "    release_year  quantity release_decade\n",
       "51          1961         3      1952-1962\n",
       "76          1947         1      1942-1952\n",
       "0           2019      1299      2012-2022\n",
       "67          1986         2      1982-1992\n",
       "37          1989         6      1982-1992"
      ]
     },
     "execution_count": 61,
     "metadata": {},
     "output_type": "execute_result"
    }
   ],
   "source": [
    "# Inserindo esse recorte no DataFrame como uma nova coluna informando a década em que\n",
    "# o projeto foi lançado:\n",
    "df_release_clean['release_decade'] = release_decades\n",
    "\n",
    "# Checando resultados:\n",
    "df_release_clean.sample(5)"
   ]
  },
  {
   "attachments": {},
   "cell_type": "markdown",
   "metadata": {},
   "source": [
    "Agora, basta agrupar os dados pelas décadas e plotar um gráfico demonstrando quantos projetos foram lançados por década:"
   ]
  },
  {
   "cell_type": "code",
   "execution_count": 62,
   "metadata": {},
   "outputs": [
    {
     "data": {
      "text/plain": [
       "1932-1942     6\n",
       "1942-1952     7\n",
       "1952-1962    10\n",
       "1962-1972    10\n",
       "1972-1982    10\n",
       "1982-1992    10\n",
       "1992-2002    10\n",
       "2002-2012    10\n",
       "2012-2022    10\n",
       "Name: release_decade, dtype: int64"
      ]
     },
     "execution_count": 62,
     "metadata": {},
     "output_type": "execute_result"
    }
   ],
   "source": [
    "# Agrupando dados por décadas:\n",
    "decades = df_release_clean['release_decade'].value_counts().sort_values()\n",
    "\n",
    "# Visualizando resultados:\n",
    "decades"
   ]
  },
  {
   "cell_type": "code",
   "execution_count": 85,
   "metadata": {},
   "outputs": [
    {
     "data": {
      "image/png": "[encoded data removed]",
      "text/plain": [
       "<Figure size 842.4x595.44 with 1 Axes>"
      ]
     },
     "metadata": {},
     "output_type": "display_data"
    }
   ],
   "source": [
    "# Bar Chart\n",
    "\n",
    "# Plotando:\n",
    "fig, ax = plt.subplots()\n",
    "\n",
    "bars = ax.bar(\n",
    "    decades.index, \n",
    "    align='center', \n",
    "    edgecolor='black', \n",
    "    color='#0388fc', \n",
    "    height=decades, \n",
    "    width=.5\n",
    "    )\n",
    "    \n",
    "ax.set_xlabel('Décadas',fontsize=12, fontweight='bold')\n",
    "ax.set_title('Quantidade de Projetos por Décadas', fontsize=12, fontweight='bold')\n",
    "\n",
    "ax.bar_label(bars, fmt='%.f',fontsize=12, color='#000000', padding=1)\n",
    "\n",
    "plt.show()"
   ]
  },
  {
   "attachments": {},
   "cell_type": "markdown",
   "metadata": {},
   "source": [
    "No catálogo da Netflix temos 10 projetos de cada década, menos das entre 1932 a 1952."
   ]
  },
  {
   "attachments": {},
   "cell_type": "markdown",
   "metadata": {},
   "source": [
    "#### Resposta 2: df_long_duration"
   ]
  },
  {
   "attachments": {},
   "cell_type": "markdown",
   "metadata": {},
   "source": [
    "Similarmente ao processo executado na resposta 1, vamos pegar os anos de lançamento de cada projeto, identificar os intervalos de décadas, realizar o corte no DataFrame e plotar os resultados."
   ]
  },
  {
   "cell_type": "code",
   "execution_count": 64,
   "metadata": {},
   "outputs": [
    {
     "data": {
      "text/html": [
       "<div>\n",
       "<style scoped>\n",
       "    .dataframe tbody tr th:only-of-type {\n",
       "        vertical-align: middle;\n",
       "    }\n",
       "\n",
       "    .dataframe tbody tr th {\n",
       "        vertical-align: top;\n",
       "    }\n",
       "\n",
       "    .dataframe thead th {\n",
       "        text-align: right;\n",
       "    }\n",
       "</style>\n",
       "<table border=\"1\" class=\"dataframe\">\n",
       "  <thead>\n",
       "    <tr style=\"text-align: right;\">\n",
       "      <th></th>\n",
       "      <th>release_year</th>\n",
       "      <th>quantity</th>\n",
       "    </tr>\n",
       "  </thead>\n",
       "  <tbody>\n",
       "    <tr>\n",
       "      <th>0</th>\n",
       "      <td>2021</td>\n",
       "      <td>33</td>\n",
       "    </tr>\n",
       "    <tr>\n",
       "      <th>1</th>\n",
       "      <td>2020</td>\n",
       "      <td>31</td>\n",
       "    </tr>\n",
       "    <tr>\n",
       "      <th>2</th>\n",
       "      <td>2022</td>\n",
       "      <td>30</td>\n",
       "    </tr>\n",
       "    <tr>\n",
       "      <th>3</th>\n",
       "      <td>2019</td>\n",
       "      <td>18</td>\n",
       "    </tr>\n",
       "    <tr>\n",
       "      <th>4</th>\n",
       "      <td>2018</td>\n",
       "      <td>15</td>\n",
       "    </tr>\n",
       "  </tbody>\n",
       "</table>\n",
       "</div>"
      ],
      "text/plain": [
       "   release_year  quantity\n",
       "0          2021        33\n",
       "1          2020        31\n",
       "2          2022        30\n",
       "3          2019        18\n",
       "4          2018        15"
      ]
     },
     "execution_count": 64,
     "metadata": {},
     "output_type": "execute_result"
    }
   ],
   "source": [
    "# Coletando registros:\n",
    "df_release_long = pd.DataFrame(df_long_duration.loc[\n",
    "    (df_long_duration['release_year'] != 0), ['release_year']\n",
    "    ].value_counts())\n",
    "\n",
    "# Resetando index:\n",
    "df_release_long = df_release_long.reset_index()\n",
    "\n",
    "# Renomeando coluna e vendo resultados:\n",
    "df_release_long = df_release_long.rename(columns={0:'quantity'})\n",
    "df_release_long.head()"
   ]
  },
  {
   "attachments": {},
   "cell_type": "markdown",
   "metadata": {},
   "source": [
    "Agora, vamos para a identificação dos anos máximo e mínimo e para os recortes de décadas:"
   ]
  },
  {
   "cell_type": "code",
   "execution_count": 65,
   "metadata": {},
   "outputs": [
    {
     "name": "stdout",
     "output_type": "stream",
     "text": [
      "Ano máximo: 2022\n",
      "Ano mínimo: 1956\n"
     ]
    }
   ],
   "source": [
    "# Identificando os anos máximo e mínimo presentes:\n",
    "max_year = df_release_long['release_year'].max()\n",
    "min_year = df_release_long['release_year'].min()\n",
    "\n",
    "print(f'Ano máximo: {max_year}')\n",
    "print(f'Ano mínimo: {min_year}')"
   ]
  },
  {
   "attachments": {},
   "cell_type": "markdown",
   "metadata": {},
   "source": [
    "São 66 anos de registros, sendo assim, será uma divisão de 6 décadas:"
   ]
  },
  {
   "cell_type": "code",
   "execution_count": 66,
   "metadata": {},
   "outputs": [
    {
     "data": {
      "text/html": [
       "<div>\n",
       "<style scoped>\n",
       "    .dataframe tbody tr th:only-of-type {\n",
       "        vertical-align: middle;\n",
       "    }\n",
       "\n",
       "    .dataframe tbody tr th {\n",
       "        vertical-align: top;\n",
       "    }\n",
       "\n",
       "    .dataframe thead th {\n",
       "        text-align: right;\n",
       "    }\n",
       "</style>\n",
       "<table border=\"1\" class=\"dataframe\">\n",
       "  <thead>\n",
       "    <tr style=\"text-align: right;\">\n",
       "      <th></th>\n",
       "      <th>release_year</th>\n",
       "      <th>quantity</th>\n",
       "      <th>release_decade</th>\n",
       "    </tr>\n",
       "  </thead>\n",
       "  <tbody>\n",
       "    <tr>\n",
       "      <th>15</th>\n",
       "      <td>2004</td>\n",
       "      <td>1</td>\n",
       "      <td>2000-2011</td>\n",
       "    </tr>\n",
       "    <tr>\n",
       "      <th>1</th>\n",
       "      <td>2020</td>\n",
       "      <td>31</td>\n",
       "      <td>2011-2022</td>\n",
       "    </tr>\n",
       "    <tr>\n",
       "      <th>2</th>\n",
       "      <td>2022</td>\n",
       "      <td>30</td>\n",
       "      <td>2011-2022</td>\n",
       "    </tr>\n",
       "    <tr>\n",
       "      <th>7</th>\n",
       "      <td>2016</td>\n",
       "      <td>4</td>\n",
       "      <td>2011-2022</td>\n",
       "    </tr>\n",
       "    <tr>\n",
       "      <th>3</th>\n",
       "      <td>2019</td>\n",
       "      <td>18</td>\n",
       "      <td>2011-2022</td>\n",
       "    </tr>\n",
       "  </tbody>\n",
       "</table>\n",
       "</div>"
      ],
      "text/plain": [
       "    release_year  quantity release_decade\n",
       "15          2004         1      2000-2011\n",
       "1           2020        31      2011-2022\n",
       "2           2022        30      2011-2022\n",
       "7           2016         4      2011-2022\n",
       "3           2019        18      2011-2022"
      ]
     },
     "execution_count": 66,
     "metadata": {},
     "output_type": "execute_result"
    }
   ],
   "source": [
    "# Cortando o DataFrame:\n",
    "release_decades_long = pd.cut(df_release_long['release_year'], bins=6, labels=[\n",
    "    '1956-1967',\n",
    "    '1967-1978',\n",
    "    '1978-1989', \n",
    "    '1989-2000', \n",
    "    '2000-2011', \n",
    "    '2011-2022'])\n",
    "\n",
    "# Inserindo os cortes no DataFrame:\n",
    "df_release_long['release_decade'] = release_decades_long\n",
    "\n",
    "# Visualizando resultados:\n",
    "df_release_long.sample(5)"
   ]
  },
  {
   "cell_type": "code",
   "execution_count": 67,
   "metadata": {},
   "outputs": [
    {
     "data": {
      "text/plain": [
       "1978-1989     0\n",
       "1967-1978     1\n",
       "1956-1967     3\n",
       "1989-2000     5\n",
       "2000-2011     6\n",
       "2011-2022    11\n",
       "Name: release_decade, dtype: int64"
      ]
     },
     "execution_count": 67,
     "metadata": {},
     "output_type": "execute_result"
    }
   ],
   "source": [
    "# Agrupando por década de lançamento:\n",
    "long_decades = df_release_long['release_decade'].value_counts().sort_values()\n",
    "\n",
    "# Checando resultados:\n",
    "long_decades"
   ]
  },
  {
   "cell_type": "code",
   "execution_count": 86,
   "metadata": {},
   "outputs": [
    {
     "data": {
      "image/png": "[encoded data removed]",
      "text/plain": [
       "<Figure size 842.4x595.44 with 1 Axes>"
      ]
     },
     "metadata": {},
     "output_type": "display_data"
    }
   ],
   "source": [
    "# Bar Chart\n",
    "\n",
    "# Plotando:\n",
    "fig, ax = plt.subplots()\n",
    "\n",
    "bars = ax.bar(\n",
    "    long_decades.index, \n",
    "    align='center', \n",
    "    edgecolor='black', \n",
    "    color='#0388fc', \n",
    "    height=long_decades, \n",
    "    width=.5\n",
    "    )\n",
    "\n",
    "ax.set_xlabel('Décadas',fontsize=12, fontweight='bold')\n",
    "ax.set_title('Quantidade de Projetos Longos por Década', fontsize=12, fontweight='bold')\n",
    "\n",
    "ax.bar_label(bars, fmt='%.f',fontsize=12, color='#000000', padding=1)\n",
    "\n",
    "plt.show()"
   ]
  },
  {
   "attachments": {},
   "cell_type": "markdown",
   "metadata": {},
   "source": [
    "Podemos notar um crescimento no número de produções disponíveis no catálogo Netflix quanto mais recente a década, sendo a década de 2011 até 2022 a que possuí mais obras disponíveis."
   ]
  },
  {
   "attachments": {},
   "cell_type": "markdown",
   "metadata": {},
   "source": [
    "### 3. Quais os top 10 gêneros e quantas vezes aparecem nos registros?"
   ]
  },
  {
   "attachments": {},
   "cell_type": "markdown",
   "metadata": {},
   "source": [
    "#### Resposta 1: df_movies_clean"
   ]
  },
  {
   "cell_type": "code",
   "execution_count": 69,
   "metadata": {},
   "outputs": [
    {
     "data": {
      "text/html": [
       "<div>\n",
       "<style scoped>\n",
       "    .dataframe tbody tr th:only-of-type {\n",
       "        vertical-align: middle;\n",
       "    }\n",
       "\n",
       "    .dataframe tbody tr th {\n",
       "        vertical-align: top;\n",
       "    }\n",
       "\n",
       "    .dataframe thead th {\n",
       "        text-align: right;\n",
       "    }\n",
       "</style>\n",
       "<table border=\"1\" class=\"dataframe\">\n",
       "  <thead>\n",
       "    <tr style=\"text-align: right;\">\n",
       "      <th></th>\n",
       "      <th>genre</th>\n",
       "      <th>quantity</th>\n",
       "    </tr>\n",
       "  </thead>\n",
       "  <tbody>\n",
       "    <tr>\n",
       "      <th>0</th>\n",
       "      <td>Comedy</td>\n",
       "      <td>803</td>\n",
       "    </tr>\n",
       "    <tr>\n",
       "      <th>1</th>\n",
       "      <td>Animation, Action, Adventure</td>\n",
       "      <td>523</td>\n",
       "    </tr>\n",
       "    <tr>\n",
       "      <th>2</th>\n",
       "      <td>Drama</td>\n",
       "      <td>506</td>\n",
       "    </tr>\n",
       "    <tr>\n",
       "      <th>3</th>\n",
       "      <td>Documentary</td>\n",
       "      <td>485</td>\n",
       "    </tr>\n",
       "    <tr>\n",
       "      <th>4</th>\n",
       "      <td>Comedy, Drama</td>\n",
       "      <td>277</td>\n",
       "    </tr>\n",
       "    <tr>\n",
       "      <th>5</th>\n",
       "      <td>Crime, Drama, Mystery</td>\n",
       "      <td>234</td>\n",
       "    </tr>\n",
       "    <tr>\n",
       "      <th>6</th>\n",
       "      <td>Drama, Romance</td>\n",
       "      <td>234</td>\n",
       "    </tr>\n",
       "    <tr>\n",
       "      <th>7</th>\n",
       "      <td>Comedy, Drama, Romance</td>\n",
       "      <td>204</td>\n",
       "    </tr>\n",
       "    <tr>\n",
       "      <th>8</th>\n",
       "      <td>Reality-TV</td>\n",
       "      <td>187</td>\n",
       "    </tr>\n",
       "    <tr>\n",
       "      <th>9</th>\n",
       "      <td>Action, Crime, Drama</td>\n",
       "      <td>166</td>\n",
       "    </tr>\n",
       "  </tbody>\n",
       "</table>\n",
       "</div>"
      ],
      "text/plain": [
       "                          genre  quantity\n",
       "0                        Comedy       803\n",
       "1  Animation, Action, Adventure       523\n",
       "2                         Drama       506\n",
       "3                   Documentary       485\n",
       "4                 Comedy, Drama       277\n",
       "5         Crime, Drama, Mystery       234\n",
       "6                Drama, Romance       234\n",
       "7        Comedy, Drama, Romance       204\n",
       "8                    Reality-TV       187\n",
       "9          Action, Crime, Drama       166"
      ]
     },
     "execution_count": 69,
     "metadata": {},
     "output_type": "execute_result"
    }
   ],
   "source": [
    "# Primeiramente, pegaremos os registros dos gêneros das top 10 obras e criar um novo DataFrame:\n",
    "df_genre_clean = pd.DataFrame(df_movies_clean['genre'].value_counts().head(10))\n",
    "\n",
    "# Resetamos o index:\n",
    "df_genre_clean = df_genre_clean.reset_index()\n",
    "\n",
    "# Renomeando colunas:\n",
    "df_genre_clean = df_genre_clean.rename(columns={'index':'genre', 'genre':'quantity'})\n",
    "\n",
    "# Checando resultados:\n",
    "df_genre_clean"
   ]
  },
  {
   "attachments": {},
   "cell_type": "markdown",
   "metadata": {},
   "source": [
    "O gênero mais presente no catálogo Netflix é Comédia, seguido por Animações de Ação e Aventura.\n",
    "\n",
    "Comédia aparece com uma expressão grande em relação aos outros títulos, tendo mais de 200 projetos de diferença com o segundo maior gênero.\n",
    "\n",
    "Isso pode ser identificado como resultado das ações da Netflix que adiquiriram muitos direitos autorais de Comedy Specials de diversos comediantes, tantos brasileiros quanto estrangeiros e os colocou em sua plataforma como exclusivos."
   ]
  },
  {
   "attachments": {},
   "cell_type": "markdown",
   "metadata": {},
   "source": [
    "Para melhor visualização, vamos plotar um gráfico:"
   ]
  },
  {
   "cell_type": "code",
   "execution_count": 87,
   "metadata": {},
   "outputs": [
    {
     "data": {
      "image/png": "[encoded data removed]",
      "text/plain": [
       "<Figure size 842.4x595.44 with 1 Axes>"
      ]
     },
     "metadata": {},
     "output_type": "display_data"
    }
   ],
   "source": [
    "# Bar Chart\n",
    "\n",
    "# Plotando:\n",
    "genres = list(df_genre_clean['genre'])\n",
    "values = list(df_genre_clean['quantity'])\n",
    "\n",
    "fig, ax = plt.subplots()\n",
    "\n",
    "hbars = ax.barh(\n",
    "    genres, \n",
    "    values, \n",
    "    align='center', \n",
    "    edgecolor='black', \n",
    "    color='#0388fc'\n",
    "    )\n",
    "    \n",
    "ax.set_yticks(genres)\n",
    "ax.invert_yaxis()\n",
    "ax.set_xlabel('Quantidade', fontsize=12, fontweight='bold')\n",
    "ax.set_title('Top 10 Gêneros por Quantidade de Menções', fontsize=12, fontweight='bold')\n",
    "ax.bar_label(hbars, fmt='%.f',fontsize=12, color='#000000', padding=1)\n",
    "\n",
    "plt.show()"
   ]
  },
  {
   "attachments": {},
   "cell_type": "markdown",
   "metadata": {},
   "source": [
    "#### Resposta 2: df_long_duration"
   ]
  },
  {
   "cell_type": "code",
   "execution_count": 71,
   "metadata": {},
   "outputs": [
    {
     "data": {
      "text/html": [
       "<div>\n",
       "<style scoped>\n",
       "    .dataframe tbody tr th:only-of-type {\n",
       "        vertical-align: middle;\n",
       "    }\n",
       "\n",
       "    .dataframe tbody tr th {\n",
       "        vertical-align: top;\n",
       "    }\n",
       "\n",
       "    .dataframe thead th {\n",
       "        text-align: right;\n",
       "    }\n",
       "</style>\n",
       "<table border=\"1\" class=\"dataframe\">\n",
       "  <thead>\n",
       "    <tr style=\"text-align: right;\">\n",
       "      <th></th>\n",
       "      <th>genre</th>\n",
       "      <th>quantity</th>\n",
       "    </tr>\n",
       "  </thead>\n",
       "  <tbody>\n",
       "    <tr>\n",
       "      <th>0</th>\n",
       "      <td>Documentary, Crime</td>\n",
       "      <td>23</td>\n",
       "    </tr>\n",
       "    <tr>\n",
       "      <th>1</th>\n",
       "      <td>Documentary</td>\n",
       "      <td>12</td>\n",
       "    </tr>\n",
       "    <tr>\n",
       "      <th>2</th>\n",
       "      <td>Crime, Drama, Mystery</td>\n",
       "      <td>11</td>\n",
       "    </tr>\n",
       "    <tr>\n",
       "      <th>3</th>\n",
       "      <td>Action, Adventure, Drama</td>\n",
       "      <td>6</td>\n",
       "    </tr>\n",
       "    <tr>\n",
       "      <th>4</th>\n",
       "      <td>Crime, Drama</td>\n",
       "      <td>6</td>\n",
       "    </tr>\n",
       "    <tr>\n",
       "      <th>5</th>\n",
       "      <td>Biography, Crime, Drama</td>\n",
       "      <td>6</td>\n",
       "    </tr>\n",
       "    <tr>\n",
       "      <th>6</th>\n",
       "      <td>Drama, Horror, Mystery</td>\n",
       "      <td>5</td>\n",
       "    </tr>\n",
       "    <tr>\n",
       "      <th>7</th>\n",
       "      <td>Drama</td>\n",
       "      <td>5</td>\n",
       "    </tr>\n",
       "    <tr>\n",
       "      <th>8</th>\n",
       "      <td>Drama, Mystery, Thriller</td>\n",
       "      <td>5</td>\n",
       "    </tr>\n",
       "    <tr>\n",
       "      <th>9</th>\n",
       "      <td>Documentary, Crime, Mystery</td>\n",
       "      <td>5</td>\n",
       "    </tr>\n",
       "  </tbody>\n",
       "</table>\n",
       "</div>"
      ],
      "text/plain": [
       "                         genre  quantity\n",
       "0           Documentary, Crime        23\n",
       "1                  Documentary        12\n",
       "2        Crime, Drama, Mystery        11\n",
       "3     Action, Adventure, Drama         6\n",
       "4                 Crime, Drama         6\n",
       "5      Biography, Crime, Drama         6\n",
       "6       Drama, Horror, Mystery         5\n",
       "7                        Drama         5\n",
       "8     Drama, Mystery, Thriller         5\n",
       "9  Documentary, Crime, Mystery         5"
      ]
     },
     "execution_count": 71,
     "metadata": {},
     "output_type": "execute_result"
    }
   ],
   "source": [
    "# Primeiramente, pegaremos os registros dos gêneros das top 10 obras e criar um novo DataFrame:\n",
    "df_genre_long = pd.DataFrame(df_long_duration['genre'].value_counts().head(10))\n",
    "\n",
    "# Resetamos o index:\n",
    "df_genre_long = df_genre_long.reset_index()\n",
    "\n",
    "# Renomeando colunas:\n",
    "df_genre_long = df_genre_long.rename(columns={'index':'genre', 'genre':'quantity'})\n",
    "\n",
    "# Checando resultados:\n",
    "df_genre_long"
   ]
  },
  {
   "attachments": {},
   "cell_type": "markdown",
   "metadata": {},
   "source": [
    "Documentários sobre Crimes são o tipo de gênero mais comum entre os longas, isso pode ser sintoma da crescente aparente em conteúdos True Crime na cultura popular, tendo séries como Jeffrey Dahmer como exemplo mais recente de um sucesso 'complicado' desse tipo de conteúdo.\n",
    "\n",
    "Outro ponto interessante, são os tipos dos gêneros dos longas, tendo uma aparente têndencia a serem mais pesados/maduros em seus temas. Tópicos como Crime, Drama e Mystery são muito recorrentes nos dados, apenas reforçando a ideia de que obras de longa duração são destinadas primordialmente para públicos adultos."
   ]
  },
  {
   "cell_type": "code",
   "execution_count": 88,
   "metadata": {},
   "outputs": [
    {
     "data": {
      "image/png": "[encoded data removed]",
      "text/plain": [
       "<Figure size 842.4x595.44 with 1 Axes>"
      ]
     },
     "metadata": {},
     "output_type": "display_data"
    }
   ],
   "source": [
    "# Bar Chart\n",
    "\n",
    "# Plotando:\n",
    "genres_long = list(df_genre_long['genre'])\n",
    "values_long = list(df_genre_long['quantity'])\n",
    "\n",
    "fig, ax = plt.subplots()\n",
    "\n",
    "hbars = ax.barh(\n",
    "    genres_long, \n",
    "    values_long, \n",
    "    align='center', \n",
    "    edgecolor='black', \n",
    "    color='#0388fc'\n",
    "    )\n",
    "    \n",
    "ax.set_yticks(genres_long)\n",
    "ax.invert_yaxis()\n",
    "ax.set_xlabel('Quantidade', fontsize=12, fontweight='bold')\n",
    "ax.set_title('Top 10 Gêneros de Projetos Longos por Quantidade de Menções', fontsize=12, fontweight='bold')\n",
    "ax.bar_label(hbars, fmt='%.f',fontsize=12, color='#000000', padding=1)\n",
    "\n",
    "plt.show()"
   ]
  },
  {
   "attachments": {},
   "cell_type": "markdown",
   "metadata": {},
   "source": [
    "### 4. Qual a média de tempo de duração dos projetos por top 10 gêneros?"
   ]
  },
  {
   "attachments": {},
   "cell_type": "markdown",
   "metadata": {},
   "source": [
    "Para podermos analisar a média de tempo de duração dos projetos por top 10 gêneros, primeiro precisamos definir esses top 10 gêneros em uma variável:"
   ]
  },
  {
   "attachments": {},
   "cell_type": "markdown",
   "metadata": {},
   "source": [
    "#### Resposta 1: df_movies_clean"
   ]
  },
  {
   "cell_type": "code",
   "execution_count": 114,
   "metadata": {},
   "outputs": [
    {
     "data": {
      "text/plain": [
       "Comedy                          803\n",
       "Animation, Action, Adventure    523\n",
       "Drama                           506\n",
       "Documentary                     485\n",
       "Comedy, Drama                   277\n",
       "Crime, Drama, Mystery           234\n",
       "Drama, Romance                  234\n",
       "Comedy, Drama, Romance          204\n",
       "Reality-TV                      187\n",
       "Action, Crime, Drama            166\n",
       "Name: genre, dtype: int64"
      ]
     },
     "execution_count": 114,
     "metadata": {},
     "output_type": "execute_result"
    }
   ],
   "source": [
    "# Definindo top 10 gêneros para uma variável:\n",
    "top_genres = df_movies_clean['genre'].value_counts().head(10)\n",
    "\n",
    "# Visualizando:\n",
    "top_genres"
   ]
  },
  {
   "attachments": {},
   "cell_type": "markdown",
   "metadata": {},
   "source": [
    "Para que a manipulação seja mais fácil, essa variável será trasformada em uma lista:"
   ]
  },
  {
   "cell_type": "code",
   "execution_count": 115,
   "metadata": {},
   "outputs": [
    {
     "data": {
      "text/plain": [
       "['Comedy',\n",
       " 'Animation, Action, Adventure',\n",
       " 'Drama',\n",
       " 'Documentary',\n",
       " 'Comedy, Drama',\n",
       " 'Crime, Drama, Mystery',\n",
       " 'Drama, Romance',\n",
       " 'Comedy, Drama, Romance',\n",
       " 'Reality-TV',\n",
       " 'Action, Crime, Drama']"
      ]
     },
     "execution_count": 115,
     "metadata": {},
     "output_type": "execute_result"
    }
   ],
   "source": [
    "# Passando dados para uma lista:\n",
    "genres_list = list(top_genres.index)\n",
    "\n",
    "# Visualizando:\n",
    "genres_list"
   ]
  },
  {
   "attachments": {},
   "cell_type": "markdown",
   "metadata": {},
   "source": [
    "Agora que já temos os top 10 gêneros, precisamos coletar as minutagens desses gêneros específicos:"
   ]
  },
  {
   "cell_type": "code",
   "execution_count": 116,
   "metadata": {},
   "outputs": [
    {
     "data": {
      "text/html": [
       "<div>\n",
       "<style scoped>\n",
       "    .dataframe tbody tr th:only-of-type {\n",
       "        vertical-align: middle;\n",
       "    }\n",
       "\n",
       "    .dataframe tbody tr th {\n",
       "        vertical-align: top;\n",
       "    }\n",
       "\n",
       "    .dataframe thead th {\n",
       "        text-align: right;\n",
       "    }\n",
       "</style>\n",
       "<table border=\"1\" class=\"dataframe\">\n",
       "  <thead>\n",
       "    <tr style=\"text-align: right;\">\n",
       "      <th></th>\n",
       "      <th>genre</th>\n",
       "      <th>duration_min</th>\n",
       "    </tr>\n",
       "  </thead>\n",
       "  <tbody>\n",
       "    <tr>\n",
       "      <th>4</th>\n",
       "      <td>Animation, Action, Adventure</td>\n",
       "      <td>24</td>\n",
       "    </tr>\n",
       "    <tr>\n",
       "      <th>11</th>\n",
       "      <td>Action, Crime, Drama</td>\n",
       "      <td>89</td>\n",
       "    </tr>\n",
       "    <tr>\n",
       "      <th>13</th>\n",
       "      <td>Crime, Drama, Mystery</td>\n",
       "      <td>139</td>\n",
       "    </tr>\n",
       "    <tr>\n",
       "      <th>14</th>\n",
       "      <td>Comedy</td>\n",
       "      <td>118</td>\n",
       "    </tr>\n",
       "    <tr>\n",
       "      <th>21</th>\n",
       "      <td>Drama, Romance</td>\n",
       "      <td>41</td>\n",
       "    </tr>\n",
       "    <tr>\n",
       "      <th>...</th>\n",
       "      <td>...</td>\n",
       "      <td>...</td>\n",
       "    </tr>\n",
       "    <tr>\n",
       "      <th>9937</th>\n",
       "      <td>Action, Crime, Drama</td>\n",
       "      <td>60</td>\n",
       "    </tr>\n",
       "    <tr>\n",
       "      <th>9939</th>\n",
       "      <td>Comedy, Drama, Romance</td>\n",
       "      <td>22</td>\n",
       "    </tr>\n",
       "    <tr>\n",
       "      <th>9941</th>\n",
       "      <td>Comedy</td>\n",
       "      <td>118</td>\n",
       "    </tr>\n",
       "    <tr>\n",
       "      <th>9944</th>\n",
       "      <td>Crime, Drama, Mystery</td>\n",
       "      <td>139</td>\n",
       "    </tr>\n",
       "    <tr>\n",
       "      <th>9949</th>\n",
       "      <td>Crime, Drama, Mystery</td>\n",
       "      <td>43</td>\n",
       "    </tr>\n",
       "  </tbody>\n",
       "</table>\n",
       "<p>3619 rows × 2 columns</p>\n",
       "</div>"
      ],
      "text/plain": [
       "                             genre  duration_min\n",
       "4     Animation, Action, Adventure            24\n",
       "11            Action, Crime, Drama            89\n",
       "13           Crime, Drama, Mystery           139\n",
       "14                          Comedy           118\n",
       "21                  Drama, Romance            41\n",
       "...                            ...           ...\n",
       "9937          Action, Crime, Drama            60\n",
       "9939        Comedy, Drama, Romance            22\n",
       "9941                        Comedy           118\n",
       "9944         Crime, Drama, Mystery           139\n",
       "9949         Crime, Drama, Mystery            43\n",
       "\n",
       "[3619 rows x 2 columns]"
      ]
     },
     "execution_count": 116,
     "metadata": {},
     "output_type": "execute_result"
    }
   ],
   "source": [
    "# Coletando registros de minutagem dos materiais que estão no top 10 gêneros\n",
    "genres_duration = df_movies_clean.loc[\n",
    "    (df_movies_clean['genre'].isin(genres_list)),\n",
    "    ['genre', 'duration_min']\n",
    "]\n",
    "\n",
    "# Visualizando novos dados:\n",
    "genres_duration"
   ]
  },
  {
   "attachments": {},
   "cell_type": "markdown",
   "metadata": {},
   "source": [
    "Agora que possuímos os dados que precisamos para responder a pergunta vamos arrumar o Dataset, começando pro agrupá-lo pela minutagem média:"
   ]
  },
  {
   "cell_type": "code",
   "execution_count": 117,
   "metadata": {},
   "outputs": [
    {
     "data": {
      "text/html": [
       "<div>\n",
       "<style scoped>\n",
       "    .dataframe tbody tr th:only-of-type {\n",
       "        vertical-align: middle;\n",
       "    }\n",
       "\n",
       "    .dataframe tbody tr th {\n",
       "        vertical-align: top;\n",
       "    }\n",
       "\n",
       "    .dataframe thead th {\n",
       "        text-align: right;\n",
       "    }\n",
       "</style>\n",
       "<table border=\"1\" class=\"dataframe\">\n",
       "  <thead>\n",
       "    <tr style=\"text-align: right;\">\n",
       "      <th></th>\n",
       "      <th>duration_min</th>\n",
       "    </tr>\n",
       "    <tr>\n",
       "      <th>genre</th>\n",
       "      <th></th>\n",
       "    </tr>\n",
       "  </thead>\n",
       "  <tbody>\n",
       "    <tr>\n",
       "      <th>Action, Crime, Drama</th>\n",
       "      <td>79.391566</td>\n",
       "    </tr>\n",
       "    <tr>\n",
       "      <th>Animation, Action, Adventure</th>\n",
       "      <td>27.189293</td>\n",
       "    </tr>\n",
       "    <tr>\n",
       "      <th>Comedy</th>\n",
       "      <td>58.215442</td>\n",
       "    </tr>\n",
       "    <tr>\n",
       "      <th>Comedy, Drama</th>\n",
       "      <td>63.086643</td>\n",
       "    </tr>\n",
       "    <tr>\n",
       "      <th>Comedy, Drama, Romance</th>\n",
       "      <td>63.039216</td>\n",
       "    </tr>\n",
       "    <tr>\n",
       "      <th>Crime, Drama, Mystery</th>\n",
       "      <td>55.354701</td>\n",
       "    </tr>\n",
       "    <tr>\n",
       "      <th>Documentary</th>\n",
       "      <td>57.340206</td>\n",
       "    </tr>\n",
       "    <tr>\n",
       "      <th>Drama</th>\n",
       "      <td>66.266798</td>\n",
       "    </tr>\n",
       "    <tr>\n",
       "      <th>Drama, Romance</th>\n",
       "      <td>70.008547</td>\n",
       "    </tr>\n",
       "    <tr>\n",
       "      <th>Reality-TV</th>\n",
       "      <td>20.358289</td>\n",
       "    </tr>\n",
       "  </tbody>\n",
       "</table>\n",
       "</div>"
      ],
      "text/plain": [
       "                              duration_min\n",
       "genre                                     \n",
       "Action, Crime, Drama             79.391566\n",
       "Animation, Action, Adventure     27.189293\n",
       "Comedy                           58.215442\n",
       "Comedy, Drama                    63.086643\n",
       "Comedy, Drama, Romance           63.039216\n",
       "Crime, Drama, Mystery            55.354701\n",
       "Documentary                      57.340206\n",
       "Drama                            66.266798\n",
       "Drama, Romance                   70.008547\n",
       "Reality-TV                       20.358289"
      ]
     },
     "execution_count": 117,
     "metadata": {},
     "output_type": "execute_result"
    }
   ],
   "source": [
    "# Agrupando Dataset pelos gêneros e suas médias de tempo:\n",
    "genres_duration = genres_duration.groupby('genre').mean()\n",
    "\n",
    "# Visualizando:\n",
    "genres_duration"
   ]
  },
  {
   "cell_type": "code",
   "execution_count": 118,
   "metadata": {},
   "outputs": [
    {
     "data": {
      "text/html": [
       "<div>\n",
       "<style scoped>\n",
       "    .dataframe tbody tr th:only-of-type {\n",
       "        vertical-align: middle;\n",
       "    }\n",
       "\n",
       "    .dataframe tbody tr th {\n",
       "        vertical-align: top;\n",
       "    }\n",
       "\n",
       "    .dataframe thead th {\n",
       "        text-align: right;\n",
       "    }\n",
       "</style>\n",
       "<table border=\"1\" class=\"dataframe\">\n",
       "  <thead>\n",
       "    <tr style=\"text-align: right;\">\n",
       "      <th></th>\n",
       "      <th>level_0</th>\n",
       "      <th>genre</th>\n",
       "      <th>0</th>\n",
       "    </tr>\n",
       "  </thead>\n",
       "  <tbody>\n",
       "    <tr>\n",
       "      <th>0</th>\n",
       "      <td>duration_min</td>\n",
       "      <td>Action, Crime, Drama</td>\n",
       "      <td>79.391566</td>\n",
       "    </tr>\n",
       "    <tr>\n",
       "      <th>1</th>\n",
       "      <td>duration_min</td>\n",
       "      <td>Animation, Action, Adventure</td>\n",
       "      <td>27.189293</td>\n",
       "    </tr>\n",
       "    <tr>\n",
       "      <th>2</th>\n",
       "      <td>duration_min</td>\n",
       "      <td>Comedy</td>\n",
       "      <td>58.215442</td>\n",
       "    </tr>\n",
       "    <tr>\n",
       "      <th>3</th>\n",
       "      <td>duration_min</td>\n",
       "      <td>Comedy, Drama</td>\n",
       "      <td>63.086643</td>\n",
       "    </tr>\n",
       "    <tr>\n",
       "      <th>4</th>\n",
       "      <td>duration_min</td>\n",
       "      <td>Comedy, Drama, Romance</td>\n",
       "      <td>63.039216</td>\n",
       "    </tr>\n",
       "    <tr>\n",
       "      <th>5</th>\n",
       "      <td>duration_min</td>\n",
       "      <td>Crime, Drama, Mystery</td>\n",
       "      <td>55.354701</td>\n",
       "    </tr>\n",
       "    <tr>\n",
       "      <th>6</th>\n",
       "      <td>duration_min</td>\n",
       "      <td>Documentary</td>\n",
       "      <td>57.340206</td>\n",
       "    </tr>\n",
       "    <tr>\n",
       "      <th>7</th>\n",
       "      <td>duration_min</td>\n",
       "      <td>Drama</td>\n",
       "      <td>66.266798</td>\n",
       "    </tr>\n",
       "    <tr>\n",
       "      <th>8</th>\n",
       "      <td>duration_min</td>\n",
       "      <td>Drama, Romance</td>\n",
       "      <td>70.008547</td>\n",
       "    </tr>\n",
       "    <tr>\n",
       "      <th>9</th>\n",
       "      <td>duration_min</td>\n",
       "      <td>Reality-TV</td>\n",
       "      <td>20.358289</td>\n",
       "    </tr>\n",
       "  </tbody>\n",
       "</table>\n",
       "</div>"
      ],
      "text/plain": [
       "        level_0                         genre          0\n",
       "0  duration_min          Action, Crime, Drama  79.391566\n",
       "1  duration_min  Animation, Action, Adventure  27.189293\n",
       "2  duration_min                        Comedy  58.215442\n",
       "3  duration_min                 Comedy, Drama  63.086643\n",
       "4  duration_min        Comedy, Drama, Romance  63.039216\n",
       "5  duration_min         Crime, Drama, Mystery  55.354701\n",
       "6  duration_min                   Documentary  57.340206\n",
       "7  duration_min                         Drama  66.266798\n",
       "8  duration_min                Drama, Romance  70.008547\n",
       "9  duration_min                    Reality-TV  20.358289"
      ]
     },
     "execution_count": 118,
     "metadata": {},
     "output_type": "execute_result"
    }
   ],
   "source": [
    "# Dando unstack e resetando index no novo Dataset:\n",
    "genres_duration = genres_duration.unstack().reset_index()\n",
    "\n",
    "# Visualizando:\n",
    "genres_duration"
   ]
  },
  {
   "cell_type": "code",
   "execution_count": 119,
   "metadata": {},
   "outputs": [
    {
     "data": {
      "text/html": [
       "<div>\n",
       "<style scoped>\n",
       "    .dataframe tbody tr th:only-of-type {\n",
       "        vertical-align: middle;\n",
       "    }\n",
       "\n",
       "    .dataframe tbody tr th {\n",
       "        vertical-align: top;\n",
       "    }\n",
       "\n",
       "    .dataframe thead th {\n",
       "        text-align: right;\n",
       "    }\n",
       "</style>\n",
       "<table border=\"1\" class=\"dataframe\">\n",
       "  <thead>\n",
       "    <tr style=\"text-align: right;\">\n",
       "      <th></th>\n",
       "      <th>genre</th>\n",
       "      <th>duration_mean</th>\n",
       "    </tr>\n",
       "  </thead>\n",
       "  <tbody>\n",
       "    <tr>\n",
       "      <th>0</th>\n",
       "      <td>Action, Crime, Drama</td>\n",
       "      <td>79.391566</td>\n",
       "    </tr>\n",
       "    <tr>\n",
       "      <th>1</th>\n",
       "      <td>Animation, Action, Adventure</td>\n",
       "      <td>27.189293</td>\n",
       "    </tr>\n",
       "    <tr>\n",
       "      <th>2</th>\n",
       "      <td>Comedy</td>\n",
       "      <td>58.215442</td>\n",
       "    </tr>\n",
       "    <tr>\n",
       "      <th>3</th>\n",
       "      <td>Comedy, Drama</td>\n",
       "      <td>63.086643</td>\n",
       "    </tr>\n",
       "    <tr>\n",
       "      <th>4</th>\n",
       "      <td>Comedy, Drama, Romance</td>\n",
       "      <td>63.039216</td>\n",
       "    </tr>\n",
       "    <tr>\n",
       "      <th>5</th>\n",
       "      <td>Crime, Drama, Mystery</td>\n",
       "      <td>55.354701</td>\n",
       "    </tr>\n",
       "    <tr>\n",
       "      <th>6</th>\n",
       "      <td>Documentary</td>\n",
       "      <td>57.340206</td>\n",
       "    </tr>\n",
       "    <tr>\n",
       "      <th>7</th>\n",
       "      <td>Drama</td>\n",
       "      <td>66.266798</td>\n",
       "    </tr>\n",
       "    <tr>\n",
       "      <th>8</th>\n",
       "      <td>Drama, Romance</td>\n",
       "      <td>70.008547</td>\n",
       "    </tr>\n",
       "    <tr>\n",
       "      <th>9</th>\n",
       "      <td>Reality-TV</td>\n",
       "      <td>20.358289</td>\n",
       "    </tr>\n",
       "  </tbody>\n",
       "</table>\n",
       "</div>"
      ],
      "text/plain": [
       "                          genre  duration_mean\n",
       "0          Action, Crime, Drama      79.391566\n",
       "1  Animation, Action, Adventure      27.189293\n",
       "2                        Comedy      58.215442\n",
       "3                 Comedy, Drama      63.086643\n",
       "4        Comedy, Drama, Romance      63.039216\n",
       "5         Crime, Drama, Mystery      55.354701\n",
       "6                   Documentary      57.340206\n",
       "7                         Drama      66.266798\n",
       "8                Drama, Romance      70.008547\n",
       "9                    Reality-TV      20.358289"
      ]
     },
     "execution_count": 119,
     "metadata": {},
     "output_type": "execute_result"
    }
   ],
   "source": [
    "# Reorganizando colunas novas:\n",
    "genres_duration = genres_duration.drop('level_0', axis=1)\n",
    "genres_duration = genres_duration.rename(columns={0:'duration_mean'})\n",
    "\n",
    "# Visualizando Dataset finalizado:\n",
    "genres_duration"
   ]
  },
  {
   "attachments": {},
   "cell_type": "markdown",
   "metadata": {},
   "source": [
    "Para uma visualização ideal, vamos plotar um gráfico com os dados:"
   ]
  },
  {
   "cell_type": "code",
   "execution_count": 120,
   "metadata": {},
   "outputs": [
    {
     "data": {
      "image/png": "[encoded data removed]",
      "text/plain": [
       "<Figure size 842.4x595.44 with 1 Axes>"
      ]
     },
     "metadata": {},
     "output_type": "display_data"
    }
   ],
   "source": [
    "# Bar Chart\n",
    "\n",
    "# Pegando os dados e transformando-os em listas:\n",
    "genres = list(genres_duration['genre'])\n",
    "duration_time = list(genres_duration['duration_mean'].sort_values(ascending=False))\n",
    "\n",
    "# Plotando:\n",
    "fig, ax = plt.subplots()\n",
    "\n",
    "hbars = ax.barh(\n",
    "    genres, \n",
    "    duration_time, \n",
    "    align='center', \n",
    "    edgecolor='black', \n",
    "    color='#0388fc'\n",
    "    )\n",
    "    \n",
    "ax.set_yticks(genres)\n",
    "ax.invert_yaxis()\n",
    "ax.set_xlabel('Minutagem Média', fontsize=12, fontweight='bold')\n",
    "ax.set_title('Minutagem Média por Top 10 Gêneros', fontsize=12, fontweight='bold')\n",
    "ax.bar_label(hbars, fmt='%.2f', fontsize=12, color='#000000', padding=1)\n",
    "\n",
    "plt.show()"
   ]
  },
  {
   "attachments": {},
   "cell_type": "markdown",
   "metadata": {},
   "source": [
    "Com o gráfico, podemos ver que os projetos de Ação, Crime e Drama são os que possuem a maior minutagem média, seguido por Animações de Ação e Aventura.\n",
    "\n",
    "Um dado interessante é a minutagem média de projetos de Reality-TV, onde possuem apenas em média 20 minutos de duração. Na realidade, esse tipo de programação tem em torno de 30 minutos de duração, onde [uma parte desse tempo é tomado por intervalos comerciais](https://joneswriter.medium.com/how-long-should-tv-shows-be-the-rise-of-shorter-tv-6f23a83d572d) na TV.\n",
    "\n",
    "Porém, como a Netflix não possuí intervalos comerciais no meio de episódios de seus projetos no catálogo, os programas de Reality-TV apresentam seu \"verdadeiro\" run-time de por volta de 20 minutos, como apontam os dados."
   ]
  },
  {
   "attachments": {},
   "cell_type": "markdown",
   "metadata": {},
   "source": [
    "#### Resposta 2: df_long_movies"
   ]
  },
  {
   "attachments": {},
   "cell_type": "markdown",
   "metadata": {},
   "source": [
    "Para os projetos de longa duração, realizaremos o mesmo processo anterior para termos as informações necessárias:"
   ]
  },
  {
   "cell_type": "code",
   "execution_count": 121,
   "metadata": {},
   "outputs": [
    {
     "data": {
      "text/plain": [
       "['Documentary, Crime',\n",
       " 'Documentary',\n",
       " 'Crime, Drama, Mystery',\n",
       " 'Action, Adventure, Drama',\n",
       " 'Crime, Drama',\n",
       " 'Biography, Crime, Drama',\n",
       " 'Drama, Horror, Mystery',\n",
       " 'Drama',\n",
       " 'Drama, Mystery, Thriller',\n",
       " 'Documentary, Crime, Mystery']"
      ]
     },
     "execution_count": 121,
     "metadata": {},
     "output_type": "execute_result"
    }
   ],
   "source": [
    "# Criando a variável com os top 10 gêneros de projetos longos:\n",
    "top_genres_long = df_long_duration['genre'].value_counts().head(10)\n",
    "\n",
    "# Passando esses dados para uma lista:\n",
    "long_genres_list = list(top_genres_long.index)\n",
    "\n",
    "# Visualizando:\n",
    "long_genres_list"
   ]
  },
  {
   "cell_type": "code",
   "execution_count": 122,
   "metadata": {},
   "outputs": [
    {
     "data": {
      "text/html": [
       "<div>\n",
       "<style scoped>\n",
       "    .dataframe tbody tr th:only-of-type {\n",
       "        vertical-align: middle;\n",
       "    }\n",
       "\n",
       "    .dataframe tbody tr th {\n",
       "        vertical-align: top;\n",
       "    }\n",
       "\n",
       "    .dataframe thead th {\n",
       "        text-align: right;\n",
       "    }\n",
       "</style>\n",
       "<table border=\"1\" class=\"dataframe\">\n",
       "  <thead>\n",
       "    <tr style=\"text-align: right;\">\n",
       "      <th></th>\n",
       "      <th>duration_min</th>\n",
       "    </tr>\n",
       "    <tr>\n",
       "      <th>genre</th>\n",
       "      <th></th>\n",
       "    </tr>\n",
       "  </thead>\n",
       "  <tbody>\n",
       "    <tr>\n",
       "      <th>Action, Crime, Drama</th>\n",
       "      <td>405.000000</td>\n",
       "    </tr>\n",
       "    <tr>\n",
       "      <th>Animation, Action, Adventure</th>\n",
       "      <td>218.500000</td>\n",
       "    </tr>\n",
       "    <tr>\n",
       "      <th>Comedy</th>\n",
       "      <td>216.250000</td>\n",
       "    </tr>\n",
       "    <tr>\n",
       "      <th>Comedy, Drama</th>\n",
       "      <td>315.000000</td>\n",
       "    </tr>\n",
       "    <tr>\n",
       "      <th>Crime, Drama, Mystery</th>\n",
       "      <td>342.636364</td>\n",
       "    </tr>\n",
       "    <tr>\n",
       "      <th>Documentary</th>\n",
       "      <td>300.500000</td>\n",
       "    </tr>\n",
       "    <tr>\n",
       "      <th>Drama</th>\n",
       "      <td>306.400000</td>\n",
       "    </tr>\n",
       "    <tr>\n",
       "      <th>Drama, Romance</th>\n",
       "      <td>262.000000</td>\n",
       "    </tr>\n",
       "  </tbody>\n",
       "</table>\n",
       "</div>"
      ],
      "text/plain": [
       "                              duration_min\n",
       "genre                                     \n",
       "Action, Crime, Drama            405.000000\n",
       "Animation, Action, Adventure    218.500000\n",
       "Comedy                          216.250000\n",
       "Comedy, Drama                   315.000000\n",
       "Crime, Drama, Mystery           342.636364\n",
       "Documentary                     300.500000\n",
       "Drama                           306.400000\n",
       "Drama, Romance                  262.000000"
      ]
     },
     "execution_count": 122,
     "metadata": {},
     "output_type": "execute_result"
    }
   ],
   "source": [
    "# Coletando registros de minutagem dos projetos contidos nesses gêneros:\n",
    "long_genre_min = df_long_duration.loc[\n",
    "    (df_long_duration['genre'].isin(genres_list)),\n",
    "    ['genre', 'duration_min']\n",
    "]\n",
    "\n",
    "# Agrupando esses dados pela média do tempo por gênero:\n",
    "long_genre_min = long_genre_min.groupby('genre').mean()\n",
    "\n",
    "# Visualizando:\n",
    "long_genre_min\n"
   ]
  },
  {
   "attachments": {},
   "cell_type": "markdown",
   "metadata": {},
   "source": [
    "Agora, basta organizarmos os dados e plotarmos o gráfico:"
   ]
  },
  {
   "cell_type": "code",
   "execution_count": 123,
   "metadata": {},
   "outputs": [
    {
     "data": {
      "text/html": [
       "<div>\n",
       "<style scoped>\n",
       "    .dataframe tbody tr th:only-of-type {\n",
       "        vertical-align: middle;\n",
       "    }\n",
       "\n",
       "    .dataframe tbody tr th {\n",
       "        vertical-align: top;\n",
       "    }\n",
       "\n",
       "    .dataframe thead th {\n",
       "        text-align: right;\n",
       "    }\n",
       "</style>\n",
       "<table border=\"1\" class=\"dataframe\">\n",
       "  <thead>\n",
       "    <tr style=\"text-align: right;\">\n",
       "      <th></th>\n",
       "      <th>genre</th>\n",
       "      <th>duration_mean</th>\n",
       "    </tr>\n",
       "  </thead>\n",
       "  <tbody>\n",
       "    <tr>\n",
       "      <th>0</th>\n",
       "      <td>Action, Crime, Drama</td>\n",
       "      <td>405.000000</td>\n",
       "    </tr>\n",
       "    <tr>\n",
       "      <th>1</th>\n",
       "      <td>Animation, Action, Adventure</td>\n",
       "      <td>218.500000</td>\n",
       "    </tr>\n",
       "    <tr>\n",
       "      <th>2</th>\n",
       "      <td>Comedy</td>\n",
       "      <td>216.250000</td>\n",
       "    </tr>\n",
       "    <tr>\n",
       "      <th>3</th>\n",
       "      <td>Comedy, Drama</td>\n",
       "      <td>315.000000</td>\n",
       "    </tr>\n",
       "    <tr>\n",
       "      <th>4</th>\n",
       "      <td>Crime, Drama, Mystery</td>\n",
       "      <td>342.636364</td>\n",
       "    </tr>\n",
       "    <tr>\n",
       "      <th>5</th>\n",
       "      <td>Documentary</td>\n",
       "      <td>300.500000</td>\n",
       "    </tr>\n",
       "    <tr>\n",
       "      <th>6</th>\n",
       "      <td>Drama</td>\n",
       "      <td>306.400000</td>\n",
       "    </tr>\n",
       "    <tr>\n",
       "      <th>7</th>\n",
       "      <td>Drama, Romance</td>\n",
       "      <td>262.000000</td>\n",
       "    </tr>\n",
       "  </tbody>\n",
       "</table>\n",
       "</div>"
      ],
      "text/plain": [
       "                          genre  duration_mean\n",
       "0          Action, Crime, Drama     405.000000\n",
       "1  Animation, Action, Adventure     218.500000\n",
       "2                        Comedy     216.250000\n",
       "3                 Comedy, Drama     315.000000\n",
       "4         Crime, Drama, Mystery     342.636364\n",
       "5                   Documentary     300.500000\n",
       "6                         Drama     306.400000\n",
       "7                Drama, Romance     262.000000"
      ]
     },
     "execution_count": 123,
     "metadata": {},
     "output_type": "execute_result"
    }
   ],
   "source": [
    "# Realizando o unstack e reindexação do DataFrame:\n",
    "long_genre_min = long_genre_min.unstack().reset_index()\n",
    "\n",
    "# Reorganizando colunas:\n",
    "long_genre_min = long_genre_min.drop('level_0', axis=1)\n",
    "long_genre_min = long_genre_min.rename(columns={0:'duration_mean'})\n",
    "\n",
    "# Visualizando:\n",
    "long_genre_min"
   ]
  },
  {
   "cell_type": "code",
   "execution_count": 125,
   "metadata": {},
   "outputs": [
    {
     "data": {
      "image/png": "[encoded data removed]",
      "text/plain": [
       "<Figure size 842.4x595.44 with 1 Axes>"
      ]
     },
     "metadata": {},
     "output_type": "display_data"
    }
   ],
   "source": [
    "# Bar Chart:\n",
    "\n",
    "# Repassando so dados para listas:\n",
    "long_genres = list(long_genre_min['genre'])\n",
    "long_mean_time = list(long_genre_min['duration_mean'].sort_values(ascending=False))\n",
    "\n",
    "# Plotando:\n",
    "fig, ax = plt.subplots()\n",
    "\n",
    "hbars = ax.barh(\n",
    "    long_genres, \n",
    "    long_mean_time, \n",
    "    align='center', \n",
    "    edgecolor='black', \n",
    "    color='#0388fc'\n",
    "    )\n",
    "\n",
    "ax.set_yticks(long_genres)\n",
    "ax.invert_yaxis()\n",
    "ax.set_xlabel('Minutagem Média', fontsize=12, fontweight='bold')\n",
    "ax.set_title('Minutagem Média de Longas por Top 10 Gêneros', fontsize=12, fontweight='bold')\n",
    "ax.bar_label(hbars, fmt='%.2f', fontsize=12, color='#000000', padding=1)\n",
    "\n",
    "plt.show()"
   ]
  },
  {
   "attachments": {},
   "cell_type": "markdown",
   "metadata": {},
   "source": [
    "Como dito no início do projeto, esses dados podem ser inconsistentes pelo fato de alguns desses registros não serem um programa \"contínuo\" como um filme de longa-metragem ou um documentário, mas sim algumas séries que tiveram seus registros e suas minutagens \"agregados\" em uma única entrada no banco de dados.\n",
    "\n",
    "Como forma de elucidar ainda mais esse ponto, vamos realizar uma query no banco de dados buscando por programas cuja minutagem é maior do que 500 minutos:"
   ]
  },
  {
   "cell_type": "code",
   "execution_count": 127,
   "metadata": {},
   "outputs": [
    {
     "data": {
      "text/html": [
       "<div>\n",
       "<style scoped>\n",
       "    .dataframe tbody tr th:only-of-type {\n",
       "        vertical-align: middle;\n",
       "    }\n",
       "\n",
       "    .dataframe tbody tr th {\n",
       "        vertical-align: top;\n",
       "    }\n",
       "\n",
       "    .dataframe thead th {\n",
       "        text-align: right;\n",
       "    }\n",
       "</style>\n",
       "<table border=\"1\" class=\"dataframe\">\n",
       "  <thead>\n",
       "    <tr style=\"text-align: right;\">\n",
       "      <th></th>\n",
       "      <th>title</th>\n",
       "      <th>release_year</th>\n",
       "      <th>ending_year</th>\n",
       "      <th>certificate</th>\n",
       "      <th>duration_min</th>\n",
       "      <th>genre</th>\n",
       "      <th>rating</th>\n",
       "      <th>description</th>\n",
       "      <th>stars</th>\n",
       "      <th>votes</th>\n",
       "    </tr>\n",
       "  </thead>\n",
       "  <tbody>\n",
       "    <tr>\n",
       "      <th>6</th>\n",
       "      <td>Dahmer - Monster: The Jeffrey Dahmer Story</td>\n",
       "      <td>2022</td>\n",
       "      <td>0</td>\n",
       "      <td>TV-MA</td>\n",
       "      <td>534</td>\n",
       "      <td>Biography, Crime, Drama</td>\n",
       "      <td>8.5</td>\n",
       "      <td>Story of the Milwaukee Monster told from the p...</td>\n",
       "      <td>['Evan Peters, ', 'Richard Jenkins, ', 'Molly ...</td>\n",
       "      <td>5580</td>\n",
       "    </tr>\n",
       "    <tr>\n",
       "      <th>8</th>\n",
       "      <td>The Haunting of Hill House</td>\n",
       "      <td>2018</td>\n",
       "      <td>0</td>\n",
       "      <td>TV-MA</td>\n",
       "      <td>572</td>\n",
       "      <td>Drama, Horror, Mystery</td>\n",
       "      <td>8.6</td>\n",
       "      <td>Flashing between past and present, a fractured...</td>\n",
       "      <td>['Michiel Huisman, ', 'Carla Gugino, ', 'Henry...</td>\n",
       "      <td>237198</td>\n",
       "    </tr>\n",
       "    <tr>\n",
       "      <th>11</th>\n",
       "      <td>Maid</td>\n",
       "      <td>2021</td>\n",
       "      <td>0</td>\n",
       "      <td>TV-MA</td>\n",
       "      <td>545</td>\n",
       "      <td>Drama</td>\n",
       "      <td>8.4</td>\n",
       "      <td>After fleeing an abusive relationship, a young...</td>\n",
       "      <td>['Margaret Qualley, ', 'Nick Robinson, ', 'Ryl...</td>\n",
       "      <td>81102</td>\n",
       "    </tr>\n",
       "  </tbody>\n",
       "</table>\n",
       "</div>"
      ],
      "text/plain": [
       "                                         title  release_year  ending_year  \\\n",
       "6   Dahmer - Monster: The Jeffrey Dahmer Story          2022            0   \n",
       "8                   The Haunting of Hill House          2018            0   \n",
       "11                                        Maid          2021            0   \n",
       "\n",
       "   certificate  duration_min                    genre  rating  \\\n",
       "6        TV-MA           534  Biography, Crime, Drama     8.5   \n",
       "8        TV-MA           572   Drama, Horror, Mystery     8.6   \n",
       "11       TV-MA           545                    Drama     8.4   \n",
       "\n",
       "                                          description  \\\n",
       "6   Story of the Milwaukee Monster told from the p...   \n",
       "8   Flashing between past and present, a fractured...   \n",
       "11  After fleeing an abusive relationship, a young...   \n",
       "\n",
       "                                                stars   votes  \n",
       "6   ['Evan Peters, ', 'Richard Jenkins, ', 'Molly ...    5580  \n",
       "8   ['Michiel Huisman, ', 'Carla Gugino, ', 'Henry...  237198  \n",
       "11  ['Margaret Qualley, ', 'Nick Robinson, ', 'Ryl...   81102  "
      ]
     },
     "execution_count": 127,
     "metadata": {},
     "output_type": "execute_result"
    }
   ],
   "source": [
    "df_long_duration.query('duration_min > 500').head(3)"
   ]
  },
  {
   "attachments": {},
   "cell_type": "markdown",
   "metadata": {},
   "source": [
    "Como exemplo, em primeiro lugar temos a nova série contoversa da Netflix sobre Jeffrey Dahmer que possuí uma temporada até o momento presente.\n",
    "\n",
    "De acordo com os dados, a duração completa desse projeto é de 534 minutos, o que é a demonstração do comentado acima, de que algumas séries foram inseridas no banco de dados como um único registro, enquanto outras tiveram cada episódio lançado independentemente no Dataset.\n",
    "\n",
    "Com isso em mente, essas análises acerca dos programas longos devem ser interpretadas com cautela, pois os dados não são 100% integros."
   ]
  },
  {
   "attachments": {},
   "cell_type": "markdown",
   "metadata": {},
   "source": [
    "### 5. Qual a média de ratings dadas aos projetos por top 10 gêneros?"
   ]
  },
  {
   "attachments": {},
   "cell_type": "markdown",
   "metadata": {},
   "source": [
    "Outra métrica interessante de ser observada é a media de avaliações que os projetos presentes nos top 10 gêneros do catálogo Netflix receberam."
   ]
  },
  {
   "attachments": {},
   "cell_type": "markdown",
   "metadata": {},
   "source": [
    "#### Resposta 1: df_movies_clean"
   ]
  },
  {
   "cell_type": "code",
   "execution_count": 130,
   "metadata": {},
   "outputs": [
    {
     "data": {
      "text/html": [
       "<div>\n",
       "<style scoped>\n",
       "    .dataframe tbody tr th:only-of-type {\n",
       "        vertical-align: middle;\n",
       "    }\n",
       "\n",
       "    .dataframe tbody tr th {\n",
       "        vertical-align: top;\n",
       "    }\n",
       "\n",
       "    .dataframe thead th {\n",
       "        text-align: right;\n",
       "    }\n",
       "</style>\n",
       "<table border=\"1\" class=\"dataframe\">\n",
       "  <thead>\n",
       "    <tr style=\"text-align: right;\">\n",
       "      <th></th>\n",
       "      <th>rating</th>\n",
       "    </tr>\n",
       "    <tr>\n",
       "      <th>genre</th>\n",
       "      <th></th>\n",
       "    </tr>\n",
       "  </thead>\n",
       "  <tbody>\n",
       "    <tr>\n",
       "      <th>Action, Crime, Drama</th>\n",
       "      <td>6.383735</td>\n",
       "    </tr>\n",
       "    <tr>\n",
       "      <th>Animation, Action, Adventure</th>\n",
       "      <td>7.374570</td>\n",
       "    </tr>\n",
       "    <tr>\n",
       "      <th>Comedy</th>\n",
       "      <td>6.105729</td>\n",
       "    </tr>\n",
       "    <tr>\n",
       "      <th>Comedy, Drama</th>\n",
       "      <td>6.789892</td>\n",
       "    </tr>\n",
       "    <tr>\n",
       "      <th>Comedy, Drama, Romance</th>\n",
       "      <td>6.509804</td>\n",
       "    </tr>\n",
       "    <tr>\n",
       "      <th>Crime, Drama, Mystery</th>\n",
       "      <td>7.406838</td>\n",
       "    </tr>\n",
       "    <tr>\n",
       "      <th>Documentary</th>\n",
       "      <td>6.520825</td>\n",
       "    </tr>\n",
       "    <tr>\n",
       "      <th>Drama</th>\n",
       "      <td>6.324901</td>\n",
       "    </tr>\n",
       "    <tr>\n",
       "      <th>Drama, Romance</th>\n",
       "      <td>6.673504</td>\n",
       "    </tr>\n",
       "    <tr>\n",
       "      <th>Reality-TV</th>\n",
       "      <td>6.209626</td>\n",
       "    </tr>\n",
       "  </tbody>\n",
       "</table>\n",
       "</div>"
      ],
      "text/plain": [
       "                                rating\n",
       "genre                                 \n",
       "Action, Crime, Drama          6.383735\n",
       "Animation, Action, Adventure  7.374570\n",
       "Comedy                        6.105729\n",
       "Comedy, Drama                 6.789892\n",
       "Comedy, Drama, Romance        6.509804\n",
       "Crime, Drama, Mystery         7.406838\n",
       "Documentary                   6.520825\n",
       "Drama                         6.324901\n",
       "Drama, Romance                6.673504\n",
       "Reality-TV                    6.209626"
      ]
     },
     "execution_count": 130,
     "metadata": {},
     "output_type": "execute_result"
    }
   ],
   "source": [
    "# Redefinindo os top 10 gêneros:\n",
    "movies_genres = df_movies_clean['genre'].value_counts().head(10)\n",
    "\n",
    "# Passando para uma lista:\n",
    "genres_list = list(movies_genres.index)\n",
    "\n",
    "# Coletando as avaliações dadas aos projetos presentes nesses gêneros:\n",
    "top_genres = df_movies_clean.loc[\n",
    "    (df_movies_clean['genre'].isin(genres_list)),\n",
    "    ['genre', 'rating']\n",
    "]\n",
    "\n",
    "# Reagrupando:\n",
    "top_genres = top_genres.groupby('genre').mean()\n",
    "\n",
    "# Visualizando:\n",
    "top_genres"
   ]
  },
  {
   "cell_type": "code",
   "execution_count": 131,
   "metadata": {},
   "outputs": [
    {
     "data": {
      "text/html": [
       "<div>\n",
       "<style scoped>\n",
       "    .dataframe tbody tr th:only-of-type {\n",
       "        vertical-align: middle;\n",
       "    }\n",
       "\n",
       "    .dataframe tbody tr th {\n",
       "        vertical-align: top;\n",
       "    }\n",
       "\n",
       "    .dataframe thead th {\n",
       "        text-align: right;\n",
       "    }\n",
       "</style>\n",
       "<table border=\"1\" class=\"dataframe\">\n",
       "  <thead>\n",
       "    <tr style=\"text-align: right;\">\n",
       "      <th></th>\n",
       "      <th>genre</th>\n",
       "      <th>rating_mean</th>\n",
       "    </tr>\n",
       "  </thead>\n",
       "  <tbody>\n",
       "    <tr>\n",
       "      <th>0</th>\n",
       "      <td>Action, Crime, Drama</td>\n",
       "      <td>6.383735</td>\n",
       "    </tr>\n",
       "    <tr>\n",
       "      <th>1</th>\n",
       "      <td>Animation, Action, Adventure</td>\n",
       "      <td>7.374570</td>\n",
       "    </tr>\n",
       "    <tr>\n",
       "      <th>2</th>\n",
       "      <td>Comedy</td>\n",
       "      <td>6.105729</td>\n",
       "    </tr>\n",
       "    <tr>\n",
       "      <th>3</th>\n",
       "      <td>Comedy, Drama</td>\n",
       "      <td>6.789892</td>\n",
       "    </tr>\n",
       "    <tr>\n",
       "      <th>4</th>\n",
       "      <td>Comedy, Drama, Romance</td>\n",
       "      <td>6.509804</td>\n",
       "    </tr>\n",
       "    <tr>\n",
       "      <th>5</th>\n",
       "      <td>Crime, Drama, Mystery</td>\n",
       "      <td>7.406838</td>\n",
       "    </tr>\n",
       "    <tr>\n",
       "      <th>6</th>\n",
       "      <td>Documentary</td>\n",
       "      <td>6.520825</td>\n",
       "    </tr>\n",
       "    <tr>\n",
       "      <th>7</th>\n",
       "      <td>Drama</td>\n",
       "      <td>6.324901</td>\n",
       "    </tr>\n",
       "    <tr>\n",
       "      <th>8</th>\n",
       "      <td>Drama, Romance</td>\n",
       "      <td>6.673504</td>\n",
       "    </tr>\n",
       "    <tr>\n",
       "      <th>9</th>\n",
       "      <td>Reality-TV</td>\n",
       "      <td>6.209626</td>\n",
       "    </tr>\n",
       "  </tbody>\n",
       "</table>\n",
       "</div>"
      ],
      "text/plain": [
       "                          genre  rating_mean\n",
       "0          Action, Crime, Drama     6.383735\n",
       "1  Animation, Action, Adventure     7.374570\n",
       "2                        Comedy     6.105729\n",
       "3                 Comedy, Drama     6.789892\n",
       "4        Comedy, Drama, Romance     6.509804\n",
       "5         Crime, Drama, Mystery     7.406838\n",
       "6                   Documentary     6.520825\n",
       "7                         Drama     6.324901\n",
       "8                Drama, Romance     6.673504\n",
       "9                    Reality-TV     6.209626"
      ]
     },
     "execution_count": 131,
     "metadata": {},
     "output_type": "execute_result"
    }
   ],
   "source": [
    "# Dando unstack e reindexação no DataFrame:\n",
    "top_genres = top_genres.unstack().reset_index()\n",
    "top_genres = top_genres.drop('level_0', axis=1)\n",
    "top_genres = top_genres.rename(columns={0:'rating_mean'})\n",
    "\n",
    "# Visualizando:\n",
    "top_genres"
   ]
  },
  {
   "attachments": {},
   "cell_type": "markdown",
   "metadata": {},
   "source": [
    "Para uma melhor visualização, vamos plotar um gráfico com os dados:"
   ]
  },
  {
   "cell_type": "code",
   "execution_count": 132,
   "metadata": {},
   "outputs": [
    {
     "data": {
      "image/png": "[encoded data removed]",
      "text/plain": [
       "<Figure size 842.4x595.44 with 1 Axes>"
      ]
     },
     "metadata": {},
     "output_type": "display_data"
    }
   ],
   "source": [
    "# Bar chart\n",
    "\n",
    "# Atribuindo dados para uma lista:\n",
    "genres = list(top_genres['genre'])\n",
    "ratings = list(top_genres['rating_mean'].sort_values(ascending=False))\n",
    "\n",
    "# Plotando:\n",
    "fig, ax = plt.subplots()\n",
    "\n",
    "hbars = ax.barh(\n",
    "    genres,\n",
    "    ratings, \n",
    "    align='center', \n",
    "    edgecolor='black',\n",
    "    color='#0388fc'\n",
    "    )\n",
    "    \n",
    "ax.set_yticks(genres)\n",
    "ax.invert_yaxis()\n",
    "ax.set_xlabel('Média de Avaliação', fontsize=12, fontweight='bold')\n",
    "ax.set_title('Média de Avaliação por Top 10 Gêneros', fontsize=12, fontweight='bold')\n",
    "ax.bar_label(hbars, fmt='%.2f', fontsize=12, color='#000000', padding=1)\n",
    "\n",
    "plt.show()"
   ]
  },
  {
   "attachments": {},
   "cell_type": "markdown",
   "metadata": {},
   "source": [
    "Os programas mais bem avaliados na média são aqueles de Ação, Crime e Drama, seguidos por Animações de Ação e Aventura.\n",
    "\n",
    "Curiosamente esses dois gêneros também são os de minutagem média mais alta dos programas abaixo de 175 minutos, e Reality-TV, além de ser o de menor minutagem média, também possuí a menor média de avaliações positivas no catálogo.\n",
    "\n",
    "Isso pode indentificar um padrão de consumo nos clientes Netflix, onde aparenta-se que consumidores do serviço de streaming tendem a preferir programas de maior minutagem e incluso nessa métrica também, os programas especiais de Comédia, que também constam como uns dos gêneros de maior minutagem média e agora de acordo com o gráfico, também aparecem como o terceiro mais bem avaliado."
   ]
  },
  {
   "attachments": {},
   "cell_type": "markdown",
   "metadata": {},
   "source": [
    "#### Resposta 2: df_movies_long"
   ]
  },
  {
   "cell_type": "code",
   "execution_count": 133,
   "metadata": {},
   "outputs": [
    {
     "data": {
      "text/html": [
       "<div>\n",
       "<style scoped>\n",
       "    .dataframe tbody tr th:only-of-type {\n",
       "        vertical-align: middle;\n",
       "    }\n",
       "\n",
       "    .dataframe tbody tr th {\n",
       "        vertical-align: top;\n",
       "    }\n",
       "\n",
       "    .dataframe thead th {\n",
       "        text-align: right;\n",
       "    }\n",
       "</style>\n",
       "<table border=\"1\" class=\"dataframe\">\n",
       "  <thead>\n",
       "    <tr style=\"text-align: right;\">\n",
       "      <th></th>\n",
       "      <th>rating</th>\n",
       "    </tr>\n",
       "    <tr>\n",
       "      <th>genre</th>\n",
       "      <th></th>\n",
       "    </tr>\n",
       "  </thead>\n",
       "  <tbody>\n",
       "    <tr>\n",
       "      <th>Action, Adventure, Drama</th>\n",
       "      <td>7.833333</td>\n",
       "    </tr>\n",
       "    <tr>\n",
       "      <th>Biography, Crime, Drama</th>\n",
       "      <td>7.966667</td>\n",
       "    </tr>\n",
       "    <tr>\n",
       "      <th>Crime, Drama</th>\n",
       "      <td>6.950000</td>\n",
       "    </tr>\n",
       "    <tr>\n",
       "      <th>Crime, Drama, Mystery</th>\n",
       "      <td>6.954545</td>\n",
       "    </tr>\n",
       "    <tr>\n",
       "      <th>Documentary</th>\n",
       "      <td>7.608333</td>\n",
       "    </tr>\n",
       "    <tr>\n",
       "      <th>Documentary, Crime</th>\n",
       "      <td>7.273913</td>\n",
       "    </tr>\n",
       "    <tr>\n",
       "      <th>Documentary, Crime, Mystery</th>\n",
       "      <td>7.060000</td>\n",
       "    </tr>\n",
       "    <tr>\n",
       "      <th>Drama</th>\n",
       "      <td>7.500000</td>\n",
       "    </tr>\n",
       "    <tr>\n",
       "      <th>Drama, Horror, Mystery</th>\n",
       "      <td>6.960000</td>\n",
       "    </tr>\n",
       "    <tr>\n",
       "      <th>Drama, Mystery, Thriller</th>\n",
       "      <td>6.620000</td>\n",
       "    </tr>\n",
       "  </tbody>\n",
       "</table>\n",
       "</div>"
      ],
      "text/plain": [
       "                               rating\n",
       "genre                                \n",
       "Action, Adventure, Drama     7.833333\n",
       "Biography, Crime, Drama      7.966667\n",
       "Crime, Drama                 6.950000\n",
       "Crime, Drama, Mystery        6.954545\n",
       "Documentary                  7.608333\n",
       "Documentary, Crime           7.273913\n",
       "Documentary, Crime, Mystery  7.060000\n",
       "Drama                        7.500000\n",
       "Drama, Horror, Mystery       6.960000\n",
       "Drama, Mystery, Thriller     6.620000"
      ]
     },
     "execution_count": 133,
     "metadata": {},
     "output_type": "execute_result"
    }
   ],
   "source": [
    "# Redefinindo os top 10 gêneros:\n",
    "long_gens = df_long_duration['genre'].value_counts().head(10)\n",
    "\n",
    "# Passando para uma lista:\n",
    "lista_long_gens = list(long_gens.index)\n",
    "\n",
    "# Coletando as avaliações dadas aos projetos presentes nesses gêneros:\n",
    "top_longs = df_long_duration.loc[\n",
    "    (df_long_duration['genre'].isin(lista_long_gens)), \n",
    "    ['genre', 'rating']\n",
    "    ]\n",
    "\n",
    "# Reagrupando:\n",
    "top_longs = top_longs.groupby('genre').mean()\n",
    "\n",
    "# Visualizando:\n",
    "top_longs"
   ]
  },
  {
   "cell_type": "code",
   "execution_count": 134,
   "metadata": {},
   "outputs": [
    {
     "data": {
      "text/html": [
       "<div>\n",
       "<style scoped>\n",
       "    .dataframe tbody tr th:only-of-type {\n",
       "        vertical-align: middle;\n",
       "    }\n",
       "\n",
       "    .dataframe tbody tr th {\n",
       "        vertical-align: top;\n",
       "    }\n",
       "\n",
       "    .dataframe thead th {\n",
       "        text-align: right;\n",
       "    }\n",
       "</style>\n",
       "<table border=\"1\" class=\"dataframe\">\n",
       "  <thead>\n",
       "    <tr style=\"text-align: right;\">\n",
       "      <th></th>\n",
       "      <th>genre</th>\n",
       "      <th>rating_mean</th>\n",
       "    </tr>\n",
       "  </thead>\n",
       "  <tbody>\n",
       "    <tr>\n",
       "      <th>0</th>\n",
       "      <td>Action, Adventure, Drama</td>\n",
       "      <td>7.833333</td>\n",
       "    </tr>\n",
       "    <tr>\n",
       "      <th>1</th>\n",
       "      <td>Biography, Crime, Drama</td>\n",
       "      <td>7.966667</td>\n",
       "    </tr>\n",
       "    <tr>\n",
       "      <th>2</th>\n",
       "      <td>Crime, Drama</td>\n",
       "      <td>6.950000</td>\n",
       "    </tr>\n",
       "    <tr>\n",
       "      <th>3</th>\n",
       "      <td>Crime, Drama, Mystery</td>\n",
       "      <td>6.954545</td>\n",
       "    </tr>\n",
       "    <tr>\n",
       "      <th>4</th>\n",
       "      <td>Documentary</td>\n",
       "      <td>7.608333</td>\n",
       "    </tr>\n",
       "    <tr>\n",
       "      <th>5</th>\n",
       "      <td>Documentary, Crime</td>\n",
       "      <td>7.273913</td>\n",
       "    </tr>\n",
       "    <tr>\n",
       "      <th>6</th>\n",
       "      <td>Documentary, Crime, Mystery</td>\n",
       "      <td>7.060000</td>\n",
       "    </tr>\n",
       "    <tr>\n",
       "      <th>7</th>\n",
       "      <td>Drama</td>\n",
       "      <td>7.500000</td>\n",
       "    </tr>\n",
       "    <tr>\n",
       "      <th>8</th>\n",
       "      <td>Drama, Horror, Mystery</td>\n",
       "      <td>6.960000</td>\n",
       "    </tr>\n",
       "    <tr>\n",
       "      <th>9</th>\n",
       "      <td>Drama, Mystery, Thriller</td>\n",
       "      <td>6.620000</td>\n",
       "    </tr>\n",
       "  </tbody>\n",
       "</table>\n",
       "</div>"
      ],
      "text/plain": [
       "                         genre  rating_mean\n",
       "0     Action, Adventure, Drama     7.833333\n",
       "1      Biography, Crime, Drama     7.966667\n",
       "2                 Crime, Drama     6.950000\n",
       "3        Crime, Drama, Mystery     6.954545\n",
       "4                  Documentary     7.608333\n",
       "5           Documentary, Crime     7.273913\n",
       "6  Documentary, Crime, Mystery     7.060000\n",
       "7                        Drama     7.500000\n",
       "8       Drama, Horror, Mystery     6.960000\n",
       "9     Drama, Mystery, Thriller     6.620000"
      ]
     },
     "execution_count": 134,
     "metadata": {},
     "output_type": "execute_result"
    }
   ],
   "source": [
    "# Dando unstack e reindexação no DataFrame:\n",
    "top_longs = top_longs.unstack().reset_index()\n",
    "top_longs = top_longs.drop('level_0', axis=1)\n",
    "top_longs = top_longs.rename(columns={0:'rating_mean'})\n",
    "\n",
    "# Visualizando\n",
    "top_longs"
   ]
  },
  {
   "cell_type": "code",
   "execution_count": 135,
   "metadata": {},
   "outputs": [
    {
     "data": {
      "image/png": "[encoded data removed]",
      "text/plain": [
       "<Figure size 842.4x595.44 with 1 Axes>"
      ]
     },
     "metadata": {},
     "output_type": "display_data"
    }
   ],
   "source": [
    "# Bar chart\n",
    "\n",
    "# Atribuindo dados para uma lista:\n",
    "gens_long = list(top_longs['genre'])\n",
    "means_long = list(top_longs['rating_mean'].sort_values(ascending=False))\n",
    "\n",
    "# Plotando:\n",
    "fig, ax = plt.subplots()\n",
    "\n",
    "hbars = ax.barh(\n",
    "    gens_long, \n",
    "    means_long, \n",
    "    align='center', \n",
    "    edgecolor='black', \n",
    "    color='#0388fc'\n",
    "    )\n",
    "    \n",
    "ax.set_yticks(gens_long)\n",
    "ax.invert_yaxis()\n",
    "ax.set_xlabel('Média de Avaliação', fontsize=12, fontweight='bold')\n",
    "ax.set_title('Média de Avaliação de Longas por Top 10 Gêneros', fontsize=12, fontweight='bold')\n",
    "ax.bar_label(hbars, fmt='%.2f', fontsize=12, color='#000000', padding=1)\n",
    "\n",
    "plt.show()"
   ]
  },
  {
   "attachments": {},
   "cell_type": "markdown",
   "metadata": {},
   "source": [
    "Algo a se destacar é o fato de que os projetos que aparecem com duração maior de 175 minutos, possuem avaliações médias mais altas no geral quando comparados aos outros projetos menores. Basta aferir os valores dessas notas médias dos longas em comparação com o mesmo gráfico do df_movies_clean:\n",
    "\n",
    "**df_movies_clean**\n",
    "    \n",
    "    - Maiores notas: 7.41, 7.37, 6.79\n",
    "    - Menores notas: 6.11, 6.21, 6.32\n",
    "\n",
    "**df_movies_long**\n",
    "\n",
    "    - Maiores notas: 7.97, 7.83, 7.61\n",
    "    - Menores notas: 6.62, 6.95, 6.95\n",
    "\n",
    "Com isso, podemos identificar novamente o aparente padrão que os dados apresentam, onde projetos mais longos aparentam ter recepções e avaliações melhores no catálogo Netflix."
   ]
  },
  {
   "attachments": {},
   "cell_type": "markdown",
   "metadata": {},
   "source": [
    "### 6. Quais são os programas mais bem avaliados no geral?\n"
   ]
  },
  {
   "attachments": {},
   "cell_type": "markdown",
   "metadata": {},
   "source": [
    "Como uma pergunta final, vamos buscar compreender quais são os registros que constam com maior avaliação no geral no catálogo Netflix, com base nos nossos dois Datasets:"
   ]
  },
  {
   "attachments": {},
   "cell_type": "markdown",
   "metadata": {},
   "source": [
    "#### Resposta 1: df_movies_clean"
   ]
  },
  {
   "cell_type": "code",
   "execution_count": 139,
   "metadata": {},
   "outputs": [
    {
     "data": {
      "text/html": [
       "<div>\n",
       "<style scoped>\n",
       "    .dataframe tbody tr th:only-of-type {\n",
       "        vertical-align: middle;\n",
       "    }\n",
       "\n",
       "    .dataframe tbody tr th {\n",
       "        vertical-align: top;\n",
       "    }\n",
       "\n",
       "    .dataframe thead th {\n",
       "        text-align: right;\n",
       "    }\n",
       "</style>\n",
       "<table border=\"1\" class=\"dataframe\">\n",
       "  <thead>\n",
       "    <tr style=\"text-align: right;\">\n",
       "      <th></th>\n",
       "      <th>title</th>\n",
       "      <th>genre</th>\n",
       "      <th>rating</th>\n",
       "      <th>votes</th>\n",
       "    </tr>\n",
       "  </thead>\n",
       "  <tbody>\n",
       "    <tr>\n",
       "      <th>0</th>\n",
       "      <td>BoJack Horseman</td>\n",
       "      <td>Animation, Comedy, Drama</td>\n",
       "      <td>9.9</td>\n",
       "      <td>16066</td>\n",
       "    </tr>\n",
       "    <tr>\n",
       "      <th>1</th>\n",
       "      <td>Avatar: The Last Airbender</td>\n",
       "      <td>Animation, Action, Adventure</td>\n",
       "      <td>9.6</td>\n",
       "      <td>3953</td>\n",
       "    </tr>\n",
       "    <tr>\n",
       "      <th>2</th>\n",
       "      <td>Stranger Things</td>\n",
       "      <td>Drama, Fantasy, Horror</td>\n",
       "      <td>9.6</td>\n",
       "      <td>36276</td>\n",
       "    </tr>\n",
       "    <tr>\n",
       "      <th>3</th>\n",
       "      <td>JoJo's Bizarre Adventure</td>\n",
       "      <td>Animation, Action, Adventure</td>\n",
       "      <td>9.6</td>\n",
       "      <td>1442</td>\n",
       "    </tr>\n",
       "    <tr>\n",
       "      <th>4</th>\n",
       "      <td>1899</td>\n",
       "      <td>Drama, History, Horror</td>\n",
       "      <td>9.6</td>\n",
       "      <td>853</td>\n",
       "    </tr>\n",
       "    <tr>\n",
       "      <th>5</th>\n",
       "      <td>Avatar: The Last Airbender</td>\n",
       "      <td>Animation, Action, Adventure</td>\n",
       "      <td>9.6</td>\n",
       "      <td>5221</td>\n",
       "    </tr>\n",
       "    <tr>\n",
       "      <th>6</th>\n",
       "      <td>Dexter</td>\n",
       "      <td>Crime, Drama, Mystery</td>\n",
       "      <td>9.6</td>\n",
       "      <td>10604</td>\n",
       "    </tr>\n",
       "    <tr>\n",
       "      <th>7</th>\n",
       "      <td>BoJack Horseman</td>\n",
       "      <td>Animation, Comedy, Drama</td>\n",
       "      <td>9.5</td>\n",
       "      <td>6230</td>\n",
       "    </tr>\n",
       "    <tr>\n",
       "      <th>8</th>\n",
       "      <td>Dark</td>\n",
       "      <td>Crime, Drama, Mystery</td>\n",
       "      <td>9.5</td>\n",
       "      <td>14007</td>\n",
       "    </tr>\n",
       "    <tr>\n",
       "      <th>9</th>\n",
       "      <td>Anne with an E</td>\n",
       "      <td>Drama, Family</td>\n",
       "      <td>9.5</td>\n",
       "      <td>2488</td>\n",
       "    </tr>\n",
       "  </tbody>\n",
       "</table>\n",
       "</div>"
      ],
      "text/plain": [
       "                        title                         genre  rating  votes\n",
       "0             BoJack Horseman      Animation, Comedy, Drama     9.9  16066\n",
       "1  Avatar: The Last Airbender  Animation, Action, Adventure     9.6   3953\n",
       "2             Stranger Things        Drama, Fantasy, Horror     9.6  36276\n",
       "3    JoJo's Bizarre Adventure  Animation, Action, Adventure     9.6   1442\n",
       "4                        1899        Drama, History, Horror     9.6    853\n",
       "5  Avatar: The Last Airbender  Animation, Action, Adventure     9.6   5221\n",
       "6                      Dexter         Crime, Drama, Mystery     9.6  10604\n",
       "7             BoJack Horseman      Animation, Comedy, Drama     9.5   6230\n",
       "8                        Dark         Crime, Drama, Mystery     9.5  14007\n",
       "9              Anne with an E                 Drama, Family     9.5   2488"
      ]
     },
     "execution_count": 139,
     "metadata": {},
     "output_type": "execute_result"
    }
   ],
   "source": [
    "# Filtrando Dataset em busca dos programas mais bem avaliados:\n",
    "ratings_list = df_movies_clean.loc[\n",
    "    :, \n",
    "    ['title', 'genre', 'rating', 'votes']\n",
    "    ].sort_values(['rating'], ascending=False).head(10)\n",
    "\n",
    "# Resetando index:\n",
    "ratings_list = ratings_list.reset_index()\n",
    "ratings_list = ratings_list.drop(columns={'index'})\n",
    "\n",
    "# Visualizando:\n",
    "ratings_list"
   ]
  },
  {
   "attachments": {},
   "cell_type": "markdown",
   "metadata": {},
   "source": [
    "O programa que consta com a maior avaliação com um surpreendente 9.9 é BoJack Horseman, um clássico presente no catálogo, seguido por um episódio específico de Avatar: The Last Airbender e um episódio de Stranger Things.\n",
    "\n",
    "É interessante notar que BoJack Horseman além de ser o número, aparece novamente na posição 7 com outro episódio com avaliação 9.5.\n",
    "\n",
    "Avatar: The Last Airbender também se repete e apare nas posições 2 (de index 1) e 6 (index 5)."
   ]
  },
  {
   "attachments": {},
   "cell_type": "markdown",
   "metadata": {},
   "source": [
    "#### Resposta 2: df_long_movies"
   ]
  },
  {
   "cell_type": "code",
   "execution_count": 140,
   "metadata": {},
   "outputs": [
    {
     "data": {
      "text/html": [
       "<div>\n",
       "<style scoped>\n",
       "    .dataframe tbody tr th:only-of-type {\n",
       "        vertical-align: middle;\n",
       "    }\n",
       "\n",
       "    .dataframe tbody tr th {\n",
       "        vertical-align: top;\n",
       "    }\n",
       "\n",
       "    .dataframe thead th {\n",
       "        text-align: right;\n",
       "    }\n",
       "</style>\n",
       "<table border=\"1\" class=\"dataframe\">\n",
       "  <thead>\n",
       "    <tr style=\"text-align: right;\">\n",
       "      <th></th>\n",
       "      <th>title</th>\n",
       "      <th>genre</th>\n",
       "      <th>rating</th>\n",
       "      <th>votes</th>\n",
       "    </tr>\n",
       "  </thead>\n",
       "  <tbody>\n",
       "    <tr>\n",
       "      <th>0</th>\n",
       "      <td>Cosmos: A Spacetime Odyssey</td>\n",
       "      <td>Documentary</td>\n",
       "      <td>9.3</td>\n",
       "      <td>121400</td>\n",
       "    </tr>\n",
       "    <tr>\n",
       "      <th>1</th>\n",
       "      <td>Our Planet</td>\n",
       "      <td>Documentary</td>\n",
       "      <td>9.3</td>\n",
       "      <td>43175</td>\n",
       "    </tr>\n",
       "    <tr>\n",
       "      <th>2</th>\n",
       "      <td>The Last Dance</td>\n",
       "      <td>Documentary, Biography, History</td>\n",
       "      <td>9.1</td>\n",
       "      <td>119768</td>\n",
       "    </tr>\n",
       "    <tr>\n",
       "      <th>3</th>\n",
       "      <td>The Vietnam War</td>\n",
       "      <td>Documentary, History, War</td>\n",
       "      <td>9.1</td>\n",
       "      <td>24632</td>\n",
       "    </tr>\n",
       "    <tr>\n",
       "      <th>4</th>\n",
       "      <td>Frozen Planet</td>\n",
       "      <td>Documentary</td>\n",
       "      <td>9.0</td>\n",
       "      <td>30498</td>\n",
       "    </tr>\n",
       "    <tr>\n",
       "      <th>5</th>\n",
       "      <td>The Lord of the Rings: The Return of the King</td>\n",
       "      <td>Action, Adventure, Drama</td>\n",
       "      <td>9.0</td>\n",
       "      <td>1819157</td>\n",
       "    </tr>\n",
       "    <tr>\n",
       "      <th>6</th>\n",
       "      <td>When They See Us</td>\n",
       "      <td>Biography, Crime, Drama</td>\n",
       "      <td>8.9</td>\n",
       "      <td>119339</td>\n",
       "    </tr>\n",
       "    <tr>\n",
       "      <th>7</th>\n",
       "      <td>The Lord of the Rings: The Fellowship of the Ring</td>\n",
       "      <td>Action, Adventure, Drama</td>\n",
       "      <td>8.8</td>\n",
       "      <td>1844075</td>\n",
       "    </tr>\n",
       "    <tr>\n",
       "      <th>8</th>\n",
       "      <td>The Lord of the Rings: The Fellowship of the Ring</td>\n",
       "      <td>Action, Adventure, Drama</td>\n",
       "      <td>8.8</td>\n",
       "      <td>1844055</td>\n",
       "    </tr>\n",
       "    <tr>\n",
       "      <th>9</th>\n",
       "      <td>The Lord of the Rings: The Two Towers</td>\n",
       "      <td>Action, Adventure, Drama</td>\n",
       "      <td>8.8</td>\n",
       "      <td>1642708</td>\n",
       "    </tr>\n",
       "  </tbody>\n",
       "</table>\n",
       "</div>"
      ],
      "text/plain": [
       "                                               title  \\\n",
       "0                        Cosmos: A Spacetime Odyssey   \n",
       "1                                         Our Planet   \n",
       "2                                     The Last Dance   \n",
       "3                                    The Vietnam War   \n",
       "4                                      Frozen Planet   \n",
       "5      The Lord of the Rings: The Return of the King   \n",
       "6                                   When They See Us   \n",
       "7  The Lord of the Rings: The Fellowship of the Ring   \n",
       "8  The Lord of the Rings: The Fellowship of the Ring   \n",
       "9              The Lord of the Rings: The Two Towers   \n",
       "\n",
       "                             genre  rating    votes  \n",
       "0                      Documentary     9.3   121400  \n",
       "1                      Documentary     9.3    43175  \n",
       "2  Documentary, Biography, History     9.1   119768  \n",
       "3        Documentary, History, War     9.1    24632  \n",
       "4                      Documentary     9.0    30498  \n",
       "5         Action, Adventure, Drama     9.0  1819157  \n",
       "6          Biography, Crime, Drama     8.9   119339  \n",
       "7         Action, Adventure, Drama     8.8  1844075  \n",
       "8         Action, Adventure, Drama     8.8  1844055  \n",
       "9         Action, Adventure, Drama     8.8  1642708  "
      ]
     },
     "execution_count": 140,
     "metadata": {},
     "output_type": "execute_result"
    }
   ],
   "source": [
    "# Filtrando Dataset em busca dos programas mais bem avaliados:\n",
    "ratings_long = df_long_duration.loc[\n",
    "    :, \n",
    "    ['title', 'genre', 'rating', 'votes']\n",
    "    ].sort_values(['rating'], ascending=False).head(10)\n",
    "\n",
    "# Resetando index:\n",
    "ratings_long = ratings_long.reset_index()\n",
    "ratings_long = ratings_long.drop(columns={'index'})\n",
    "\n",
    "# Visualizando:\n",
    "ratings_long"
   ]
  },
  {
   "attachments": {},
   "cell_type": "markdown",
   "metadata": {},
   "source": [
    "O longa mais bem avaliado é a série documentária sobre o espaço, Cosmos: A Spacetime Odyssey com 9.3, um valor muito bom porém 0.6 pontos abaixo de BoJack Horseman. No geral, as avaliações dos longas aparentam ser menores em relação aos programas mais curtos, uma inversão curiosa do padrão visto até aqui, onde os longas tiveram avaliações em média mais alta do que os curtos.\n",
    "\n",
    "Isso pode aparentar que, por mais que os top 10 programas individuais longas tem avaliações menores do que os curtos, no catálogo como um todo eles possuem avaliações médias mais altas, indicando uma consistência de qualidade e satisfação do cliente maior com tais projetos."
   ]
  },
  {
   "attachments": {},
   "cell_type": "markdown",
   "metadata": {},
   "source": [
    "### Bônus: Quais correlações gerais podemos estrair dos dados?"
   ]
  },
  {
   "attachments": {},
   "cell_type": "markdown",
   "metadata": {},
   "source": [
    "Como um bônus de encerramento, vamos analisar as correlações entre as tabelas do Dataset e tentar aferir as características que vimos até aqui."
   ]
  },
  {
   "cell_type": "code",
   "execution_count": 142,
   "metadata": {},
   "outputs": [
    {
     "data": {
      "text/html": [
       "<div>\n",
       "<style scoped>\n",
       "    .dataframe tbody tr th:only-of-type {\n",
       "        vertical-align: middle;\n",
       "    }\n",
       "\n",
       "    .dataframe tbody tr th {\n",
       "        vertical-align: top;\n",
       "    }\n",
       "\n",
       "    .dataframe thead th {\n",
       "        text-align: right;\n",
       "    }\n",
       "</style>\n",
       "<table border=\"1\" class=\"dataframe\">\n",
       "  <thead>\n",
       "    <tr style=\"text-align: right;\">\n",
       "      <th></th>\n",
       "      <th>release_year</th>\n",
       "      <th>ending_year</th>\n",
       "      <th>duration_min</th>\n",
       "      <th>rating</th>\n",
       "      <th>votes</th>\n",
       "    </tr>\n",
       "  </thead>\n",
       "  <tbody>\n",
       "    <tr>\n",
       "      <th>release_year</th>\n",
       "      <td>1.000000</td>\n",
       "      <td>0.017995</td>\n",
       "      <td>0.004520</td>\n",
       "      <td>0.176815</td>\n",
       "      <td>0.002592</td>\n",
       "    </tr>\n",
       "    <tr>\n",
       "      <th>ending_year</th>\n",
       "      <td>0.017995</td>\n",
       "      <td>1.000000</td>\n",
       "      <td>-0.281208</td>\n",
       "      <td>0.275709</td>\n",
       "      <td>0.066237</td>\n",
       "    </tr>\n",
       "    <tr>\n",
       "      <th>duration_min</th>\n",
       "      <td>0.004520</td>\n",
       "      <td>-0.281208</td>\n",
       "      <td>1.000000</td>\n",
       "      <td>-0.001992</td>\n",
       "      <td>0.156147</td>\n",
       "    </tr>\n",
       "    <tr>\n",
       "      <th>rating</th>\n",
       "      <td>0.176815</td>\n",
       "      <td>0.275709</td>\n",
       "      <td>-0.001992</td>\n",
       "      <td>1.000000</td>\n",
       "      <td>0.128175</td>\n",
       "    </tr>\n",
       "    <tr>\n",
       "      <th>votes</th>\n",
       "      <td>0.002592</td>\n",
       "      <td>0.066237</td>\n",
       "      <td>0.156147</td>\n",
       "      <td>0.128175</td>\n",
       "      <td>1.000000</td>\n",
       "    </tr>\n",
       "  </tbody>\n",
       "</table>\n",
       "</div>"
      ],
      "text/plain": [
       "              release_year  ending_year  duration_min    rating     votes\n",
       "release_year      1.000000     0.017995      0.004520  0.176815  0.002592\n",
       "ending_year       0.017995     1.000000     -0.281208  0.275709  0.066237\n",
       "duration_min      0.004520    -0.281208      1.000000 -0.001992  0.156147\n",
       "rating            0.176815     0.275709     -0.001992  1.000000  0.128175\n",
       "votes             0.002592     0.066237      0.156147  0.128175  1.000000"
      ]
     },
     "execution_count": 142,
     "metadata": {},
     "output_type": "execute_result"
    }
   ],
   "source": [
    "# Correlação do primeiro DataFrame:\n",
    "df_movies_clean.corr()"
   ]
  },
  {
   "cell_type": "code",
   "execution_count": 143,
   "metadata": {},
   "outputs": [
    {
     "data": {
      "text/html": [
       "<div>\n",
       "<style scoped>\n",
       "    .dataframe tbody tr th:only-of-type {\n",
       "        vertical-align: middle;\n",
       "    }\n",
       "\n",
       "    .dataframe tbody tr th {\n",
       "        vertical-align: top;\n",
       "    }\n",
       "\n",
       "    .dataframe thead th {\n",
       "        text-align: right;\n",
       "    }\n",
       "</style>\n",
       "<table border=\"1\" class=\"dataframe\">\n",
       "  <thead>\n",
       "    <tr style=\"text-align: right;\">\n",
       "      <th></th>\n",
       "      <th>release_year</th>\n",
       "      <th>ending_year</th>\n",
       "      <th>duration_min</th>\n",
       "      <th>rating</th>\n",
       "      <th>votes</th>\n",
       "    </tr>\n",
       "  </thead>\n",
       "  <tbody>\n",
       "    <tr>\n",
       "      <th>release_year</th>\n",
       "      <td>1.000000</td>\n",
       "      <td>-0.051874</td>\n",
       "      <td>0.090713</td>\n",
       "      <td>-0.186243</td>\n",
       "      <td>-0.318940</td>\n",
       "    </tr>\n",
       "    <tr>\n",
       "      <th>ending_year</th>\n",
       "      <td>-0.051874</td>\n",
       "      <td>1.000000</td>\n",
       "      <td>0.170469</td>\n",
       "      <td>0.093072</td>\n",
       "      <td>-0.056761</td>\n",
       "    </tr>\n",
       "    <tr>\n",
       "      <th>duration_min</th>\n",
       "      <td>0.090713</td>\n",
       "      <td>0.170469</td>\n",
       "      <td>1.000000</td>\n",
       "      <td>0.331182</td>\n",
       "      <td>-0.120481</td>\n",
       "    </tr>\n",
       "    <tr>\n",
       "      <th>rating</th>\n",
       "      <td>-0.186243</td>\n",
       "      <td>0.093072</td>\n",
       "      <td>0.331182</td>\n",
       "      <td>1.000000</td>\n",
       "      <td>0.287831</td>\n",
       "    </tr>\n",
       "    <tr>\n",
       "      <th>votes</th>\n",
       "      <td>-0.318940</td>\n",
       "      <td>-0.056761</td>\n",
       "      <td>-0.120481</td>\n",
       "      <td>0.287831</td>\n",
       "      <td>1.000000</td>\n",
       "    </tr>\n",
       "  </tbody>\n",
       "</table>\n",
       "</div>"
      ],
      "text/plain": [
       "              release_year  ending_year  duration_min    rating     votes\n",
       "release_year      1.000000    -0.051874      0.090713 -0.186243 -0.318940\n",
       "ending_year      -0.051874     1.000000      0.170469  0.093072 -0.056761\n",
       "duration_min      0.090713     0.170469      1.000000  0.331182 -0.120481\n",
       "rating           -0.186243     0.093072      0.331182  1.000000  0.287831\n",
       "votes            -0.318940    -0.056761     -0.120481  0.287831  1.000000"
      ]
     },
     "execution_count": 143,
     "metadata": {},
     "output_type": "execute_result"
    }
   ],
   "source": [
    "# Correlação do segundo Dataframe:\n",
    "df_long_duration.corr()"
   ]
  },
  {
   "attachments": {},
   "cell_type": "markdown",
   "metadata": {},
   "source": [
    "Um ponto interessante é a têndencia préviamente observada de que projetos longos tem uma têndencia a ter avaliações mais altas e o inverso acontecendo no primeiro dataset.\n",
    "\n",
    "**df_movies_clean**\n",
    "\n",
    "    Correlação rating e duration_min:\n",
    "        -0.001992\n",
    "\n",
    "Uma correlação pequena, porem que tende para baixo. Ou seja, quanto maior a avaliação do projeto, menor ele é ou vice versa.\n",
    "\n",
    "**df_long_movies**\n",
    "\n",
    "    Correlação rating e duration_min:\n",
    "        0.331182\n",
    "\n",
    "Uma correlação bem mais pronunciada do que a do primeiro dataset. Quanto maior a avaliação do projeto, mais longo ele é, o inverso do ocorrido nos projetos menores, comprovando a tendência já observada ao longo das análises."
   ]
  }
 ],
 "metadata": {
  "kernelspec": {
   "display_name": "base",
   "language": "python",
   "name": "python3"
  },
  "language_info": {
   "codemirror_mode": {
    "name": "ipython",
    "version": 3
   },
   "file_extension": ".py",
   "mimetype": "text/x-python",
   "name": "python",
   "nbconvert_exporter": "python",
   "pygments_lexer": "ipython3",
   "version": "3.9.12"
  },
  "orig_nbformat": 4,
  "vscode": {
   "interpreter": {
    "hash": "594af92f1fbe2151803567768ef02c6f133f2dd09ab238e968f9d14c9ef1bc27"
   }
  }
 },
 "nbformat": 4,
 "nbformat_minor": 2
}

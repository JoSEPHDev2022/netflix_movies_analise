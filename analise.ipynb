{
 "cells": [
  {
   "cell_type": "code",
   "execution_count": null,
   "metadata": {},
   "outputs": [],
   "source": []
  },
  {
   "attachments": {},
   "cell_type": "markdown",
   "metadata": {},
   "source": [
    "# Filmes e Séries: Netflix"
   ]
  },
  {
   "attachments": {},
   "cell_type": "markdown",
   "metadata": {},
   "source": [
    "## Parte 1: Coleta e Análise Primária dos Dados"
   ]
  },
  {
   "cell_type": "code",
   "execution_count": 149,
   "metadata": {},
   "outputs": [],
   "source": [
    "# Importando as bibliotecas que serão utilizadas para a realização dos trabalhos:\n",
    "import pandas as pd\n",
    "import numpy as np\n",
    "import matplotlib\n",
    "import matplotlib.pyplot as plt\n",
    "import seaborn as sns\n",
    "import re\n",
    "\n",
    "# Definindo algumas configurações iniciais em relação a estilização e dimensões de gráficos \n",
    "# para plotagem posterior:\n",
    "sns.set(rc={'figure.figsize':(11.7, 8.27)})\n",
    "sns.set(style='darkgrid')"
   ]
  },
  {
   "cell_type": "code",
   "execution_count": 150,
   "metadata": {},
   "outputs": [],
   "source": [
    "# Criando o DataFrame:\n",
    "df_movies = pd.read_csv('data/netflix_movies.csv')"
   ]
  },
  {
   "cell_type": "code",
   "execution_count": 151,
   "metadata": {},
   "outputs": [
    {
     "data": {
      "text/html": [
       "<div>\n",
       "<style scoped>\n",
       "    .dataframe tbody tr th:only-of-type {\n",
       "        vertical-align: middle;\n",
       "    }\n",
       "\n",
       "    .dataframe tbody tr th {\n",
       "        vertical-align: top;\n",
       "    }\n",
       "\n",
       "    .dataframe thead th {\n",
       "        text-align: right;\n",
       "    }\n",
       "</style>\n",
       "<table border=\"1\" class=\"dataframe\">\n",
       "  <thead>\n",
       "    <tr style=\"text-align: right;\">\n",
       "      <th></th>\n",
       "      <th>title</th>\n",
       "      <th>year</th>\n",
       "      <th>certificate</th>\n",
       "      <th>duration</th>\n",
       "      <th>genre</th>\n",
       "      <th>rating</th>\n",
       "      <th>description</th>\n",
       "      <th>stars</th>\n",
       "      <th>votes</th>\n",
       "    </tr>\n",
       "  </thead>\n",
       "  <tbody>\n",
       "    <tr>\n",
       "      <th>0</th>\n",
       "      <td>Cobra Kai</td>\n",
       "      <td>(2018– )</td>\n",
       "      <td>TV-14</td>\n",
       "      <td>30 min</td>\n",
       "      <td>Action, Comedy, Drama</td>\n",
       "      <td>8.5</td>\n",
       "      <td>Decades after their 1984 All Valley Karate Tou...</td>\n",
       "      <td>['Ralph Macchio, ', 'William Zabka, ', 'Courtn...</td>\n",
       "      <td>177,031</td>\n",
       "    </tr>\n",
       "    <tr>\n",
       "      <th>1</th>\n",
       "      <td>The Crown</td>\n",
       "      <td>(2016– )</td>\n",
       "      <td>TV-MA</td>\n",
       "      <td>58 min</td>\n",
       "      <td>Biography, Drama, History</td>\n",
       "      <td>8.7</td>\n",
       "      <td>Follows the political rivalries and romance of...</td>\n",
       "      <td>['Claire Foy, ', 'Olivia Colman, ', 'Imelda St...</td>\n",
       "      <td>199,885</td>\n",
       "    </tr>\n",
       "    <tr>\n",
       "      <th>2</th>\n",
       "      <td>Better Call Saul</td>\n",
       "      <td>(2015–2022)</td>\n",
       "      <td>TV-MA</td>\n",
       "      <td>46 min</td>\n",
       "      <td>Crime, Drama</td>\n",
       "      <td>8.9</td>\n",
       "      <td>The trials and tribulations of criminal lawyer...</td>\n",
       "      <td>['Bob Odenkirk, ', 'Rhea Seehorn, ', 'Jonathan...</td>\n",
       "      <td>501,384</td>\n",
       "    </tr>\n",
       "    <tr>\n",
       "      <th>3</th>\n",
       "      <td>Devil in Ohio</td>\n",
       "      <td>(2022)</td>\n",
       "      <td>TV-MA</td>\n",
       "      <td>356 min</td>\n",
       "      <td>Drama, Horror, Mystery</td>\n",
       "      <td>5.9</td>\n",
       "      <td>When a psychiatrist shelters a mysterious cult...</td>\n",
       "      <td>['Emily Deschanel, ', 'Sam Jaeger, ', 'Gerardo...</td>\n",
       "      <td>9,773</td>\n",
       "    </tr>\n",
       "    <tr>\n",
       "      <th>4</th>\n",
       "      <td>Cyberpunk: Edgerunners</td>\n",
       "      <td>(2022– )</td>\n",
       "      <td>TV-MA</td>\n",
       "      <td>24 min</td>\n",
       "      <td>Animation, Action, Adventure</td>\n",
       "      <td>8.6</td>\n",
       "      <td>A Street Kid trying to survive in a technology...</td>\n",
       "      <td>['Zach Aguilar, ', 'Kenichiro Ohashi, ', 'Emi ...</td>\n",
       "      <td>15,413</td>\n",
       "    </tr>\n",
       "  </tbody>\n",
       "</table>\n",
       "</div>"
      ],
      "text/plain": [
       "                    title         year certificate duration  \\\n",
       "0               Cobra Kai     (2018– )       TV-14   30 min   \n",
       "1               The Crown     (2016– )       TV-MA   58 min   \n",
       "2        Better Call Saul  (2015–2022)       TV-MA   46 min   \n",
       "3           Devil in Ohio       (2022)       TV-MA  356 min   \n",
       "4  Cyberpunk: Edgerunners     (2022– )       TV-MA   24 min   \n",
       "\n",
       "                          genre  rating  \\\n",
       "0         Action, Comedy, Drama     8.5   \n",
       "1     Biography, Drama, History     8.7   \n",
       "2                  Crime, Drama     8.9   \n",
       "3        Drama, Horror, Mystery     5.9   \n",
       "4  Animation, Action, Adventure     8.6   \n",
       "\n",
       "                                         description  \\\n",
       "0  Decades after their 1984 All Valley Karate Tou...   \n",
       "1  Follows the political rivalries and romance of...   \n",
       "2  The trials and tribulations of criminal lawyer...   \n",
       "3  When a psychiatrist shelters a mysterious cult...   \n",
       "4  A Street Kid trying to survive in a technology...   \n",
       "\n",
       "                                               stars    votes  \n",
       "0  ['Ralph Macchio, ', 'William Zabka, ', 'Courtn...  177,031  \n",
       "1  ['Claire Foy, ', 'Olivia Colman, ', 'Imelda St...  199,885  \n",
       "2  ['Bob Odenkirk, ', 'Rhea Seehorn, ', 'Jonathan...  501,384  \n",
       "3  ['Emily Deschanel, ', 'Sam Jaeger, ', 'Gerardo...    9,773  \n",
       "4  ['Zach Aguilar, ', 'Kenichiro Ohashi, ', 'Emi ...   15,413  "
      ]
     },
     "execution_count": 151,
     "metadata": {},
     "output_type": "execute_result"
    }
   ],
   "source": [
    "# Visualizando os primeiros 5 registros do DataFrame\n",
    "df_movies.head()"
   ]
  },
  {
   "cell_type": "code",
   "execution_count": 152,
   "metadata": {},
   "outputs": [
    {
     "data": {
      "text/html": [
       "<div>\n",
       "<style scoped>\n",
       "    .dataframe tbody tr th:only-of-type {\n",
       "        vertical-align: middle;\n",
       "    }\n",
       "\n",
       "    .dataframe tbody tr th {\n",
       "        vertical-align: top;\n",
       "    }\n",
       "\n",
       "    .dataframe thead th {\n",
       "        text-align: right;\n",
       "    }\n",
       "</style>\n",
       "<table border=\"1\" class=\"dataframe\">\n",
       "  <thead>\n",
       "    <tr style=\"text-align: right;\">\n",
       "      <th></th>\n",
       "      <th>title</th>\n",
       "      <th>year</th>\n",
       "      <th>certificate</th>\n",
       "      <th>duration</th>\n",
       "      <th>genre</th>\n",
       "      <th>rating</th>\n",
       "      <th>description</th>\n",
       "      <th>stars</th>\n",
       "      <th>votes</th>\n",
       "    </tr>\n",
       "  </thead>\n",
       "  <tbody>\n",
       "    <tr>\n",
       "      <th>4612</th>\n",
       "      <td>Pickpockets</td>\n",
       "      <td>(2018)</td>\n",
       "      <td>TV-MA</td>\n",
       "      <td>108 min</td>\n",
       "      <td>Crime, Drama</td>\n",
       "      <td>5.4</td>\n",
       "      <td>Aspiring teen thieves learn what it takes to b...</td>\n",
       "      <td>['Peter Webber', '| ', '    Stars:', 'Emiliano...</td>\n",
       "      <td>1,211</td>\n",
       "    </tr>\n",
       "    <tr>\n",
       "      <th>2168</th>\n",
       "      <td>Acrimony</td>\n",
       "      <td>(2018)</td>\n",
       "      <td>R</td>\n",
       "      <td>120 min</td>\n",
       "      <td>Horror, Romance, Thriller</td>\n",
       "      <td>5.8</td>\n",
       "      <td>A faithful wife, tired of standing by her devi...</td>\n",
       "      <td>['Tyler Perry', '| ', '    Stars:', 'Taraji P....</td>\n",
       "      <td>8,922</td>\n",
       "    </tr>\n",
       "    <tr>\n",
       "      <th>7240</th>\n",
       "      <td>Mudbloods</td>\n",
       "      <td>(2014)</td>\n",
       "      <td>NaN</td>\n",
       "      <td>89 min</td>\n",
       "      <td>Documentary, Sport</td>\n",
       "      <td>6.7</td>\n",
       "      <td>Follows the resilient underdogs of the UCLA Qu...</td>\n",
       "      <td>['Farzad Sangari', '| ', '    Stars:', 'Niran ...</td>\n",
       "      <td>266</td>\n",
       "    </tr>\n",
       "    <tr>\n",
       "      <th>2806</th>\n",
       "      <td>Rebirth</td>\n",
       "      <td>(I) (2016)</td>\n",
       "      <td>TV-MA</td>\n",
       "      <td>100 min</td>\n",
       "      <td>Thriller</td>\n",
       "      <td>4.9</td>\n",
       "      <td>He's a family man headed for a weekend of self...</td>\n",
       "      <td>['Karl Mueller', '| ', '    Stars:', 'Fran Kra...</td>\n",
       "      <td>5,435</td>\n",
       "    </tr>\n",
       "    <tr>\n",
       "      <th>2476</th>\n",
       "      <td>2gether</td>\n",
       "      <td>(2020)</td>\n",
       "      <td>NaN</td>\n",
       "      <td>50 min</td>\n",
       "      <td>Comedy, Drama, Romance</td>\n",
       "      <td>7.7</td>\n",
       "      <td>A student named Tine wants to get rid of a gay...</td>\n",
       "      <td>['Vachirawit Chivaaree, ', 'Metawin Opas-Iamka...</td>\n",
       "      <td>3,556</td>\n",
       "    </tr>\n",
       "  </tbody>\n",
       "</table>\n",
       "</div>"
      ],
      "text/plain": [
       "            title        year certificate duration                      genre  \\\n",
       "4612  Pickpockets      (2018)       TV-MA  108 min               Crime, Drama   \n",
       "2168     Acrimony      (2018)           R  120 min  Horror, Romance, Thriller   \n",
       "7240    Mudbloods      (2014)         NaN   89 min         Documentary, Sport   \n",
       "2806      Rebirth  (I) (2016)       TV-MA  100 min                   Thriller   \n",
       "2476      2gether      (2020)         NaN   50 min     Comedy, Drama, Romance   \n",
       "\n",
       "      rating                                        description  \\\n",
       "4612     5.4  Aspiring teen thieves learn what it takes to b...   \n",
       "2168     5.8  A faithful wife, tired of standing by her devi...   \n",
       "7240     6.7  Follows the resilient underdogs of the UCLA Qu...   \n",
       "2806     4.9  He's a family man headed for a weekend of self...   \n",
       "2476     7.7  A student named Tine wants to get rid of a gay...   \n",
       "\n",
       "                                                  stars  votes  \n",
       "4612  ['Peter Webber', '| ', '    Stars:', 'Emiliano...  1,211  \n",
       "2168  ['Tyler Perry', '| ', '    Stars:', 'Taraji P....  8,922  \n",
       "7240  ['Farzad Sangari', '| ', '    Stars:', 'Niran ...    266  \n",
       "2806  ['Karl Mueller', '| ', '    Stars:', 'Fran Kra...  5,435  \n",
       "2476  ['Vachirawit Chivaaree, ', 'Metawin Opas-Iamka...  3,556  "
      ]
     },
     "execution_count": 152,
     "metadata": {},
     "output_type": "execute_result"
    }
   ],
   "source": [
    "# Visualizando um sample aleatório do DataFrame:\n",
    "df_movies.sample(5)"
   ]
  },
  {
   "cell_type": "code",
   "execution_count": 153,
   "metadata": {},
   "outputs": [
    {
     "data": {
      "text/plain": [
       "(9957, 9)"
      ]
     },
     "execution_count": 153,
     "metadata": {},
     "output_type": "execute_result"
    }
   ],
   "source": [
    "# Determinando as dimensões do DataFrame:\n",
    "df_movies.shape"
   ]
  },
  {
   "attachments": {},
   "cell_type": "markdown",
   "metadata": {},
   "source": [
    "Com essa informação, sabemos que nosso DataFrame é composto por **9957 linhas** e **9 colunas**."
   ]
  },
  {
   "cell_type": "code",
   "execution_count": 154,
   "metadata": {},
   "outputs": [
    {
     "name": "stdout",
     "output_type": "stream",
     "text": [
      "<class 'pandas.core.frame.DataFrame'>\n",
      "RangeIndex: 9957 entries, 0 to 9956\n",
      "Data columns (total 9 columns):\n",
      " #   Column       Non-Null Count  Dtype  \n",
      "---  ------       --------------  -----  \n",
      " 0   title        9957 non-null   object \n",
      " 1   year         9430 non-null   object \n",
      " 2   certificate  6504 non-null   object \n",
      " 3   duration     7921 non-null   object \n",
      " 4   genre        9884 non-null   object \n",
      " 5   rating       8784 non-null   float64\n",
      " 6   description  9957 non-null   object \n",
      " 7   stars        9957 non-null   object \n",
      " 8   votes        8784 non-null   object \n",
      "dtypes: float64(1), object(8)\n",
      "memory usage: 700.2+ KB\n"
     ]
    }
   ],
   "source": [
    "# Coletando mais informações acerca do DataFrame utilizando o comando .info():\n",
    "df_movies.info()"
   ]
  },
  {
   "attachments": {},
   "cell_type": "markdown",
   "metadata": {},
   "source": [
    "Utilizando o comando .info(), podemos estrair algumas informações iniciais importantes sobre os dados:\n",
    "\n",
    "- Apenas as colunas **`title`**, **`description`** e **`stars`** possuem registros completos sem valores nulos;\n",
    "\n",
    "- Das 9 colunas, 8 estão no formato *object* (string), sendo que algumas delas como as colunas `year` e `votes` por exemplo poderiam e deveriam estar em valores numéricos.\n",
    "\n",
    "A seguir, iremos realizar uma checagem mais focada nos dados faltantes do DataFrame:"
   ]
  },
  {
   "cell_type": "code",
   "execution_count": 155,
   "metadata": {},
   "outputs": [
    {
     "data": {
      "text/plain": [
       "certificate    34.6791\n",
       "duration       20.4479\n",
       "rating         11.7807\n",
       "votes          11.7807\n",
       "year            5.2928\n",
       "genre           0.7332\n",
       "title           0.0000\n",
       "description     0.0000\n",
       "stars           0.0000\n",
       "dtype: float64"
      ]
     },
     "execution_count": 155,
     "metadata": {},
     "output_type": "execute_result"
    }
   ],
   "source": [
    "# Checando porcentagem de dados faltantes no DataFrame:\n",
    "(((df_movies.isnull().sum() / df_movies.shape[0]) * 100).sort_values(ascending=False)).round(4)"
   ]
  },
  {
   "attachments": {},
   "cell_type": "markdown",
   "metadata": {},
   "source": [
    "Dos registros presentes nas 9 colunas do DataFrame, as colunas:\n",
    "\n",
    "- **`certificate`** possui 34.68% de valores nulos;\n",
    "\n",
    "- **`duration`** possui 20.45% de valores nulos;\n",
    "\n",
    "- **`rating`** e **`votes`** possuem 11.78% de valores nulos;\n",
    "\n",
    "- **`year`** possui 5.29% de valores nulos;\n",
    "\n",
    "- **`genre`** possui 0.73% de valores nulos."
   ]
  },
  {
   "attachments": {},
   "cell_type": "markdown",
   "metadata": {},
   "source": [
    "### Dicionário de Variáveis"
   ]
  },
  {
   "attachments": {},
   "cell_type": "markdown",
   "metadata": {},
   "source": [
    "Para termos uma compreensão ainda maior acerca dos nossos dados, realizaremos uma descrição de cada uma das colunas presentes no DataFrame, entrando em detalhes onde for necessário:\n",
    "\n",
    "- **`title`** - Título da obra (séries, filmes, etc);\n",
    "\n",
    "- **`year`** - Tupla que contém duas datas: (ano_de_lançamento - ano de encerramento), tendo uma diferença entre obras \"únicas\" como filmes e obras \"contínuas\" como Séries:\n",
    "    \n",
    "    - *Séries*: (ano_estreia_primeiro_ep - ano_estreia_útlimo_ep) ou apenas (ano_estreia_primeiro_ep - );\n",
    "    \n",
    "    - *Filmes*: (ano_lançamento)\n",
    "\n",
    "- **`certificate`** - Certificado de classificação, em formatos distintos para cada tipo de mídia e baseados em diferentes métricas de avaliação de conteúdo (essa é a coluna mais complexa do DataFrame, onde as definições a seguir foram baseadas em pesquisas realizadas acerca de cada tipo de certificado):\n",
    "\n",
    "    - *Programas Televisivos: TV Parental Guidelines*\n",
    "\n",
    "        - **TV-14**: Não recomendado para menores de 14 anos;\n",
    "        \n",
    "        - **TV-MA**: Audiência madura - Não recomendado para menores de 17 anos;\n",
    "        \n",
    "        - **TV-PG**: Conteúdos recomendados para serem consumidos com orientação parental;\n",
    "\n",
    "        - **TV-Y7-FV**: Não recomendado para menores de 7 anos, contém violência fantasiosa;\n",
    "\n",
    "        - **TV-G**: Recomendado para todos os públicos;\n",
    "\n",
    "        - **TV-Y7**: Não recomendado para menores de 7 anos;\n",
    "\n",
    "        - **TV-Y**: Conteúdo infantil.\n",
    "\n",
    "    - *Filmes: Motion Picture Association film rating system*\n",
    "\n",
    "        - **NC-17**: Ninguém com 17 anos ou menos admitido;\n",
    "\n",
    "        - **R**: Menores de 17 anos requerem acompanhamento dos pais ou responsáveis adultos;\n",
    "\n",
    "        - **PG-13**: Alguns materiais podem ser impróprios para crianças menores de 13 anos;\n",
    "\n",
    "        - **PG**: Parte do material pode não ser adequado para crianças;\n",
    "\n",
    "        - **G**: Todas as idades admitidas.\n",
    "\n",
    "    - *Entertainment Software Rating Board*\n",
    "\n",
    "        - **M (Mature)**: Não recomendado para menores de 17 anos;\n",
    "\n",
    "        - **E10+**: Recomendado para públicos a partir de 10 anos.\n",
    "\n",
    "    - *Outros formatos de avaliação presentes*\n",
    "\n",
    "        - **Not Rated/Unrated**: Sem classificação. Significa que a mídia específica não foi classificada por meio de um processo de classificação. Isso geralmente implica que um trabalho nunca foi autoclassificado ou submetido a um órgão de classificação por diversos motivos como, por exemplo, devido a natureza do trabalho (como um evento esportivo) ou por motivos orçamentários;\n",
    "\n",
    "        - **Approved/Passed**: Sob o [Código Hays](https://www.megacurioso.com.br/artes-cultura/123329-codigo-hays-as-regras-que-censuravam-filmes-na-era-de-ouro-de-hollywood.htm), os filmes eram simplesmente aprovados ou reprovados com base no fato de serem considerados \"morais\" ou \"imorais\". Esse tipo de avaliação é específico para o recorte histórico durante a década de 1930.\n",
    "\n",
    "        - **12**: Não recomendado para menores de 12 anos;\n",
    "\n",
    "        - **MA-17**: Não recomendado para menores de 17 anos.\n",
    "\n",
    "- **`duration`** - Duração do filme ou duração dos episódios de Séries (em minutos);\n",
    "\n",
    "- **`genre`** - Gênero(s) da obra;\n",
    "\n",
    "- **`rating`** - Nota de avaliação [IMDb](https://www.imdb.com/);\n",
    "\n",
    "- **`description`** - Sinópse da obra;\n",
    "\n",
    "- **`stars`** - Atores de destaque;\n",
    "\n",
    "- **`votes`** - Quantidade de votos no IMDb.\n",
    "\n"
   ]
  },
  {
   "attachments": {},
   "cell_type": "markdown",
   "metadata": {},
   "source": [
    "## Parte 2: Tratamento dos Dados"
   ]
  },
  {
   "attachments": {},
   "cell_type": "markdown",
   "metadata": {},
   "source": [
    "Para que se possa ter resultados precisos na análise, é necessário a limpeza e tratamento de dados no DataFrame. Para iniciarmos esse processo, vamos checar novamente os data types das colunas:"
   ]
  },
  {
   "cell_type": "code",
   "execution_count": 156,
   "metadata": {},
   "outputs": [
    {
     "data": {
      "text/plain": [
       "title           object\n",
       "year            object\n",
       "certificate     object\n",
       "duration        object\n",
       "genre           object\n",
       "rating         float64\n",
       "description     object\n",
       "stars           object\n",
       "votes           object\n",
       "dtype: object"
      ]
     },
     "execution_count": 156,
     "metadata": {},
     "output_type": "execute_result"
    }
   ],
   "source": [
    "# Checando os data types:\n",
    "df_movies.dtypes"
   ]
  },
  {
   "cell_type": "code",
   "execution_count": 157,
   "metadata": {},
   "outputs": [
    {
     "data": {
      "text/html": [
       "<div>\n",
       "<style scoped>\n",
       "    .dataframe tbody tr th:only-of-type {\n",
       "        vertical-align: middle;\n",
       "    }\n",
       "\n",
       "    .dataframe tbody tr th {\n",
       "        vertical-align: top;\n",
       "    }\n",
       "\n",
       "    .dataframe thead th {\n",
       "        text-align: right;\n",
       "    }\n",
       "</style>\n",
       "<table border=\"1\" class=\"dataframe\">\n",
       "  <thead>\n",
       "    <tr style=\"text-align: right;\">\n",
       "      <th></th>\n",
       "      <th>title</th>\n",
       "      <th>year</th>\n",
       "      <th>certificate</th>\n",
       "      <th>duration</th>\n",
       "      <th>genre</th>\n",
       "      <th>rating</th>\n",
       "      <th>description</th>\n",
       "      <th>stars</th>\n",
       "      <th>votes</th>\n",
       "    </tr>\n",
       "  </thead>\n",
       "  <tbody>\n",
       "    <tr>\n",
       "      <th>0</th>\n",
       "      <td>Cobra Kai</td>\n",
       "      <td>(2018– )</td>\n",
       "      <td>TV-14</td>\n",
       "      <td>30 min</td>\n",
       "      <td>Action, Comedy, Drama</td>\n",
       "      <td>8.5</td>\n",
       "      <td>Decades after their 1984 All Valley Karate Tou...</td>\n",
       "      <td>['Ralph Macchio, ', 'William Zabka, ', 'Courtn...</td>\n",
       "      <td>177,031</td>\n",
       "    </tr>\n",
       "  </tbody>\n",
       "</table>\n",
       "</div>"
      ],
      "text/plain": [
       "       title      year certificate duration                  genre  rating  \\\n",
       "0  Cobra Kai  (2018– )       TV-14   30 min  Action, Comedy, Drama     8.5   \n",
       "\n",
       "                                         description  \\\n",
       "0  Decades after their 1984 All Valley Karate Tou...   \n",
       "\n",
       "                                               stars    votes  \n",
       "0  ['Ralph Macchio, ', 'William Zabka, ', 'Courtn...  177,031  "
      ]
     },
     "execution_count": 157,
     "metadata": {},
     "output_type": "execute_result"
    }
   ],
   "source": [
    "# Puxando apenas uma linha do DataFrame para visualizarmos melhor os dados:\n",
    "df_movies.head(1)"
   ]
  },
  {
   "attachments": {},
   "cell_type": "markdown",
   "metadata": {},
   "source": [
    "Algumas conclusões preliminares podem ser feitas sobre certas colunas:\n",
    "\n",
    "- **`year`**: O formato dessa coluna é menos que ideal para as análises, sendo assim, algumas mudanças serão realizadas nela. Primeiramente dividi-la em duas colunas diferentes, cada uma contendo o ano de lançamento e o ano de encerramento respectivamente. Já que filmes somente possuem o primeiro valor (lançamento), iremos utilizar 0 como placeholder na segunda coluna (ano de encerramento);\n",
    "\n",
    "- **`duration`**: Para facilitar as análises, será adaptada para em seu título informar a métrica de tempo usada (minutos) e apenas numeração nos dados em si;\n",
    "\n",
    "- **`votes`**: Trasformar o data type para tipo float."
   ]
  },
  {
   "cell_type": "code",
   "execution_count": 158,
   "metadata": {},
   "outputs": [],
   "source": [
    "# Criação de uma cópia do DataFrame onde será realizada a limpeza e tratativa dos dados:\n",
    "df_movies_clean = df_movies.copy()"
   ]
  },
  {
   "attachments": {},
   "cell_type": "markdown",
   "metadata": {},
   "source": [
    "### Tratamento: Coluna year"
   ]
  },
  {
   "attachments": {},
   "cell_type": "markdown",
   "metadata": {},
   "source": [
    "Para podermos criar duas colunas a partir da coluna year, onde cada uma irá conter o ano de lançamento e ano de encerramento respectivamente, iremos utilizar o método regex para auxiliar nessa operação, onde necessitamos apenas dos valores numéricos que representam os anos:"
   ]
  },
  {
   "cell_type": "code",
   "execution_count": 159,
   "metadata": {},
   "outputs": [],
   "source": [
    "# Criando uma variável que contém dado Regex para remoção (Remover tudo que não seja número da string):\n",
    "remove = r'[^0-9]+'"
   ]
  },
  {
   "cell_type": "code",
   "execution_count": 160,
   "metadata": {},
   "outputs": [
    {
     "data": {
      "text/plain": [
       "8295    20072010\n",
       "5406        2022\n",
       "6755        2017\n",
       "2918    20082009\n",
       "7876        2018\n",
       "Name: year, dtype: object"
      ]
     },
     "execution_count": 160,
     "metadata": {},
     "output_type": "execute_result"
    }
   ],
   "source": [
    "# Utilizando método apply para limpar caracteres indesejáveis da coluna year aplicando a variável regex:\n",
    "df_movies_clean['year'] = df_movies['year'].apply(\n",
    "    lambda x: re.sub(remove, '', str(x))\n",
    ")\n",
    "\n",
    "# Checando novos dados da coluna year:\n",
    "df_movies_clean['year'].sample(5)"
   ]
  },
  {
   "attachments": {},
   "cell_type": "markdown",
   "metadata": {},
   "source": [
    "Com apenas valores numéricos presentes na tabela year, podemos criar as duas novas colunas constando os anos de lançamento e encerramento:"
   ]
  },
  {
   "cell_type": "code",
   "execution_count": 161,
   "metadata": {},
   "outputs": [
    {
     "data": {
      "text/plain": [
       "6322    2012\n",
       "9367    2020\n",
       "338     2016\n",
       "5850    2019\n",
       "2864    2022\n",
       "Name: release_year, dtype: object"
      ]
     },
     "execution_count": 161,
     "metadata": {},
     "output_type": "execute_result"
    }
   ],
   "source": [
    "# Criando nova coluna que consta o primeiro ano da tabela year (ano de lançamento):\n",
    "df_movies_clean['release_year'] = df_movies_clean['year'].apply(\n",
    "    lambda x: str(x)[:4] if len(str(x)) == 8 else x\n",
    ")\n",
    "\n",
    "# Checando novos dados:\n",
    "df_movies_clean['release_year'].sample(5)"
   ]
  },
  {
   "cell_type": "code",
   "execution_count": 162,
   "metadata": {},
   "outputs": [
    {
     "data": {
      "text/plain": [
       "5323       0\n",
       "8400    2020\n",
       "7151       0\n",
       "999        0\n",
       "963     2021\n",
       "Name: ending_year, dtype: object"
      ]
     },
     "execution_count": 162,
     "metadata": {},
     "output_type": "execute_result"
    }
   ],
   "source": [
    "# Criando nova coluna que consta o últímo ano da tabela year (ano de encerramento).\n",
    "# Caso não exista (como no caso de filmes), colocar 0:\n",
    "df_movies_clean['ending_year'] = df_movies_clean['year'].apply(\n",
    "    lambda x: str(x)[-4:] if len(str(x)) == 8 else 0\n",
    ")\n",
    "\n",
    "# Checando resultados:\n",
    "df_movies_clean['ending_year'].sample(5)"
   ]
  },
  {
   "attachments": {},
   "cell_type": "markdown",
   "metadata": {},
   "source": [
    "É necessário agora conferir a integridade dos dados de ambas as novas colunas, checando por valores vazios:"
   ]
  },
  {
   "cell_type": "code",
   "execution_count": 163,
   "metadata": {},
   "outputs": [
    {
     "data": {
      "text/plain": [
       "631"
      ]
     },
     "execution_count": 163,
     "metadata": {},
     "output_type": "execute_result"
    }
   ],
   "source": [
    "# Checando dados vazios da coluna release_year:\n",
    "df_movies_clean.loc[(df_movies_clean['release_year'] == \"\"), 'release_year'].count()"
   ]
  },
  {
   "cell_type": "code",
   "execution_count": 164,
   "metadata": {},
   "outputs": [
    {
     "data": {
      "text/plain": [
       "0"
      ]
     },
     "execution_count": 164,
     "metadata": {},
     "output_type": "execute_result"
    }
   ],
   "source": [
    "# Checando dados vazios da coluna ending_year:\n",
    "df_movies_clean.loc[(df_movies_clean['ending_year'] == \"\"), 'ending_year'].count()"
   ]
  },
  {
   "attachments": {},
   "cell_type": "markdown",
   "metadata": {},
   "source": [
    "A coluna `release_year` possui 631 registros faltantes, já a coluna `ending_year` não possui nenhum."
   ]
  },
  {
   "cell_type": "code",
   "execution_count": 165,
   "metadata": {},
   "outputs": [],
   "source": [
    "# Tratando dados faltantes da coluna release_year:\n",
    "df_movies_clean['release_year'] = df_movies_clean['release_year'].apply(\n",
    "    lambda x: 0 if str(x).isalnum() == False else x\n",
    ")"
   ]
  },
  {
   "attachments": {},
   "cell_type": "markdown",
   "metadata": {},
   "source": [
    "Com nossas duas novas colunas de anos, basta transforma-las para o tipo numérico de dados:"
   ]
  },
  {
   "cell_type": "code",
   "execution_count": 166,
   "metadata": {},
   "outputs": [],
   "source": [
    "# Transformando dados nas colunas de release_year e ending_year para int:\n",
    "df_movies_clean['release_year'] = df_movies_clean['release_year'].astype(int)\n",
    "df_movies_clean['ending_year'] = df_movies_clean['ending_year'].astype(int)"
   ]
  },
  {
   "attachments": {},
   "cell_type": "markdown",
   "metadata": {},
   "source": [
    "### Tratamento: Coluna duration"
   ]
  },
  {
   "attachments": {},
   "cell_type": "markdown",
   "metadata": {},
   "source": [
    "Como analisado previamente, a coluna `duration` pode ter sua métrica de tempo (minutos) destacada no header e os dados apenas em valores numéricos. Sendo assim, primeiramente se faz necessário remover as letras \"min\" da coluna:"
   ]
  },
  {
   "cell_type": "code",
   "execution_count": 167,
   "metadata": {},
   "outputs": [
    {
     "data": {
      "text/plain": [
       "9660      0\n",
       "2865     95\n",
       "7974      0\n",
       "2527    142\n",
       "4642     99\n",
       "Name: duration, dtype: object"
      ]
     },
     "execution_count": 167,
     "metadata": {},
     "output_type": "execute_result"
    }
   ],
   "source": [
    "# Limpando a coluna duration para retirada de letras:\n",
    "df_movies_clean['duration'] = df_movies_clean['duration'].apply(\n",
    "    lambda x: 0 if str(x) == 'nan' else str(x)[:-4]\n",
    ")\n",
    "\n",
    "# Checando um sample dos resultados:\n",
    "df_movies_clean['duration'].sample(5)"
   ]
  },
  {
   "cell_type": "code",
   "execution_count": 168,
   "metadata": {},
   "outputs": [],
   "source": [
    "# Transformando a coluna duration para int\n",
    "df_movies_clean['duration'] = df_movies_clean['duration'].astype(int)"
   ]
  },
  {
   "cell_type": "code",
   "execution_count": 169,
   "metadata": {},
   "outputs": [],
   "source": [
    "# Renomeando coluna duration para informar que a mesma está em minutos:\n",
    "df_movies_clean.columns = df_movies_clean.columns.str.replace('duration', 'duration_min')"
   ]
  },
  {
   "attachments": {},
   "cell_type": "markdown",
   "metadata": {},
   "source": [
    "### Tratamento: Coluna votes"
   ]
  },
  {
   "attachments": {},
   "cell_type": "markdown",
   "metadata": {},
   "source": [
    "A coluna `votes` será tratada da seguinte maneira: Substituindo valores nulos por 0, retirando vírgulas dos dados e os transformando em números inteiros."
   ]
  },
  {
   "cell_type": "code",
   "execution_count": 170,
   "metadata": {},
   "outputs": [],
   "source": [
    "# Substituíndo valores nulos para 0:\n",
    "df_movies_clean['votes'] = df_movies_clean['votes'].apply(\n",
    "    lambda x: 0 if str(x) == 'nan' else x\n",
    ")"
   ]
  },
  {
   "cell_type": "code",
   "execution_count": 171,
   "metadata": {},
   "outputs": [],
   "source": [
    "# Retirando vírgulas:\n",
    "df_movies_clean['votes'] = df_movies_clean['votes'].apply(\n",
    "    lambda x: str(x).replace(',','')\n",
    ")"
   ]
  },
  {
   "cell_type": "code",
   "execution_count": 172,
   "metadata": {},
   "outputs": [],
   "source": [
    "# Passando valores para int:\n",
    "df_movies_clean['votes'] = df_movies_clean['votes'].astype(int)"
   ]
  },
  {
   "cell_type": "code",
   "execution_count": 173,
   "metadata": {},
   "outputs": [
    {
     "data": {
      "text/plain": [
       "8967       49\n",
       "1475    59604\n",
       "8063      282\n",
       "5943      468\n",
       "2942        0\n",
       "Name: votes, dtype: int32"
      ]
     },
     "execution_count": 173,
     "metadata": {},
     "output_type": "execute_result"
    }
   ],
   "source": [
    "# Visualizando resultados:\n",
    "df_movies_clean['votes'].sample(5)"
   ]
  },
  {
   "attachments": {},
   "cell_type": "markdown",
   "metadata": {},
   "source": [
    "### Tratamento: Colunas Stars, Certificate, Rating e Genre"
   ]
  },
  {
   "attachments": {},
   "cell_type": "markdown",
   "metadata": {},
   "source": [
    "Como essas colunas necessitam apenas de correções básicas, elas estão agrupadas num único capítulo."
   ]
  },
  {
   "attachments": {},
   "cell_type": "markdown",
   "metadata": {},
   "source": [
    "- Coluna Stars:"
   ]
  },
  {
   "cell_type": "code",
   "execution_count": 174,
   "metadata": {},
   "outputs": [],
   "source": [
    "# Substituíndo valores nulos por [not informed]:\n",
    "df_movies_clean['stars'] = df_movies_clean['stars'].apply(\n",
    "    lambda x: '[Not Informed]' if str(x) == '[]' else x\n",
    ")"
   ]
  },
  {
   "attachments": {},
   "cell_type": "markdown",
   "metadata": {},
   "source": [
    "- Coluna Certificate:"
   ]
  },
  {
   "cell_type": "code",
   "execution_count": 175,
   "metadata": {},
   "outputs": [],
   "source": [
    "# Substituíndo valores nulos por [not informed]:\n",
    "df_movies_clean['certificate'] = df_movies_clean['certificate'].apply(\n",
    "    lambda x: '[Not Informed]' if str(x) == 'nan' else x\n",
    ")"
   ]
  },
  {
   "attachments": {},
   "cell_type": "markdown",
   "metadata": {},
   "source": [
    "- Coluna Rating"
   ]
  },
  {
   "cell_type": "code",
   "execution_count": 176,
   "metadata": {},
   "outputs": [],
   "source": [
    "# Substituindo valores nulos por 0\n",
    "df_movies_clean['rating'] = df_movies_clean['rating'].apply(\n",
    "    lambda x: 0 if str(x) == 'nan' else x\n",
    ")"
   ]
  },
  {
   "attachments": {},
   "cell_type": "markdown",
   "metadata": {},
   "source": [
    "- Coluna genre"
   ]
  },
  {
   "cell_type": "code",
   "execution_count": 177,
   "metadata": {},
   "outputs": [],
   "source": [
    "# Substituindo valores nulos por [not informed]\n",
    "df_movies_clean['genre'] = df_movies_clean['genre'].apply(\n",
    "    lambda x: '[Not informed]' if str(x) == 'nan' else x\n",
    ")"
   ]
  },
  {
   "attachments": {},
   "cell_type": "markdown",
   "metadata": {},
   "source": [
    "Com essas alterações feitas, o DataFrame se encontra em condições apropriadas para análises e retirada de insights. Como última alteração, a sequência das colunas será alterada para melhor visualização:"
   ]
  },
  {
   "cell_type": "code",
   "execution_count": 178,
   "metadata": {},
   "outputs": [
    {
     "data": {
      "text/html": [
       "<div>\n",
       "<style scoped>\n",
       "    .dataframe tbody tr th:only-of-type {\n",
       "        vertical-align: middle;\n",
       "    }\n",
       "\n",
       "    .dataframe tbody tr th {\n",
       "        vertical-align: top;\n",
       "    }\n",
       "\n",
       "    .dataframe thead th {\n",
       "        text-align: right;\n",
       "    }\n",
       "</style>\n",
       "<table border=\"1\" class=\"dataframe\">\n",
       "  <thead>\n",
       "    <tr style=\"text-align: right;\">\n",
       "      <th></th>\n",
       "      <th>title</th>\n",
       "      <th>release_year</th>\n",
       "      <th>ending_year</th>\n",
       "      <th>certificate</th>\n",
       "      <th>duration_min</th>\n",
       "      <th>genre</th>\n",
       "      <th>rating</th>\n",
       "      <th>description</th>\n",
       "      <th>stars</th>\n",
       "      <th>votes</th>\n",
       "    </tr>\n",
       "  </thead>\n",
       "  <tbody>\n",
       "    <tr>\n",
       "      <th>6846</th>\n",
       "      <td>The Ogun</td>\n",
       "      <td>0</td>\n",
       "      <td>0</td>\n",
       "      <td>[Not Informed]</td>\n",
       "      <td>0</td>\n",
       "      <td>Action, Adventure, Thriller</td>\n",
       "      <td>0.0</td>\n",
       "      <td>Xavier Rhodes takes his teenage daughter to Ni...</td>\n",
       "      <td>['Anthony Mackie']</td>\n",
       "      <td>0</td>\n",
       "    </tr>\n",
       "    <tr>\n",
       "      <th>3996</th>\n",
       "      <td>Penthouse</td>\n",
       "      <td>2022</td>\n",
       "      <td>0</td>\n",
       "      <td>TV-MA</td>\n",
       "      <td>0</td>\n",
       "      <td>Crime, Mystery, Thriller</td>\n",
       "      <td>0.0</td>\n",
       "      <td>A debauchery-filled gathering for five friends...</td>\n",
       "      <td>['Abbas Alibhai Burmawalla, ', 'Mastan Alibhai...</td>\n",
       "      <td>0</td>\n",
       "    </tr>\n",
       "    <tr>\n",
       "      <th>9754</th>\n",
       "      <td>Dash &amp; Lily</td>\n",
       "      <td>2020</td>\n",
       "      <td>0</td>\n",
       "      <td>TV-14</td>\n",
       "      <td>23</td>\n",
       "      <td>Comedy, Drama, Romance</td>\n",
       "      <td>7.6</td>\n",
       "      <td>When Dash finds an unmarked, red notebook in h...</td>\n",
       "      <td>['Brad Silberling', '| ', '    Stars:', 'Austi...</td>\n",
       "      <td>393</td>\n",
       "    </tr>\n",
       "    <tr>\n",
       "      <th>3052</th>\n",
       "      <td>Omniscient</td>\n",
       "      <td>2020</td>\n",
       "      <td>0</td>\n",
       "      <td>[Not Informed]</td>\n",
       "      <td>0</td>\n",
       "      <td>Drama, Sci-Fi, Thriller</td>\n",
       "      <td>6.5</td>\n",
       "      <td>In a city where citizens are monitored 24/7, a...</td>\n",
       "      <td>['Carla Salle, ', 'Sandra Corveloni, ', 'Jonat...</td>\n",
       "      <td>2165</td>\n",
       "    </tr>\n",
       "    <tr>\n",
       "      <th>1994</th>\n",
       "      <td>Lovestruck in the City</td>\n",
       "      <td>2020</td>\n",
       "      <td>0</td>\n",
       "      <td>TV-14</td>\n",
       "      <td>30</td>\n",
       "      <td>Drama, Romance</td>\n",
       "      <td>7.6</td>\n",
       "      <td>Heart stolen by a free-spirited woman after a ...</td>\n",
       "      <td>['Ji Chang-Wook, ', 'Kim Ji-Won, ', 'Kim Min-S...</td>\n",
       "      <td>2564</td>\n",
       "    </tr>\n",
       "  </tbody>\n",
       "</table>\n",
       "</div>"
      ],
      "text/plain": [
       "                       title  release_year  ending_year     certificate  \\\n",
       "6846                The Ogun             0            0  [Not Informed]   \n",
       "3996               Penthouse          2022            0           TV-MA   \n",
       "9754             Dash & Lily          2020            0           TV-14   \n",
       "3052              Omniscient          2020            0  [Not Informed]   \n",
       "1994  Lovestruck in the City          2020            0           TV-14   \n",
       "\n",
       "      duration_min                        genre  rating  \\\n",
       "6846             0  Action, Adventure, Thriller     0.0   \n",
       "3996             0     Crime, Mystery, Thriller     0.0   \n",
       "9754            23       Comedy, Drama, Romance     7.6   \n",
       "3052             0      Drama, Sci-Fi, Thriller     6.5   \n",
       "1994            30               Drama, Romance     7.6   \n",
       "\n",
       "                                            description  \\\n",
       "6846  Xavier Rhodes takes his teenage daughter to Ni...   \n",
       "3996  A debauchery-filled gathering for five friends...   \n",
       "9754  When Dash finds an unmarked, red notebook in h...   \n",
       "3052  In a city where citizens are monitored 24/7, a...   \n",
       "1994  Heart stolen by a free-spirited woman after a ...   \n",
       "\n",
       "                                                  stars  votes  \n",
       "6846                                 ['Anthony Mackie']      0  \n",
       "3996  ['Abbas Alibhai Burmawalla, ', 'Mastan Alibhai...      0  \n",
       "9754  ['Brad Silberling', '| ', '    Stars:', 'Austi...    393  \n",
       "3052  ['Carla Salle, ', 'Sandra Corveloni, ', 'Jonat...   2165  \n",
       "1994  ['Ji Chang-Wook, ', 'Kim Ji-Won, ', 'Kim Min-S...   2564  "
      ]
     },
     "execution_count": 178,
     "metadata": {},
     "output_type": "execute_result"
    }
   ],
   "source": [
    "# Reorganizando o dataframe para uma visualização melhor\n",
    "df_movies_clean = df_movies_clean.loc[:, \n",
    "                            ['title', 'release_year', 'ending_year', 'certificate', 'duration_min', \n",
    "                            'genre', 'rating', 'description', 'stars', 'votes']]\n",
    "\n",
    "# Checando nova visualização                     \n",
    "df_movies_clean.sample(5)"
   ]
  },
  {
   "attachments": {},
   "cell_type": "markdown",
   "metadata": {},
   "source": [
    "Como checagem extra, vamos conferir se o DataFrame possui registros duplicados:"
   ]
  },
  {
   "cell_type": "code",
   "execution_count": 179,
   "metadata": {},
   "outputs": [
    {
     "data": {
      "text/html": [
       "<div>\n",
       "<style scoped>\n",
       "    .dataframe tbody tr th:only-of-type {\n",
       "        vertical-align: middle;\n",
       "    }\n",
       "\n",
       "    .dataframe tbody tr th {\n",
       "        vertical-align: top;\n",
       "    }\n",
       "\n",
       "    .dataframe thead th {\n",
       "        text-align: right;\n",
       "    }\n",
       "</style>\n",
       "<table border=\"1\" class=\"dataframe\">\n",
       "  <thead>\n",
       "    <tr style=\"text-align: right;\">\n",
       "      <th></th>\n",
       "      <th>title</th>\n",
       "      <th>release_year</th>\n",
       "      <th>ending_year</th>\n",
       "      <th>certificate</th>\n",
       "      <th>duration_min</th>\n",
       "      <th>genre</th>\n",
       "      <th>rating</th>\n",
       "      <th>description</th>\n",
       "      <th>stars</th>\n",
       "      <th>votes</th>\n",
       "    </tr>\n",
       "  </thead>\n",
       "  <tbody>\n",
       "  </tbody>\n",
       "</table>\n",
       "</div>"
      ],
      "text/plain": [
       "Empty DataFrame\n",
       "Columns: [title, release_year, ending_year, certificate, duration_min, genre, rating, description, stars, votes]\n",
       "Index: []"
      ]
     },
     "execution_count": 179,
     "metadata": {},
     "output_type": "execute_result"
    }
   ],
   "source": [
    "# Checando se o data frame contém linhas repetidas\n",
    "df_movies_clean.loc[(df_movies_clean.duplicated() == True), :]"
   ]
  },
  {
   "attachments": {},
   "cell_type": "markdown",
   "metadata": {},
   "source": [
    "## Parte 3: Histogramas, Outliers e Análises Iniciais"
   ]
  },
  {
   "attachments": {},
   "cell_type": "markdown",
   "metadata": {},
   "source": [
    "Com os dados limpos e organizados, podemos partir para a próxima etapa da análise, que consiste em checar por outliers e compreender melhor a distribuição dos dados ao longo do DataFrame utilizando Histogramas.\n",
    "\n",
    "Como um primeiro passo, vamos utilizar o comando .describe() nas colunas numéricas para realizar a checagem por outliers e dados relevantes:"
   ]
  },
  {
   "cell_type": "code",
   "execution_count": 180,
   "metadata": {},
   "outputs": [
    {
     "data": {
      "text/html": [
       "<div>\n",
       "<style scoped>\n",
       "    .dataframe tbody tr th:only-of-type {\n",
       "        vertical-align: middle;\n",
       "    }\n",
       "\n",
       "    .dataframe tbody tr th {\n",
       "        vertical-align: top;\n",
       "    }\n",
       "\n",
       "    .dataframe thead th {\n",
       "        text-align: right;\n",
       "    }\n",
       "</style>\n",
       "<table border=\"1\" class=\"dataframe\">\n",
       "  <thead>\n",
       "    <tr style=\"text-align: right;\">\n",
       "      <th></th>\n",
       "      <th>release_year</th>\n",
       "      <th>ending_year</th>\n",
       "      <th>duration_min</th>\n",
       "      <th>rating</th>\n",
       "      <th>votes</th>\n",
       "    </tr>\n",
       "  </thead>\n",
       "  <tbody>\n",
       "    <tr>\n",
       "      <th>count</th>\n",
       "      <td>9957.000000</td>\n",
       "      <td>9957.000000</td>\n",
       "      <td>9957.000000</td>\n",
       "      <td>9957.000000</td>\n",
       "      <td>9.957000e+03</td>\n",
       "    </tr>\n",
       "    <tr>\n",
       "      <th>mean</th>\n",
       "      <td>1888.050316</td>\n",
       "      <td>314.059657</td>\n",
       "      <td>58.686853</td>\n",
       "      <td>5.967611</td>\n",
       "      <td>1.722323e+04</td>\n",
       "    </tr>\n",
       "    <tr>\n",
       "      <th>std</th>\n",
       "      <td>491.205456</td>\n",
       "      <td>731.459807</td>\n",
       "      <td>53.820112</td>\n",
       "      <td>2.461310</td>\n",
       "      <td>8.249809e+04</td>\n",
       "    </tr>\n",
       "    <tr>\n",
       "      <th>min</th>\n",
       "      <td>0.000000</td>\n",
       "      <td>0.000000</td>\n",
       "      <td>0.000000</td>\n",
       "      <td>0.000000</td>\n",
       "      <td>0.000000e+00</td>\n",
       "    </tr>\n",
       "    <tr>\n",
       "      <th>25%</th>\n",
       "      <td>2014.000000</td>\n",
       "      <td>0.000000</td>\n",
       "      <td>22.000000</td>\n",
       "      <td>5.500000</td>\n",
       "      <td>1.300000e+02</td>\n",
       "    </tr>\n",
       "    <tr>\n",
       "      <th>50%</th>\n",
       "      <td>2018.000000</td>\n",
       "      <td>0.000000</td>\n",
       "      <td>52.000000</td>\n",
       "      <td>6.700000</td>\n",
       "      <td>8.420000e+02</td>\n",
       "    </tr>\n",
       "    <tr>\n",
       "      <th>75%</th>\n",
       "      <td>2020.000000</td>\n",
       "      <td>0.000000</td>\n",
       "      <td>93.000000</td>\n",
       "      <td>7.500000</td>\n",
       "      <td>4.260000e+03</td>\n",
       "    </tr>\n",
       "    <tr>\n",
       "      <th>max</th>\n",
       "      <td>2025.000000</td>\n",
       "      <td>2023.000000</td>\n",
       "      <td>990.000000</td>\n",
       "      <td>9.900000</td>\n",
       "      <td>1.844075e+06</td>\n",
       "    </tr>\n",
       "  </tbody>\n",
       "</table>\n",
       "</div>"
      ],
      "text/plain": [
       "       release_year  ending_year  duration_min       rating         votes\n",
       "count   9957.000000  9957.000000   9957.000000  9957.000000  9.957000e+03\n",
       "mean    1888.050316   314.059657     58.686853     5.967611  1.722323e+04\n",
       "std      491.205456   731.459807     53.820112     2.461310  8.249809e+04\n",
       "min        0.000000     0.000000      0.000000     0.000000  0.000000e+00\n",
       "25%     2014.000000     0.000000     22.000000     5.500000  1.300000e+02\n",
       "50%     2018.000000     0.000000     52.000000     6.700000  8.420000e+02\n",
       "75%     2020.000000     0.000000     93.000000     7.500000  4.260000e+03\n",
       "max     2025.000000  2023.000000    990.000000     9.900000  1.844075e+06"
      ]
     },
     "execution_count": 180,
     "metadata": {},
     "output_type": "execute_result"
    }
   ],
   "source": [
    "# Utilizando describe() para checar os dados:\n",
    "df_movies_clean[['release_year', 'ending_year', 'duration_min', 'rating', 'votes']].describe()"
   ]
  },
  {
   "attachments": {},
   "cell_type": "markdown",
   "metadata": {},
   "source": [
    "Com essa tabela, temos algumas informações importantes:\n",
    "\n",
    "- Coluna **`release_year`**:\n",
    "\n",
    "    - O ano máximo presente nos dados é 2025, sendo que estamos em 2022 no tempo de confecção deste trabalho, logo, isso indica que possivelmente algumas das datas de lançamento são previsões de obras ainda não lançadas, porém que já constam no catálogo da Netflix como projetos com datas previstas de estreia. Esse fato será levado em conta nas análises posteriores.\n",
    "\n",
    "- Coluna **`ending_year`**:\n",
    "\n",
    "    - Similarmente a coluna release_year, o ano máximo de encerramento de uma obra é maior do que o ano de confecção do projeto, sendo 2023 essa data máxima. Isso provavelmente signifca que temos obras como Séries que ou já possuem data limite de exibição ou estão se aproximando do seu final, onde já possuem data de encerramento.\n",
    "\n",
    "- Coluna **`duration`**:\n",
    "\n",
    "    - 75% dos dados constam duração máxima de 93 minutos, porém o valor máximo presente é de 990. Isso indica claramente um outlier. Uma possibilidade de explicação, é a de que algumas séries podem ter sido lançadas no banco de dados em um único registro, onde a minutagem total representa a soma de todos os seus episódios, onde outras séries foram inseridas episódio por episódio no banco de dados.\n",
    "\n",
    "- Coluna **`votes`**:\n",
    "\n",
    "    - Como a quantidade de votos é muito grande, as análises por meios de gráficos provavelmente terão que ser realizadas utilizando escala logarítimica para melhor visualização."
   ]
  },
  {
   "attachments": {},
   "cell_type": "markdown",
   "metadata": {},
   "source": [
    "Para podermos explorar melhor essas características dos dados, vamos plotar histogramas e boxplots para cada coluna numérica:"
   ]
  },
  {
   "attachments": {},
   "cell_type": "markdown",
   "metadata": {},
   "source": [
    "### Coluna release_year"
   ]
  },
  {
   "cell_type": "code",
   "execution_count": 181,
   "metadata": {},
   "outputs": [
    {
     "data": {
      "image/png": "[encoded data removed]",
      "text/plain": [
       "<Figure size 842.4x595.44 with 1 Axes>"
      ]
     },
     "metadata": {},
     "output_type": "display_data"
    }
   ],
   "source": [
    "# Histograma\n",
    "\n",
    "# Selecionando dados existentes, ou seja, aqueles diferentes de 0 para compor a análise:\n",
    "release_year = df_movies_clean.loc[(df_movies_clean['release_year'] != 0), ['release_year']]\n",
    "\n",
    "# Plotando:\n",
    "sns.histplot(\n",
    "    data=release_year, \n",
    "    x='release_year', \n",
    "    kde=True, \n",
    "    label='Intensidade de Registros', \n",
    "    binwidth=1, \n",
    "    line_kws={'linestyle':'dashed'}\n",
    "    )\n",
    "\n",
    "plt.title('Histograma da Coluna \"release_year\"', fontsize=12, fontweight='bold')\n",
    "plt.ylabel('Num. Registros', fontsize=12, fontweight='bold')\n",
    "plt.xlabel('Ano de Lançamento', fontsize=12, fontweight='bold')\n",
    "\n",
    "plt.legend()\n",
    "plt.show()"
   ]
  },
  {
   "cell_type": "code",
   "execution_count": 182,
   "metadata": {},
   "outputs": [
    {
     "data": {
      "image/png": "[encoded data removed]",
      "text/plain": [
       "<Figure size 1440x360 with 1 Axes>"
      ]
     },
     "metadata": {},
     "output_type": "display_data"
    },
    {
     "name": "stdout",
     "output_type": "stream",
     "text": [
      "Anos acima de 2022:\n",
      "47 entradas\n",
      "0.5040%\n"
     ]
    }
   ],
   "source": [
    "# Boxplot\n",
    "\n",
    "# Selecionando dados diferentes de 0 para checagem distributiva dos dados:\n",
    "release_year = df_movies_clean.loc[(df_movies_clean['release_year'] != 0), ['release_year']]\n",
    "\n",
    "# Plotando:\n",
    "release_year.plot(\n",
    "    kind='box', \n",
    "    vert=False, \n",
    "    figsize=(20,5), \n",
    "    fontsize=12\n",
    "    )\n",
    "\n",
    "plt.title('Boxplot da Coluna \"release_year\"', fontsize=12, fontweight='bold')\n",
    "plt.xlabel('Ano', fontsize=12, fontweight='bold')\n",
    "\n",
    "plt.show()\n",
    "\n",
    "# Printando a quantidade anos que estão acima de 2022 (ano da confecção desse projeto):\n",
    "print(\"Anos acima de 2022:\")\n",
    "print(\"{} entradas\".format(len(release_year[release_year['release_year'] > 2022])))\n",
    "print(\"{:.4f}%\".format((len(release_year[release_year['release_year'] > 2022]) / release_year.shape[0]) * 100))"
   ]
  },
  {
   "attachments": {},
   "cell_type": "markdown",
   "metadata": {},
   "source": [
    "Alguns insights podem ser adiquiridos a partir dessas análises:\n",
    "\n",
    "- Como apontam tanto o Histograma quanto o Boxplot, a maioria dos projetos possuem ano de lançamento por volta de 2020;\n",
    "\n",
    "- De acordo com o Boxplot, 47 registros possuem anos de lançamento agendados para anos acima de 2022;\n",
    "\n",
    "- Por mais que os quartis estejam agrupados por volta de 2020, ainda temos registros de filmes bem mais antigos do que isso, como alguns que constam como lançamento datas anteriores a 1940."
   ]
  },
  {
   "attachments": {},
   "cell_type": "markdown",
   "metadata": {},
   "source": [
    "Como forma de visualização, vamos checar alguns desses registros que possuem data de lançamento maiores de 2022:"
   ]
  },
  {
   "cell_type": "code",
   "execution_count": 183,
   "metadata": {},
   "outputs": [
    {
     "data": {
      "text/html": [
       "<div>\n",
       "<style scoped>\n",
       "    .dataframe tbody tr th:only-of-type {\n",
       "        vertical-align: middle;\n",
       "    }\n",
       "\n",
       "    .dataframe tbody tr th {\n",
       "        vertical-align: top;\n",
       "    }\n",
       "\n",
       "    .dataframe thead th {\n",
       "        text-align: right;\n",
       "    }\n",
       "</style>\n",
       "<table border=\"1\" class=\"dataframe\">\n",
       "  <thead>\n",
       "    <tr style=\"text-align: right;\">\n",
       "      <th></th>\n",
       "      <th>title</th>\n",
       "      <th>release_year</th>\n",
       "      <th>ending_year</th>\n",
       "      <th>certificate</th>\n",
       "      <th>duration_min</th>\n",
       "      <th>genre</th>\n",
       "      <th>rating</th>\n",
       "      <th>description</th>\n",
       "      <th>stars</th>\n",
       "      <th>votes</th>\n",
       "    </tr>\n",
       "  </thead>\n",
       "  <tbody>\n",
       "    <tr>\n",
       "      <th>5938</th>\n",
       "      <td>Untitled Sujoy Ghosh Project</td>\n",
       "      <td>2023</td>\n",
       "      <td>0</td>\n",
       "      <td>[Not Informed]</td>\n",
       "      <td>0</td>\n",
       "      <td>Thriller</td>\n",
       "      <td>0.0</td>\n",
       "      <td>A single mother and her daughter who commit a ...</td>\n",
       "      <td>['Sujoy Ghosh', '| ', '    Stars:', 'Kareena K...</td>\n",
       "      <td>0</td>\n",
       "    </tr>\n",
       "    <tr>\n",
       "      <th>4811</th>\n",
       "      <td>We Lost Our Human</td>\n",
       "      <td>2023</td>\n",
       "      <td>0</td>\n",
       "      <td>TV-Y7</td>\n",
       "      <td>103</td>\n",
       "      <td>Animation, Short, Adventure</td>\n",
       "      <td>0.0</td>\n",
       "      <td>the perspective of a self-involved cat (Pud) o...</td>\n",
       "      <td>['Curtis Lelash', '| ', '    Stars:', 'Ayo Ede...</td>\n",
       "      <td>0</td>\n",
       "    </tr>\n",
       "    <tr>\n",
       "      <th>5567</th>\n",
       "      <td>Untitled Wallace and Gromit Film</td>\n",
       "      <td>2024</td>\n",
       "      <td>0</td>\n",
       "      <td>[Not Informed]</td>\n",
       "      <td>0</td>\n",
       "      <td>Animation, Adventure, Comedy</td>\n",
       "      <td>0.0</td>\n",
       "      <td>Focus on Gromit's concern that Wallace has bec...</td>\n",
       "      <td>['Merlin Crossingham, ', 'Nick Park', '| ', ' ...</td>\n",
       "      <td>0</td>\n",
       "    </tr>\n",
       "    <tr>\n",
       "      <th>6194</th>\n",
       "      <td>Dew Drop Diaries</td>\n",
       "      <td>2023</td>\n",
       "      <td>0</td>\n",
       "      <td>TV-Y</td>\n",
       "      <td>23</td>\n",
       "      <td>Animation, Adventure, Comedy</td>\n",
       "      <td>0.0</td>\n",
       "      <td>\"Dew Drop Diaries\" follows a group of three-in...</td>\n",
       "      <td>[Not Informed]</td>\n",
       "      <td>0</td>\n",
       "    </tr>\n",
       "    <tr>\n",
       "      <th>1141</th>\n",
       "      <td>Knives Out 3</td>\n",
       "      <td>2024</td>\n",
       "      <td>0</td>\n",
       "      <td>[Not Informed]</td>\n",
       "      <td>0</td>\n",
       "      <td>Comedy, Crime, Drama</td>\n",
       "      <td>0.0</td>\n",
       "      <td>Plot unknown. Sequel to 'Glass Onion: A Knives...</td>\n",
       "      <td>['Rian Johnson', '| ', '    Star:', 'Daniel Cr...</td>\n",
       "      <td>0</td>\n",
       "    </tr>\n",
       "  </tbody>\n",
       "</table>\n",
       "</div>"
      ],
      "text/plain": [
       "                                 title  release_year  ending_year  \\\n",
       "5938      Untitled Sujoy Ghosh Project          2023            0   \n",
       "4811                 We Lost Our Human          2023            0   \n",
       "5567  Untitled Wallace and Gromit Film          2024            0   \n",
       "6194                  Dew Drop Diaries          2023            0   \n",
       "1141                      Knives Out 3          2024            0   \n",
       "\n",
       "         certificate  duration_min                         genre  rating  \\\n",
       "5938  [Not Informed]             0                      Thriller     0.0   \n",
       "4811           TV-Y7           103   Animation, Short, Adventure     0.0   \n",
       "5567  [Not Informed]             0  Animation, Adventure, Comedy     0.0   \n",
       "6194            TV-Y            23  Animation, Adventure, Comedy     0.0   \n",
       "1141  [Not Informed]             0          Comedy, Crime, Drama     0.0   \n",
       "\n",
       "                                            description  \\\n",
       "5938  A single mother and her daughter who commit a ...   \n",
       "4811  the perspective of a self-involved cat (Pud) o...   \n",
       "5567  Focus on Gromit's concern that Wallace has bec...   \n",
       "6194  \"Dew Drop Diaries\" follows a group of three-in...   \n",
       "1141  Plot unknown. Sequel to 'Glass Onion: A Knives...   \n",
       "\n",
       "                                                  stars  votes  \n",
       "5938  ['Sujoy Ghosh', '| ', '    Stars:', 'Kareena K...      0  \n",
       "4811  ['Curtis Lelash', '| ', '    Stars:', 'Ayo Ede...      0  \n",
       "5567  ['Merlin Crossingham, ', 'Nick Park', '| ', ' ...      0  \n",
       "6194                                     [Not Informed]      0  \n",
       "1141  ['Rian Johnson', '| ', '    Star:', 'Daniel Cr...      0  "
      ]
     },
     "execution_count": 183,
     "metadata": {},
     "output_type": "execute_result"
    }
   ],
   "source": [
    "# checando entradas acima de 2022:\n",
    "df_movies_clean.query('release_year > 2022').sample(5)"
   ]
  },
  {
   "attachments": {},
   "cell_type": "markdown",
   "metadata": {},
   "source": [
    "- Como são projetos que estão agendados para estrear, eles não possuem nenhum tipo de avaliação, duração nem votos, para essa análise eles serão retirados, pois o objetivo é analisar os programas já lançados e seus respectivos dados."
   ]
  },
  {
   "cell_type": "code",
   "execution_count": 184,
   "metadata": {},
   "outputs": [],
   "source": [
    "# Retirar programas sem dados que estão agendados para estreia no futuro\n",
    "df_movies_clean = df_movies_clean.drop(df_movies_clean[df_movies_clean['release_year'] > 2022].index)"
   ]
  },
  {
   "attachments": {},
   "cell_type": "markdown",
   "metadata": {},
   "source": [
    "### Coluna ending_year"
   ]
  },
  {
   "cell_type": "code",
   "execution_count": 185,
   "metadata": {},
   "outputs": [
    {
     "data": {
      "image/png": "[encoded data removed]",
      "text/plain": [
       "<Figure size 842.4x595.44 with 1 Axes>"
      ]
     },
     "metadata": {},
     "output_type": "display_data"
    }
   ],
   "source": [
    "# Histograma\n",
    "\n",
    "# Selecionando dados diferentes de 0:\n",
    "ending_year = df_movies_clean.loc[(df_movies_clean['ending_year'] != 0), ['ending_year']]\n",
    "\n",
    "# Plotando\n",
    "sns.histplot(\n",
    "    data=ending_year, \n",
    "    kde=True, \n",
    "    label='Intensidade de Registros', \n",
    "    binwidth=1, \n",
    "    line_kws={'linestyle': 'dashed'}\n",
    "    )\n",
    "\n",
    "plt.title('Histograma da Coluna \"ending_year\"', fontsize=12, fontweight='bold')\n",
    "plt.ylabel('Num. Registros', fontsize=12, fontweight='bold')\n",
    "plt.xlabel('Ano de encerramento', fontsize=12, fontweight='bold')\n",
    "\n",
    "plt.legend()\n",
    "plt.show()"
   ]
  },
  {
   "cell_type": "code",
   "execution_count": 186,
   "metadata": {},
   "outputs": [
    {
     "data": {
      "image/png": "[encoded data removed]",
      "text/plain": [
       "<Figure size 1440x360 with 1 Axes>"
      ]
     },
     "metadata": {},
     "output_type": "display_data"
    },
    {
     "name": "stdout",
     "output_type": "stream",
     "text": [
      "Anos acima de 2022:\n",
      "53 entradas\n",
      "3.4194%\n"
     ]
    }
   ],
   "source": [
    "# Boxplot\n",
    "\n",
    "# Selecionando dados diferente de 0:\n",
    "ending_year = df_movies_clean.loc[(df_movies_clean['ending_year'] != 0), ['ending_year']]\n",
    "\n",
    "# Plotando\n",
    "ending_year.plot(\n",
    "    kind='box', \n",
    "    vert=False, \n",
    "    figsize=(20,5), \n",
    "    fontsize=12\n",
    "    )\n",
    "\n",
    "plt.title('Boxplot da Coluna \"ending_year\"', fontsize=12, fontweight='bold')\n",
    "plt.xlabel('Ano', fontsize=12, fontweight='bold')\n",
    "\n",
    "plt.show()\n",
    "\n",
    "# Printando a quantidade de registros acima de 2022:\n",
    "print(\"Anos acima de 2022:\")\n",
    "print(\"{} entradas\".format(len(ending_year[ending_year['ending_year'] > 2022])))\n",
    "print(\"{:.4f}%\".format((len(ending_year[ending_year['ending_year'] > 2022]) / ending_year.shape[0]) * 100))"
   ]
  },
  {
   "attachments": {},
   "cell_type": "markdown",
   "metadata": {},
   "source": [
    "Como apontam o Histograam e o Boxplot, curiosamente o ano de encerramento mais comum é o mesmo ano de lançamento mais comum, 2020. Isso pode indicar algumas coisas:\n",
    "\n",
    "- Lançamentos de mini-séries que se iniciam e terminam no mesmo ano;\n",
    "\n",
    "- É válido considerar a [pandemia de Covid-19 e seus impactos na indústria do cinema](https://www.vet.k-state.edu/about/news-events-publications/OneHealth/Vol14-Iss1/film-industry.html#:~:text=As%20a%20result%20of%20the,produced%20in%202021%20or%202022.), onde muitas produções de filmes e séries foram canceladas, encerradas abruptamente ou postergadas para anos seguintes durante 2020, o que pode compor uma explicação para tantos encerramentos em 2020. "
   ]
  },
  {
   "attachments": {},
   "cell_type": "markdown",
   "metadata": {},
   "source": [
    "Vamos checar alguns desses registros que constam data de encerramento maiores que 2022:"
   ]
  },
  {
   "cell_type": "code",
   "execution_count": 187,
   "metadata": {},
   "outputs": [
    {
     "data": {
      "text/html": [
       "<div>\n",
       "<style scoped>\n",
       "    .dataframe tbody tr th:only-of-type {\n",
       "        vertical-align: middle;\n",
       "    }\n",
       "\n",
       "    .dataframe tbody tr th {\n",
       "        vertical-align: top;\n",
       "    }\n",
       "\n",
       "    .dataframe thead th {\n",
       "        text-align: right;\n",
       "    }\n",
       "</style>\n",
       "<table border=\"1\" class=\"dataframe\">\n",
       "  <thead>\n",
       "    <tr style=\"text-align: right;\">\n",
       "      <th></th>\n",
       "      <th>title</th>\n",
       "      <th>release_year</th>\n",
       "      <th>ending_year</th>\n",
       "      <th>certificate</th>\n",
       "      <th>duration_min</th>\n",
       "      <th>genre</th>\n",
       "      <th>rating</th>\n",
       "      <th>description</th>\n",
       "      <th>stars</th>\n",
       "      <th>votes</th>\n",
       "    </tr>\n",
       "  </thead>\n",
       "  <tbody>\n",
       "    <tr>\n",
       "      <th>8365</th>\n",
       "      <td>Never Have I Ever</td>\n",
       "      <td>2020</td>\n",
       "      <td>2023</td>\n",
       "      <td>TV-14</td>\n",
       "      <td>23</td>\n",
       "      <td>Comedy, Drama</td>\n",
       "      <td>8.5</td>\n",
       "      <td>With absentee parents, a shallow girlfriend an...</td>\n",
       "      <td>['Kabir Akhtar', '| ', '    Stars:', 'Maitreyi...</td>\n",
       "      <td>1110</td>\n",
       "    </tr>\n",
       "    <tr>\n",
       "      <th>8386</th>\n",
       "      <td>The Flash</td>\n",
       "      <td>2014</td>\n",
       "      <td>2023</td>\n",
       "      <td>TV-PG</td>\n",
       "      <td>42</td>\n",
       "      <td>Action, Adventure, Drama</td>\n",
       "      <td>8.4</td>\n",
       "      <td>As Barry stands on the threshold of his impend...</td>\n",
       "      <td>['Chad Lowe', '| ', '    Stars:', 'Grant Gusti...</td>\n",
       "      <td>2296</td>\n",
       "    </tr>\n",
       "    <tr>\n",
       "      <th>9556</th>\n",
       "      <td>Snowpiercer</td>\n",
       "      <td>2020</td>\n",
       "      <td>2023</td>\n",
       "      <td>TV-MA</td>\n",
       "      <td>47</td>\n",
       "      <td>Action, Drama, Sci-Fi</td>\n",
       "      <td>7.2</td>\n",
       "      <td>Layton and Till investigate the murders. Wilfo...</td>\n",
       "      <td>['Rebecca Rodriguez', '| ', '    Stars:', 'Dav...</td>\n",
       "      <td>988</td>\n",
       "    </tr>\n",
       "    <tr>\n",
       "      <th>8384</th>\n",
       "      <td>The Flash</td>\n",
       "      <td>2014</td>\n",
       "      <td>2023</td>\n",
       "      <td>TV-PG</td>\n",
       "      <td>42</td>\n",
       "      <td>Action, Adventure, Drama</td>\n",
       "      <td>7.4</td>\n",
       "      <td>Cisco's faith in his ability to fill Barry's s...</td>\n",
       "      <td>['Menhaj Huda', '| ', '    Stars:', 'Grant Gus...</td>\n",
       "      <td>1854</td>\n",
       "    </tr>\n",
       "    <tr>\n",
       "      <th>9557</th>\n",
       "      <td>Snowpiercer</td>\n",
       "      <td>2020</td>\n",
       "      <td>2023</td>\n",
       "      <td>TV-MA</td>\n",
       "      <td>48</td>\n",
       "      <td>Action, Drama, Sci-Fi</td>\n",
       "      <td>7.7</td>\n",
       "      <td>An engineering catastrophe on Snowpiercer forc...</td>\n",
       "      <td>['Rebecca Rodriguez', '| ', '    Stars:', 'Dav...</td>\n",
       "      <td>1108</td>\n",
       "    </tr>\n",
       "  </tbody>\n",
       "</table>\n",
       "</div>"
      ],
      "text/plain": [
       "                  title  release_year  ending_year certificate  duration_min  \\\n",
       "8365  Never Have I Ever          2020         2023       TV-14            23   \n",
       "8386          The Flash          2014         2023       TV-PG            42   \n",
       "9556        Snowpiercer          2020         2023       TV-MA            47   \n",
       "8384          The Flash          2014         2023       TV-PG            42   \n",
       "9557        Snowpiercer          2020         2023       TV-MA            48   \n",
       "\n",
       "                         genre  rating  \\\n",
       "8365             Comedy, Drama     8.5   \n",
       "8386  Action, Adventure, Drama     8.4   \n",
       "9556     Action, Drama, Sci-Fi     7.2   \n",
       "8384  Action, Adventure, Drama     7.4   \n",
       "9557     Action, Drama, Sci-Fi     7.7   \n",
       "\n",
       "                                            description  \\\n",
       "8365  With absentee parents, a shallow girlfriend an...   \n",
       "8386  As Barry stands on the threshold of his impend...   \n",
       "9556  Layton and Till investigate the murders. Wilfo...   \n",
       "8384  Cisco's faith in his ability to fill Barry's s...   \n",
       "9557  An engineering catastrophe on Snowpiercer forc...   \n",
       "\n",
       "                                                  stars  votes  \n",
       "8365  ['Kabir Akhtar', '| ', '    Stars:', 'Maitreyi...   1110  \n",
       "8386  ['Chad Lowe', '| ', '    Stars:', 'Grant Gusti...   2296  \n",
       "9556  ['Rebecca Rodriguez', '| ', '    Stars:', 'Dav...    988  \n",
       "8384  ['Menhaj Huda', '| ', '    Stars:', 'Grant Gus...   1854  \n",
       "9557  ['Rebecca Rodriguez', '| ', '    Stars:', 'Dav...   1108  "
      ]
     },
     "execution_count": 187,
     "metadata": {},
     "output_type": "execute_result"
    }
   ],
   "source": [
    "# checando  entradas acima de 2022:\n",
    "df_movies_clean.query('ending_year > 2022').sample(5)"
   ]
  },
  {
   "attachments": {},
   "cell_type": "markdown",
   "metadata": {},
   "source": [
    "- São programas já estabelecidos que possuem um ano previsto para finalização (a série The Flash como exemplificado acima com 2 episódios aparecendo na sample), nesse caso iremos deixá-los na análise justamente por possuirem dados relevantes (minutagem, rating e votos)."
   ]
  },
  {
   "attachments": {},
   "cell_type": "markdown",
   "metadata": {},
   "source": [
    "### Coluna duration_min"
   ]
  },
  {
   "cell_type": "code",
   "execution_count": 188,
   "metadata": {},
   "outputs": [
    {
     "data": {
      "image/png": "[encoded data removed]",
      "text/plain": [
       "<Figure size 842.4x595.44 with 1 Axes>"
      ]
     },
     "metadata": {},
     "output_type": "display_data"
    }
   ],
   "source": [
    "# Histograma\n",
    "\n",
    "# Selecionando dados diferentes de 0:\n",
    "duration_min = df_movies_clean.loc[(df_movies_clean['duration_min'] != 0), ['duration_min']]\n",
    "\n",
    "# Plotando:\n",
    "sns.histplot(\n",
    "    data=duration_min, \n",
    "    kde=True, \n",
    "    label='Intensidade de Registros', \n",
    "    binwidth=1, \n",
    "    line_kws={'linestyle': 'dashed'}\n",
    "    )\n",
    "\n",
    "plt.title('Histograma da Coluna \"duration_min\"', fontsize=12, fontweight='bold')\n",
    "plt.ylabel('Num. Registros', fontsize=12, fontweight='bold')\n",
    "plt.xlabel('Duração em Minutos', fontsize=12, fontweight='bold')\n",
    "\n",
    "plt.legend()\n",
    "plt.show()"
   ]
  },
  {
   "attachments": {},
   "cell_type": "markdown",
   "metadata": {},
   "source": [
    "Somente com o histograma é aparente a distribuição não adequada da coluna de minutagem, onde a grande maioria dos dados estão abaixo de por volta 150 a 200 minutos porém o eixo X vai até 1000.\n",
    "\n",
    "Com o boxplot, iremos visualizar quantos desses registros estão acima de 175 minutos, com um bom middle-point entre 150 e 200 para termos uma dimensão melhor dos outliers."
   ]
  },
  {
   "cell_type": "code",
   "execution_count": 189,
   "metadata": {},
   "outputs": [
    {
     "data": {
      "image/png": "[encoded data removed]",
      "text/plain": [
       "<Figure size 1440x360 with 1 Axes>"
      ]
     },
     "metadata": {},
     "output_type": "display_data"
    },
    {
     "name": "stdout",
     "output_type": "stream",
     "text": [
      "Minutagens acima de 175:\n",
      "172 entradas\n",
      "2.1731%\n"
     ]
    }
   ],
   "source": [
    "# Boxplot\n",
    "\n",
    "# Selecionando dados diferentes de 0:\n",
    "duration_min = df_movies_clean.loc[(df_movies_clean['duration_min'] != 0), ['duration_min']]\n",
    "\n",
    "\n",
    "# Plotando:\n",
    "duration_min.plot(\n",
    "    kind='box', \n",
    "    vert=False, \n",
    "    figsize=(20,5), \n",
    "    fontsize=12\n",
    "    )\n",
    "\n",
    "plt.title('Boxplot da Coluna \"duration_min\"', fontsize=12, fontweight='bold')\n",
    "plt.xlabel('Duração em Minutos', fontsize=12, fontweight='bold')\n",
    "\n",
    "plt.show()\n",
    "\n",
    "# Mostrando registros acima de 175 minutos:\n",
    "print(\"Minutagens acima de 175:\")\n",
    "print(\"{} entradas\".format(len(duration_min[duration_min['duration_min'] > 175])))\n",
    "print(\"{:.4f}%\".format((len(duration_min[duration_min['duration_min'] > 175]) / duration_min.shape[0]) * 100))"
   ]
  },
  {
   "attachments": {},
   "cell_type": "markdown",
   "metadata": {},
   "source": [
    "É aparente que temos outliers nessa coluna, porém, para termos uma compreensão melhor do que são esses registros com minutagens tão extensas, vamos puxar um sample do DataFrame para visualização:"
   ]
  },
  {
   "cell_type": "code",
   "execution_count": 190,
   "metadata": {},
   "outputs": [
    {
     "data": {
      "text/html": [
       "<div>\n",
       "<style scoped>\n",
       "    .dataframe tbody tr th:only-of-type {\n",
       "        vertical-align: middle;\n",
       "    }\n",
       "\n",
       "    .dataframe tbody tr th {\n",
       "        vertical-align: top;\n",
       "    }\n",
       "\n",
       "    .dataframe thead th {\n",
       "        text-align: right;\n",
       "    }\n",
       "</style>\n",
       "<table border=\"1\" class=\"dataframe\">\n",
       "  <thead>\n",
       "    <tr style=\"text-align: right;\">\n",
       "      <th></th>\n",
       "      <th>title</th>\n",
       "      <th>release_year</th>\n",
       "      <th>ending_year</th>\n",
       "      <th>certificate</th>\n",
       "      <th>duration_min</th>\n",
       "      <th>genre</th>\n",
       "      <th>rating</th>\n",
       "      <th>description</th>\n",
       "      <th>stars</th>\n",
       "      <th>votes</th>\n",
       "    </tr>\n",
       "  </thead>\n",
       "  <tbody>\n",
       "    <tr>\n",
       "      <th>3486</th>\n",
       "      <td>The Family</td>\n",
       "      <td>2019</td>\n",
       "      <td>0</td>\n",
       "      <td>TV-14</td>\n",
       "      <td>249</td>\n",
       "      <td>Documentary</td>\n",
       "      <td>6.4</td>\n",
       "      <td>An enigmatic Christian group known as The Fami...</td>\n",
       "      <td>['Jeff Sharlet, ', 'James Cromwell, ', 'Doug H...</td>\n",
       "      <td>3678</td>\n",
       "    </tr>\n",
       "    <tr>\n",
       "      <th>568</th>\n",
       "      <td>Spartacus: Gods of the Arena</td>\n",
       "      <td>2011</td>\n",
       "      <td>0</td>\n",
       "      <td>TV-MA</td>\n",
       "      <td>331</td>\n",
       "      <td>Action, Adventure, Biography</td>\n",
       "      <td>8.5</td>\n",
       "      <td>In the time before the arrival of Spartacus, t...</td>\n",
       "      <td>['John Hannah, ', 'Manu Bennett, ', 'Peter Men...</td>\n",
       "      <td>137339</td>\n",
       "    </tr>\n",
       "    <tr>\n",
       "      <th>579</th>\n",
       "      <td>Waterworld</td>\n",
       "      <td>1995</td>\n",
       "      <td>0</td>\n",
       "      <td>PG-13</td>\n",
       "      <td>177</td>\n",
       "      <td>Action, Adventure, Sci-Fi</td>\n",
       "      <td>6.2</td>\n",
       "      <td>In a future where the polar ice-caps have melt...</td>\n",
       "      <td>['Kevin Reynolds', '| ', '    Stars:', 'Kevin ...</td>\n",
       "      <td>196460</td>\n",
       "    </tr>\n",
       "    <tr>\n",
       "      <th>769</th>\n",
       "      <td>The Innocent</td>\n",
       "      <td>2021</td>\n",
       "      <td>0</td>\n",
       "      <td>TV-MA</td>\n",
       "      <td>467</td>\n",
       "      <td>Crime, Drama, Mystery</td>\n",
       "      <td>7.8</td>\n",
       "      <td>An accidental killing leads a man down a dark ...</td>\n",
       "      <td>['Mario Casas, ', 'Xavi Sáez, ', 'Santi Pons, ...</td>\n",
       "      <td>30505</td>\n",
       "    </tr>\n",
       "    <tr>\n",
       "      <th>143</th>\n",
       "      <td>The Haunting of Hill House</td>\n",
       "      <td>2018</td>\n",
       "      <td>0</td>\n",
       "      <td>TV-MA</td>\n",
       "      <td>572</td>\n",
       "      <td>Drama, Horror, Mystery</td>\n",
       "      <td>8.6</td>\n",
       "      <td>Flashing between past and present, a fractured...</td>\n",
       "      <td>['Michiel Huisman, ', 'Carla Gugino, ', 'Henry...</td>\n",
       "      <td>237198</td>\n",
       "    </tr>\n",
       "  </tbody>\n",
       "</table>\n",
       "</div>"
      ],
      "text/plain": [
       "                             title  release_year  ending_year certificate  \\\n",
       "3486                    The Family          2019            0       TV-14   \n",
       "568   Spartacus: Gods of the Arena          2011            0       TV-MA   \n",
       "579                     Waterworld          1995            0       PG-13   \n",
       "769                   The Innocent          2021            0       TV-MA   \n",
       "143     The Haunting of Hill House          2018            0       TV-MA   \n",
       "\n",
       "      duration_min                         genre  rating  \\\n",
       "3486           249                   Documentary     6.4   \n",
       "568            331  Action, Adventure, Biography     8.5   \n",
       "579            177     Action, Adventure, Sci-Fi     6.2   \n",
       "769            467         Crime, Drama, Mystery     7.8   \n",
       "143            572        Drama, Horror, Mystery     8.6   \n",
       "\n",
       "                                            description  \\\n",
       "3486  An enigmatic Christian group known as The Fami...   \n",
       "568   In the time before the arrival of Spartacus, t...   \n",
       "579   In a future where the polar ice-caps have melt...   \n",
       "769   An accidental killing leads a man down a dark ...   \n",
       "143   Flashing between past and present, a fractured...   \n",
       "\n",
       "                                                  stars   votes  \n",
       "3486  ['Jeff Sharlet, ', 'James Cromwell, ', 'Doug H...    3678  \n",
       "568   ['John Hannah, ', 'Manu Bennett, ', 'Peter Men...  137339  \n",
       "579   ['Kevin Reynolds', '| ', '    Stars:', 'Kevin ...  196460  \n",
       "769   ['Mario Casas, ', 'Xavi Sáez, ', 'Santi Pons, ...   30505  \n",
       "143   ['Michiel Huisman, ', 'Carla Gugino, ', 'Henry...  237198  "
      ]
     },
     "execution_count": 190,
     "metadata": {},
     "output_type": "execute_result"
    }
   ],
   "source": [
    "# Checando entradas acima de 175 minutos:\n",
    "df_movies_clean.query('duration_min > 175').sample(5)"
   ]
  },
  {
   "attachments": {},
   "cell_type": "markdown",
   "metadata": {},
   "source": [
    "- Os registros são séries cujas inserções no banco de dados aparentemente se deu de uma vez só em um único registro, causando com que a minutagem fosse o acumulado de todas as minutagens dos episódios das séries;\n",
    "\n",
    "- Além de séries temos também documentários presentes como The Family e provavelmente alguns longas metragem como Lord Of The Ring também devem estar presentes nos registros."
   ]
  },
  {
   "cell_type": "code",
   "execution_count": 191,
   "metadata": {},
   "outputs": [
    {
     "data": {
      "text/html": [
       "<div>\n",
       "<style scoped>\n",
       "    .dataframe tbody tr th:only-of-type {\n",
       "        vertical-align: middle;\n",
       "    }\n",
       "\n",
       "    .dataframe tbody tr th {\n",
       "        vertical-align: top;\n",
       "    }\n",
       "\n",
       "    .dataframe thead th {\n",
       "        text-align: right;\n",
       "    }\n",
       "</style>\n",
       "<table border=\"1\" class=\"dataframe\">\n",
       "  <thead>\n",
       "    <tr style=\"text-align: right;\">\n",
       "      <th></th>\n",
       "      <th>title</th>\n",
       "      <th>release_year</th>\n",
       "      <th>ending_year</th>\n",
       "      <th>certificate</th>\n",
       "      <th>duration_min</th>\n",
       "      <th>genre</th>\n",
       "      <th>rating</th>\n",
       "      <th>description</th>\n",
       "      <th>stars</th>\n",
       "      <th>votes</th>\n",
       "    </tr>\n",
       "  </thead>\n",
       "  <tbody>\n",
       "    <tr>\n",
       "      <th>20</th>\n",
       "      <td>The Lord of the Rings: The Fellowship of the Ring</td>\n",
       "      <td>2001</td>\n",
       "      <td>0</td>\n",
       "      <td>PG-13</td>\n",
       "      <td>178</td>\n",
       "      <td>Action, Adventure, Drama</td>\n",
       "      <td>8.8</td>\n",
       "      <td>A meek Hobbit from the Shire and eight compani...</td>\n",
       "      <td>['Peter Jackson', '| ', '    Stars:', 'Elijah ...</td>\n",
       "      <td>1844055</td>\n",
       "    </tr>\n",
       "    <tr>\n",
       "      <th>57</th>\n",
       "      <td>The Lord of the Rings: The Return of the King</td>\n",
       "      <td>2003</td>\n",
       "      <td>0</td>\n",
       "      <td>PG-13</td>\n",
       "      <td>201</td>\n",
       "      <td>Action, Adventure, Drama</td>\n",
       "      <td>9.0</td>\n",
       "      <td>Gandalf and Aragorn lead the World of Men agai...</td>\n",
       "      <td>['Peter Jackson', '| ', '    Stars:', 'Elijah ...</td>\n",
       "      <td>1819157</td>\n",
       "    </tr>\n",
       "    <tr>\n",
       "      <th>78</th>\n",
       "      <td>The Lord of the Rings: The Two Towers</td>\n",
       "      <td>2002</td>\n",
       "      <td>0</td>\n",
       "      <td>PG-13</td>\n",
       "      <td>179</td>\n",
       "      <td>Action, Adventure, Drama</td>\n",
       "      <td>8.8</td>\n",
       "      <td>While Frodo and Sam edge closer to Mordor with...</td>\n",
       "      <td>['Peter Jackson', '| ', '    Stars:', 'Elijah ...</td>\n",
       "      <td>1642708</td>\n",
       "    </tr>\n",
       "    <tr>\n",
       "      <th>9921</th>\n",
       "      <td>The Lord of the Rings: The Fellowship of the Ring</td>\n",
       "      <td>2001</td>\n",
       "      <td>0</td>\n",
       "      <td>PG-13</td>\n",
       "      <td>178</td>\n",
       "      <td>Action, Adventure, Drama</td>\n",
       "      <td>8.8</td>\n",
       "      <td>A meek Hobbit from the Shire and eight compani...</td>\n",
       "      <td>['Peter Jackson', '| ', '    Stars:', 'Elijah ...</td>\n",
       "      <td>1844075</td>\n",
       "    </tr>\n",
       "  </tbody>\n",
       "</table>\n",
       "</div>"
      ],
      "text/plain": [
       "                                                  title  release_year  \\\n",
       "20    The Lord of the Rings: The Fellowship of the Ring          2001   \n",
       "57        The Lord of the Rings: The Return of the King          2003   \n",
       "78                The Lord of the Rings: The Two Towers          2002   \n",
       "9921  The Lord of the Rings: The Fellowship of the Ring          2001   \n",
       "\n",
       "      ending_year certificate  duration_min                     genre  rating  \\\n",
       "20              0       PG-13           178  Action, Adventure, Drama     8.8   \n",
       "57              0       PG-13           201  Action, Adventure, Drama     9.0   \n",
       "78              0       PG-13           179  Action, Adventure, Drama     8.8   \n",
       "9921            0       PG-13           178  Action, Adventure, Drama     8.8   \n",
       "\n",
       "                                            description  \\\n",
       "20    A meek Hobbit from the Shire and eight compani...   \n",
       "57    Gandalf and Aragorn lead the World of Men agai...   \n",
       "78    While Frodo and Sam edge closer to Mordor with...   \n",
       "9921  A meek Hobbit from the Shire and eight compani...   \n",
       "\n",
       "                                                  stars    votes  \n",
       "20    ['Peter Jackson', '| ', '    Stars:', 'Elijah ...  1844055  \n",
       "57    ['Peter Jackson', '| ', '    Stars:', 'Elijah ...  1819157  \n",
       "78    ['Peter Jackson', '| ', '    Stars:', 'Elijah ...  1642708  \n",
       "9921  ['Peter Jackson', '| ', '    Stars:', 'Elijah ...  1844075  "
      ]
     },
     "execution_count": 191,
     "metadata": {},
     "output_type": "execute_result"
    }
   ],
   "source": [
    "# Checando para ver um longa como Lord Of The Rings compõe parte desses dados com minutagem\n",
    "# acima de 175 minutos:\n",
    "df_movies_clean.loc[df_movies_clean['title'].str.contains(\"Rings\")]"
   ]
  },
  {
   "attachments": {},
   "cell_type": "markdown",
   "metadata": {},
   "source": [
    "Com a informação de que esses outliers de minutagem também são dados válidos para a análise porém são longos demais que iriam distorcer as análises, como solução iremos dividir o DataFrame em dois, onde teremos:\n",
    "\n",
    "- DataFrame contendo dados de obras com minutagem menor do que 175 minutos;\n",
    "\n",
    "- DataFrame contendo dados de obras com minutagem maior do que 175 minutos (longas, séries, documentários).\n",
    "\n",
    "Dessa forma, se é capaz de ter análises pertinentes a respeito desses registros de minutagens longas e também dos de minutagem mais curta."
   ]
  },
  {
   "attachments": {},
   "cell_type": "markdown",
   "metadata": {},
   "source": [
    "### Coluna rating"
   ]
  },
  {
   "cell_type": "code",
   "execution_count": 192,
   "metadata": {},
   "outputs": [
    {
     "data": {
      "image/png": "[encoded data removed]",
      "text/plain": [
       "<Figure size 842.4x595.44 with 1 Axes>"
      ]
     },
     "metadata": {},
     "output_type": "display_data"
    }
   ],
   "source": [
    "# Histograma\n",
    "\n",
    "# Selecionando dados diferentes de 0:\n",
    "rating = df_movies_clean.loc[(df_movies_clean['rating'] != 0), ['rating']]\n",
    "\n",
    "# Plotando:\n",
    "sns.histplot(\n",
    "    data=rating, \n",
    "    kde=True, \n",
    "    label='Intensidade de Registros', \n",
    "    binwidth=0.2, \n",
    "    line_kws={'linestyle': 'dashed'}\n",
    "    )\n",
    "\n",
    "plt.title('Histograma da Coluna \"rating\"', fontsize=12, fontweight='bold')\n",
    "plt.ylabel('Num. Registros', fontsize=12, fontweight='bold')\n",
    "plt.xlabel('Notas', fontsize=12, fontweight='bold')\n",
    "\n",
    "plt.legend()\n",
    "plt.show()"
   ]
  },
  {
   "cell_type": "code",
   "execution_count": 193,
   "metadata": {},
   "outputs": [
    {
     "data": {
      "image/png": "[encoded data removed]",
      "text/plain": [
       "<Figure size 1440x360 with 1 Axes>"
      ]
     },
     "metadata": {},
     "output_type": "display_data"
    }
   ],
   "source": [
    "# Boxplot\n",
    "\n",
    "# Selecionando dados diferentes de 0:\n",
    "ratings = df_movies_clean.loc[(df_movies_clean['rating'] != 0), ['rating']]\n",
    "\n",
    "# Plotando:\n",
    "ratings.plot(\n",
    "    kind='box', \n",
    "    vert=False, \n",
    "    figsize=(20,5), \n",
    "    fontsize=12\n",
    "    )\n",
    "\n",
    "plt.title('Boxplot da Coluna \"rating\"', fontsize=12, fontweight='bold')\n",
    "plt.xlabel('Notas', fontsize=12, fontweight='bold')\n",
    "\n",
    "plt.show()"
   ]
  },
  {
   "attachments": {},
   "cell_type": "markdown",
   "metadata": {},
   "source": [
    "Aqui podemos ter uma visualização melhor dos dados da coluna rating, onde a maioria das obras receberam uma avaliação de por volta 7, tendo alguns registos abaixo de 4 e um abaixo de 2.\n",
    "\n",
    "Com o Histograma, podemos ver que os dados estão distribuidos de forma homogênia com uma tendência a direita."
   ]
  },
  {
   "attachments": {},
   "cell_type": "markdown",
   "metadata": {},
   "source": [
    "### Coluna votes"
   ]
  },
  {
   "attachments": {},
   "cell_type": "markdown",
   "metadata": {},
   "source": [
    "Como dito nas primeiras checagens da coluna votes, pela quantidade massiva de votos dados para cada projeto, a visualização do Histograma dessa coluna será feita em escala logarítimica para melhor visualização."
   ]
  },
  {
   "cell_type": "code",
   "execution_count": 194,
   "metadata": {},
   "outputs": [
    {
     "data": {
      "image/png": "[encoded data removed]",
      "text/plain": [
       "<Figure size 842.4x595.44 with 1 Axes>"
      ]
     },
     "metadata": {},
     "output_type": "display_data"
    }
   ],
   "source": [
    "# Histograma\n",
    "\n",
    "# Selecionando dados diferentes de 0:\n",
    "votes = df_movies_clean.loc[(df_movies_clean['votes'] != 0), ['votes']]\n",
    "\n",
    "# Plotando:\n",
    "sns.histplot(\n",
    "    data=votes, \n",
    "    kde=True, \n",
    "    label='Intensidade de Registros', \n",
    "    binwidth=0.08, \n",
    "    line_kws={'linestyle': 'dashed'}, \n",
    "    log_scale=True\n",
    "    )\n",
    "\n",
    "plt.title('Histograma da Coluna \"votes\"', fontsize=12, fontweight='bold')\n",
    "plt.ylabel('Num. Registros', fontsize=12, fontweight='bold')\n",
    "plt.xlabel('Votos (escala logarítimica)', fontsize=12, fontweight='bold')\n",
    "\n",
    "plt.legend()\n",
    "plt.show()"
   ]
  },
  {
   "attachments": {},
   "cell_type": "markdown",
   "metadata": {},
   "source": [
    "Aqui temos o inverso do visualizado no histograma da coluna rating, uma distribuição homogênia dos dados que tende a esquerda."
   ]
  },
  {
   "cell_type": "code",
   "execution_count": 195,
   "metadata": {},
   "outputs": [
    {
     "data": {
      "image/png": "[encoded data removed]",
      "text/plain": [
       "<Figure size 1440x360 with 1 Axes>"
      ]
     },
     "metadata": {},
     "output_type": "display_data"
    }
   ],
   "source": [
    "# Boxplot\n",
    "\n",
    "# Selecionando dados diferentes de 0:\n",
    "votes = df_movies_clean.loc[(df_movies_clean['votes'] != 0), ['votes']]\n",
    "\n",
    "# Plotando:\n",
    "votes.plot(\n",
    "    kind='box', \n",
    "    vert=False, \n",
    "    figsize=(20,5), \n",
    "    fontsize=12,\n",
    "    loglog=True\n",
    "    )\n",
    "\n",
    "plt.title('Boxplot da Coluna \"votes\"', fontsize=12, fontweight='bold')\n",
    "plt.xlabel('Votos', fontsize=12, fontweight='bold')\n",
    "\n",
    "plt.show()"
   ]
  },
  {
   "attachments": {},
   "cell_type": "markdown",
   "metadata": {},
   "source": [
    "A tendência a esquerda dos dados pode ser bem visualizada com o boxplot, onde alguns outliers estão mais a direita."
   ]
  },
  {
   "attachments": {},
   "cell_type": "markdown",
   "metadata": {},
   "source": [
    "Como um último ajuste aos dados por agora, iremos remover todos os registros que não costam nenhum dado numérico, ou seja, que não serão relevantes para a análise.\n",
    "\n",
    "A exemplo de visualização, vamos puxar alguns desses dados do Dataset:"
   ]
  },
  {
   "cell_type": "code",
   "execution_count": 196,
   "metadata": {},
   "outputs": [],
   "source": [
    "# Pesquisando os dados vazios no DataFrame e retirando-os:\n",
    "df_movies_clean = df_movies_clean.drop(df_movies_clean.loc[\n",
    "    (df_movies_clean['release_year'] == 0) & \n",
    "    (df_movies_clean['ending_year'] == 0) & \n",
    "    (df_movies_clean['duration_min'] == 0) & \n",
    "    (df_movies_clean['rating'] == 0) & \n",
    "    (df_movies_clean['votes'] == 0), :].index)"
   ]
  },
  {
   "attachments": {},
   "cell_type": "markdown",
   "metadata": {},
   "source": [
    "Com o conhecimento dos outliers e características dos dados como um todo, a próxima etapa consistirá em dividir o DataFrame em dois (de minutagem curta e longa), assim poderemos realizar as análises para gerar insights mais aprofundados."
   ]
  },
  {
   "attachments": {},
   "cell_type": "markdown",
   "metadata": {},
   "source": [
    "## Parte 4: Limpando Outliers Necessários e Reagrupando DataFrame"
   ]
  },
  {
   "attachments": {},
   "cell_type": "markdown",
   "metadata": {},
   "source": [
    "Com o DataFrame analisado, constatou-se a massiva diferença na minutagem de projetos acima de 175 minutos, onde eles mesmo sendo muito díspares do restante dos dados, ainda possuem dados relevantes para análise. Com a divisão em dois do DataFrame, poderemos realizar análises próprias desses outliers que não passam de longas, documentários ou séries com apenas um registro somatório de seus episódios, não parecendo certo apenas descartá-los do Dataset como um todo."
   ]
  },
  {
   "cell_type": "code",
   "execution_count": 197,
   "metadata": {},
   "outputs": [
    {
     "data": {
      "text/html": [
       "<div>\n",
       "<style scoped>\n",
       "    .dataframe tbody tr th:only-of-type {\n",
       "        vertical-align: middle;\n",
       "    }\n",
       "\n",
       "    .dataframe tbody tr th {\n",
       "        vertical-align: top;\n",
       "    }\n",
       "\n",
       "    .dataframe thead th {\n",
       "        text-align: right;\n",
       "    }\n",
       "</style>\n",
       "<table border=\"1\" class=\"dataframe\">\n",
       "  <thead>\n",
       "    <tr style=\"text-align: right;\">\n",
       "      <th></th>\n",
       "      <th>title</th>\n",
       "      <th>release_year</th>\n",
       "      <th>ending_year</th>\n",
       "      <th>certificate</th>\n",
       "      <th>duration_min</th>\n",
       "      <th>genre</th>\n",
       "      <th>rating</th>\n",
       "      <th>description</th>\n",
       "      <th>stars</th>\n",
       "      <th>votes</th>\n",
       "    </tr>\n",
       "  </thead>\n",
       "  <tbody>\n",
       "    <tr>\n",
       "      <th>7</th>\n",
       "      <td>Titanic</td>\n",
       "      <td>1997</td>\n",
       "      <td>0</td>\n",
       "      <td>PG-13</td>\n",
       "      <td>194</td>\n",
       "      <td>Drama, Romance</td>\n",
       "      <td>7.9</td>\n",
       "      <td>A seventeen-year-old aristocrat falls in love ...</td>\n",
       "      <td>['James Cameron', '| ', '    Stars:', 'Leonard...</td>\n",
       "      <td>1158746</td>\n",
       "    </tr>\n",
       "    <tr>\n",
       "      <th>99</th>\n",
       "      <td>Elvis Presley: The Searcher</td>\n",
       "      <td>2018</td>\n",
       "      <td>0</td>\n",
       "      <td>TV-PG</td>\n",
       "      <td>205</td>\n",
       "      <td>Documentary, Biography, Music</td>\n",
       "      <td>7.7</td>\n",
       "      <td>Elvis Presley's evolution as a musician and a ...</td>\n",
       "      <td>['Thom Zimny', '| ', '    Stars:', 'Steve Alle...</td>\n",
       "      <td>2427</td>\n",
       "    </tr>\n",
       "    <tr>\n",
       "      <th>89</th>\n",
       "      <td>The Keepers</td>\n",
       "      <td>2017</td>\n",
       "      <td>0</td>\n",
       "      <td>TV-MA</td>\n",
       "      <td>436</td>\n",
       "      <td>Documentary, Crime, Mystery</td>\n",
       "      <td>8.1</td>\n",
       "      <td>A seven-part docuseries about the unsolved mur...</td>\n",
       "      <td>['Gemma Hoskins, ', 'Abbie Schaub, ', 'Virgini...</td>\n",
       "      <td>22519</td>\n",
       "    </tr>\n",
       "    <tr>\n",
       "      <th>24</th>\n",
       "      <td>The Serpent</td>\n",
       "      <td>2021</td>\n",
       "      <td>0</td>\n",
       "      <td>TV-MA</td>\n",
       "      <td>458</td>\n",
       "      <td>Crime, Drama, Thriller</td>\n",
       "      <td>7.6</td>\n",
       "      <td>The twisting, real-life story of Charles Sobhr...</td>\n",
       "      <td>['Tahar Rahim, ', 'Billy Howle, ', 'Jenna Cole...</td>\n",
       "      <td>43200</td>\n",
       "    </tr>\n",
       "    <tr>\n",
       "      <th>84</th>\n",
       "      <td>King of Stonks</td>\n",
       "      <td>2022</td>\n",
       "      <td>0</td>\n",
       "      <td>TV-MA</td>\n",
       "      <td>280</td>\n",
       "      <td>Comedy, Drama, Thriller</td>\n",
       "      <td>6.6</td>\n",
       "      <td>Series inspired by real events in the financia...</td>\n",
       "      <td>['Larissa Sirah Herden, ', 'Andreas Döhler, ',...</td>\n",
       "      <td>1075</td>\n",
       "    </tr>\n",
       "  </tbody>\n",
       "</table>\n",
       "</div>"
      ],
      "text/plain": [
       "                          title  release_year  ending_year certificate  \\\n",
       "7                       Titanic          1997            0       PG-13   \n",
       "99  Elvis Presley: The Searcher          2018            0       TV-PG   \n",
       "89                  The Keepers          2017            0       TV-MA   \n",
       "24                  The Serpent          2021            0       TV-MA   \n",
       "84               King of Stonks          2022            0       TV-MA   \n",
       "\n",
       "    duration_min                          genre  rating  \\\n",
       "7            194                 Drama, Romance     7.9   \n",
       "99           205  Documentary, Biography, Music     7.7   \n",
       "89           436    Documentary, Crime, Mystery     8.1   \n",
       "24           458         Crime, Drama, Thriller     7.6   \n",
       "84           280        Comedy, Drama, Thriller     6.6   \n",
       "\n",
       "                                          description  \\\n",
       "7   A seventeen-year-old aristocrat falls in love ...   \n",
       "99  Elvis Presley's evolution as a musician and a ...   \n",
       "89  A seven-part docuseries about the unsolved mur...   \n",
       "24  The twisting, real-life story of Charles Sobhr...   \n",
       "84  Series inspired by real events in the financia...   \n",
       "\n",
       "                                                stars    votes  \n",
       "7   ['James Cameron', '| ', '    Stars:', 'Leonard...  1158746  \n",
       "99  ['Thom Zimny', '| ', '    Stars:', 'Steve Alle...     2427  \n",
       "89  ['Gemma Hoskins, ', 'Abbie Schaub, ', 'Virgini...    22519  \n",
       "24  ['Tahar Rahim, ', 'Billy Howle, ', 'Jenna Cole...    43200  \n",
       "84  ['Larissa Sirah Herden, ', 'Andreas Döhler, ',...     1075  "
      ]
     },
     "execution_count": 197,
     "metadata": {},
     "output_type": "execute_result"
    }
   ],
   "source": [
    "# Criando um dataframe separado para os programas de longa-metragem (acima de 175 min):\n",
    "df_long_duration = df_movies_clean.loc[(df_movies_clean['duration_min'] > 175), :].copy()\n",
    "\n",
    "# Resetando o index desse novo DataFrame:\n",
    "df_long_duration = df_long_duration.reset_index(0, drop=True)\n",
    "\n",
    "# Visualizando um sample desses dados:\n",
    "df_long_duration.sample(5)"
   ]
  },
  {
   "attachments": {},
   "cell_type": "markdown",
   "metadata": {},
   "source": [
    "Com esses registros acima de 175 minutos em um DataFrame próprio, basta removê-los do Dataset limpo original para que restem apenas os registros abaixo dessa minutagem:"
   ]
  },
  {
   "cell_type": "code",
   "execution_count": 198,
   "metadata": {},
   "outputs": [
    {
     "data": {
      "text/html": [
       "<div>\n",
       "<style scoped>\n",
       "    .dataframe tbody tr th:only-of-type {\n",
       "        vertical-align: middle;\n",
       "    }\n",
       "\n",
       "    .dataframe tbody tr th {\n",
       "        vertical-align: top;\n",
       "    }\n",
       "\n",
       "    .dataframe thead th {\n",
       "        text-align: right;\n",
       "    }\n",
       "</style>\n",
       "<table border=\"1\" class=\"dataframe\">\n",
       "  <thead>\n",
       "    <tr style=\"text-align: right;\">\n",
       "      <th></th>\n",
       "      <th>title</th>\n",
       "      <th>release_year</th>\n",
       "      <th>ending_year</th>\n",
       "      <th>certificate</th>\n",
       "      <th>duration_min</th>\n",
       "      <th>genre</th>\n",
       "      <th>rating</th>\n",
       "      <th>description</th>\n",
       "      <th>stars</th>\n",
       "      <th>votes</th>\n",
       "    </tr>\n",
       "  </thead>\n",
       "  <tbody>\n",
       "    <tr>\n",
       "      <th>4605</th>\n",
       "      <td>Godzilla: Planet of the Monsters</td>\n",
       "      <td>2017</td>\n",
       "      <td>0</td>\n",
       "      <td>TV-14</td>\n",
       "      <td>89</td>\n",
       "      <td>Animation, Action, Adventure</td>\n",
       "      <td>6.0</td>\n",
       "      <td>A desperate group of refugees attempts to reco...</td>\n",
       "      <td>['Hiroyuki Seshita, ', 'Kôbun Shizuno', '| ', ...</td>\n",
       "      <td>8649</td>\n",
       "    </tr>\n",
       "    <tr>\n",
       "      <th>68</th>\n",
       "      <td>Community</td>\n",
       "      <td>2009</td>\n",
       "      <td>2015</td>\n",
       "      <td>TV-14</td>\n",
       "      <td>22</td>\n",
       "      <td>Comedy</td>\n",
       "      <td>8.5</td>\n",
       "      <td>A suspended lawyer is forced to enroll in a co...</td>\n",
       "      <td>['Joel McHale, ', 'Danny Pudi, ', 'Donald Glov...</td>\n",
       "      <td>261138</td>\n",
       "    </tr>\n",
       "    <tr>\n",
       "      <th>5488</th>\n",
       "      <td>Blown Away: Christmas</td>\n",
       "      <td>2021</td>\n",
       "      <td>0</td>\n",
       "      <td>TV-PG</td>\n",
       "      <td>0</td>\n",
       "      <td>Reality-TV</td>\n",
       "      <td>6.7</td>\n",
       "      <td>Five fan-favorite glass blowers return to the ...</td>\n",
       "      <td>['Bobby Berk, ', 'Katherine Gray, ', 'Cat Burn...</td>\n",
       "      <td>540</td>\n",
       "    </tr>\n",
       "    <tr>\n",
       "      <th>1522</th>\n",
       "      <td>6 Days</td>\n",
       "      <td>2017</td>\n",
       "      <td>0</td>\n",
       "      <td>R</td>\n",
       "      <td>94</td>\n",
       "      <td>Action, Drama, History</td>\n",
       "      <td>6.2</td>\n",
       "      <td>Based on the Iranian Embassy siege of 1980, th...</td>\n",
       "      <td>['Toa Fraser', '| ', '    Stars:', 'Jamie Bell...</td>\n",
       "      <td>22128</td>\n",
       "    </tr>\n",
       "    <tr>\n",
       "      <th>3709</th>\n",
       "      <td>Tensura Nikki: Tensei shitara Slime Datta Ken</td>\n",
       "      <td>2021</td>\n",
       "      <td>0</td>\n",
       "      <td>[Not Informed]</td>\n",
       "      <td>24</td>\n",
       "      <td>Animation, Action, Adventure</td>\n",
       "      <td>6.9</td>\n",
       "      <td>\"Dear diary - I got reincarnated as a slime\". ...</td>\n",
       "      <td>['Miho Okasaki, ', 'Makoto Furukawa, ', 'Sayak...</td>\n",
       "      <td>373</td>\n",
       "    </tr>\n",
       "  </tbody>\n",
       "</table>\n",
       "</div>"
      ],
      "text/plain": [
       "                                              title  release_year  \\\n",
       "4605               Godzilla: Planet of the Monsters          2017   \n",
       "68                                        Community          2009   \n",
       "5488                          Blown Away: Christmas          2021   \n",
       "1522                                         6 Days          2017   \n",
       "3709  Tensura Nikki: Tensei shitara Slime Datta Ken          2021   \n",
       "\n",
       "      ending_year     certificate  duration_min                         genre  \\\n",
       "4605            0           TV-14            89  Animation, Action, Adventure   \n",
       "68           2015           TV-14            22                        Comedy   \n",
       "5488            0           TV-PG             0                    Reality-TV   \n",
       "1522            0               R            94        Action, Drama, History   \n",
       "3709            0  [Not Informed]            24  Animation, Action, Adventure   \n",
       "\n",
       "      rating                                        description  \\\n",
       "4605     6.0  A desperate group of refugees attempts to reco...   \n",
       "68       8.5  A suspended lawyer is forced to enroll in a co...   \n",
       "5488     6.7  Five fan-favorite glass blowers return to the ...   \n",
       "1522     6.2  Based on the Iranian Embassy siege of 1980, th...   \n",
       "3709     6.9  \"Dear diary - I got reincarnated as a slime\". ...   \n",
       "\n",
       "                                                  stars   votes  \n",
       "4605  ['Hiroyuki Seshita, ', 'Kôbun Shizuno', '| ', ...    8649  \n",
       "68    ['Joel McHale, ', 'Danny Pudi, ', 'Donald Glov...  261138  \n",
       "5488  ['Bobby Berk, ', 'Katherine Gray, ', 'Cat Burn...     540  \n",
       "1522  ['Toa Fraser', '| ', '    Stars:', 'Jamie Bell...   22128  \n",
       "3709  ['Miho Okasaki, ', 'Makoto Furukawa, ', 'Sayak...     373  "
      ]
     },
     "execution_count": 198,
     "metadata": {},
     "output_type": "execute_result"
    }
   ],
   "source": [
    "# Removendo esse longas do dataframe original:\n",
    "df_movies_clean = df_movies_clean.drop(df_movies_clean[df_movies_clean['duration_min'] > 175].index)\n",
    "\n",
    "# Visualizando um sample do Dataset:\n",
    "df_movies_clean.sample(5)"
   ]
  },
  {
   "attachments": {},
   "cell_type": "markdown",
   "metadata": {},
   "source": [
    "Com os dados separados por minutagem, vamos refazer o Histograma da coluna duration_min de ambos os DataFrames:"
   ]
  },
  {
   "attachments": {},
   "cell_type": "markdown",
   "metadata": {},
   "source": [
    "### Histograma: df_movies_clean"
   ]
  },
  {
   "cell_type": "code",
   "execution_count": 199,
   "metadata": {},
   "outputs": [
    {
     "data": {
      "image/png": "[encoded data removed]",
      "text/plain": [
       "<Figure size 842.4x595.44 with 1 Axes>"
      ]
     },
     "metadata": {},
     "output_type": "display_data"
    }
   ],
   "source": [
    "# Histograma\n",
    "\n",
    "# Selecionando dados diferentes de 0:\n",
    "duration_min = df_movies_clean.loc[(df_movies_clean['duration_min'] != 0), ['duration_min']]\n",
    "\n",
    "# Plotando\n",
    "sns.histplot(\n",
    "    data=duration_min, \n",
    "    kde=True, \n",
    "    label='Intensidade de Registros', \n",
    "    binwidth=2, \n",
    "    line_kws={'linestyle': 'dashed'}\n",
    "    )\n",
    "\n",
    "plt.title('Histograma da Coluna \"duration_min\" Limpa', fontsize=12, fontweight='bold')\n",
    "plt.ylabel('Num. Registros', fontsize=12, fontweight='bold')\n",
    "plt.xlabel('Duração em Minutos', fontsize=12, fontweight='bold')\n",
    "\n",
    "plt.legend()\n",
    "plt.show()"
   ]
  },
  {
   "attachments": {},
   "cell_type": "markdown",
   "metadata": {},
   "source": [
    "Com a minutagem apenas abaixo de 175 minutos presente, a distribuição dos dados no df_movies_clean ficou mais aparente. Agora realizaremos o mesmo processo para visualizar a minutagem do df_long_duration:"
   ]
  },
  {
   "attachments": {},
   "cell_type": "markdown",
   "metadata": {},
   "source": [
    "### Histograma: df_long_duration"
   ]
  },
  {
   "cell_type": "code",
   "execution_count": 200,
   "metadata": {},
   "outputs": [
    {
     "data": {
      "image/png": "[encoded data removed]",
      "text/plain": [
       "<Figure size 842.4x595.44 with 1 Axes>"
      ]
     },
     "metadata": {},
     "output_type": "display_data"
    }
   ],
   "source": [
    "# Histograma\n",
    "\n",
    "# Selecionando dados diferentes de 0:\n",
    "duration_min_long = df_long_duration.loc[(df_long_duration['duration_min'] != 0), ['duration_min']]\n",
    "\n",
    "# Plotando\n",
    "sns.histplot(\n",
    "    data=duration_min_long, \n",
    "    kde=True, \n",
    "    label='Intensidade de Registros', \n",
    "    line_kws={'linestyle': 'dashed'}\n",
    "    )\n",
    "\n",
    "plt.title('Histograma da Coluna \"duration_min\" df_long_duration', fontsize=12, fontweight='bold')\n",
    "plt.ylabel('Num. Registros', fontsize=12, fontweight='bold')\n",
    "plt.xlabel('Duração em Minutos', fontsize=12, fontweight='bold')\n",
    "\n",
    "plt.legend()\n",
    "plt.show()"
   ]
  },
  {
   "attachments": {},
   "cell_type": "markdown",
   "metadata": {},
   "source": [
    "Percebemos que a distribuição é tende muito a esquerda, onde a maioria dos valores está abaixo de 300 minutos. Após os 600 minutos, temos um gap de quase nenhum registro entre 700 e 800 minutos, apenas resurgindo novamente por volta de 900 e novamente por volta de 1000 minutos."
   ]
  },
  {
   "attachments": {},
   "cell_type": "markdown",
   "metadata": {},
   "source": [
    "## Parte 5: Perguntas e Insights Relevantes"
   ]
  },
  {
   "attachments": {},
   "cell_type": "markdown",
   "metadata": {},
   "source": [
    "Com os dados devidamente limpos, organizados e separados por minutagem, nos debruçaremos sobre algumas análises pertinentes ao Dataset, sendo essas análises compostas pelas perguntas e postulações:\n",
    "\n",
    "- **1.** Qual a quantidade de obras por certificado?\n",
    "\n",
    "- **2.** Contabilizar a quantidade de projetos lançados por década;\n",
    "\n",
    "- **3.** Quais os top 10 gêneros e quantas vezes aparecem nos registros?\n",
    "\n",
    "- **4.** Qual a média de tempo de duração dos filmes por top 10 gêneros?\n",
    "\n",
    "- **5.** Qual a média de ratings dadas aos projetos por top 10 gêneros?\n",
    "\n",
    "- **6.** Quais são os programas mais bem avaliados no geral?\n",
    "\n",
    "- **7.** Existe alguma correlação relevante apontada pelos dados?\n",
    "\n",
    "Todas as questões serão analisadas e respondidas duas vezes, uma para cada DataFrame de minutagem."
   ]
  },
  {
   "attachments": {},
   "cell_type": "markdown",
   "metadata": {},
   "source": [
    "### 1. Qual a quantidade de obras por certificado?"
   ]
  },
  {
   "attachments": {},
   "cell_type": "markdown",
   "metadata": {},
   "source": [
    "#### Resposta 1: df_movies_clean"
   ]
  },
  {
   "cell_type": "code",
   "execution_count": 201,
   "metadata": {},
   "outputs": [
    {
     "data": {
      "text/html": [
       "<div>\n",
       "<style scoped>\n",
       "    .dataframe tbody tr th:only-of-type {\n",
       "        vertical-align: middle;\n",
       "    }\n",
       "\n",
       "    .dataframe tbody tr th {\n",
       "        vertical-align: top;\n",
       "    }\n",
       "\n",
       "    .dataframe thead th {\n",
       "        text-align: right;\n",
       "    }\n",
       "</style>\n",
       "<table border=\"1\" class=\"dataframe\">\n",
       "  <thead>\n",
       "    <tr style=\"text-align: right;\">\n",
       "      <th></th>\n",
       "      <th>certificate_type</th>\n",
       "      <th>quantity</th>\n",
       "    </tr>\n",
       "  </thead>\n",
       "  <tbody>\n",
       "    <tr>\n",
       "      <th>0</th>\n",
       "      <td>[Not Informed]</td>\n",
       "      <td>2838</td>\n",
       "    </tr>\n",
       "    <tr>\n",
       "      <th>1</th>\n",
       "      <td>TV-MA</td>\n",
       "      <td>2395</td>\n",
       "    </tr>\n",
       "    <tr>\n",
       "      <th>2</th>\n",
       "      <td>TV-14</td>\n",
       "      <td>1169</td>\n",
       "    </tr>\n",
       "    <tr>\n",
       "      <th>3</th>\n",
       "      <td>TV-PG</td>\n",
       "      <td>534</td>\n",
       "    </tr>\n",
       "    <tr>\n",
       "      <th>4</th>\n",
       "      <td>R</td>\n",
       "      <td>470</td>\n",
       "    </tr>\n",
       "  </tbody>\n",
       "</table>\n",
       "</div>"
      ],
      "text/plain": [
       "  certificate_type  quantity\n",
       "0   [Not Informed]      2838\n",
       "1            TV-MA      2395\n",
       "2            TV-14      1169\n",
       "3            TV-PG       534\n",
       "4                R       470"
      ]
     },
     "execution_count": 201,
     "metadata": {},
     "output_type": "execute_result"
    }
   ],
   "source": [
    "# Coletando cada registro de cada certificado e passando esses valores para um novo DataFrame:\n",
    "df_certs_clean = pd.DataFrame(df_movies_clean['certificate'].value_counts())\n",
    "\n",
    "# Resetando o index dos registros no novo DataFrame e renomeando as colunas novas:\n",
    "df_certs_clean = df_certs_clean.reset_index()\n",
    "df_certs_clean = df_certs_clean.rename(columns={'index':'certificate_type', 'certificate':'quantity'})\n",
    "\n",
    "# Visualizando top 5 resultados:\n",
    "df_certs_clean.head()"
   ]
  },
  {
   "attachments": {},
   "cell_type": "markdown",
   "metadata": {},
   "source": [
    "Assim, temos os top 5 tipos de certificações dadas as obras com minutagem menor a 175, sendo:\n",
    "\n",
    "- 3399 registros o maior valor, onde essas obras não tiveram sua certificação informada no Dataset. Lembrando que isso não significa que essas obras não retiraram certificação ou não foram aplicáveis (como constam obras com certificação 'Not Rated/Unrated'), apenas significa que essa informação não foi inserida, por motivos desconhecidos.\n",
    "\n",
    "Dentre certificações que podemos determinar, a de maior atribuição foi **TV-MA**, seguida de **TV-14** e **TV-PG** respectivamente, o que indica que a maioria das produções presentes no catálogo Netflix cujas minutagens estão abaixo dos 175 minutos são pensadas para audiências maturas."
   ]
  },
  {
   "attachments": {},
   "cell_type": "markdown",
   "metadata": {},
   "source": [
    "Para facilitar a visualização e podermos enxergar toda a dimensão dos dados tabulares, plotaremos um gráfico com base nesses dados:"
   ]
  },
  {
   "cell_type": "code",
   "execution_count": 202,
   "metadata": {},
   "outputs": [
    {
     "data": {
      "image/png": "[encoded data removed]",
      "text/plain": [
       "<Figure size 842.4x595.44 with 1 Axes>"
      ]
     },
     "metadata": {},
     "output_type": "display_data"
    }
   ],
   "source": [
    "# Bar Chart\n",
    "\n",
    "# Definindo as variáveis que contém o tipo de certificação e a quantidade respectivamente:\n",
    "certificates = list(df_certs_clean['certificate_type'])\n",
    "quantity = list(df_certs_clean['quantity'])\n",
    "\n",
    "# Plotando\n",
    "fig, ax = plt.subplots()\n",
    "\n",
    "hbars = ax.barh(certificates, quantity, align='center', edgecolor='black', color='#0388fc')\n",
    "\n",
    "ax.set_yticks(certificates)\n",
    "ax.invert_yaxis()\n",
    "ax.set_xlabel('Quantidade',fontsize=12, fontweight='bold')\n",
    "ax.set_title('Quantidade de Cada Tipo de Certificado', fontsize=12, fontweight='bold')\n",
    "\n",
    "ax.bar_label(hbars, fmt='%.f',fontsize=12, color='#000000', padding=1)\n",
    "\n",
    "plt.show()"
   ]
  },
  {
   "attachments": {},
   "cell_type": "markdown",
   "metadata": {},
   "source": [
    "#### Resposta 2: df_long_duration"
   ]
  },
  {
   "cell_type": "code",
   "execution_count": 203,
   "metadata": {},
   "outputs": [
    {
     "data": {
      "text/html": [
       "<div>\n",
       "<style scoped>\n",
       "    .dataframe tbody tr th:only-of-type {\n",
       "        vertical-align: middle;\n",
       "    }\n",
       "\n",
       "    .dataframe tbody tr th {\n",
       "        vertical-align: top;\n",
       "    }\n",
       "\n",
       "    .dataframe thead th {\n",
       "        text-align: right;\n",
       "    }\n",
       "</style>\n",
       "<table border=\"1\" class=\"dataframe\">\n",
       "  <thead>\n",
       "    <tr style=\"text-align: right;\">\n",
       "      <th></th>\n",
       "      <th>certificate_type</th>\n",
       "      <th>quantity</th>\n",
       "    </tr>\n",
       "  </thead>\n",
       "  <tbody>\n",
       "    <tr>\n",
       "      <th>0</th>\n",
       "      <td>TV-MA</td>\n",
       "      <td>106</td>\n",
       "    </tr>\n",
       "    <tr>\n",
       "      <th>1</th>\n",
       "      <td>TV-14</td>\n",
       "      <td>27</td>\n",
       "    </tr>\n",
       "    <tr>\n",
       "      <th>2</th>\n",
       "      <td>[Not Informed]</td>\n",
       "      <td>16</td>\n",
       "    </tr>\n",
       "    <tr>\n",
       "      <th>3</th>\n",
       "      <td>PG-13</td>\n",
       "      <td>8</td>\n",
       "    </tr>\n",
       "    <tr>\n",
       "      <th>4</th>\n",
       "      <td>TV-PG</td>\n",
       "      <td>7</td>\n",
       "    </tr>\n",
       "  </tbody>\n",
       "</table>\n",
       "</div>"
      ],
      "text/plain": [
       "  certificate_type  quantity\n",
       "0            TV-MA       106\n",
       "1            TV-14        27\n",
       "2   [Not Informed]        16\n",
       "3            PG-13         8\n",
       "4            TV-PG         7"
      ]
     },
     "execution_count": 203,
     "metadata": {},
     "output_type": "execute_result"
    }
   ],
   "source": [
    "# Coletando cada registro de cada certificado e passando esses valores para um novo DataFrame:\n",
    "df_certs_long = pd.DataFrame(df_long_duration['certificate'].value_counts())\n",
    "\n",
    "# Resetando o index dos registros no novo DataFrame e renomeando as colunas novas:\n",
    "df_certs_long = df_certs_long.reset_index()\n",
    "df_certs_long = df_certs_long.rename(columns={'index':'certificate_type', 'certificate':'quantity'})\n",
    "\n",
    "# Visualizando top 5 resultados:\n",
    "df_certs_long.head()"
   ]
  },
  {
   "attachments": {},
   "cell_type": "markdown",
   "metadata": {},
   "source": [
    "Aqui já notamos uma diferença em relação aos projetos de minutagem mais curta. O maior número de certificações pertencem a **TV-MA** com 106 registros, seguida por **TV-14** e **Not Informed** respectivamente.\n",
    "\n",
    "A quantidade de certificações para audiências maduras (TV-MA) ser cerca de 4X maior do que o segundo registro mais presente (TV-14), demonstra que obras de maior duração tendem a serem destinadas para o público adulto."
   ]
  },
  {
   "attachments": {},
   "cell_type": "markdown",
   "metadata": {},
   "source": [
    "Uma plotagem gráfica novamente será realizada para melhor visualização dos dados:"
   ]
  },
  {
   "cell_type": "code",
   "execution_count": 204,
   "metadata": {},
   "outputs": [
    {
     "data": {
      "image/png": "[encoded data removed]",
      "text/plain": [
       "<Figure size 842.4x595.44 with 1 Axes>"
      ]
     },
     "metadata": {},
     "output_type": "display_data"
    }
   ],
   "source": [
    "# Bar Chart\n",
    "\n",
    "# Definindo as variáveis que contém o tipo de certificação e a quantidade respectivamente:\n",
    "certs_long = list(df_certs_long['certificate_type'])\n",
    "qnty_long = list(df_certs_long['quantity'])\n",
    "\n",
    "# Plotando:\n",
    "fig, ax = plt.subplots()\n",
    "\n",
    "hbars = ax.barh(certs_long, qnty_long, align='center', edgecolor='black', color='#0388fc')\n",
    "\n",
    "ax.set_yticks(certs_long)\n",
    "ax.invert_yaxis()\n",
    "ax.set_xlabel('Quantidade',fontsize=12, fontweight='bold')\n",
    "ax.set_title('Quantidade de Cada Tipo de Certificado - Long Duration', fontsize=12, fontweight='bold')\n",
    "\n",
    "ax.bar_label(hbars, fmt='%.f',fontsize=12, color='#000000', padding=1)\n",
    "\n",
    "plt.show()"
   ]
  },
  {
   "attachments": {},
   "cell_type": "markdown",
   "metadata": {},
   "source": [
    "### 2. Contabilizar a quantidade de projetos lançados por década"
   ]
  },
  {
   "attachments": {},
   "cell_type": "markdown",
   "metadata": {},
   "source": [
    "#### Resposta 1: df_movies_clean"
   ]
  },
  {
   "cell_type": "code",
   "execution_count": 206,
   "metadata": {},
   "outputs": [
    {
     "data": {
      "text/html": [
       "<div>\n",
       "<style scoped>\n",
       "    .dataframe tbody tr th:only-of-type {\n",
       "        vertical-align: middle;\n",
       "    }\n",
       "\n",
       "    .dataframe tbody tr th {\n",
       "        vertical-align: top;\n",
       "    }\n",
       "\n",
       "    .dataframe thead th {\n",
       "        text-align: right;\n",
       "    }\n",
       "</style>\n",
       "<table border=\"1\" class=\"dataframe\">\n",
       "  <thead>\n",
       "    <tr style=\"text-align: right;\">\n",
       "      <th></th>\n",
       "      <th>release_year</th>\n",
       "      <th>quantity</th>\n",
       "    </tr>\n",
       "  </thead>\n",
       "  <tbody>\n",
       "    <tr>\n",
       "      <th>0</th>\n",
       "      <td>2019</td>\n",
       "      <td>1299</td>\n",
       "    </tr>\n",
       "    <tr>\n",
       "      <th>1</th>\n",
       "      <td>2020</td>\n",
       "      <td>1179</td>\n",
       "    </tr>\n",
       "    <tr>\n",
       "      <th>2</th>\n",
       "      <td>2018</td>\n",
       "      <td>1000</td>\n",
       "    </tr>\n",
       "    <tr>\n",
       "      <th>3</th>\n",
       "      <td>2021</td>\n",
       "      <td>863</td>\n",
       "    </tr>\n",
       "    <tr>\n",
       "      <th>4</th>\n",
       "      <td>2017</td>\n",
       "      <td>799</td>\n",
       "    </tr>\n",
       "  </tbody>\n",
       "</table>\n",
       "</div>"
      ],
      "text/plain": [
       "   release_year  quantity\n",
       "0          2019      1299\n",
       "1          2020      1179\n",
       "2          2018      1000\n",
       "3          2021       863\n",
       "4          2017       799"
      ]
     },
     "execution_count": 206,
     "metadata": {},
     "output_type": "execute_result"
    }
   ],
   "source": [
    "# Primeiramente, precisamos pegar todos os registros de cada ano de lançamento\n",
    "# e passar esses valores para um novo DataFrame:\n",
    "df_release_clean = pd.DataFrame(df_movies_clean.loc[\n",
    "    (df_movies_clean['release_year'] != 0), ['release_year']\n",
    "].value_counts())\n",
    "\n",
    "# Resetando os índices do novo DataFrame:\n",
    "df_release_clean = df_release_clean.reset_index()\n",
    "\n",
    "# Renomeando colunas:\n",
    "df_release_clean = df_release_clean.rename(columns={0:'quantity'})\n",
    "\n",
    "# Visualizando resultados:\n",
    "df_release_clean.head()"
   ]
  },
  {
   "attachments": {},
   "cell_type": "markdown",
   "metadata": {},
   "source": [
    "Para podermos ter conhecimento de quantos projetos foram lançados por década, iremos utilizar cortes de dez anos no Dataset, para isso no entanto, primeiro precisamos saber os anos máximo e mínimo presentes nos dados:"
   ]
  },
  {
   "cell_type": "code",
   "execution_count": 207,
   "metadata": {},
   "outputs": [
    {
     "name": "stdout",
     "output_type": "stream",
     "text": [
      "Ano máximo: 2022\n",
      "Ano mínimo: 1932\n"
     ]
    }
   ],
   "source": [
    "# Identificando os anos máximo e mínimo presentes:\n",
    "max_year = df_release_clean['release_year'].max()\n",
    "min_year = df_release_clean['release_year'].min()\n",
    "\n",
    "print(f'Ano máximo: {max_year}')\n",
    "print(f'Ano mínimo: {min_year}')"
   ]
  },
  {
   "attachments": {},
   "cell_type": "markdown",
   "metadata": {},
   "source": [
    "Com isso vemos que temos um range de 90 anos de registros. Sendo assim, realizaremos um corte de 9 décadas para podermos visualizar o número de projetos lançados:"
   ]
  },
  {
   "cell_type": "code",
   "execution_count": 209,
   "metadata": {},
   "outputs": [],
   "source": [
    "# Fatiando o DataFrame por década:\n",
    "release_decades = pd.cut(df_release_clean['release_year'], bins=9, labels=[\n",
    "    '1932-1942',\n",
    "    '1942-1952', \n",
    "    '1952-1962', \n",
    "    '1962-1972', \n",
    "    '1972-1982', \n",
    "    '1982-1992', \n",
    "    '1992-2002', \n",
    "    '2002-2012', \n",
    "    '2012-2022'\n",
    "])"
   ]
  },
  {
   "cell_type": "code",
   "execution_count": 211,
   "metadata": {},
   "outputs": [
    {
     "data": {
      "text/html": [
       "<div>\n",
       "<style scoped>\n",
       "    .dataframe tbody tr th:only-of-type {\n",
       "        vertical-align: middle;\n",
       "    }\n",
       "\n",
       "    .dataframe tbody tr th {\n",
       "        vertical-align: top;\n",
       "    }\n",
       "\n",
       "    .dataframe thead th {\n",
       "        text-align: right;\n",
       "    }\n",
       "</style>\n",
       "<table border=\"1\" class=\"dataframe\">\n",
       "  <thead>\n",
       "    <tr style=\"text-align: right;\">\n",
       "      <th></th>\n",
       "      <th>release_year</th>\n",
       "      <th>quantity</th>\n",
       "      <th>release_decade</th>\n",
       "    </tr>\n",
       "  </thead>\n",
       "  <tbody>\n",
       "    <tr>\n",
       "      <th>51</th>\n",
       "      <td>1961</td>\n",
       "      <td>3</td>\n",
       "      <td>1952-1962</td>\n",
       "    </tr>\n",
       "    <tr>\n",
       "      <th>34</th>\n",
       "      <td>1973</td>\n",
       "      <td>7</td>\n",
       "      <td>1972-1982</td>\n",
       "    </tr>\n",
       "    <tr>\n",
       "      <th>14</th>\n",
       "      <td>2002</td>\n",
       "      <td>115</td>\n",
       "      <td>1992-2002</td>\n",
       "    </tr>\n",
       "    <tr>\n",
       "      <th>11</th>\n",
       "      <td>2005</td>\n",
       "      <td>151</td>\n",
       "      <td>2002-2012</td>\n",
       "    </tr>\n",
       "    <tr>\n",
       "      <th>24</th>\n",
       "      <td>2000</td>\n",
       "      <td>13</td>\n",
       "      <td>1992-2002</td>\n",
       "    </tr>\n",
       "  </tbody>\n",
       "</table>\n",
       "</div>"
      ],
      "text/plain": [
       "    release_year  quantity release_decade\n",
       "51          1961         3      1952-1962\n",
       "34          1973         7      1972-1982\n",
       "14          2002       115      1992-2002\n",
       "11          2005       151      2002-2012\n",
       "24          2000        13      1992-2002"
      ]
     },
     "execution_count": 211,
     "metadata": {},
     "output_type": "execute_result"
    }
   ],
   "source": [
    "# Inserindo esse recorte no DataFrame como uma nova coluna informando a década em que\n",
    "# o projeto foi lançado:\n",
    "df_release_clean['release_decade'] = release_decades\n",
    "\n",
    "# Checando resultados:\n",
    "df_release_clean.sample(5)"
   ]
  },
  {
   "attachments": {},
   "cell_type": "markdown",
   "metadata": {},
   "source": [
    "Agora, basta agrupar os dados pelas décadas e plotar um gráfico demonstrando quantos projetos foram lançados por década:"
   ]
  },
  {
   "cell_type": "code",
   "execution_count": 212,
   "metadata": {},
   "outputs": [
    {
     "data": {
      "text/plain": [
       "1932-1942     6\n",
       "1942-1952     7\n",
       "1952-1962    10\n",
       "1962-1972    10\n",
       "1972-1982    10\n",
       "1982-1992    10\n",
       "1992-2002    10\n",
       "2002-2012    10\n",
       "2012-2022    10\n",
       "Name: release_decade, dtype: int64"
      ]
     },
     "execution_count": 212,
     "metadata": {},
     "output_type": "execute_result"
    }
   ],
   "source": [
    "# Agrupando dados por décadas:\n",
    "decades = df_release_clean['release_decade'].value_counts().sort_values()\n",
    "\n",
    "# Visualizando resultados:\n",
    "decades"
   ]
  },
  {
   "cell_type": "code",
   "execution_count": 213,
   "metadata": {},
   "outputs": [
    {
     "data": {
      "image/png": "[encoded data removed]",
      "text/plain": [
       "<Figure size 842.4x595.44 with 1 Axes>"
      ]
     },
     "metadata": {},
     "output_type": "display_data"
    }
   ],
   "source": [
    "# Bar Chart\n",
    "\n",
    "# Plotando:\n",
    "fig, ax = plt.subplots()\n",
    "\n",
    "bars = ax.bar(\n",
    "    decades.index, \n",
    "    align='center', \n",
    "    edgecolor='black', \n",
    "    color='#0388fc', \n",
    "    height=decades, \n",
    "    width=.5\n",
    "    )\n",
    "    \n",
    "ax.set_xlabel('Décadas',fontsize=12, fontweight='bold')\n",
    "ax.set_title('Quantidade de Projetos por Décadas', fontsize=12, fontweight='bold')\n",
    "\n",
    "ax.bar_label(bars, fmt='%.f',fontsize=12, color='#000000', padding=1)\n",
    "\n",
    "plt.show()"
   ]
  },
  {
   "attachments": {},
   "cell_type": "markdown",
   "metadata": {},
   "source": [
    "No catálogo da Netflix temos 10 projetos de cada década, menos das entre 1932 a 1952."
   ]
  },
  {
   "attachments": {},
   "cell_type": "markdown",
   "metadata": {},
   "source": [
    "#### Resposta 2: df_long_duration"
   ]
  },
  {
   "attachments": {},
   "cell_type": "markdown",
   "metadata": {},
   "source": [
    "Similarmente ao processo executado na resposta 1, vamos pegar os anos de lançamento de cada projeto, identificar os intervalos de décadas, realizar o corte no DataFrame e plotar os resultados."
   ]
  },
  {
   "cell_type": "code",
   "execution_count": 214,
   "metadata": {},
   "outputs": [
    {
     "data": {
      "text/html": [
       "<div>\n",
       "<style scoped>\n",
       "    .dataframe tbody tr th:only-of-type {\n",
       "        vertical-align: middle;\n",
       "    }\n",
       "\n",
       "    .dataframe tbody tr th {\n",
       "        vertical-align: top;\n",
       "    }\n",
       "\n",
       "    .dataframe thead th {\n",
       "        text-align: right;\n",
       "    }\n",
       "</style>\n",
       "<table border=\"1\" class=\"dataframe\">\n",
       "  <thead>\n",
       "    <tr style=\"text-align: right;\">\n",
       "      <th></th>\n",
       "      <th>release_year</th>\n",
       "      <th>quantity</th>\n",
       "    </tr>\n",
       "  </thead>\n",
       "  <tbody>\n",
       "    <tr>\n",
       "      <th>0</th>\n",
       "      <td>2021</td>\n",
       "      <td>33</td>\n",
       "    </tr>\n",
       "    <tr>\n",
       "      <th>1</th>\n",
       "      <td>2020</td>\n",
       "      <td>31</td>\n",
       "    </tr>\n",
       "    <tr>\n",
       "      <th>2</th>\n",
       "      <td>2022</td>\n",
       "      <td>30</td>\n",
       "    </tr>\n",
       "    <tr>\n",
       "      <th>3</th>\n",
       "      <td>2019</td>\n",
       "      <td>18</td>\n",
       "    </tr>\n",
       "    <tr>\n",
       "      <th>4</th>\n",
       "      <td>2018</td>\n",
       "      <td>15</td>\n",
       "    </tr>\n",
       "  </tbody>\n",
       "</table>\n",
       "</div>"
      ],
      "text/plain": [
       "   release_year  quantity\n",
       "0          2021        33\n",
       "1          2020        31\n",
       "2          2022        30\n",
       "3          2019        18\n",
       "4          2018        15"
      ]
     },
     "execution_count": 214,
     "metadata": {},
     "output_type": "execute_result"
    }
   ],
   "source": [
    "# Coletando registros:\n",
    "df_release_long = pd.DataFrame(df_long_duration.loc[\n",
    "    (df_long_duration['release_year'] != 0), ['release_year']\n",
    "    ].value_counts())\n",
    "\n",
    "# Resetando index:\n",
    "df_release_long = df_release_long.reset_index()\n",
    "\n",
    "# Renomeando coluna e vendo resultados:\n",
    "df_release_long = df_release_long.rename(columns={0:'quantity'})\n",
    "df_release_long.head()"
   ]
  },
  {
   "attachments": {},
   "cell_type": "markdown",
   "metadata": {},
   "source": [
    "Agora, vamos para a identificação dos anos máximo e mínimo e para os recortes de décadas:"
   ]
  },
  {
   "cell_type": "code",
   "execution_count": 215,
   "metadata": {},
   "outputs": [
    {
     "name": "stdout",
     "output_type": "stream",
     "text": [
      "Ano máximo: 2022\n",
      "Ano mínimo: 1956\n"
     ]
    }
   ],
   "source": [
    "# Identificando os anos máximo e mínimo presentes:\n",
    "max_year = df_release_long['release_year'].max()\n",
    "min_year = df_release_long['release_year'].min()\n",
    "\n",
    "print(f'Ano máximo: {max_year}')\n",
    "print(f'Ano mínimo: {min_year}')"
   ]
  },
  {
   "attachments": {},
   "cell_type": "markdown",
   "metadata": {},
   "source": [
    "São 66 anos de registros, sendo assim, será uma divisão de 6 décadas:"
   ]
  },
  {
   "cell_type": "code",
   "execution_count": 217,
   "metadata": {},
   "outputs": [
    {
     "data": {
      "text/html": [
       "<div>\n",
       "<style scoped>\n",
       "    .dataframe tbody tr th:only-of-type {\n",
       "        vertical-align: middle;\n",
       "    }\n",
       "\n",
       "    .dataframe tbody tr th {\n",
       "        vertical-align: top;\n",
       "    }\n",
       "\n",
       "    .dataframe thead th {\n",
       "        text-align: right;\n",
       "    }\n",
       "</style>\n",
       "<table border=\"1\" class=\"dataframe\">\n",
       "  <thead>\n",
       "    <tr style=\"text-align: right;\">\n",
       "      <th></th>\n",
       "      <th>release_year</th>\n",
       "      <th>quantity</th>\n",
       "      <th>release_decade</th>\n",
       "    </tr>\n",
       "  </thead>\n",
       "  <tbody>\n",
       "    <tr>\n",
       "      <th>0</th>\n",
       "      <td>2021</td>\n",
       "      <td>33</td>\n",
       "      <td>2011-2022</td>\n",
       "    </tr>\n",
       "    <tr>\n",
       "      <th>5</th>\n",
       "      <td>2017</td>\n",
       "      <td>10</td>\n",
       "      <td>2011-2022</td>\n",
       "    </tr>\n",
       "    <tr>\n",
       "      <th>23</th>\n",
       "      <td>1973</td>\n",
       "      <td>1</td>\n",
       "      <td>1967-1978</td>\n",
       "    </tr>\n",
       "    <tr>\n",
       "      <th>3</th>\n",
       "      <td>2019</td>\n",
       "      <td>18</td>\n",
       "      <td>2011-2022</td>\n",
       "    </tr>\n",
       "    <tr>\n",
       "      <th>21</th>\n",
       "      <td>1993</td>\n",
       "      <td>1</td>\n",
       "      <td>1989-2000</td>\n",
       "    </tr>\n",
       "  </tbody>\n",
       "</table>\n",
       "</div>"
      ],
      "text/plain": [
       "    release_year  quantity release_decade\n",
       "0           2021        33      2011-2022\n",
       "5           2017        10      2011-2022\n",
       "23          1973         1      1967-1978\n",
       "3           2019        18      2011-2022\n",
       "21          1993         1      1989-2000"
      ]
     },
     "execution_count": 217,
     "metadata": {},
     "output_type": "execute_result"
    }
   ],
   "source": [
    "# Cortando o DataFrame:\n",
    "release_decades_long = pd.cut(df_release_long['release_year'], bins=6, labels=[\n",
    "    '1956-1967',\n",
    "    '1967-1978',\n",
    "    '1978-1989', \n",
    "    '1989-2000', \n",
    "    '2000-2011', \n",
    "    '2011-2022'])\n",
    "\n",
    "# Inserindo os cortes no DataFrame:\n",
    "df_release_long['release_decade'] = release_decades_long\n",
    "\n",
    "# Visualizando resultados:\n",
    "df_release_long.sample(5)"
   ]
  },
  {
   "cell_type": "code",
   "execution_count": 218,
   "metadata": {},
   "outputs": [
    {
     "data": {
      "text/plain": [
       "1978-1989     0\n",
       "1967-1978     1\n",
       "1956-1967     3\n",
       "1989-2000     5\n",
       "2000-2011     6\n",
       "2011-2022    11\n",
       "Name: release_decade, dtype: int64"
      ]
     },
     "execution_count": 218,
     "metadata": {},
     "output_type": "execute_result"
    }
   ],
   "source": [
    "# Agrupando por década de lançamento:\n",
    "long_decades = df_release_long['release_decade'].value_counts().sort_values()\n",
    "\n",
    "# Checando resultados:\n",
    "long_decades"
   ]
  },
  {
   "cell_type": "code",
   "execution_count": 220,
   "metadata": {},
   "outputs": [
    {
     "data": {
      "image/png": "[encoded data removed]",
      "text/plain": [
       "<Figure size 842.4x595.44 with 1 Axes>"
      ]
     },
     "metadata": {},
     "output_type": "display_data"
    }
   ],
   "source": [
    "# Bar Chart\n",
    "\n",
    "# Plotando:\n",
    "fig, ax = plt.subplots()\n",
    "\n",
    "bars = ax.bar(\n",
    "    long_decades.index, \n",
    "    align='center', \n",
    "    edgecolor='black', \n",
    "    color='#0388fc', \n",
    "    height=long_decades, \n",
    "    width=.5\n",
    "    )\n",
    "\n",
    "ax.set_xlabel('Décadas',fontsize=12, fontweight='bold')\n",
    "ax.set_title('Quantidade de Projetos Longos por Década', fontsize=12, fontweight='bold')\n",
    "\n",
    "ax.bar_label(bars, fmt='%.f',fontsize=12, color='#000000', padding=1)\n",
    "\n",
    "plt.show()"
   ]
  },
  {
   "attachments": {},
   "cell_type": "markdown",
   "metadata": {},
   "source": [
    "Podemos notar um crescimento no número de produções disponíveis no catálogo Netflix quanto mais recente a década, sendo a década de 2011 até 2022 a que possuí mais obras disponíveis."
   ]
  },
  {
   "attachments": {},
   "cell_type": "markdown",
   "metadata": {},
   "source": [
    "### 3. Quais os top 10 gêneros e quantas vezes aparecem nos registros?"
   ]
  },
  {
   "attachments": {},
   "cell_type": "markdown",
   "metadata": {},
   "source": [
    "#### Resposta 1: df_movies_clean"
   ]
  },
  {
   "cell_type": "code",
   "execution_count": 221,
   "metadata": {},
   "outputs": [
    {
     "data": {
      "text/html": [
       "<div>\n",
       "<style scoped>\n",
       "    .dataframe tbody tr th:only-of-type {\n",
       "        vertical-align: middle;\n",
       "    }\n",
       "\n",
       "    .dataframe tbody tr th {\n",
       "        vertical-align: top;\n",
       "    }\n",
       "\n",
       "    .dataframe thead th {\n",
       "        text-align: right;\n",
       "    }\n",
       "</style>\n",
       "<table border=\"1\" class=\"dataframe\">\n",
       "  <thead>\n",
       "    <tr style=\"text-align: right;\">\n",
       "      <th></th>\n",
       "      <th>genre</th>\n",
       "      <th>quantity</th>\n",
       "    </tr>\n",
       "  </thead>\n",
       "  <tbody>\n",
       "    <tr>\n",
       "      <th>0</th>\n",
       "      <td>Comedy</td>\n",
       "      <td>803</td>\n",
       "    </tr>\n",
       "    <tr>\n",
       "      <th>1</th>\n",
       "      <td>Animation, Action, Adventure</td>\n",
       "      <td>523</td>\n",
       "    </tr>\n",
       "    <tr>\n",
       "      <th>2</th>\n",
       "      <td>Drama</td>\n",
       "      <td>506</td>\n",
       "    </tr>\n",
       "    <tr>\n",
       "      <th>3</th>\n",
       "      <td>Documentary</td>\n",
       "      <td>485</td>\n",
       "    </tr>\n",
       "    <tr>\n",
       "      <th>4</th>\n",
       "      <td>Comedy, Drama</td>\n",
       "      <td>277</td>\n",
       "    </tr>\n",
       "    <tr>\n",
       "      <th>5</th>\n",
       "      <td>Crime, Drama, Mystery</td>\n",
       "      <td>234</td>\n",
       "    </tr>\n",
       "    <tr>\n",
       "      <th>6</th>\n",
       "      <td>Drama, Romance</td>\n",
       "      <td>234</td>\n",
       "    </tr>\n",
       "    <tr>\n",
       "      <th>7</th>\n",
       "      <td>Comedy, Drama, Romance</td>\n",
       "      <td>204</td>\n",
       "    </tr>\n",
       "    <tr>\n",
       "      <th>8</th>\n",
       "      <td>Reality-TV</td>\n",
       "      <td>187</td>\n",
       "    </tr>\n",
       "    <tr>\n",
       "      <th>9</th>\n",
       "      <td>Action, Crime, Drama</td>\n",
       "      <td>166</td>\n",
       "    </tr>\n",
       "  </tbody>\n",
       "</table>\n",
       "</div>"
      ],
      "text/plain": [
       "                          genre  quantity\n",
       "0                        Comedy       803\n",
       "1  Animation, Action, Adventure       523\n",
       "2                         Drama       506\n",
       "3                   Documentary       485\n",
       "4                 Comedy, Drama       277\n",
       "5         Crime, Drama, Mystery       234\n",
       "6                Drama, Romance       234\n",
       "7        Comedy, Drama, Romance       204\n",
       "8                    Reality-TV       187\n",
       "9          Action, Crime, Drama       166"
      ]
     },
     "execution_count": 221,
     "metadata": {},
     "output_type": "execute_result"
    }
   ],
   "source": [
    "# Primeiramente, pegaremos os registros dos gêneros das top 10 obras e criar um novo DataFrame:\n",
    "df_genre_clean = pd.DataFrame(df_movies_clean['genre'].value_counts().head(10))\n",
    "\n",
    "# Resetamos o index:\n",
    "df_genre_clean = df_genre_clean.reset_index()\n",
    "\n",
    "# Renomeando colunas:\n",
    "df_genre_clean = df_genre_clean.rename(columns={'index':'genre', 'genre':'quantity'})\n",
    "\n",
    "# Checando resultados:\n",
    "df_genre_clean"
   ]
  },
  {
   "attachments": {},
   "cell_type": "markdown",
   "metadata": {},
   "source": [
    "O gênero mais presente no catálogo Netflix é Comédia, seguido por Animações de Ação e Aventura.\n",
    "\n",
    "Comédia aparece com uma expressão grande em relação aos outros títulos, tendo mais de 200 projetos de diferença com o segundo maior gênero.\n",
    "\n",
    "Isso pode ser identificado como resultado das ações da Netflix que adiquiriram muitos direitos autorais de Comedy Specials de diversos comediantes, tantos brasileiros quanto estrangeiros e os colocou em sua plataforma como exclusivos."
   ]
  },
  {
   "attachments": {},
   "cell_type": "markdown",
   "metadata": {},
   "source": [
    "Para melhor visualização, vamos plotar um gráfico:"
   ]
  },
  {
   "cell_type": "code",
   "execution_count": 222,
   "metadata": {},
   "outputs": [
    {
     "data": {
      "image/png": "[encoded data removed]",
      "text/plain": [
       "<Figure size 842.4x595.44 with 1 Axes>"
      ]
     },
     "metadata": {},
     "output_type": "display_data"
    }
   ],
   "source": [
    "# Bar Chart\n",
    "\n",
    "# Plotando:\n",
    "genres = list(df_genre_clean['genre'])\n",
    "values = list(df_genre_clean['quantity'])\n",
    "\n",
    "fig, ax = plt.subplots()\n",
    "\n",
    "hbars = ax.barh(\n",
    "    genres, \n",
    "    values, \n",
    "    align='center', \n",
    "    edgecolor='black', \n",
    "    color='#0388fc'\n",
    "    )\n",
    "    \n",
    "ax.set_yticks(genres)\n",
    "ax.invert_yaxis()\n",
    "ax.set_xlabel('Quantidade', fontsize=12, fontweight='bold')\n",
    "ax.set_title('Top 10 Gêneros por Quantidade de Menções', fontsize=12, fontweight='bold')\n",
    "ax.bar_label(hbars, fmt='%.f',fontsize=12, color='#000000', padding=1)\n",
    "\n",
    "plt.show()"
   ]
  },
  {
   "attachments": {},
   "cell_type": "markdown",
   "metadata": {},
   "source": [
    "#### Resposta 2: df_long_duration"
   ]
  },
  {
   "cell_type": "code",
   "execution_count": 223,
   "metadata": {},
   "outputs": [
    {
     "data": {
      "text/html": [
       "<div>\n",
       "<style scoped>\n",
       "    .dataframe tbody tr th:only-of-type {\n",
       "        vertical-align: middle;\n",
       "    }\n",
       "\n",
       "    .dataframe tbody tr th {\n",
       "        vertical-align: top;\n",
       "    }\n",
       "\n",
       "    .dataframe thead th {\n",
       "        text-align: right;\n",
       "    }\n",
       "</style>\n",
       "<table border=\"1\" class=\"dataframe\">\n",
       "  <thead>\n",
       "    <tr style=\"text-align: right;\">\n",
       "      <th></th>\n",
       "      <th>genre</th>\n",
       "      <th>quantity</th>\n",
       "    </tr>\n",
       "  </thead>\n",
       "  <tbody>\n",
       "    <tr>\n",
       "      <th>0</th>\n",
       "      <td>Documentary, Crime</td>\n",
       "      <td>23</td>\n",
       "    </tr>\n",
       "    <tr>\n",
       "      <th>1</th>\n",
       "      <td>Documentary</td>\n",
       "      <td>12</td>\n",
       "    </tr>\n",
       "    <tr>\n",
       "      <th>2</th>\n",
       "      <td>Crime, Drama, Mystery</td>\n",
       "      <td>11</td>\n",
       "    </tr>\n",
       "    <tr>\n",
       "      <th>3</th>\n",
       "      <td>Action, Adventure, Drama</td>\n",
       "      <td>6</td>\n",
       "    </tr>\n",
       "    <tr>\n",
       "      <th>4</th>\n",
       "      <td>Crime, Drama</td>\n",
       "      <td>6</td>\n",
       "    </tr>\n",
       "    <tr>\n",
       "      <th>5</th>\n",
       "      <td>Biography, Crime, Drama</td>\n",
       "      <td>6</td>\n",
       "    </tr>\n",
       "    <tr>\n",
       "      <th>6</th>\n",
       "      <td>Drama, Horror, Mystery</td>\n",
       "      <td>5</td>\n",
       "    </tr>\n",
       "    <tr>\n",
       "      <th>7</th>\n",
       "      <td>Drama</td>\n",
       "      <td>5</td>\n",
       "    </tr>\n",
       "    <tr>\n",
       "      <th>8</th>\n",
       "      <td>Drama, Mystery, Thriller</td>\n",
       "      <td>5</td>\n",
       "    </tr>\n",
       "    <tr>\n",
       "      <th>9</th>\n",
       "      <td>Documentary, Crime, Mystery</td>\n",
       "      <td>5</td>\n",
       "    </tr>\n",
       "  </tbody>\n",
       "</table>\n",
       "</div>"
      ],
      "text/plain": [
       "                         genre  quantity\n",
       "0           Documentary, Crime        23\n",
       "1                  Documentary        12\n",
       "2        Crime, Drama, Mystery        11\n",
       "3     Action, Adventure, Drama         6\n",
       "4                 Crime, Drama         6\n",
       "5      Biography, Crime, Drama         6\n",
       "6       Drama, Horror, Mystery         5\n",
       "7                        Drama         5\n",
       "8     Drama, Mystery, Thriller         5\n",
       "9  Documentary, Crime, Mystery         5"
      ]
     },
     "execution_count": 223,
     "metadata": {},
     "output_type": "execute_result"
    }
   ],
   "source": [
    "# Primeiramente, pegaremos os registros dos gêneros das top 10 obras e criar um novo DataFrame:\n",
    "df_genre_long = pd.DataFrame(df_long_duration['genre'].value_counts().head(10))\n",
    "\n",
    "# Resetamos o index:\n",
    "df_genre_long = df_genre_long.reset_index()\n",
    "\n",
    "# Renomeando colunas:\n",
    "df_genre_long = df_genre_long.rename(columns={'index':'genre', 'genre':'quantity'})\n",
    "\n",
    "# Checando resultados:\n",
    "df_genre_long"
   ]
  },
  {
   "attachments": {},
   "cell_type": "markdown",
   "metadata": {},
   "source": [
    "Documentários sobre Crimes são o tipo de gênero mais comum entre os longas, isso pode ser sintoma da crescente aparente em conteúdos True Crime na cultura popular, tendo séries como Jeffrey Dahmer como exemplo mais recente de um sucesso 'complicado' desse tipo de conteúdo.\n",
    "\n",
    "Outro ponto interessante, são os tipos dos gêneros dos longas, tendo uma aparente têndencia a serem mais pesados/maduros em seus temas. Tópicos como Crime, Drama e Mystery são muito recorrentes nos dados, apenas reforçando a ideia de que obras de longa duração são destinadas primordialmente para públicos adultos."
   ]
  },
  {
   "cell_type": "code",
   "execution_count": 224,
   "metadata": {},
   "outputs": [
    {
     "data": {
      "image/png": "[encoded data removed]",
      "text/plain": [
       "<Figure size 842.4x595.44 with 1 Axes>"
      ]
     },
     "metadata": {},
     "output_type": "display_data"
    }
   ],
   "source": [
    "# Bar Chart\n",
    "\n",
    "# Plotando:\n",
    "genres_long = list(df_genre_long['genre'])\n",
    "values_long = list(df_genre_long['quantity'])\n",
    "\n",
    "fig, ax = plt.subplots()\n",
    "\n",
    "hbars = ax.barh(\n",
    "    genres_long, \n",
    "    values_long, \n",
    "    align='center', \n",
    "    edgecolor='black', \n",
    "    color='#0388fc'\n",
    "    )\n",
    "    \n",
    "ax.set_yticks(genres_long)\n",
    "ax.invert_yaxis()\n",
    "ax.set_xlabel('Quantidade', fontsize=12, fontweight='bold')\n",
    "ax.set_title('Top 10 Gêneros de Projetos Longos por Quantidade de Menções', fontsize=12, fontweight='bold')\n",
    "ax.bar_label(hbars, fmt='%.f',fontsize=12, color='#000000', padding=1)\n",
    "\n",
    "plt.show()"
   ]
  }
 ],
 "metadata": {
  "kernelspec": {
   "display_name": "base",
   "language": "python",
   "name": "python3"
  },
  "language_info": {
   "codemirror_mode": {
    "name": "ipython",
    "version": 3
   },
   "file_extension": ".py",
   "mimetype": "text/x-python",
   "name": "python",
   "nbconvert_exporter": "python",
   "pygments_lexer": "ipython3",
   "version": "3.9.12"
  },
  "orig_nbformat": 4,
  "vscode": {
   "interpreter": {
    "hash": "594af92f1fbe2151803567768ef02c6f133f2dd09ab238e968f9d14c9ef1bc27"
   }
  }
 },
 "nbformat": 4,
 "nbformat_minor": 2
}

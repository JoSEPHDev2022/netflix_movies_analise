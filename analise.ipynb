{
 "cells": [
  {
   "cell_type": "code",
   "execution_count": null,
   "metadata": {},
   "outputs": [],
   "source": []
  },
  {
   "attachments": {},
   "cell_type": "markdown",
   "metadata": {},
   "source": [
    "# Filmes e Séries: Netflix"
   ]
  },
  {
   "attachments": {},
   "cell_type": "markdown",
   "metadata": {},
   "source": [
    "## Parte 1: Coleta e Análise Primária dos Dados"
   ]
  },
  {
   "cell_type": "code",
   "execution_count": 1,
   "metadata": {},
   "outputs": [],
   "source": [
    "# Importando as bibliotecas que serão utilizadas para a realização dos trabalhos:\n",
    "import pandas as pd\n",
    "import numpy as np\n",
    "import matplotlib\n",
    "import matplotlib.pyplot as plt\n",
    "import seaborn as sns\n",
    "import re\n",
    "\n",
    "# Definindo algumas configurações iniciais em relação a estilização e dimensões de gráficos \n",
    "# para plotagem posterior:\n",
    "sns.set(rc={'figure.figsize':(11.7, 8.27)})\n",
    "sns.set(style='darkgrid')"
   ]
  },
  {
   "cell_type": "code",
   "execution_count": 4,
   "metadata": {},
   "outputs": [],
   "source": [
    "# Criando o DataFrame:\n",
    "df_movies = pd.read_csv('data/netflix_movies.csv')"
   ]
  },
  {
   "cell_type": "code",
   "execution_count": 5,
   "metadata": {},
   "outputs": [
    {
     "data": {
      "text/html": [
       "<div>\n",
       "<style scoped>\n",
       "    .dataframe tbody tr th:only-of-type {\n",
       "        vertical-align: middle;\n",
       "    }\n",
       "\n",
       "    .dataframe tbody tr th {\n",
       "        vertical-align: top;\n",
       "    }\n",
       "\n",
       "    .dataframe thead th {\n",
       "        text-align: right;\n",
       "    }\n",
       "</style>\n",
       "<table border=\"1\" class=\"dataframe\">\n",
       "  <thead>\n",
       "    <tr style=\"text-align: right;\">\n",
       "      <th></th>\n",
       "      <th>title</th>\n",
       "      <th>year</th>\n",
       "      <th>certificate</th>\n",
       "      <th>duration</th>\n",
       "      <th>genre</th>\n",
       "      <th>rating</th>\n",
       "      <th>description</th>\n",
       "      <th>stars</th>\n",
       "      <th>votes</th>\n",
       "    </tr>\n",
       "  </thead>\n",
       "  <tbody>\n",
       "    <tr>\n",
       "      <th>0</th>\n",
       "      <td>Cobra Kai</td>\n",
       "      <td>(2018– )</td>\n",
       "      <td>TV-14</td>\n",
       "      <td>30 min</td>\n",
       "      <td>Action, Comedy, Drama</td>\n",
       "      <td>8.5</td>\n",
       "      <td>Decades after their 1984 All Valley Karate Tou...</td>\n",
       "      <td>['Ralph Macchio, ', 'William Zabka, ', 'Courtn...</td>\n",
       "      <td>177,031</td>\n",
       "    </tr>\n",
       "    <tr>\n",
       "      <th>1</th>\n",
       "      <td>The Crown</td>\n",
       "      <td>(2016– )</td>\n",
       "      <td>TV-MA</td>\n",
       "      <td>58 min</td>\n",
       "      <td>Biography, Drama, History</td>\n",
       "      <td>8.7</td>\n",
       "      <td>Follows the political rivalries and romance of...</td>\n",
       "      <td>['Claire Foy, ', 'Olivia Colman, ', 'Imelda St...</td>\n",
       "      <td>199,885</td>\n",
       "    </tr>\n",
       "    <tr>\n",
       "      <th>2</th>\n",
       "      <td>Better Call Saul</td>\n",
       "      <td>(2015–2022)</td>\n",
       "      <td>TV-MA</td>\n",
       "      <td>46 min</td>\n",
       "      <td>Crime, Drama</td>\n",
       "      <td>8.9</td>\n",
       "      <td>The trials and tribulations of criminal lawyer...</td>\n",
       "      <td>['Bob Odenkirk, ', 'Rhea Seehorn, ', 'Jonathan...</td>\n",
       "      <td>501,384</td>\n",
       "    </tr>\n",
       "    <tr>\n",
       "      <th>3</th>\n",
       "      <td>Devil in Ohio</td>\n",
       "      <td>(2022)</td>\n",
       "      <td>TV-MA</td>\n",
       "      <td>356 min</td>\n",
       "      <td>Drama, Horror, Mystery</td>\n",
       "      <td>5.9</td>\n",
       "      <td>When a psychiatrist shelters a mysterious cult...</td>\n",
       "      <td>['Emily Deschanel, ', 'Sam Jaeger, ', 'Gerardo...</td>\n",
       "      <td>9,773</td>\n",
       "    </tr>\n",
       "    <tr>\n",
       "      <th>4</th>\n",
       "      <td>Cyberpunk: Edgerunners</td>\n",
       "      <td>(2022– )</td>\n",
       "      <td>TV-MA</td>\n",
       "      <td>24 min</td>\n",
       "      <td>Animation, Action, Adventure</td>\n",
       "      <td>8.6</td>\n",
       "      <td>A Street Kid trying to survive in a technology...</td>\n",
       "      <td>['Zach Aguilar, ', 'Kenichiro Ohashi, ', 'Emi ...</td>\n",
       "      <td>15,413</td>\n",
       "    </tr>\n",
       "  </tbody>\n",
       "</table>\n",
       "</div>"
      ],
      "text/plain": [
       "                    title         year certificate duration  \\\n",
       "0               Cobra Kai     (2018– )       TV-14   30 min   \n",
       "1               The Crown     (2016– )       TV-MA   58 min   \n",
       "2        Better Call Saul  (2015–2022)       TV-MA   46 min   \n",
       "3           Devil in Ohio       (2022)       TV-MA  356 min   \n",
       "4  Cyberpunk: Edgerunners     (2022– )       TV-MA   24 min   \n",
       "\n",
       "                          genre  rating  \\\n",
       "0         Action, Comedy, Drama     8.5   \n",
       "1     Biography, Drama, History     8.7   \n",
       "2                  Crime, Drama     8.9   \n",
       "3        Drama, Horror, Mystery     5.9   \n",
       "4  Animation, Action, Adventure     8.6   \n",
       "\n",
       "                                         description  \\\n",
       "0  Decades after their 1984 All Valley Karate Tou...   \n",
       "1  Follows the political rivalries and romance of...   \n",
       "2  The trials and tribulations of criminal lawyer...   \n",
       "3  When a psychiatrist shelters a mysterious cult...   \n",
       "4  A Street Kid trying to survive in a technology...   \n",
       "\n",
       "                                               stars    votes  \n",
       "0  ['Ralph Macchio, ', 'William Zabka, ', 'Courtn...  177,031  \n",
       "1  ['Claire Foy, ', 'Olivia Colman, ', 'Imelda St...  199,885  \n",
       "2  ['Bob Odenkirk, ', 'Rhea Seehorn, ', 'Jonathan...  501,384  \n",
       "3  ['Emily Deschanel, ', 'Sam Jaeger, ', 'Gerardo...    9,773  \n",
       "4  ['Zach Aguilar, ', 'Kenichiro Ohashi, ', 'Emi ...   15,413  "
      ]
     },
     "execution_count": 5,
     "metadata": {},
     "output_type": "execute_result"
    }
   ],
   "source": [
    "# Visualizando os primeiros 5 registros do DataFrame\n",
    "df_movies.head()"
   ]
  },
  {
   "cell_type": "code",
   "execution_count": 8,
   "metadata": {},
   "outputs": [
    {
     "data": {
      "text/html": [
       "<div>\n",
       "<style scoped>\n",
       "    .dataframe tbody tr th:only-of-type {\n",
       "        vertical-align: middle;\n",
       "    }\n",
       "\n",
       "    .dataframe tbody tr th {\n",
       "        vertical-align: top;\n",
       "    }\n",
       "\n",
       "    .dataframe thead th {\n",
       "        text-align: right;\n",
       "    }\n",
       "</style>\n",
       "<table border=\"1\" class=\"dataframe\">\n",
       "  <thead>\n",
       "    <tr style=\"text-align: right;\">\n",
       "      <th></th>\n",
       "      <th>title</th>\n",
       "      <th>year</th>\n",
       "      <th>certificate</th>\n",
       "      <th>duration</th>\n",
       "      <th>genre</th>\n",
       "      <th>rating</th>\n",
       "      <th>description</th>\n",
       "      <th>stars</th>\n",
       "      <th>votes</th>\n",
       "    </tr>\n",
       "  </thead>\n",
       "  <tbody>\n",
       "    <tr>\n",
       "      <th>9254</th>\n",
       "      <td>Cannon Busters</td>\n",
       "      <td>(2019– )</td>\n",
       "      <td>TV-MA</td>\n",
       "      <td>NaN</td>\n",
       "      <td>Animation, Fantasy</td>\n",
       "      <td>6.7</td>\n",
       "      <td>Add a Plot</td>\n",
       "      <td>['Kenny Blank, ', 'Greg Chun, ', 'Trevor Deval...</td>\n",
       "      <td>41</td>\n",
       "    </tr>\n",
       "    <tr>\n",
       "      <th>5383</th>\n",
       "      <td>Video Games: The Movie</td>\n",
       "      <td>(2014)</td>\n",
       "      <td>Not Rated</td>\n",
       "      <td>101 min</td>\n",
       "      <td>Documentary, Animation, History</td>\n",
       "      <td>6.1</td>\n",
       "      <td>Learn how video games are made, marketed, and ...</td>\n",
       "      <td>['Jeremy Snead', '| ', '    Stars:', 'Sean Ast...</td>\n",
       "      <td>5,510</td>\n",
       "    </tr>\n",
       "    <tr>\n",
       "      <th>7740</th>\n",
       "      <td>20 Jobs You Never Knew Existed</td>\n",
       "      <td>(2021 Video)</td>\n",
       "      <td>NaN</td>\n",
       "      <td>14 min</td>\n",
       "      <td>Documentary, Short</td>\n",
       "      <td>NaN</td>\n",
       "      <td>From people who harvest giant blocks of marble...</td>\n",
       "      <td>['Abby Tang, ', 'Chiako Yamamoto, ', 'Matt Sla...</td>\n",
       "      <td>NaN</td>\n",
       "    </tr>\n",
       "    <tr>\n",
       "      <th>5271</th>\n",
       "      <td>The Miracle of Teddy Bear</td>\n",
       "      <td>(2022– )</td>\n",
       "      <td>NaN</td>\n",
       "      <td>NaN</td>\n",
       "      <td>Romance</td>\n",
       "      <td>8.4</td>\n",
       "      <td>Taohu is a giant white teddy bear and has been...</td>\n",
       "      <td>['Job Thuchapon, ', 'Sarin Inpitar Ronnakiat']</td>\n",
       "      <td>155</td>\n",
       "    </tr>\n",
       "    <tr>\n",
       "      <th>4167</th>\n",
       "      <td>Gamers!</td>\n",
       "      <td>(2017– )</td>\n",
       "      <td>TV-14</td>\n",
       "      <td>24 min</td>\n",
       "      <td>Animation, Comedy, Romance</td>\n",
       "      <td>6.7</td>\n",
       "      <td>This is a story that revolves around certain s...</td>\n",
       "      <td>['Megumi Han, ', 'Brandon McInnis, ', 'Hisako ...</td>\n",
       "      <td>1,455</td>\n",
       "    </tr>\n",
       "  </tbody>\n",
       "</table>\n",
       "</div>"
      ],
      "text/plain": [
       "                               title          year certificate duration  \\\n",
       "9254                  Cannon Busters      (2019– )       TV-MA      NaN   \n",
       "5383          Video Games: The Movie        (2014)   Not Rated  101 min   \n",
       "7740  20 Jobs You Never Knew Existed  (2021 Video)         NaN   14 min   \n",
       "5271       The Miracle of Teddy Bear      (2022– )         NaN      NaN   \n",
       "4167                         Gamers!      (2017– )       TV-14   24 min   \n",
       "\n",
       "                                genre  rating  \\\n",
       "9254               Animation, Fantasy     6.7   \n",
       "5383  Documentary, Animation, History     6.1   \n",
       "7740               Documentary, Short     NaN   \n",
       "5271                          Romance     8.4   \n",
       "4167       Animation, Comedy, Romance     6.7   \n",
       "\n",
       "                                            description  \\\n",
       "9254                                         Add a Plot   \n",
       "5383  Learn how video games are made, marketed, and ...   \n",
       "7740  From people who harvest giant blocks of marble...   \n",
       "5271  Taohu is a giant white teddy bear and has been...   \n",
       "4167  This is a story that revolves around certain s...   \n",
       "\n",
       "                                                  stars  votes  \n",
       "9254  ['Kenny Blank, ', 'Greg Chun, ', 'Trevor Deval...     41  \n",
       "5383  ['Jeremy Snead', '| ', '    Stars:', 'Sean Ast...  5,510  \n",
       "7740  ['Abby Tang, ', 'Chiako Yamamoto, ', 'Matt Sla...    NaN  \n",
       "5271     ['Job Thuchapon, ', 'Sarin Inpitar Ronnakiat']    155  \n",
       "4167  ['Megumi Han, ', 'Brandon McInnis, ', 'Hisako ...  1,455  "
      ]
     },
     "execution_count": 8,
     "metadata": {},
     "output_type": "execute_result"
    }
   ],
   "source": [
    "# Visualizando um sample aleatório do DataFrame:\n",
    "df_movies.sample(5)"
   ]
  },
  {
   "cell_type": "code",
   "execution_count": 9,
   "metadata": {},
   "outputs": [
    {
     "data": {
      "text/plain": [
       "(9957, 9)"
      ]
     },
     "execution_count": 9,
     "metadata": {},
     "output_type": "execute_result"
    }
   ],
   "source": [
    "# Determinando as dimensões do DataFrame:\n",
    "df_movies.shape"
   ]
  },
  {
   "attachments": {},
   "cell_type": "markdown",
   "metadata": {},
   "source": [
    "Com essa informação, sabemos que nosso DataFrame é composto por **9957 linhas** e **9 colunas**."
   ]
  },
  {
   "cell_type": "code",
   "execution_count": 12,
   "metadata": {},
   "outputs": [
    {
     "name": "stdout",
     "output_type": "stream",
     "text": [
      "<class 'pandas.core.frame.DataFrame'>\n",
      "RangeIndex: 9957 entries, 0 to 9956\n",
      "Data columns (total 9 columns):\n",
      " #   Column       Non-Null Count  Dtype  \n",
      "---  ------       --------------  -----  \n",
      " 0   title        9957 non-null   object \n",
      " 1   year         9430 non-null   object \n",
      " 2   certificate  6504 non-null   object \n",
      " 3   duration     7921 non-null   object \n",
      " 4   genre        9884 non-null   object \n",
      " 5   rating       8784 non-null   float64\n",
      " 6   description  9957 non-null   object \n",
      " 7   stars        9957 non-null   object \n",
      " 8   votes        8784 non-null   object \n",
      "dtypes: float64(1), object(8)\n",
      "memory usage: 700.2+ KB\n"
     ]
    }
   ],
   "source": [
    "# Coletando mais informações acerca do DataFrame utilizando o comando .info():\n",
    "df_movies.info()"
   ]
  },
  {
   "attachments": {},
   "cell_type": "markdown",
   "metadata": {},
   "source": [
    "Utilizando o comando .info(), podemos estrair algumas informações iniciais importantes sobre os dados:\n",
    "\n",
    "- Apenas as colunas **`title`**, **`description`** e **`stars`** possuem registros completos sem valores nulos;\n",
    "\n",
    "- Das 9 colunas, 8 estão no formato *object* (string), sendo que algumas delas como as colunas `year` e `votes` por exemplo poderiam e deveriam estar em valores numéricos.\n",
    "\n",
    "A seguir, iremos realizar uma checagem mais focada nos dados faltantes do DataFrame:"
   ]
  },
  {
   "cell_type": "code",
   "execution_count": 13,
   "metadata": {},
   "outputs": [
    {
     "data": {
      "text/plain": [
       "certificate    34.6791\n",
       "duration       20.4479\n",
       "rating         11.7807\n",
       "votes          11.7807\n",
       "year            5.2928\n",
       "genre           0.7332\n",
       "title           0.0000\n",
       "description     0.0000\n",
       "stars           0.0000\n",
       "dtype: float64"
      ]
     },
     "execution_count": 13,
     "metadata": {},
     "output_type": "execute_result"
    }
   ],
   "source": [
    "# Checando porcentagem de dados faltantes no DataFrame:\n",
    "(((df_movies.isnull().sum() / df_movies.shape[0]) * 100).sort_values(ascending=False)).round(4)"
   ]
  },
  {
   "attachments": {},
   "cell_type": "markdown",
   "metadata": {},
   "source": [
    "Dos registros presentes nas 9 colunas do DataFrame, as colunas:\n",
    "\n",
    "- **`certificate`** possui 34.68% de valores nulos;\n",
    "\n",
    "- **`duration`** possui 20.45% de valores nulos;\n",
    "\n",
    "- **`rating`** e **`votes`** possuem 11.78% de valores nulos;\n",
    "\n",
    "- **`year`** possui 5.29% de valores nulos;\n",
    "\n",
    "- **`genre`** possui 0.73% de valores nulos."
   ]
  },
  {
   "attachments": {},
   "cell_type": "markdown",
   "metadata": {},
   "source": [
    "### Dicionário de Variáveis"
   ]
  },
  {
   "attachments": {},
   "cell_type": "markdown",
   "metadata": {},
   "source": [
    "Para termos uma compreensão ainda maior acerca dos nossos dados, realizaremos uma descrição de cada uma das colunas presentes no DataFrame, entrando em detalhes onde for necessário:\n",
    "\n",
    "- **`title`** - Título da obra (séries, filmes, etc);\n",
    "\n",
    "- **`year`** - Tupla que contém duas datas: (ano_de_lançamento - ano de encerramento), tendo uma diferença entre obras \"únicas\" como filmes e obras \"contínuas\" como Séries:\n",
    "    \n",
    "    - *Séries*: (ano_estreia_primeiro_ep - ano_estreia_útlimo_ep) ou apenas (ano_estreia_primeiro_ep - );\n",
    "    \n",
    "    - *Filmes*: (ano_lançamento)\n",
    "\n",
    "- **`certificate`** - Certificado de classificação, em formatos distintos para cada tipo de mídia e baseados em diferentes métricas de avaliação de conteúdo (essa é a coluna mais complexa do DataFrame, onde as definições a seguir foram baseadas em pesquisas realizadas acerca de cada tipo de certificado):\n",
    "\n",
    "    - *Programas Televisivos: TV Parental Guidelines*\n",
    "\n",
    "        - **TV-14**: Não recomendado para menores de 14 anos;\n",
    "        \n",
    "        - **TV-MA**: Audiência madura - Não recomendado para menores de 17 anos;\n",
    "        \n",
    "        - **TV-PG**: Conteúdos recomendados para serem consumidos com orientação parental;\n",
    "\n",
    "        - **TV-Y7-FV**: Não recomendado para menores de 7 anos, contém violência fantasiosa;\n",
    "\n",
    "        - **TV-G**: Recomendado para todos os públicos;\n",
    "\n",
    "        - **TV-Y7**: Não recomendado para menores de 7 anos;\n",
    "\n",
    "        - **TV-Y**: Conteúdo infantil.\n",
    "\n",
    "    - *Filmes: Motion Picture Association film rating system*\n",
    "\n",
    "        - **NC-17**: Ninguém com 17 anos ou menos admitido;\n",
    "\n",
    "        - **R**: Menores de 17 anos requerem acompanhamento dos pais ou responsáveis adultos;\n",
    "\n",
    "        - **PG-13**: Alguns materiais podem ser impróprios para crianças menores de 13 anos;\n",
    "\n",
    "        - **PG**: Parte do material pode não ser adequado para crianças;\n",
    "\n",
    "        - **G**: Todas as idades admitidas.\n",
    "\n",
    "    - *Entertainment Software Rating Board*\n",
    "\n",
    "        - **M (Mature)**: Não recomendado para menores de 17 anos;\n",
    "\n",
    "        - **E10+**: Recomendado para públicos a partir de 10 anos.\n",
    "\n",
    "    - *Outros formatos de avaliação presentes*\n",
    "\n",
    "        - **Not Rated/Unrated**: Sem classificação. Significa que a mídia específica não foi classificada por meio de um processo de classificação. Isso geralmente implica que um trabalho nunca foi autoclassificado ou submetido a um órgão de classificação por diversos motivos como, por exemplo, devido a natureza do trabalho (como um evento esportivo) ou por motivos orçamentários;\n",
    "\n",
    "        - **Approved/Passed**: Sob o [Código Hays](https://www.megacurioso.com.br/artes-cultura/123329-codigo-hays-as-regras-que-censuravam-filmes-na-era-de-ouro-de-hollywood.htm), os filmes eram simplesmente aprovados ou reprovados com base no fato de serem considerados \"morais\" ou \"imorais\". Esse tipo de avaliação é específico para o recorte histórico durante a década de 1930.\n",
    "\n",
    "        - **12**: Não recomendado para menores de 12 anos;\n",
    "\n",
    "        - **MA-17**: Não recomendado para menores de 17 anos.\n",
    "\n",
    "- **`duration`** - Duração do filme ou duração dos episódios de Séries (em minutos);\n",
    "\n",
    "- **`genre`** - Gênero(s) da obra;\n",
    "\n",
    "- **`rating`** - Nota de avaliação [IMDb](https://www.imdb.com/);\n",
    "\n",
    "- **`description`** - Sinópse da obra;\n",
    "\n",
    "- **`stars`** - Atores de destaque;\n",
    "\n",
    "- **`votes`** - Quantidade de votos no IMDb.\n",
    "\n"
   ]
  },
  {
   "attachments": {},
   "cell_type": "markdown",
   "metadata": {},
   "source": [
    "## Parte 2: Tratamento dos Dados"
   ]
  },
  {
   "attachments": {},
   "cell_type": "markdown",
   "metadata": {},
   "source": [
    "Para que se possa ter resultados precisos na análise, é necessário a limpeza e tratamento de dados no DataFrame. Para iniciarmos esse processo, vamos checar novamente os data types das colunas:"
   ]
  },
  {
   "cell_type": "code",
   "execution_count": 14,
   "metadata": {},
   "outputs": [
    {
     "data": {
      "text/plain": [
       "title           object\n",
       "year            object\n",
       "certificate     object\n",
       "duration        object\n",
       "genre           object\n",
       "rating         float64\n",
       "description     object\n",
       "stars           object\n",
       "votes           object\n",
       "dtype: object"
      ]
     },
     "execution_count": 14,
     "metadata": {},
     "output_type": "execute_result"
    }
   ],
   "source": [
    "# Checando os data types:\n",
    "df_movies.dtypes"
   ]
  },
  {
   "cell_type": "code",
   "execution_count": 15,
   "metadata": {},
   "outputs": [
    {
     "data": {
      "text/html": [
       "<div>\n",
       "<style scoped>\n",
       "    .dataframe tbody tr th:only-of-type {\n",
       "        vertical-align: middle;\n",
       "    }\n",
       "\n",
       "    .dataframe tbody tr th {\n",
       "        vertical-align: top;\n",
       "    }\n",
       "\n",
       "    .dataframe thead th {\n",
       "        text-align: right;\n",
       "    }\n",
       "</style>\n",
       "<table border=\"1\" class=\"dataframe\">\n",
       "  <thead>\n",
       "    <tr style=\"text-align: right;\">\n",
       "      <th></th>\n",
       "      <th>title</th>\n",
       "      <th>year</th>\n",
       "      <th>certificate</th>\n",
       "      <th>duration</th>\n",
       "      <th>genre</th>\n",
       "      <th>rating</th>\n",
       "      <th>description</th>\n",
       "      <th>stars</th>\n",
       "      <th>votes</th>\n",
       "    </tr>\n",
       "  </thead>\n",
       "  <tbody>\n",
       "    <tr>\n",
       "      <th>0</th>\n",
       "      <td>Cobra Kai</td>\n",
       "      <td>(2018– )</td>\n",
       "      <td>TV-14</td>\n",
       "      <td>30 min</td>\n",
       "      <td>Action, Comedy, Drama</td>\n",
       "      <td>8.5</td>\n",
       "      <td>Decades after their 1984 All Valley Karate Tou...</td>\n",
       "      <td>['Ralph Macchio, ', 'William Zabka, ', 'Courtn...</td>\n",
       "      <td>177,031</td>\n",
       "    </tr>\n",
       "  </tbody>\n",
       "</table>\n",
       "</div>"
      ],
      "text/plain": [
       "       title      year certificate duration                  genre  rating  \\\n",
       "0  Cobra Kai  (2018– )       TV-14   30 min  Action, Comedy, Drama     8.5   \n",
       "\n",
       "                                         description  \\\n",
       "0  Decades after their 1984 All Valley Karate Tou...   \n",
       "\n",
       "                                               stars    votes  \n",
       "0  ['Ralph Macchio, ', 'William Zabka, ', 'Courtn...  177,031  "
      ]
     },
     "execution_count": 15,
     "metadata": {},
     "output_type": "execute_result"
    }
   ],
   "source": [
    "# Puxando apenas uma linha do DataFrame para visualizarmos melhor os dados:\n",
    "df_movies.head(1)"
   ]
  },
  {
   "attachments": {},
   "cell_type": "markdown",
   "metadata": {},
   "source": [
    "Algumas conclusões preliminares podem ser feitas sobre certas colunas:\n",
    "\n",
    "- **`year`**: O formato dessa coluna é menos que ideal para as análises, sendo assim, algumas mudanças serão realizadas nela. Primeiramente dividi-la em duas colunas diferentes, cada uma contendo o ano de lançamento e o ano de encerramento respectivamente. Já que filmes somente possuem o primeiro valor (lançamento), iremos utilizar 0 como placeholder na segunda coluna (ano de encerramento);\n",
    "\n",
    "- **`duration`**: Para facilitar as análises, será adaptada para em seu título informar a métrica de tempo usada (minutos) e apenas numeração nos dados em si;\n",
    "\n",
    "- **`votes`**: Trasformar o data type para tipo float."
   ]
  },
  {
   "cell_type": "code",
   "execution_count": 16,
   "metadata": {},
   "outputs": [],
   "source": [
    "# Criação de uma cópia do DataFrame onde será realizada a limpeza e tratativa dos dados:\n",
    "df_movies_clean = df_movies.copy()"
   ]
  },
  {
   "attachments": {},
   "cell_type": "markdown",
   "metadata": {},
   "source": [
    "### Tratamento: Coluna year"
   ]
  },
  {
   "attachments": {},
   "cell_type": "markdown",
   "metadata": {},
   "source": [
    "Para podermos criar duas colunas a partir da coluna year, onde cada uma irá conter o ano de lançamento e ano de encerramento respectivamente, iremos utilizar o método regex para auxiliar nessa operação, onde necessitamos apenas dos valores numéricos que representam os anos:"
   ]
  },
  {
   "cell_type": "code",
   "execution_count": 17,
   "metadata": {},
   "outputs": [],
   "source": [
    "# Criando uma variável que contém dado Regex para remoção (Remover tudo que não seja número da string):\n",
    "remove = r'[^0-9]+'"
   ]
  },
  {
   "cell_type": "code",
   "execution_count": 21,
   "metadata": {},
   "outputs": [
    {
     "data": {
      "text/plain": [
       "603         2021\n",
       "7137            \n",
       "9150    20192020\n",
       "3405        2021\n",
       "6635        2017\n",
       "Name: year, dtype: object"
      ]
     },
     "execution_count": 21,
     "metadata": {},
     "output_type": "execute_result"
    }
   ],
   "source": [
    "# Utilizando método apply para limpar caracteres indesejáveis da coluna year aplicando a variável regex:\n",
    "df_movies_clean['year'] = df_movies['year'].apply(\n",
    "    lambda x: re.sub(remove, '', str(x))\n",
    ")\n",
    "\n",
    "# Checando novos dados da coluna year:\n",
    "df_movies_clean['year'].sample(5)"
   ]
  },
  {
   "attachments": {},
   "cell_type": "markdown",
   "metadata": {},
   "source": [
    "Com apenas valores numéricos presentes na tabela year, podemos criar as duas novas colunas constando os anos de lançamento e encerramento:"
   ]
  },
  {
   "cell_type": "code",
   "execution_count": 22,
   "metadata": {},
   "outputs": [
    {
     "data": {
      "text/plain": [
       "6583    2020\n",
       "1643    2022\n",
       "917     2022\n",
       "2306    2015\n",
       "2571    2020\n",
       "Name: release_year, dtype: object"
      ]
     },
     "execution_count": 22,
     "metadata": {},
     "output_type": "execute_result"
    }
   ],
   "source": [
    "# Criando nova coluna que consta o primeiro ano da tabela year (ano de lançamento):\n",
    "df_movies_clean['release_year'] = df_movies_clean['year'].apply(\n",
    "    lambda x: str(x)[:4] if len(str(x)) == 8 else x\n",
    ")\n",
    "\n",
    "# Checando novos dados:\n",
    "df_movies_clean['release_year'].sample(5)"
   ]
  },
  {
   "cell_type": "code",
   "execution_count": 29,
   "metadata": {},
   "outputs": [
    {
     "data": {
      "text/plain": [
       "8230    2012\n",
       "3483       0\n",
       "6165       0\n",
       "9735    2021\n",
       "3482       0\n",
       "Name: ending_year, dtype: object"
      ]
     },
     "execution_count": 29,
     "metadata": {},
     "output_type": "execute_result"
    }
   ],
   "source": [
    "# Criando nova coluna que consta o últímo ano da tabela year (ano de encerramento).\n",
    "# Caso não exista (como no caso de filmes), colocar 0:\n",
    "df_movies_clean['ending_year'] = df_movies_clean['year'].apply(\n",
    "    lambda x: str(x)[-4:] if len(str(x)) == 8 else 0\n",
    ")\n",
    "\n",
    "# Checando resultados:\n",
    "df_movies_clean['ending_year'].sample(5)"
   ]
  },
  {
   "attachments": {},
   "cell_type": "markdown",
   "metadata": {},
   "source": [
    "É necessário agora conferir a integridade dos dados de ambas as novas colunas, checando por valores vazios:"
   ]
  },
  {
   "cell_type": "code",
   "execution_count": 59,
   "metadata": {},
   "outputs": [
    {
     "data": {
      "text/plain": [
       "631"
      ]
     },
     "execution_count": 59,
     "metadata": {},
     "output_type": "execute_result"
    }
   ],
   "source": [
    "# Checando dados vazios da coluna release_year:\n",
    "df_movies_clean.loc[(df_movies_clean['release_year'] == \"\"), 'release_year'].count()"
   ]
  },
  {
   "cell_type": "code",
   "execution_count": 61,
   "metadata": {},
   "outputs": [
    {
     "data": {
      "text/plain": [
       "0"
      ]
     },
     "execution_count": 61,
     "metadata": {},
     "output_type": "execute_result"
    }
   ],
   "source": [
    "# Checando dados vazios da coluna ending_year:\n",
    "df_movies_clean.loc[(df_movies_clean['ending_year'] == \"\"), 'ending_year'].count()"
   ]
  },
  {
   "attachments": {},
   "cell_type": "markdown",
   "metadata": {},
   "source": [
    "A coluna `release_year` possui 631 registros faltantes, já a coluna `ending_year` não possui nenhum."
   ]
  },
  {
   "cell_type": "code",
   "execution_count": 62,
   "metadata": {},
   "outputs": [],
   "source": [
    "# Tratando dados faltantes da coluna release_year:\n",
    "df_movies_clean['release_year'] = df_movies_clean['release_year'].apply(\n",
    "    lambda x: 0 if str(x).isalnum() == False else x\n",
    ")"
   ]
  },
  {
   "attachments": {},
   "cell_type": "markdown",
   "metadata": {},
   "source": [
    "Com nossas duas novas colunas de anos, basta transforma-las para o tipo numérico de dados:"
   ]
  },
  {
   "cell_type": "code",
   "execution_count": 64,
   "metadata": {},
   "outputs": [],
   "source": [
    "# Transformando dados nas colunas de release_year e ending_year para int:\n",
    "df_movies_clean['release_year'] = df_movies_clean['release_year'].astype(int)\n",
    "df_movies_clean['ending_year'] = df_movies_clean['ending_year'].astype(int)"
   ]
  },
  {
   "attachments": {},
   "cell_type": "markdown",
   "metadata": {},
   "source": [
    "### Tratamento: Coluna duration"
   ]
  },
  {
   "attachments": {},
   "cell_type": "markdown",
   "metadata": {},
   "source": [
    "Como analisado previamente, a coluna `duration` pode ter sua métrica de tempo (minutos) destacada no header e os dados apenas em valores numéricos. Sendo assim, primeiramente se faz necessário remover as letras \"min\" da coluna:"
   ]
  },
  {
   "cell_type": "code",
   "execution_count": 66,
   "metadata": {},
   "outputs": [
    {
     "data": {
      "text/plain": [
       "9617    51\n",
       "6158    79\n",
       "4334    98\n",
       "3010    60\n",
       "3138    86\n",
       "Name: duration, dtype: object"
      ]
     },
     "execution_count": 66,
     "metadata": {},
     "output_type": "execute_result"
    }
   ],
   "source": [
    "# Limpando a coluna duration para retirada de letras:\n",
    "df_movies_clean['duration'] = df_movies_clean['duration'].apply(\n",
    "    lambda x: 0 if str(x) == 'nan' else str(x)[:-4]\n",
    ")\n",
    "\n",
    "# Checando um sample dos resultados:\n",
    "df_movies_clean['duration'].sample(5)"
   ]
  },
  {
   "cell_type": "code",
   "execution_count": 67,
   "metadata": {},
   "outputs": [],
   "source": [
    "# Transformando a coluna duration para int\n",
    "df_movies_clean['duration'] = df_movies_clean['duration'].astype(int)"
   ]
  },
  {
   "cell_type": "code",
   "execution_count": 73,
   "metadata": {},
   "outputs": [],
   "source": [
    "# Renomeando coluna duration para informar que a mesma está em minutos:\n",
    "df_movies_clean.columns = df_movies_clean.columns.str.replace('duration', 'duration_min')"
   ]
  },
  {
   "attachments": {},
   "cell_type": "markdown",
   "metadata": {},
   "source": [
    "### Tratamento: Coluna votes"
   ]
  },
  {
   "attachments": {},
   "cell_type": "markdown",
   "metadata": {},
   "source": [
    "A coluna `votes` será tratada da seguinte maneira: Substituindo valores nulos por 0, retirando vírgulas dos dados e os transformando em números inteiros."
   ]
  },
  {
   "cell_type": "code",
   "execution_count": 75,
   "metadata": {},
   "outputs": [],
   "source": [
    "# Substituíndo valores nulos para 0:\n",
    "df_movies_clean['votes'] = df_movies_clean['votes'].apply(\n",
    "    lambda x: 0 if str(x) == 'nan' else x\n",
    ")"
   ]
  },
  {
   "cell_type": "code",
   "execution_count": 76,
   "metadata": {},
   "outputs": [],
   "source": [
    "# Retirando vírgulas:\n",
    "df_movies_clean['votes'] = df_movies_clean['votes'].apply(\n",
    "    lambda x: str(x).replace(',','')\n",
    ")"
   ]
  },
  {
   "cell_type": "code",
   "execution_count": 78,
   "metadata": {},
   "outputs": [],
   "source": [
    "# Passando valores para int:\n",
    "df_movies_clean['votes'] = df_movies_clean['votes'].astype(int)"
   ]
  },
  {
   "cell_type": "code",
   "execution_count": 79,
   "metadata": {},
   "outputs": [
    {
     "data": {
      "text/plain": [
       "693      4287\n",
       "8007      254\n",
       "7039        0\n",
       "5298      503\n",
       "1116    34106\n",
       "Name: votes, dtype: int32"
      ]
     },
     "execution_count": 79,
     "metadata": {},
     "output_type": "execute_result"
    }
   ],
   "source": [
    "# Visualizando resultados:\n",
    "df_movies_clean['votes'].sample(5)"
   ]
  },
  {
   "attachments": {},
   "cell_type": "markdown",
   "metadata": {},
   "source": [
    "### Tratamento: Colunas Stars, Certificate, Rating e Genre"
   ]
  },
  {
   "attachments": {},
   "cell_type": "markdown",
   "metadata": {},
   "source": [
    "Como essas colunas necessitam apenas de correções básicas, elas estão agrupadas num único capítulo."
   ]
  },
  {
   "attachments": {},
   "cell_type": "markdown",
   "metadata": {},
   "source": [
    "- Coluna Stars:"
   ]
  },
  {
   "cell_type": "code",
   "execution_count": 80,
   "metadata": {},
   "outputs": [],
   "source": [
    "# Substituíndo valores nulos por [not informed]:\n",
    "df_movies_clean['stars'] = df_movies_clean['stars'].apply(\n",
    "    lambda x: '[Not Informed]' if str(x) == '[]' else x\n",
    ")"
   ]
  },
  {
   "attachments": {},
   "cell_type": "markdown",
   "metadata": {},
   "source": [
    "- Coluna Certificate:"
   ]
  },
  {
   "cell_type": "code",
   "execution_count": 81,
   "metadata": {},
   "outputs": [],
   "source": [
    "# Substituíndo valores nulos por [not informed]:\n",
    "df_movies_clean['certificate'] = df_movies_clean['certificate'].apply(\n",
    "    lambda x: '[Not Informed]' if str(x) == 'nan' else x\n",
    ")"
   ]
  },
  {
   "attachments": {},
   "cell_type": "markdown",
   "metadata": {},
   "source": [
    "- Coluna Rating"
   ]
  },
  {
   "cell_type": "code",
   "execution_count": 82,
   "metadata": {},
   "outputs": [],
   "source": [
    "# Substituindo valores nulos por 0\n",
    "df_movies_clean['rating'] = df_movies_clean['rating'].apply(\n",
    "    lambda x: 0 if str(x) == 'nan' else x\n",
    ")"
   ]
  },
  {
   "attachments": {},
   "cell_type": "markdown",
   "metadata": {},
   "source": [
    "- Coluna genre"
   ]
  },
  {
   "cell_type": "code",
   "execution_count": 83,
   "metadata": {},
   "outputs": [],
   "source": [
    "# Substituindo valores nulos por [not informed]\n",
    "df_movies_clean['genre'] = df_movies_clean['genre'].apply(\n",
    "    lambda x: '[Not informed]' if str(x) == 'nan' else x\n",
    ")"
   ]
  },
  {
   "attachments": {},
   "cell_type": "markdown",
   "metadata": {},
   "source": [
    "Com essas alterações feitas, o DataFrame se encontra em condições apropriadas para análises e retirada de insights. Como última alteração, a sequência das colunas será alterada para melhor visualização:"
   ]
  },
  {
   "cell_type": "code",
   "execution_count": 86,
   "metadata": {},
   "outputs": [
    {
     "data": {
      "text/html": [
       "<div>\n",
       "<style scoped>\n",
       "    .dataframe tbody tr th:only-of-type {\n",
       "        vertical-align: middle;\n",
       "    }\n",
       "\n",
       "    .dataframe tbody tr th {\n",
       "        vertical-align: top;\n",
       "    }\n",
       "\n",
       "    .dataframe thead th {\n",
       "        text-align: right;\n",
       "    }\n",
       "</style>\n",
       "<table border=\"1\" class=\"dataframe\">\n",
       "  <thead>\n",
       "    <tr style=\"text-align: right;\">\n",
       "      <th></th>\n",
       "      <th>title</th>\n",
       "      <th>release_year</th>\n",
       "      <th>ending_year</th>\n",
       "      <th>certificate</th>\n",
       "      <th>duration_min</th>\n",
       "      <th>genre</th>\n",
       "      <th>rating</th>\n",
       "      <th>description</th>\n",
       "      <th>stars</th>\n",
       "      <th>votes</th>\n",
       "    </tr>\n",
       "  </thead>\n",
       "  <tbody>\n",
       "    <tr>\n",
       "      <th>7648</th>\n",
       "      <td>Dennis Nilsen's the History of A Drowning Boy ...</td>\n",
       "      <td>0</td>\n",
       "      <td>0</td>\n",
       "      <td>[Not Informed]</td>\n",
       "      <td>0</td>\n",
       "      <td>Documentary, Biography</td>\n",
       "      <td>0.0</td>\n",
       "      <td>Add a Plot</td>\n",
       "      <td>['Michael Harte']</td>\n",
       "      <td>0</td>\n",
       "    </tr>\n",
       "    <tr>\n",
       "      <th>8290</th>\n",
       "      <td>The Tudors</td>\n",
       "      <td>2007</td>\n",
       "      <td>2010</td>\n",
       "      <td>TV-MA</td>\n",
       "      <td>51</td>\n",
       "      <td>Drama, History, Romance</td>\n",
       "      <td>7.5</td>\n",
       "      <td>The King asks Charles to escort his sister, Ma...</td>\n",
       "      <td>['Steve Shill', '| ', '    Stars:', 'Jonathan ...</td>\n",
       "      <td>903</td>\n",
       "    </tr>\n",
       "    <tr>\n",
       "      <th>4528</th>\n",
       "      <td>Tayo, the Little Bus</td>\n",
       "      <td>2010</td>\n",
       "      <td>2019</td>\n",
       "      <td>[Not Informed]</td>\n",
       "      <td>11</td>\n",
       "      <td>Animation, Comedy, Family</td>\n",
       "      <td>5.3</td>\n",
       "      <td>In a big city where various vehicles are happi...</td>\n",
       "      <td>['Patricia Kalis, ', 'Jul Kohler, ', 'Aramis M...</td>\n",
       "      <td>157</td>\n",
       "    </tr>\n",
       "    <tr>\n",
       "      <th>7970</th>\n",
       "      <td>Karate World Champion Rates 11 Karate Scenes i...</td>\n",
       "      <td>2021</td>\n",
       "      <td>0</td>\n",
       "      <td>[Not Informed]</td>\n",
       "      <td>22</td>\n",
       "      <td>Documentary, Short</td>\n",
       "      <td>0.0</td>\n",
       "      <td>Elisa Au, a three-time World Karate Federation...</td>\n",
       "      <td>['Elisa Au']</td>\n",
       "      <td>0</td>\n",
       "    </tr>\n",
       "    <tr>\n",
       "      <th>2249</th>\n",
       "      <td>Your Place or Mine</td>\n",
       "      <td>2022</td>\n",
       "      <td>0</td>\n",
       "      <td>[Not Informed]</td>\n",
       "      <td>0</td>\n",
       "      <td>Comedy, Romance</td>\n",
       "      <td>0.0</td>\n",
       "      <td>Two long-distance best friends change each oth...</td>\n",
       "      <td>['Aline Brosh McKenna', '| ', '    Stars:', 'R...</td>\n",
       "      <td>0</td>\n",
       "    </tr>\n",
       "  </tbody>\n",
       "</table>\n",
       "</div>"
      ],
      "text/plain": [
       "                                                  title  release_year  \\\n",
       "7648  Dennis Nilsen's the History of A Drowning Boy ...             0   \n",
       "8290                                         The Tudors          2007   \n",
       "4528                               Tayo, the Little Bus          2010   \n",
       "7970  Karate World Champion Rates 11 Karate Scenes i...          2021   \n",
       "2249                                 Your Place or Mine          2022   \n",
       "\n",
       "      ending_year     certificate  duration_min                      genre  \\\n",
       "7648            0  [Not Informed]             0     Documentary, Biography   \n",
       "8290         2010           TV-MA            51    Drama, History, Romance   \n",
       "4528         2019  [Not Informed]            11  Animation, Comedy, Family   \n",
       "7970            0  [Not Informed]            22         Documentary, Short   \n",
       "2249            0  [Not Informed]             0            Comedy, Romance   \n",
       "\n",
       "      rating                                        description  \\\n",
       "7648     0.0                                         Add a Plot   \n",
       "8290     7.5  The King asks Charles to escort his sister, Ma...   \n",
       "4528     5.3  In a big city where various vehicles are happi...   \n",
       "7970     0.0  Elisa Au, a three-time World Karate Federation...   \n",
       "2249     0.0  Two long-distance best friends change each oth...   \n",
       "\n",
       "                                                  stars  votes  \n",
       "7648                                  ['Michael Harte']      0  \n",
       "8290  ['Steve Shill', '| ', '    Stars:', 'Jonathan ...    903  \n",
       "4528  ['Patricia Kalis, ', 'Jul Kohler, ', 'Aramis M...    157  \n",
       "7970                                       ['Elisa Au']      0  \n",
       "2249  ['Aline Brosh McKenna', '| ', '    Stars:', 'R...      0  "
      ]
     },
     "execution_count": 86,
     "metadata": {},
     "output_type": "execute_result"
    }
   ],
   "source": [
    "# Reorganizando o dataframe para uma visualização melhor\n",
    "df_movies_clean = df_movies_clean.loc[:, \n",
    "                            ['title', 'release_year', 'ending_year', 'certificate', 'duration_min', \n",
    "                            'genre', 'rating', 'description', 'stars', 'votes']]\n",
    "\n",
    "# Checando nova visualização                     \n",
    "df_movies_clean.sample(5)"
   ]
  },
  {
   "attachments": {},
   "cell_type": "markdown",
   "metadata": {},
   "source": [
    "Como checagem extra, vamos conferir se o DataFrame possui registros duplicados:"
   ]
  },
  {
   "cell_type": "code",
   "execution_count": 88,
   "metadata": {},
   "outputs": [
    {
     "data": {
      "text/html": [
       "<div>\n",
       "<style scoped>\n",
       "    .dataframe tbody tr th:only-of-type {\n",
       "        vertical-align: middle;\n",
       "    }\n",
       "\n",
       "    .dataframe tbody tr th {\n",
       "        vertical-align: top;\n",
       "    }\n",
       "\n",
       "    .dataframe thead th {\n",
       "        text-align: right;\n",
       "    }\n",
       "</style>\n",
       "<table border=\"1\" class=\"dataframe\">\n",
       "  <thead>\n",
       "    <tr style=\"text-align: right;\">\n",
       "      <th></th>\n",
       "      <th>title</th>\n",
       "      <th>release_year</th>\n",
       "      <th>ending_year</th>\n",
       "      <th>certificate</th>\n",
       "      <th>duration_min</th>\n",
       "      <th>genre</th>\n",
       "      <th>rating</th>\n",
       "      <th>description</th>\n",
       "      <th>stars</th>\n",
       "      <th>votes</th>\n",
       "    </tr>\n",
       "  </thead>\n",
       "  <tbody>\n",
       "  </tbody>\n",
       "</table>\n",
       "</div>"
      ],
      "text/plain": [
       "Empty DataFrame\n",
       "Columns: [title, release_year, ending_year, certificate, duration_min, genre, rating, description, stars, votes]\n",
       "Index: []"
      ]
     },
     "execution_count": 88,
     "metadata": {},
     "output_type": "execute_result"
    }
   ],
   "source": [
    "# Checando se o data frame contém linhas repetidas\n",
    "df_movies_clean.loc[(df_movies_clean.duplicated() == True), :]"
   ]
  },
  {
   "attachments": {},
   "cell_type": "markdown",
   "metadata": {},
   "source": [
    "## Parte 3: Histogramas, Outliers e Análises Iniciais"
   ]
  },
  {
   "attachments": {},
   "cell_type": "markdown",
   "metadata": {},
   "source": [
    "Com os dados limpos e organizados, podemos partir para a próxima etapa da análise, que consiste em checar por outliers e compreender melhor a distribuição dos dados ao longo do DataFrame utilizando Histogramas.\n",
    "\n",
    "Como um primeiro passo, vamos utilizar o comando .describe() nas colunas numéricas para realizar a checagem por outliers e dados relevantes:"
   ]
  },
  {
   "cell_type": "code",
   "execution_count": 89,
   "metadata": {},
   "outputs": [
    {
     "data": {
      "text/html": [
       "<div>\n",
       "<style scoped>\n",
       "    .dataframe tbody tr th:only-of-type {\n",
       "        vertical-align: middle;\n",
       "    }\n",
       "\n",
       "    .dataframe tbody tr th {\n",
       "        vertical-align: top;\n",
       "    }\n",
       "\n",
       "    .dataframe thead th {\n",
       "        text-align: right;\n",
       "    }\n",
       "</style>\n",
       "<table border=\"1\" class=\"dataframe\">\n",
       "  <thead>\n",
       "    <tr style=\"text-align: right;\">\n",
       "      <th></th>\n",
       "      <th>release_year</th>\n",
       "      <th>ending_year</th>\n",
       "      <th>duration_min</th>\n",
       "      <th>rating</th>\n",
       "      <th>votes</th>\n",
       "    </tr>\n",
       "  </thead>\n",
       "  <tbody>\n",
       "    <tr>\n",
       "      <th>count</th>\n",
       "      <td>9957.000000</td>\n",
       "      <td>9957.000000</td>\n",
       "      <td>9957.000000</td>\n",
       "      <td>9957.000000</td>\n",
       "      <td>9.957000e+03</td>\n",
       "    </tr>\n",
       "    <tr>\n",
       "      <th>mean</th>\n",
       "      <td>1888.050316</td>\n",
       "      <td>314.059657</td>\n",
       "      <td>58.686853</td>\n",
       "      <td>5.967611</td>\n",
       "      <td>1.722323e+04</td>\n",
       "    </tr>\n",
       "    <tr>\n",
       "      <th>std</th>\n",
       "      <td>491.205456</td>\n",
       "      <td>731.459807</td>\n",
       "      <td>53.820112</td>\n",
       "      <td>2.461310</td>\n",
       "      <td>8.249809e+04</td>\n",
       "    </tr>\n",
       "    <tr>\n",
       "      <th>min</th>\n",
       "      <td>0.000000</td>\n",
       "      <td>0.000000</td>\n",
       "      <td>0.000000</td>\n",
       "      <td>0.000000</td>\n",
       "      <td>0.000000e+00</td>\n",
       "    </tr>\n",
       "    <tr>\n",
       "      <th>25%</th>\n",
       "      <td>2014.000000</td>\n",
       "      <td>0.000000</td>\n",
       "      <td>22.000000</td>\n",
       "      <td>5.500000</td>\n",
       "      <td>1.300000e+02</td>\n",
       "    </tr>\n",
       "    <tr>\n",
       "      <th>50%</th>\n",
       "      <td>2018.000000</td>\n",
       "      <td>0.000000</td>\n",
       "      <td>52.000000</td>\n",
       "      <td>6.700000</td>\n",
       "      <td>8.420000e+02</td>\n",
       "    </tr>\n",
       "    <tr>\n",
       "      <th>75%</th>\n",
       "      <td>2020.000000</td>\n",
       "      <td>0.000000</td>\n",
       "      <td>93.000000</td>\n",
       "      <td>7.500000</td>\n",
       "      <td>4.260000e+03</td>\n",
       "    </tr>\n",
       "    <tr>\n",
       "      <th>max</th>\n",
       "      <td>2025.000000</td>\n",
       "      <td>2023.000000</td>\n",
       "      <td>990.000000</td>\n",
       "      <td>9.900000</td>\n",
       "      <td>1.844075e+06</td>\n",
       "    </tr>\n",
       "  </tbody>\n",
       "</table>\n",
       "</div>"
      ],
      "text/plain": [
       "       release_year  ending_year  duration_min       rating         votes\n",
       "count   9957.000000  9957.000000   9957.000000  9957.000000  9.957000e+03\n",
       "mean    1888.050316   314.059657     58.686853     5.967611  1.722323e+04\n",
       "std      491.205456   731.459807     53.820112     2.461310  8.249809e+04\n",
       "min        0.000000     0.000000      0.000000     0.000000  0.000000e+00\n",
       "25%     2014.000000     0.000000     22.000000     5.500000  1.300000e+02\n",
       "50%     2018.000000     0.000000     52.000000     6.700000  8.420000e+02\n",
       "75%     2020.000000     0.000000     93.000000     7.500000  4.260000e+03\n",
       "max     2025.000000  2023.000000    990.000000     9.900000  1.844075e+06"
      ]
     },
     "execution_count": 89,
     "metadata": {},
     "output_type": "execute_result"
    }
   ],
   "source": [
    "# Utilizando describe() para checar os dados:\n",
    "df_movies_clean[['release_year', 'ending_year', 'duration_min', 'rating', 'votes']].describe()"
   ]
  },
  {
   "attachments": {},
   "cell_type": "markdown",
   "metadata": {},
   "source": [
    "Com essa tabela, temos algumas informações importantes:\n",
    "\n",
    "- Coluna **`release_year`**:\n",
    "\n",
    "    - O ano máximo presente nos dados é 2025, sendo que estamos em 2022 no tempo de confecção deste trabalho, logo, isso indica que possivelmente algumas das datas de lançamento são previsões de obras ainda não lançadas, porém que já constam no catálogo da Netflix como projetos com datas previstas de estreia. Esse fato será levado em conta nas análises posteriores.\n",
    "\n",
    "- Coluna **`ending_year`**:\n",
    "\n",
    "    - Similarmente a coluna release_year, o ano máximo de encerramento de uma obra é maior do que o ano de confecção do projeto, sendo 2023 essa data máxima. Isso provavelmente signifca que temos obras como Séries que ou já possuem data limite de exibição ou estão se aproximando do seu final, onde já possuem data de encerramento.\n",
    "\n",
    "- Coluna **`duration`**:\n",
    "\n",
    "    - 75% dos dados constam duração máxima de 93 minutos, porém o valor máximo presente é de 990. Isso indica claramente um outlier. Uma possibilidade de explicação, é a de que algumas séries podem ter sido lançadas no banco de dados em um único registro, onde a minutagem total representa a soma de todos os seus episódios, onde outras séries foram inseridas episódio por episódio no banco de dados.\n",
    "\n",
    "- Coluna **`votes`**:\n",
    "\n",
    "    - Como a quantidade de votos é muito grande, as análises por meios de gráficos provavelmente terão que ser realizadas utilizando escala logarítimica para melhor visualização."
   ]
  },
  {
   "attachments": {},
   "cell_type": "markdown",
   "metadata": {},
   "source": [
    "Para podermos explorar melhor essas características dos dados, vamos plotar histogramas e boxplots para cada coluna numérica:"
   ]
  },
  {
   "attachments": {},
   "cell_type": "markdown",
   "metadata": {},
   "source": [
    "### Coluna release_year"
   ]
  },
  {
   "cell_type": "code",
   "execution_count": 93,
   "metadata": {},
   "outputs": [
    {
     "data": {
      "image/png": "[encoded data removed]",
      "text/plain": [
       "<Figure size 842.4x595.44 with 1 Axes>"
      ]
     },
     "metadata": {},
     "output_type": "display_data"
    }
   ],
   "source": [
    "# Histograma\n",
    "\n",
    "# Selecionando dados existentes, ou seja, aqueles diferentes de 0 para compor a análise:\n",
    "release_year = df_movies_clean.loc[(df_movies_clean['release_year'] != 0), ['release_year']]\n",
    "\n",
    "# Plotando:\n",
    "sns.histplot(\n",
    "    data=release_year, \n",
    "    x='release_year', \n",
    "    kde=True, \n",
    "    label='Intensidade de Registros', \n",
    "    binwidth=1, \n",
    "    line_kws={'linestyle':'dashed'}\n",
    "    )\n",
    "\n",
    "plt.title('Histograma da Coluna \"release_year\"', fontsize=12, fontweight='bold')\n",
    "plt.ylabel('Num. Registros', fontsize=12, fontweight='bold')\n",
    "plt.xlabel('Ano de Lançamento', fontsize=12, fontweight='bold')\n",
    "\n",
    "plt.legend()\n",
    "plt.show()"
   ]
  },
  {
   "cell_type": "code",
   "execution_count": 95,
   "metadata": {},
   "outputs": [
    {
     "data": {
      "image/png": "[encoded data removed]",
      "text/plain": [
       "<Figure size 1440x360 with 1 Axes>"
      ]
     },
     "metadata": {},
     "output_type": "display_data"
    },
    {
     "name": "stdout",
     "output_type": "stream",
     "text": [
      "Anos acima de 2022:\n",
      "47 entradas\n",
      "0.5040%\n"
     ]
    }
   ],
   "source": [
    "# Boxplot\n",
    "\n",
    "# Selecionando dados diferentes de 0 para checagem distributiva dos dados:\n",
    "release_year = df_movies_clean.loc[(df_movies_clean['release_year'] != 0), ['release_year']]\n",
    "\n",
    "# Plotando:\n",
    "release_year.plot(\n",
    "    kind='box', \n",
    "    vert=False, \n",
    "    figsize=(20,5), \n",
    "    fontsize=12\n",
    "    )\n",
    "\n",
    "plt.title('Boxplot da Coluna \"release_year\"', fontsize=12, fontweight='bold')\n",
    "plt.xlabel('Ano', fontsize=12, fontweight='bold')\n",
    "\n",
    "plt.show()\n",
    "\n",
    "# Printando a quantidade anos que estão acima de 2022 (ano da confecção desse projeto):\n",
    "print(\"Anos acima de 2022:\")\n",
    "print(\"{} entradas\".format(len(release_year[release_year['release_year'] > 2022])))\n",
    "print(\"{:.4f}%\".format((len(release_year[release_year['release_year'] > 2022]) / release_year.shape[0]) * 100))"
   ]
  },
  {
   "attachments": {},
   "cell_type": "markdown",
   "metadata": {},
   "source": [
    "Alguns insights podem ser adiquiridos a partir dessas análises:\n",
    "\n",
    "- Como apontam tanto o Histograma quanto o Boxplot, a maioria dos projetos possuem ano de lançamento por volta de 2020;\n",
    "\n",
    "- De acordo com o Boxplot, 47 registros possuem anos de lançamento agendados para anos acima de 2022;\n",
    "\n",
    "- Por mais que os quartis estejam agrupados por volta de 2020, ainda temos registros de filmes bem mais antigos do que isso, como alguns que constam como lançamento datas anteriores a 1940."
   ]
  },
  {
   "attachments": {},
   "cell_type": "markdown",
   "metadata": {},
   "source": [
    "Como forma de visualização, vamos checar alguns desses registros que possuem data de lançamento maiores de 2022:"
   ]
  },
  {
   "cell_type": "code",
   "execution_count": 96,
   "metadata": {},
   "outputs": [
    {
     "data": {
      "text/html": [
       "<div>\n",
       "<style scoped>\n",
       "    .dataframe tbody tr th:only-of-type {\n",
       "        vertical-align: middle;\n",
       "    }\n",
       "\n",
       "    .dataframe tbody tr th {\n",
       "        vertical-align: top;\n",
       "    }\n",
       "\n",
       "    .dataframe thead th {\n",
       "        text-align: right;\n",
       "    }\n",
       "</style>\n",
       "<table border=\"1\" class=\"dataframe\">\n",
       "  <thead>\n",
       "    <tr style=\"text-align: right;\">\n",
       "      <th></th>\n",
       "      <th>title</th>\n",
       "      <th>release_year</th>\n",
       "      <th>ending_year</th>\n",
       "      <th>certificate</th>\n",
       "      <th>duration_min</th>\n",
       "      <th>genre</th>\n",
       "      <th>rating</th>\n",
       "      <th>description</th>\n",
       "      <th>stars</th>\n",
       "      <th>votes</th>\n",
       "    </tr>\n",
       "  </thead>\n",
       "  <tbody>\n",
       "    <tr>\n",
       "      <th>6246</th>\n",
       "      <td>Not Quite Narwhal</td>\n",
       "      <td>2023</td>\n",
       "      <td>0</td>\n",
       "      <td>TV-Y</td>\n",
       "      <td>0</td>\n",
       "      <td>Animation, Adventure, Comedy</td>\n",
       "      <td>0.0</td>\n",
       "      <td>Not Quite Narwhal follows curious and fun-lovi...</td>\n",
       "      <td>['Nevin Kar, ', 'Sasha Knight']</td>\n",
       "      <td>0</td>\n",
       "    </tr>\n",
       "    <tr>\n",
       "      <th>2523</th>\n",
       "      <td>The Brothers Sun</td>\n",
       "      <td>2023</td>\n",
       "      <td>0</td>\n",
       "      <td>[Not Informed]</td>\n",
       "      <td>0</td>\n",
       "      <td>Action, Comedy, Drama</td>\n",
       "      <td>0.0</td>\n",
       "      <td>Follows Charles Sun, a Taipei gangster who's s...</td>\n",
       "      <td>['Michelle Yeoh, ', 'Highdee Kuan, ', 'Sam Son...</td>\n",
       "      <td>0</td>\n",
       "    </tr>\n",
       "    <tr>\n",
       "      <th>4860</th>\n",
       "      <td>Rabo de Peixe</td>\n",
       "      <td>2023</td>\n",
       "      <td>0</td>\n",
       "      <td>[Not Informed]</td>\n",
       "      <td>0</td>\n",
       "      <td>Thriller</td>\n",
       "      <td>0.0</td>\n",
       "      <td>Four friends whose lives changed forever with ...</td>\n",
       "      <td>['José Condessa, ', 'Helena Caldeira, ', 'Rodr...</td>\n",
       "      <td>0</td>\n",
       "    </tr>\n",
       "    <tr>\n",
       "      <th>3559</th>\n",
       "      <td>Transatlantic</td>\n",
       "      <td>2023</td>\n",
       "      <td>0</td>\n",
       "      <td>[Not Informed]</td>\n",
       "      <td>0</td>\n",
       "      <td>Drama, History</td>\n",
       "      <td>0.0</td>\n",
       "      <td>An American journalist who, during 13 months s...</td>\n",
       "      <td>['Gillian Jacobs, ', 'Corey Stoll, ', 'Cory Mi...</td>\n",
       "      <td>0</td>\n",
       "    </tr>\n",
       "    <tr>\n",
       "      <th>3174</th>\n",
       "      <td>Thelma the Unicorn</td>\n",
       "      <td>2025</td>\n",
       "      <td>0</td>\n",
       "      <td>[Not Informed]</td>\n",
       "      <td>0</td>\n",
       "      <td>Animation, Adventure, Comedy</td>\n",
       "      <td>0.0</td>\n",
       "      <td>When a rare pink and glitter-filled moment of ...</td>\n",
       "      <td>['Jared Hess']</td>\n",
       "      <td>0</td>\n",
       "    </tr>\n",
       "  </tbody>\n",
       "</table>\n",
       "</div>"
      ],
      "text/plain": [
       "                   title  release_year  ending_year     certificate  \\\n",
       "6246   Not Quite Narwhal          2023            0            TV-Y   \n",
       "2523    The Brothers Sun          2023            0  [Not Informed]   \n",
       "4860       Rabo de Peixe          2023            0  [Not Informed]   \n",
       "3559       Transatlantic          2023            0  [Not Informed]   \n",
       "3174  Thelma the Unicorn          2025            0  [Not Informed]   \n",
       "\n",
       "      duration_min                         genre  rating  \\\n",
       "6246             0  Animation, Adventure, Comedy     0.0   \n",
       "2523             0         Action, Comedy, Drama     0.0   \n",
       "4860             0                      Thriller     0.0   \n",
       "3559             0                Drama, History     0.0   \n",
       "3174             0  Animation, Adventure, Comedy     0.0   \n",
       "\n",
       "                                            description  \\\n",
       "6246  Not Quite Narwhal follows curious and fun-lovi...   \n",
       "2523  Follows Charles Sun, a Taipei gangster who's s...   \n",
       "4860  Four friends whose lives changed forever with ...   \n",
       "3559  An American journalist who, during 13 months s...   \n",
       "3174  When a rare pink and glitter-filled moment of ...   \n",
       "\n",
       "                                                  stars  votes  \n",
       "6246                    ['Nevin Kar, ', 'Sasha Knight']      0  \n",
       "2523  ['Michelle Yeoh, ', 'Highdee Kuan, ', 'Sam Son...      0  \n",
       "4860  ['José Condessa, ', 'Helena Caldeira, ', 'Rodr...      0  \n",
       "3559  ['Gillian Jacobs, ', 'Corey Stoll, ', 'Cory Mi...      0  \n",
       "3174                                     ['Jared Hess']      0  "
      ]
     },
     "execution_count": 96,
     "metadata": {},
     "output_type": "execute_result"
    }
   ],
   "source": [
    "# checando entradas acima de 2022:\n",
    "df_movies_clean.query('release_year > 2022').sample(5)"
   ]
  },
  {
   "attachments": {},
   "cell_type": "markdown",
   "metadata": {},
   "source": [
    "- Como são projetos que estão agendados para estrear, eles não possuem nenhum tipo de avaliação, duração nem votos, para essa análise eles serão retirados mais adiante, pois o objetivo é analisar os programas já lançados e seus respectivos dados."
   ]
  },
  {
   "attachments": {},
   "cell_type": "markdown",
   "metadata": {},
   "source": [
    "### Coluna ending_year"
   ]
  },
  {
   "cell_type": "code",
   "execution_count": 97,
   "metadata": {},
   "outputs": [
    {
     "data": {
      "image/png": "[encoded data removed]",
      "text/plain": [
       "<Figure size 842.4x595.44 with 1 Axes>"
      ]
     },
     "metadata": {},
     "output_type": "display_data"
    }
   ],
   "source": [
    "# Histograma\n",
    "\n",
    "# Selecionando dados diferentes de 0:\n",
    "ending_year = df_movies_clean.loc[(df_movies_clean['ending_year'] != 0), ['ending_year']]\n",
    "\n",
    "# Plotando\n",
    "sns.histplot(\n",
    "    data=ending_year, \n",
    "    kde=True, \n",
    "    label='Intensidade de Registros', \n",
    "    binwidth=1, \n",
    "    line_kws={'linestyle': 'dashed'}\n",
    "    )\n",
    "\n",
    "plt.title('Histograma da Coluna \"ending_year\"', fontsize=12, fontweight='bold')\n",
    "plt.ylabel('Num. Registros', fontsize=12, fontweight='bold')\n",
    "plt.xlabel('Ano de encerramento', fontsize=12, fontweight='bold')\n",
    "\n",
    "plt.legend()\n",
    "plt.show()"
   ]
  },
  {
   "cell_type": "code",
   "execution_count": 103,
   "metadata": {},
   "outputs": [
    {
     "data": {
      "image/png": "[encoded data removed]",
      "text/plain": [
       "<Figure size 1440x360 with 1 Axes>"
      ]
     },
     "metadata": {},
     "output_type": "display_data"
    },
    {
     "name": "stdout",
     "output_type": "stream",
     "text": [
      "Anos acima de 2022:\n",
      "53 entradas\n",
      "3.4194%\n"
     ]
    }
   ],
   "source": [
    "# Boxplot\n",
    "\n",
    "# Selecionando dados diferente de 0:\n",
    "ending_year = df_movies_clean.loc[(df_movies_clean['ending_year'] != 0), ['ending_year']]\n",
    "\n",
    "# Plotando\n",
    "ending_year.plot(\n",
    "    kind='box', \n",
    "    vert=False, \n",
    "    figsize=(20,5), \n",
    "    fontsize=12\n",
    "    )\n",
    "\n",
    "plt.title('Boxplot da Coluna \"ending_year\"', fontsize=12, fontweight='bold')\n",
    "plt.xlabel('Ano', fontsize=12, fontweight='bold')\n",
    "\n",
    "plt.show()\n",
    "\n",
    "# Printando a quantidade de registros acima de 2022:\n",
    "print(\"Anos acima de 2022:\")\n",
    "print(\"{} entradas\".format(len(ending_year[ending_year['ending_year'] > 2022])))\n",
    "print(\"{:.4f}%\".format((len(ending_year[ending_year['ending_year'] > 2022]) / ending_year.shape[0]) * 100))"
   ]
  },
  {
   "attachments": {},
   "cell_type": "markdown",
   "metadata": {},
   "source": [
    "Como apontam o Histograam e o Boxplot, curiosamente o ano de encerramento mais comum é o mesmo ano de lançamento mais comum, 2020. Isso pode indicar algumas coisas:\n",
    "\n",
    "- Lançamentos de mini-séries que se iniciam e terminam no mesmo ano;\n",
    "\n",
    "- É válido considerar a [pandemia de Covid-19 e seus impactos na indústria do cinema](https://www.vet.k-state.edu/about/news-events-publications/OneHealth/Vol14-Iss1/film-industry.html#:~:text=As%20a%20result%20of%20the,produced%20in%202021%20or%202022.), onde muitas produções de filmes e séries foram canceladas, encerradas abruptamente ou postergadas para anos seguintes durante 2020, o que pode compor uma explicação para tantos encerramentos em 2020. "
   ]
  },
  {
   "attachments": {},
   "cell_type": "markdown",
   "metadata": {},
   "source": [
    "Vamos checar alguns desses registros que constam data de encerramento maiores que 2022:"
   ]
  },
  {
   "cell_type": "code",
   "execution_count": 109,
   "metadata": {},
   "outputs": [
    {
     "data": {
      "text/html": [
       "<div>\n",
       "<style scoped>\n",
       "    .dataframe tbody tr th:only-of-type {\n",
       "        vertical-align: middle;\n",
       "    }\n",
       "\n",
       "    .dataframe tbody tr th {\n",
       "        vertical-align: top;\n",
       "    }\n",
       "\n",
       "    .dataframe thead th {\n",
       "        text-align: right;\n",
       "    }\n",
       "</style>\n",
       "<table border=\"1\" class=\"dataframe\">\n",
       "  <thead>\n",
       "    <tr style=\"text-align: right;\">\n",
       "      <th></th>\n",
       "      <th>title</th>\n",
       "      <th>release_year</th>\n",
       "      <th>ending_year</th>\n",
       "      <th>certificate</th>\n",
       "      <th>duration_min</th>\n",
       "      <th>genre</th>\n",
       "      <th>rating</th>\n",
       "      <th>description</th>\n",
       "      <th>stars</th>\n",
       "      <th>votes</th>\n",
       "    </tr>\n",
       "  </thead>\n",
       "  <tbody>\n",
       "    <tr>\n",
       "      <th>8300</th>\n",
       "      <td>The Umbrella Academy</td>\n",
       "      <td>2019</td>\n",
       "      <td>2023</td>\n",
       "      <td>TV-14</td>\n",
       "      <td>47</td>\n",
       "      <td>Action, Adventure, Comedy</td>\n",
       "      <td>8.2</td>\n",
       "      <td>After dropping his siblings into an alley in D...</td>\n",
       "      <td>['Sylvain White', '| ', '    Stars:', 'Elliot ...</td>\n",
       "      <td>4357</td>\n",
       "    </tr>\n",
       "    <tr>\n",
       "      <th>9596</th>\n",
       "      <td>The Umbrella Academy</td>\n",
       "      <td>2019</td>\n",
       "      <td>2023</td>\n",
       "      <td>TV-14</td>\n",
       "      <td>40</td>\n",
       "      <td>Action, Adventure, Comedy</td>\n",
       "      <td>8.7</td>\n",
       "      <td>As the Fives plot against each other, one of t...</td>\n",
       "      <td>['Amanda Marsalis', '| ', '    Stars:', 'Ellio...</td>\n",
       "      <td>3929</td>\n",
       "    </tr>\n",
       "    <tr>\n",
       "      <th>8368</th>\n",
       "      <td>Never Have I Ever</td>\n",
       "      <td>2020</td>\n",
       "      <td>2023</td>\n",
       "      <td>TV-14</td>\n",
       "      <td>24</td>\n",
       "      <td>Comedy, Drama</td>\n",
       "      <td>8.4</td>\n",
       "      <td>Flashbacks unearth painful memories and resent...</td>\n",
       "      <td>['Tristram Shapeero', '| ', '    Stars:', 'Mai...</td>\n",
       "      <td>974</td>\n",
       "    </tr>\n",
       "    <tr>\n",
       "      <th>49</th>\n",
       "      <td>Never Have I Ever</td>\n",
       "      <td>2020</td>\n",
       "      <td>2023</td>\n",
       "      <td>TV-14</td>\n",
       "      <td>30</td>\n",
       "      <td>Comedy, Drama</td>\n",
       "      <td>7.9</td>\n",
       "      <td>The complicated life of a modern-day first gen...</td>\n",
       "      <td>['Maitreyi Ramakrishnan, ', 'Poorna Jagannatha...</td>\n",
       "      <td>56216</td>\n",
       "    </tr>\n",
       "    <tr>\n",
       "      <th>8366</th>\n",
       "      <td>Never Have I Ever</td>\n",
       "      <td>2020</td>\n",
       "      <td>2023</td>\n",
       "      <td>TV-14</td>\n",
       "      <td>24</td>\n",
       "      <td>Comedy, Drama</td>\n",
       "      <td>7.6</td>\n",
       "      <td>Devi oversteps several boundaries in an attemp...</td>\n",
       "      <td>['Anu Valia', '| ', '    Stars:', 'Maitreyi Ra...</td>\n",
       "      <td>898</td>\n",
       "    </tr>\n",
       "  </tbody>\n",
       "</table>\n",
       "</div>"
      ],
      "text/plain": [
       "                     title  release_year  ending_year certificate  \\\n",
       "8300  The Umbrella Academy          2019         2023       TV-14   \n",
       "9596  The Umbrella Academy          2019         2023       TV-14   \n",
       "8368     Never Have I Ever          2020         2023       TV-14   \n",
       "49       Never Have I Ever          2020         2023       TV-14   \n",
       "8366     Never Have I Ever          2020         2023       TV-14   \n",
       "\n",
       "      duration_min                      genre  rating  \\\n",
       "8300            47  Action, Adventure, Comedy     8.2   \n",
       "9596            40  Action, Adventure, Comedy     8.7   \n",
       "8368            24              Comedy, Drama     8.4   \n",
       "49              30              Comedy, Drama     7.9   \n",
       "8366            24              Comedy, Drama     7.6   \n",
       "\n",
       "                                            description  \\\n",
       "8300  After dropping his siblings into an alley in D...   \n",
       "9596  As the Fives plot against each other, one of t...   \n",
       "8368  Flashbacks unearth painful memories and resent...   \n",
       "49    The complicated life of a modern-day first gen...   \n",
       "8366  Devi oversteps several boundaries in an attemp...   \n",
       "\n",
       "                                                  stars  votes  \n",
       "8300  ['Sylvain White', '| ', '    Stars:', 'Elliot ...   4357  \n",
       "9596  ['Amanda Marsalis', '| ', '    Stars:', 'Ellio...   3929  \n",
       "8368  ['Tristram Shapeero', '| ', '    Stars:', 'Mai...    974  \n",
       "49    ['Maitreyi Ramakrishnan, ', 'Poorna Jagannatha...  56216  \n",
       "8366  ['Anu Valia', '| ', '    Stars:', 'Maitreyi Ra...    898  "
      ]
     },
     "execution_count": 109,
     "metadata": {},
     "output_type": "execute_result"
    }
   ],
   "source": [
    "# checando  entradas acima de 2022:\n",
    "df_movies_clean.query('ending_year > 2022').sample(5)"
   ]
  },
  {
   "attachments": {},
   "cell_type": "markdown",
   "metadata": {},
   "source": [
    "- São programas já estabelecidos que possuem um ano previsto para finalização (a série Never Have I Ever como exemplificado acima com 3 episódios aparecendo na sample), nesse caso iremos deixá-los na análise justamente por possuirem dados relevantes (minutagem, rating e votos)."
   ]
  },
  {
   "attachments": {},
   "cell_type": "markdown",
   "metadata": {},
   "source": [
    "### Coluna duration_min"
   ]
  },
  {
   "cell_type": "code",
   "execution_count": 100,
   "metadata": {},
   "outputs": [
    {
     "data": {
      "image/png": "[encoded data removed]",
      "text/plain": [
       "<Figure size 842.4x595.44 with 1 Axes>"
      ]
     },
     "metadata": {},
     "output_type": "display_data"
    }
   ],
   "source": [
    "# Histograma\n",
    "\n",
    "# Selecionando dados diferentes de 0:\n",
    "duration_min = df_movies_clean.loc[(df_movies_clean['duration_min'] != 0), ['duration_min']]\n",
    "\n",
    "# Plotando:\n",
    "sns.histplot(\n",
    "    data=duration_min, \n",
    "    kde=True, \n",
    "    label='Intensidade de Registros', \n",
    "    binwidth=1, \n",
    "    line_kws={'linestyle': 'dashed'}\n",
    "    )\n",
    "\n",
    "plt.title('Histograma da Coluna \"duration_min\"', fontsize=12, fontweight='bold')\n",
    "plt.ylabel('Num. Registros', fontsize=12, fontweight='bold')\n",
    "plt.xlabel('Duração em Minutos', fontsize=12, fontweight='bold')\n",
    "\n",
    "plt.legend()\n",
    "plt.show()"
   ]
  },
  {
   "attachments": {},
   "cell_type": "markdown",
   "metadata": {},
   "source": [
    "Somente com o histograma é aparente a distribuição não adequada da coluna de minutagem, onde a grande maioria dos dados estão abaixo de por volta 150 a 200 minutos porém o eixo X vai até 1000.\n",
    "\n",
    "Com o boxplot, iremos visualizar quantos desses registros estão acima de 175 minutos, com um bom middle-point entre 150 e 200 para termos uma dimensão melhor dos outliers."
   ]
  },
  {
   "cell_type": "code",
   "execution_count": 105,
   "metadata": {},
   "outputs": [
    {
     "data": {
      "image/png": "[encoded data removed]",
      "text/plain": [
       "<Figure size 1440x360 with 1 Axes>"
      ]
     },
     "metadata": {},
     "output_type": "display_data"
    },
    {
     "name": "stdout",
     "output_type": "stream",
     "text": [
      "Minutagens acima de 175:\n",
      "172 entradas\n",
      "2.1714%\n"
     ]
    }
   ],
   "source": [
    "# Boxplot\n",
    "\n",
    "# Selecionando dados diferentes de 0:\n",
    "duration_min = df_movies_clean.loc[(df_movies_clean['duration_min'] != 0), ['duration_min']]\n",
    "\n",
    "\n",
    "# Plotando:\n",
    "duration_min.plot(\n",
    "    kind='box', \n",
    "    vert=False, \n",
    "    figsize=(20,5), \n",
    "    fontsize=12\n",
    "    )\n",
    "\n",
    "plt.title('Boxplot da Coluna \"duration_min\"', fontsize=12, fontweight='bold')\n",
    "plt.xlabel('Duração em Minutos', fontsize=12, fontweight='bold')\n",
    "\n",
    "plt.show()\n",
    "\n",
    "# Mostrando registros acima de 175 minutos:\n",
    "print(\"Minutagens acima de 175:\")\n",
    "print(\"{} entradas\".format(len(duration_min[duration_min['duration_min'] > 175])))\n",
    "print(\"{:.4f}%\".format((len(duration_min[duration_min['duration_min'] > 175]) / duration_min.shape[0]) * 100))"
   ]
  },
  {
   "attachments": {},
   "cell_type": "markdown",
   "metadata": {},
   "source": [
    "É aparente que temos outliers nessa coluna, porém, para termos uma compreensão melhor do que são esses registros com minutagens tão extensas, vamos puxar um sample do DataFrame para visualização:"
   ]
  },
  {
   "cell_type": "code",
   "execution_count": 114,
   "metadata": {},
   "outputs": [
    {
     "data": {
      "text/html": [
       "<div>\n",
       "<style scoped>\n",
       "    .dataframe tbody tr th:only-of-type {\n",
       "        vertical-align: middle;\n",
       "    }\n",
       "\n",
       "    .dataframe tbody tr th {\n",
       "        vertical-align: top;\n",
       "    }\n",
       "\n",
       "    .dataframe thead th {\n",
       "        text-align: right;\n",
       "    }\n",
       "</style>\n",
       "<table border=\"1\" class=\"dataframe\">\n",
       "  <thead>\n",
       "    <tr style=\"text-align: right;\">\n",
       "      <th></th>\n",
       "      <th>title</th>\n",
       "      <th>release_year</th>\n",
       "      <th>ending_year</th>\n",
       "      <th>certificate</th>\n",
       "      <th>duration_min</th>\n",
       "      <th>genre</th>\n",
       "      <th>rating</th>\n",
       "      <th>description</th>\n",
       "      <th>stars</th>\n",
       "      <th>votes</th>\n",
       "    </tr>\n",
       "  </thead>\n",
       "  <tbody>\n",
       "    <tr>\n",
       "      <th>1396</th>\n",
       "      <td>Giri/Haji</td>\n",
       "      <td>2019</td>\n",
       "      <td>0</td>\n",
       "      <td>TV-MA</td>\n",
       "      <td>461</td>\n",
       "      <td>Crime, Drama, Mystery</td>\n",
       "      <td>7.8</td>\n",
       "      <td>A detective from Tokyo scours London for his m...</td>\n",
       "      <td>['Takehiro Hira, ', 'Kelly Macdonald, ', 'Yôsu...</td>\n",
       "      <td>14301</td>\n",
       "    </tr>\n",
       "    <tr>\n",
       "      <th>367</th>\n",
       "      <td>The Stranger</td>\n",
       "      <td>2020</td>\n",
       "      <td>0</td>\n",
       "      <td>TV-MA</td>\n",
       "      <td>363</td>\n",
       "      <td>Crime, Drama, Mystery</td>\n",
       "      <td>7.3</td>\n",
       "      <td>Follows the lives of suburban families whose s...</td>\n",
       "      <td>['Richard Armitage, ', 'Shaun Dooley, ', 'Siob...</td>\n",
       "      <td>50086</td>\n",
       "    </tr>\n",
       "    <tr>\n",
       "      <th>2007</th>\n",
       "      <td>Conversations with a Killer: The Ted Bundy Tapes</td>\n",
       "      <td>2019</td>\n",
       "      <td>0</td>\n",
       "      <td>TV-MA</td>\n",
       "      <td>236</td>\n",
       "      <td>Documentary, Biography, Crime</td>\n",
       "      <td>7.7</td>\n",
       "      <td>A look inside the mind of serial killer Ted Bu...</td>\n",
       "      <td>['Stephen Michaud, ', 'Bob Keppel, ', 'Kathlee...</td>\n",
       "      <td>29416</td>\n",
       "    </tr>\n",
       "    <tr>\n",
       "      <th>250</th>\n",
       "      <td>Dracula</td>\n",
       "      <td>2020</td>\n",
       "      <td>0</td>\n",
       "      <td>TV-14</td>\n",
       "      <td>270</td>\n",
       "      <td>Action, Drama, Fantasy</td>\n",
       "      <td>6.8</td>\n",
       "      <td>In 1897 Transylvania, the blood-drinking Count...</td>\n",
       "      <td>['Claes Bang, ', 'Dolly Wells, ', 'Morfydd Cla...</td>\n",
       "      <td>47794</td>\n",
       "    </tr>\n",
       "    <tr>\n",
       "      <th>468</th>\n",
       "      <td>Gilmore Girls: A Year in the Life</td>\n",
       "      <td>2016</td>\n",
       "      <td>0</td>\n",
       "      <td>TV-14</td>\n",
       "      <td>370</td>\n",
       "      <td>Comedy, Drama</td>\n",
       "      <td>7.6</td>\n",
       "      <td>Set nearly a decade after the finale of the or...</td>\n",
       "      <td>['Lauren Graham, ', 'Alexis Bledel, ', 'Scott ...</td>\n",
       "      <td>38451</td>\n",
       "    </tr>\n",
       "  </tbody>\n",
       "</table>\n",
       "</div>"
      ],
      "text/plain": [
       "                                                 title  release_year  \\\n",
       "1396                                         Giri/Haji          2019   \n",
       "367                                       The Stranger          2020   \n",
       "2007  Conversations with a Killer: The Ted Bundy Tapes          2019   \n",
       "250                                            Dracula          2020   \n",
       "468                  Gilmore Girls: A Year in the Life          2016   \n",
       "\n",
       "      ending_year certificate  duration_min                          genre  \\\n",
       "1396            0       TV-MA           461          Crime, Drama, Mystery   \n",
       "367             0       TV-MA           363          Crime, Drama, Mystery   \n",
       "2007            0       TV-MA           236  Documentary, Biography, Crime   \n",
       "250             0       TV-14           270         Action, Drama, Fantasy   \n",
       "468             0       TV-14           370                  Comedy, Drama   \n",
       "\n",
       "      rating                                        description  \\\n",
       "1396     7.8  A detective from Tokyo scours London for his m...   \n",
       "367      7.3  Follows the lives of suburban families whose s...   \n",
       "2007     7.7  A look inside the mind of serial killer Ted Bu...   \n",
       "250      6.8  In 1897 Transylvania, the blood-drinking Count...   \n",
       "468      7.6  Set nearly a decade after the finale of the or...   \n",
       "\n",
       "                                                  stars  votes  \n",
       "1396  ['Takehiro Hira, ', 'Kelly Macdonald, ', 'Yôsu...  14301  \n",
       "367   ['Richard Armitage, ', 'Shaun Dooley, ', 'Siob...  50086  \n",
       "2007  ['Stephen Michaud, ', 'Bob Keppel, ', 'Kathlee...  29416  \n",
       "250   ['Claes Bang, ', 'Dolly Wells, ', 'Morfydd Cla...  47794  \n",
       "468   ['Lauren Graham, ', 'Alexis Bledel, ', 'Scott ...  38451  "
      ]
     },
     "execution_count": 114,
     "metadata": {},
     "output_type": "execute_result"
    }
   ],
   "source": [
    "# Checando entradas acima de 175 minutos:\n",
    "df_movies_clean.query('duration_min > 175').sample(5)"
   ]
  },
  {
   "attachments": {},
   "cell_type": "markdown",
   "metadata": {},
   "source": [
    "- Os registros são séries (como Giri/Haji) cujas inserções no banco de dados aparentemente se deu de uma vez só em um único registro, causando com que a minutagem fosse o acumulado de todas as minutagens dos episódios das séries;\n",
    "\n",
    "- Além de séries temos também documentários presentes como The Ted Bundy Tapes e provavelmente alguns longas metragem como Lord Of The Ring também devem estar presentes nos regsitros."
   ]
  },
  {
   "cell_type": "code",
   "execution_count": 124,
   "metadata": {},
   "outputs": [
    {
     "data": {
      "text/html": [
       "<div>\n",
       "<style scoped>\n",
       "    .dataframe tbody tr th:only-of-type {\n",
       "        vertical-align: middle;\n",
       "    }\n",
       "\n",
       "    .dataframe tbody tr th {\n",
       "        vertical-align: top;\n",
       "    }\n",
       "\n",
       "    .dataframe thead th {\n",
       "        text-align: right;\n",
       "    }\n",
       "</style>\n",
       "<table border=\"1\" class=\"dataframe\">\n",
       "  <thead>\n",
       "    <tr style=\"text-align: right;\">\n",
       "      <th></th>\n",
       "      <th>title</th>\n",
       "      <th>release_year</th>\n",
       "      <th>ending_year</th>\n",
       "      <th>certificate</th>\n",
       "      <th>duration_min</th>\n",
       "      <th>genre</th>\n",
       "      <th>rating</th>\n",
       "      <th>description</th>\n",
       "      <th>stars</th>\n",
       "      <th>votes</th>\n",
       "    </tr>\n",
       "  </thead>\n",
       "  <tbody>\n",
       "    <tr>\n",
       "      <th>20</th>\n",
       "      <td>The Lord of the Rings: The Fellowship of the Ring</td>\n",
       "      <td>2001</td>\n",
       "      <td>0</td>\n",
       "      <td>PG-13</td>\n",
       "      <td>178</td>\n",
       "      <td>Action, Adventure, Drama</td>\n",
       "      <td>8.8</td>\n",
       "      <td>A meek Hobbit from the Shire and eight compani...</td>\n",
       "      <td>['Peter Jackson', '| ', '    Stars:', 'Elijah ...</td>\n",
       "      <td>1844055</td>\n",
       "    </tr>\n",
       "    <tr>\n",
       "      <th>57</th>\n",
       "      <td>The Lord of the Rings: The Return of the King</td>\n",
       "      <td>2003</td>\n",
       "      <td>0</td>\n",
       "      <td>PG-13</td>\n",
       "      <td>201</td>\n",
       "      <td>Action, Adventure, Drama</td>\n",
       "      <td>9.0</td>\n",
       "      <td>Gandalf and Aragorn lead the World of Men agai...</td>\n",
       "      <td>['Peter Jackson', '| ', '    Stars:', 'Elijah ...</td>\n",
       "      <td>1819157</td>\n",
       "    </tr>\n",
       "    <tr>\n",
       "      <th>78</th>\n",
       "      <td>The Lord of the Rings: The Two Towers</td>\n",
       "      <td>2002</td>\n",
       "      <td>0</td>\n",
       "      <td>PG-13</td>\n",
       "      <td>179</td>\n",
       "      <td>Action, Adventure, Drama</td>\n",
       "      <td>8.8</td>\n",
       "      <td>While Frodo and Sam edge closer to Mordor with...</td>\n",
       "      <td>['Peter Jackson', '| ', '    Stars:', 'Elijah ...</td>\n",
       "      <td>1642708</td>\n",
       "    </tr>\n",
       "    <tr>\n",
       "      <th>9921</th>\n",
       "      <td>The Lord of the Rings: The Fellowship of the Ring</td>\n",
       "      <td>2001</td>\n",
       "      <td>0</td>\n",
       "      <td>PG-13</td>\n",
       "      <td>178</td>\n",
       "      <td>Action, Adventure, Drama</td>\n",
       "      <td>8.8</td>\n",
       "      <td>A meek Hobbit from the Shire and eight compani...</td>\n",
       "      <td>['Peter Jackson', '| ', '    Stars:', 'Elijah ...</td>\n",
       "      <td>1844075</td>\n",
       "    </tr>\n",
       "  </tbody>\n",
       "</table>\n",
       "</div>"
      ],
      "text/plain": [
       "                                                  title  release_year  \\\n",
       "20    The Lord of the Rings: The Fellowship of the Ring          2001   \n",
       "57        The Lord of the Rings: The Return of the King          2003   \n",
       "78                The Lord of the Rings: The Two Towers          2002   \n",
       "9921  The Lord of the Rings: The Fellowship of the Ring          2001   \n",
       "\n",
       "      ending_year certificate  duration_min                     genre  rating  \\\n",
       "20              0       PG-13           178  Action, Adventure, Drama     8.8   \n",
       "57              0       PG-13           201  Action, Adventure, Drama     9.0   \n",
       "78              0       PG-13           179  Action, Adventure, Drama     8.8   \n",
       "9921            0       PG-13           178  Action, Adventure, Drama     8.8   \n",
       "\n",
       "                                            description  \\\n",
       "20    A meek Hobbit from the Shire and eight compani...   \n",
       "57    Gandalf and Aragorn lead the World of Men agai...   \n",
       "78    While Frodo and Sam edge closer to Mordor with...   \n",
       "9921  A meek Hobbit from the Shire and eight compani...   \n",
       "\n",
       "                                                  stars    votes  \n",
       "20    ['Peter Jackson', '| ', '    Stars:', 'Elijah ...  1844055  \n",
       "57    ['Peter Jackson', '| ', '    Stars:', 'Elijah ...  1819157  \n",
       "78    ['Peter Jackson', '| ', '    Stars:', 'Elijah ...  1642708  \n",
       "9921  ['Peter Jackson', '| ', '    Stars:', 'Elijah ...  1844075  "
      ]
     },
     "execution_count": 124,
     "metadata": {},
     "output_type": "execute_result"
    }
   ],
   "source": [
    "# Checando para ver um longa como Lord Of The Rings compõe parte desses dados com minutagem\n",
    "# acima de 175 minutos:\n",
    "df_movies_clean.loc[df_movies_clean['title'].str.contains(\"Rings\")]"
   ]
  },
  {
   "attachments": {},
   "cell_type": "markdown",
   "metadata": {},
   "source": [
    "Com a informação de que esses outliers de minutagem também são dados válidos para a análise porém são longos demais que iriam distorcer as análises, como solução iremos dividir o DataFrame em dois, onde teremos:\n",
    "\n",
    "- DataFrame contendo dados de obras com minutagem menor do que 175 minutos;\n",
    "\n",
    "- DataFrame contendo dados de obras com minutagem maior do que 175 minutos (longas, séries, documentários).\n",
    "\n",
    "Dessa forma, se é capaz de ter análises pertinentes a respeito desses registros de minutagens longas e também dos de minutagem mais curta."
   ]
  },
  {
   "attachments": {},
   "cell_type": "markdown",
   "metadata": {},
   "source": [
    "### Coluna rating"
   ]
  },
  {
   "cell_type": "code",
   "execution_count": 125,
   "metadata": {},
   "outputs": [
    {
     "data": {
      "image/png": "[encoded data removed]",
      "text/plain": [
       "<Figure size 842.4x595.44 with 1 Axes>"
      ]
     },
     "metadata": {},
     "output_type": "display_data"
    }
   ],
   "source": [
    "# Histograma\n",
    "\n",
    "# Selecionando dados diferentes de 0:\n",
    "rating = df_movies_clean.loc[(df_movies_clean['rating'] != 0), ['rating']]\n",
    "\n",
    "# Plotando:\n",
    "sns.histplot(\n",
    "    data=rating, \n",
    "    kde=True, \n",
    "    label='Intensidade de Registros', \n",
    "    binwidth=0.2, \n",
    "    line_kws={'linestyle': 'dashed'}\n",
    "    )\n",
    "\n",
    "plt.title('Histograma da Coluna \"rating\"', fontsize=12, fontweight='bold')\n",
    "plt.ylabel('Num. Registros', fontsize=12, fontweight='bold')\n",
    "plt.xlabel('Notas', fontsize=12, fontweight='bold')\n",
    "\n",
    "plt.legend()\n",
    "plt.show()"
   ]
  },
  {
   "cell_type": "code",
   "execution_count": 126,
   "metadata": {},
   "outputs": [
    {
     "data": {
      "image/png": "[encoded data removed]",
      "text/plain": [
       "<Figure size 1440x360 with 1 Axes>"
      ]
     },
     "metadata": {},
     "output_type": "display_data"
    }
   ],
   "source": [
    "# Boxplot\n",
    "\n",
    "# Selecionando dados diferentes de 0:\n",
    "ratings = df_movies_clean.loc[(df_movies_clean['rating'] != 0), ['rating']]\n",
    "\n",
    "# Plotando:\n",
    "ratings.plot(\n",
    "    kind='box', \n",
    "    vert=False, \n",
    "    figsize=(20,5), \n",
    "    fontsize=12\n",
    "    )\n",
    "\n",
    "plt.title('Boxplot da Coluna \"rating\"', fontsize=12, fontweight='bold')\n",
    "plt.xlabel('Notas', fontsize=12, fontweight='bold')\n",
    "\n",
    "plt.show()"
   ]
  },
  {
   "attachments": {},
   "cell_type": "markdown",
   "metadata": {},
   "source": [
    "Aqui podemos ter uma visualização melhor dos dados da coluna rating, onde a maioria das obras receberam uma avaliação de por volta 7, tendo alguns registos abaixo de 4 e um abaixo de 2.\n",
    "\n",
    "Com o Histograma, podemos ver que os dados estão distribuidos de forma homogênia com uma tendência a direita."
   ]
  },
  {
   "attachments": {},
   "cell_type": "markdown",
   "metadata": {},
   "source": [
    "### Coluna votes"
   ]
  },
  {
   "attachments": {},
   "cell_type": "markdown",
   "metadata": {},
   "source": [
    "Como dito nas primeiras checagens da coluna votes, pela quantidade massiva de votos dados para cada projeto, a visualização do Histograma dessa coluna será feita em escala logarítimica para melhor visualização."
   ]
  },
  {
   "cell_type": "code",
   "execution_count": 127,
   "metadata": {},
   "outputs": [
    {
     "data": {
      "image/png": "[encoded data removed]",
      "text/plain": [
       "<Figure size 842.4x595.44 with 1 Axes>"
      ]
     },
     "metadata": {},
     "output_type": "display_data"
    }
   ],
   "source": [
    "# Histograma\n",
    "\n",
    "# Selecionando dados diferentes de 0:\n",
    "votes = df_movies_clean.loc[(df_movies_clean['votes'] != 0), ['votes']]\n",
    "\n",
    "# Plotando:\n",
    "sns.histplot(\n",
    "    data=votes, \n",
    "    kde=True, \n",
    "    label='Intensidade de Registros', \n",
    "    binwidth=0.08, \n",
    "    line_kws={'linestyle': 'dashed'}, \n",
    "    log_scale=True\n",
    "    )\n",
    "\n",
    "plt.title('Histograma da Coluna \"votes\"', fontsize=12, fontweight='bold')\n",
    "plt.ylabel('Num. Registros', fontsize=12, fontweight='bold')\n",
    "plt.xlabel('Votos (escala logarítimica)', fontsize=12, fontweight='bold')\n",
    "\n",
    "plt.legend()\n",
    "plt.show()"
   ]
  },
  {
   "attachments": {},
   "cell_type": "markdown",
   "metadata": {},
   "source": [
    "Aqui temos o inverso do visualizado no histograma da coluna rating, uma distribuição homogênia dos dados que tende a esquerda."
   ]
  },
  {
   "cell_type": "code",
   "execution_count": 130,
   "metadata": {},
   "outputs": [
    {
     "data": {
      "image/png": "[encoded data removed]",
      "text/plain": [
       "<Figure size 1440x360 with 1 Axes>"
      ]
     },
     "metadata": {},
     "output_type": "display_data"
    }
   ],
   "source": [
    "# Boxplot\n",
    "\n",
    "# Selecionando dados diferentes de 0:\n",
    "votes = df_movies_clean.loc[(df_movies_clean['votes'] != 0), ['votes']]\n",
    "\n",
    "# Plotando:\n",
    "votes.plot(\n",
    "    kind='box', \n",
    "    vert=False, \n",
    "    figsize=(20,5), \n",
    "    fontsize=12,\n",
    "    loglog=True\n",
    "    )\n",
    "\n",
    "plt.title('Boxplot da Coluna \"votes\"', fontsize=12, fontweight='bold')\n",
    "plt.xlabel('Votos', fontsize=12, fontweight='bold')\n",
    "\n",
    "plt.show()"
   ]
  },
  {
   "attachments": {},
   "cell_type": "markdown",
   "metadata": {},
   "source": [
    "A tendência a esquerda dos dados pode ser bem visualizada com o boxplot, onde alguns outliers estão mais a direita."
   ]
  },
  {
   "attachments": {},
   "cell_type": "markdown",
   "metadata": {},
   "source": [
    "Com o conhecimento dos outliers e características dos dados como um todo, a próxima etapa consistirá em dividir o DataFrame em dois (de minutagem curta e longa) e realizar as análises para gerar insights mais aprofundados."
   ]
  }
 ],
 "metadata": {
  "kernelspec": {
   "display_name": "base",
   "language": "python",
   "name": "python3"
  },
  "language_info": {
   "codemirror_mode": {
    "name": "ipython",
    "version": 3
   },
   "file_extension": ".py",
   "mimetype": "text/x-python",
   "name": "python",
   "nbconvert_exporter": "python",
   "pygments_lexer": "ipython3",
   "version": "3.9.12"
  },
  "orig_nbformat": 4,
  "vscode": {
   "interpreter": {
    "hash": "594af92f1fbe2151803567768ef02c6f133f2dd09ab238e968f9d14c9ef1bc27"
   }
  }
 },
 "nbformat": 4,
 "nbformat_minor": 2
}
